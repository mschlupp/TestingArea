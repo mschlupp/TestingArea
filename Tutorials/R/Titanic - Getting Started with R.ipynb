{
 "cells": [
  {
   "cell_type": "markdown",
   "metadata": {},
   "source": [
    "# The R tutorial"
   ]
  },
  {
   "cell_type": "markdown",
   "metadata": {},
   "source": [
    "This notebook summarises the R tutorial by Trevor Stephens ([link](http://trevorstephens.com/kaggle-titanic-tutorial/getting-started-with-r/)) tackling the [Titanic Kaggle competition](https://www.kaggle.com/c/titanic). Let's see how it goes."
   ]
  },
  {
   "cell_type": "markdown",
   "metadata": {
    "collapsed": true
   },
   "source": [
    "#### Set working directory "
   ]
  },
  {
   "cell_type": "markdown",
   "metadata": {},
   "source": [
    "Variables and objects are assigned by '<-' operator"
   ]
  },
  {
   "cell_type": "markdown",
   "metadata": {},
   "source": [
    "Now lets set the working directory with `setwd()`."
   ]
  },
  {
   "cell_type": "code",
   "execution_count": 1,
   "metadata": {
    "collapsed": true
   },
   "outputs": [],
   "source": [
    "setwd(\"~/TestingArea/Tutorials/R\")"
   ]
  },
  {
   "cell_type": "markdown",
   "metadata": {},
   "source": [
    "#### Read datasets"
   ]
  },
  {
   "cell_type": "code",
   "execution_count": 2,
   "metadata": {
    "collapsed": false
   },
   "outputs": [],
   "source": [
    "train<-read.csv(\"train.csv\")"
   ]
  },
  {
   "cell_type": "code",
   "execution_count": 3,
   "metadata": {
    "collapsed": true
   },
   "outputs": [],
   "source": [
    "test<-read.csv(\"test.csv\")"
   ]
  },
  {
   "cell_type": "markdown",
   "metadata": {},
   "source": [
    "Let's see what we loaded. We can use R's `View` for it. You can always get help by typing `?View`. In a jupyter notebook we can simply print the dataset. This is possible in the script, too, but gets very difficult to read. "
   ]
  },
  {
   "cell_type": "markdown",
   "metadata": {},
   "source": [
    "Instead let's use `head`, which is the equivalent to pandas `DataFrame.head()` to see what is inside the dataset."
   ]
  },
  {
   "cell_type": "code",
   "execution_count": 4,
   "metadata": {
    "collapsed": false,
    "scrolled": true
   },
   "outputs": [
    {
     "data": {
      "text/html": [
       "<table>\n",
       "<thead><tr><th></th><th scope=col>PassengerId</th><th scope=col>Survived</th><th scope=col>Pclass</th><th scope=col>Name</th><th scope=col>Sex</th><th scope=col>Age</th><th scope=col>SibSp</th><th scope=col>Parch</th><th scope=col>Ticket</th><th scope=col>Fare</th><th scope=col>Cabin</th><th scope=col>Embarked</th></tr></thead>\n",
       "<tbody>\n",
       "\t<tr><th scope=row>1</th><td>1                      </td><td>0                      </td><td>3                      </td><td>Braund, Mr. Owen Harris</td><td>male                   </td><td>22                     </td><td>1                      </td><td>0                      </td><td>A/5 21171              </td><td>7.25                   </td><td>                       </td><td>S                      </td></tr>\n",
       "\t<tr><th scope=row>2</th><td>2                                                  </td><td>1                                                  </td><td>1                                                  </td><td>Cumings, Mrs. John Bradley (Florence Briggs Thayer)</td><td>female                                             </td><td>38                                                 </td><td>1                                                  </td><td>0                                                  </td><td>PC 17599                                           </td><td>71.2833                                            </td><td>C85                                                </td><td>C                                                  </td></tr>\n",
       "</tbody>\n",
       "</table>\n"
      ],
      "text/latex": [
       "\\begin{tabular}{r|llllllllllll}\n",
       "  & PassengerId & Survived & Pclass & Name & Sex & Age & SibSp & Parch & Ticket & Fare & Cabin & Embarked\\\\\n",
       "\\hline\n",
       "\t1 & 1                       & 0                       & 3                       & Braund, Mr. Owen Harris & male                    & 22                      & 1                       & 0                       & A/5 21171               & 7.25                    &                         & S                      \\\\\n",
       "\t2 & 2                                                   & 1                                                   & 1                                                   & Cumings, Mrs. John Bradley (Florence Briggs Thayer) & female                                              & 38                                                  & 1                                                   & 0                                                   & PC 17599                                            & 71.2833                                             & C85                                                 & C                                                  \\\\\n",
       "\\end{tabular}\n"
      ],
      "text/plain": [
       "  PassengerId Survived Pclass\n",
       "1           1        0      3\n",
       "2           2        1      1\n",
       "                                                 Name    Sex Age SibSp Parch\n",
       "1                             Braund, Mr. Owen Harris   male  22     1     0\n",
       "2 Cumings, Mrs. John Bradley (Florence Briggs Thayer) female  38     1     0\n",
       "     Ticket    Fare Cabin Embarked\n",
       "1 A/5 21171  7.2500              S\n",
       "2  PC 17599 71.2833   C85        C"
      ]
     },
     "metadata": {},
     "output_type": "display_data"
    }
   ],
   "source": [
    "head(train,2)"
   ]
  },
  {
   "cell_type": "code",
   "execution_count": 5,
   "metadata": {
    "collapsed": false
   },
   "outputs": [
    {
     "data": {
      "text/html": [
       "<table>\n",
       "<thead><tr><th></th><th scope=col>PassengerId</th><th scope=col>Pclass</th><th scope=col>Name</th><th scope=col>Sex</th><th scope=col>Age</th><th scope=col>SibSp</th><th scope=col>Parch</th><th scope=col>Ticket</th><th scope=col>Fare</th><th scope=col>Cabin</th><th scope=col>Embarked</th></tr></thead>\n",
       "<tbody>\n",
       "\t<tr><th scope=row>417</th><td>1308               </td><td>3                  </td><td>Ware, Mr. Frederick</td><td>male               </td><td>NA                 </td><td>0                  </td><td>0                  </td><td>359309             </td><td>8.05               </td><td>                   </td><td>S                  </td></tr>\n",
       "\t<tr><th scope=row>418</th><td>1309                    </td><td>3                       </td><td>Peter, Master. Michael J</td><td>male                    </td><td>NA                      </td><td>1                       </td><td>1                       </td><td>2668                    </td><td>22.3583                 </td><td>                        </td><td>C                       </td></tr>\n",
       "</tbody>\n",
       "</table>\n"
      ],
      "text/latex": [
       "\\begin{tabular}{r|lllllllllll}\n",
       "  & PassengerId & Pclass & Name & Sex & Age & SibSp & Parch & Ticket & Fare & Cabin & Embarked\\\\\n",
       "\\hline\n",
       "\t417 & 1308                & 3                   & Ware, Mr. Frederick & male                & NA                  & 0                   & 0                   & 359309              & 8.05                &                     & S                  \\\\\n",
       "\t418 & 1309                     & 3                        & Peter, Master. Michael J & male                     & NA                       & 1                        & 1                        & 2668                     & 22.3583                  &                          & C                       \\\\\n",
       "\\end{tabular}\n"
      ],
      "text/plain": [
       "    PassengerId Pclass                     Name  Sex Age SibSp Parch Ticket\n",
       "417        1308      3      Ware, Mr. Frederick male  NA     0     0 359309\n",
       "418        1309      3 Peter, Master. Michael J male  NA     1     1   2668\n",
       "       Fare Cabin Embarked\n",
       "417  8.0500              S\n",
       "418 22.3583              C"
      ]
     },
     "metadata": {},
     "output_type": "display_data"
    }
   ],
   "source": [
    "tail(test,2)"
   ]
  },
  {
   "cell_type": "markdown",
   "metadata": {},
   "source": [
    "We have different features in the dataset, which we clearly need to understand (Kaggle competition helps).\n",
    "- **PassengerID**: Identified for the passenger\n",
    "- **survival**: Survival\n",
    "   - 0 = No; 1 = Yes\n",
    "- **pclass**: Passenger Class\n",
    "   - 1 = 1st; 2 = 2nd; 3 = 3rd\n",
    "- **name**: Name of the passenger\n",
    "- **sex**: Sex of the passenger\n",
    "- **age**: Age\n",
    "- **sibsp**: Number of Siblings/Spouses aboard\n",
    "- **parch**: Number of Parents/Children aboard\n",
    "- **ticket**: Ticket Number\n",
    "- **fare**: Passenger Fare\n",
    "- **cabin**: Cabin number\n",
    "- **embarked**: Port of Embarkation\n",
    "   - C = Cherbourg; Q = Queenstown; S = Southampton\n",
    "\n",
    "Additionally, some columns of the dataset are not fully filled (cabin has empty slots, age is sometimes `NA`, while int else ,or the format of the ticket does not seem to be consistent)"
   ]
  },
  {
   "cell_type": "markdown",
   "metadata": {},
   "source": [
    "We notice that the test dataset has no `survival` feature. Sure, we're going to predict this :)"
   ]
  },
  {
   "cell_type": "markdown",
   "metadata": {},
   "source": [
    "#### Lets have a look at the structure of the data"
   ]
  },
  {
   "cell_type": "code",
   "execution_count": 6,
   "metadata": {
    "collapsed": false
   },
   "outputs": [
    {
     "name": "stdout",
     "output_type": "stream",
     "text": [
      "'data.frame':\t891 obs. of  12 variables:\n",
      " $ PassengerId: int  1 2 3 4 5 6 7 8 9 10 ...\n",
      " $ Survived   : int  0 1 1 1 0 0 0 0 1 1 ...\n",
      " $ Pclass     : int  3 1 3 1 3 3 1 3 3 2 ...\n",
      " $ Name       : Factor w/ 891 levels \"Abbing, Mr. Anthony\",..: 109 191 358 277 16 559 520 629 417 581 ...\n",
      " $ Sex        : Factor w/ 2 levels \"female\",\"male\": 2 1 1 1 2 2 2 2 1 1 ...\n",
      " $ Age        : num  22 38 26 35 35 NA 54 2 27 14 ...\n",
      " $ SibSp      : int  1 1 0 1 0 0 0 3 0 1 ...\n",
      " $ Parch      : int  0 0 0 0 0 0 0 1 2 0 ...\n",
      " $ Ticket     : Factor w/ 681 levels \"110152\",\"110413\",..: 524 597 670 50 473 276 86 396 345 133 ...\n",
      " $ Fare       : num  7.25 71.28 7.92 53.1 8.05 ...\n",
      " $ Cabin      : Factor w/ 148 levels \"\",\"A10\",\"A14\",..: 1 83 1 57 1 1 131 1 1 1 ...\n",
      " $ Embarked   : Factor w/ 4 levels \"\",\"C\",\"Q\",\"S\": 4 2 4 4 4 3 4 4 4 2 ...\n"
     ]
    }
   ],
   "source": [
    "str(train)"
   ]
  },
  {
   "cell_type": "markdown",
   "metadata": {},
   "source": [
    "So we have a sample of 891 observations (passengers) in the training set and 12 variables (features). Different data types appear:\n",
    "- **int/num**: integer and numerical value (float)\n",
    "- **factor**: Compares to a category. E.g. for strings \"male\" and \"female\": factor w/ 2 Levels (1,2)\n",
    "To import strings from a dataset and keep it as strings, we could have used ```read.csv(\"train.csv\",stringsAsFactors=FALSE)```\n",
    "\n",
    "For the *name* variable we find 891 levels, which mean that there are not two passengers with the same factory level and therefore same name (?). For *ticket* and *cabin* there are less levels due to missing entries or same entries (?)."
   ]
  },
  {
   "cell_type": "code",
   "execution_count": 7,
   "metadata": {
    "collapsed": false
   },
   "outputs": [
    {
     "data": {
      "text/html": [
       "<ol class=list-inline>\n",
       "\t<li>0</li>\n",
       "\t<li>1</li>\n",
       "\t<li>1</li>\n",
       "\t<li>1</li>\n",
       "</ol>\n"
      ],
      "text/latex": [
       "\\begin{enumerate*}\n",
       "\\item 0\n",
       "\\item 1\n",
       "\\item 1\n",
       "\\item 1\n",
       "\\end{enumerate*}\n"
      ],
      "text/markdown": [
       "1. 0\n",
       "2. 1\n",
       "3. 1\n",
       "4. 1\n",
       "\n",
       "\n"
      ],
      "text/plain": [
       "[1] 0 1 1 1"
      ]
     },
     "metadata": {},
     "output_type": "display_data"
    }
   ],
   "source": [
    "head(train$Survived,4) # separate a column from the dataset ($ operator)"
   ]
  },
  {
   "cell_type": "code",
   "execution_count": 8,
   "metadata": {
    "collapsed": false
   },
   "outputs": [
    {
     "data": {
      "text/plain": [
       "\n",
       "  0   1 \n",
       "549 342 "
      ]
     },
     "metadata": {},
     "output_type": "display_data"
    }
   ],
   "source": [
    "table(train$Survived) # table sums occurances in the train$Survived column"
   ]
  },
  {
   "cell_type": "markdown",
   "metadata": {},
   "source": [
    "From using *table()* we infer that 549 passenger have died while 342 survived. What's the percentage? "
   ]
  },
  {
   "cell_type": "code",
   "execution_count": 9,
   "metadata": {
    "collapsed": false
   },
   "outputs": [
    {
     "data": {
      "text/plain": [
       "\n",
       "        0         1 \n",
       "0.6161616 0.3838384 "
      ]
     },
     "metadata": {},
     "output_type": "display_data"
    }
   ],
   "source": [
    "prop.table(table(train$Survived)) "
   ]
  },
  {
   "cell_type": "markdown",
   "metadata": {},
   "source": [
    "#### Create a survived prediction column in the test dataframe \n",
    "first asume everyone died"
   ]
  },
  {
   "cell_type": "code",
   "execution_count": 10,
   "metadata": {
    "collapsed": false
   },
   "outputs": [],
   "source": [
    "test$Survived <- rep(0,418)"
   ]
  },
  {
   "cell_type": "code",
   "execution_count": 11,
   "metadata": {
    "collapsed": false
   },
   "outputs": [
    {
     "data": {
      "text/html": [
       "<table>\n",
       "<thead><tr><th></th><th scope=col>PassengerId</th><th scope=col>Pclass</th><th scope=col>Name</th><th scope=col>Sex</th><th scope=col>Age</th><th scope=col>SibSp</th><th scope=col>Parch</th><th scope=col>Ticket</th><th scope=col>Fare</th><th scope=col>Cabin</th><th scope=col>Embarked</th><th scope=col>Survived</th></tr></thead>\n",
       "<tbody>\n",
       "\t<tr><th scope=row>1</th><td>892             </td><td>3               </td><td>Kelly, Mr. James</td><td>male            </td><td>34.5            </td><td>0               </td><td>0               </td><td>330911          </td><td>7.8292          </td><td>                </td><td>Q               </td><td>0               </td></tr>\n",
       "\t<tr><th scope=row>2</th><td>893                             </td><td>3                               </td><td>Wilkes, Mrs. James (Ellen Needs)</td><td>female                          </td><td>47                              </td><td>1                               </td><td>0                               </td><td>363272                          </td><td>7                               </td><td>                                </td><td>S                               </td><td>0                               </td></tr>\n",
       "</tbody>\n",
       "</table>\n"
      ],
      "text/latex": [
       "\\begin{tabular}{r|llllllllllll}\n",
       "  & PassengerId & Pclass & Name & Sex & Age & SibSp & Parch & Ticket & Fare & Cabin & Embarked & Survived\\\\\n",
       "\\hline\n",
       "\t1 & 892              & 3                & Kelly, Mr. James & male             & 34.5             & 0                & 0                & 330911           & 7.8292           &                  & Q                & 0               \\\\\n",
       "\t2 & 893                              & 3                                & Wilkes, Mrs. James (Ellen Needs) & female                           & 47                               & 1                                & 0                                & 363272                           & 7                                &                                  & S                                & 0                               \\\\\n",
       "\\end{tabular}\n"
      ],
      "text/plain": [
       "  PassengerId Pclass                             Name    Sex  Age SibSp Parch\n",
       "1         892      3                 Kelly, Mr. James   male 34.5     0     0\n",
       "2         893      3 Wilkes, Mrs. James (Ellen Needs) female 47.0     1     0\n",
       "  Ticket   Fare Cabin Embarked Survived\n",
       "1 330911 7.8292              Q        0\n",
       "2 363272 7.0000              S        0"
      ]
     },
     "metadata": {},
     "output_type": "display_data"
    }
   ],
   "source": [
    "head(test,2) # check if survived column is present now?"
   ]
  },
  {
   "cell_type": "markdown",
   "metadata": {},
   "source": [
    "## Let's try to make sense (women and children first?)"
   ]
  },
  {
   "cell_type": "code",
   "execution_count": 12,
   "metadata": {
    "collapsed": false
   },
   "outputs": [
    {
     "data": {
      "text/html": [
       "<dl class=dl-horizontal>\n",
       "\t<dt>female</dt>\n",
       "\t\t<dd>314</dd>\n",
       "\t<dt>male</dt>\n",
       "\t\t<dd>577</dd>\n",
       "</dl>\n"
      ],
      "text/latex": [
       "\\begin{description*}\n",
       "\\item[female] 314\n",
       "\\item[male] 577\n",
       "\\end{description*}\n"
      ],
      "text/markdown": [
       "female\n",
       ":   314male\n",
       ":   577\n",
       "\n"
      ],
      "text/plain": [
       "female   male \n",
       "   314    577 "
      ]
     },
     "metadata": {},
     "output_type": "display_data"
    }
   ],
   "source": [
    "summary(train$Sex)"
   ]
  },
  {
   "cell_type": "code",
   "execution_count": 13,
   "metadata": {
    "collapsed": false
   },
   "outputs": [
    {
     "data": {
      "text/plain": [
       "        \n",
       "                 0         1\n",
       "  female 0.2579618 0.7420382\n",
       "  male   0.8110919 0.1889081"
      ]
     },
     "metadata": {},
     "output_type": "display_data"
    }
   ],
   "source": [
    "prop.table(table(train$Sex, train$Survived),1) #1,2 for horizontal (row) or vertical (column) proportion"
   ]
  },
  {
   "cell_type": "markdown",
   "metadata": {},
   "source": [
    "### 74% of all female passengers survived, while only 19% of the male did"
   ]
  },
  {
   "cell_type": "markdown",
   "metadata": {},
   "source": [
    "### predict: women survide, male die"
   ]
  },
  {
   "cell_type": "code",
   "execution_count": 14,
   "metadata": {
    "collapsed": true
   },
   "outputs": [],
   "source": [
    "test$Survived <- 0\n",
    "test$Survived[test$Sex=='female'] <- 1"
   ]
  },
  {
   "cell_type": "code",
   "execution_count": 15,
   "metadata": {
    "collapsed": false
   },
   "outputs": [
    {
     "data": {
      "text/plain": [
       "   Min. 1st Qu.  Median    Mean 3rd Qu.    Max.    NA's \n",
       "   0.42   20.12   28.00   29.70   38.00   80.00     177 "
      ]
     },
     "metadata": {},
     "output_type": "display_data"
    }
   ],
   "source": [
    "summary(train$Age)"
   ]
  },
  {
   "cell_type": "markdown",
   "metadata": {},
   "source": [
    "Now see how many minors there are (assuming the NA are of average age)"
   ]
  },
  {
   "cell_type": "code",
   "execution_count": 16,
   "metadata": {
    "collapsed": true
   },
   "outputs": [],
   "source": [
    "train$Child <- 0\n",
    "train$Child[train$Age<18] <- 1"
   ]
  },
  {
   "cell_type": "markdown",
   "metadata": {},
   "source": [
    "Sums up survived passengers by categories \"Child\" and \"Sex\""
   ]
  },
  {
   "cell_type": "code",
   "execution_count": 17,
   "metadata": {
    "collapsed": false
   },
   "outputs": [
    {
     "data": {
      "text/html": [
       "<table>\n",
       "<thead><tr><th></th><th scope=col>Child</th><th scope=col>Sex</th><th scope=col>Survived</th></tr></thead>\n",
       "<tbody>\n",
       "\t<tr><th scope=row>1</th><td>0     </td><td>female</td><td>195   </td></tr>\n",
       "\t<tr><th scope=row>2</th><td>1     </td><td>female</td><td>38    </td></tr>\n",
       "\t<tr><th scope=row>3</th><td>0   </td><td>male</td><td>86  </td></tr>\n",
       "\t<tr><th scope=row>4</th><td>1   </td><td>male</td><td>23  </td></tr>\n",
       "</tbody>\n",
       "</table>\n"
      ],
      "text/latex": [
       "\\begin{tabular}{r|lll}\n",
       "  & Child & Sex & Survived\\\\\n",
       "\\hline\n",
       "\t1 & 0      & female & 195   \\\\\n",
       "\t2 & 1      & female & 38    \\\\\n",
       "\t3 & 0    & male & 86  \\\\\n",
       "\t4 & 1    & male & 23  \\\\\n",
       "\\end{tabular}\n"
      ],
      "text/plain": [
       "  Child    Sex Survived\n",
       "1     0 female      195\n",
       "2     1 female       38\n",
       "3     0   male       86\n",
       "4     1   male       23"
      ]
     },
     "metadata": {},
     "output_type": "display_data"
    }
   ],
   "source": [
    "aggregate(Survived ~ Child + Sex, data=train, FUN=sum)"
   ]
  },
  {
   "cell_type": "markdown",
   "metadata": {},
   "source": [
    "But how many passengers are in the categories?"
   ]
  },
  {
   "cell_type": "code",
   "execution_count": 18,
   "metadata": {
    "collapsed": false
   },
   "outputs": [
    {
     "data": {
      "text/html": [
       "<table>\n",
       "<thead><tr><th></th><th scope=col>Child</th><th scope=col>Sex</th><th scope=col>Survived</th></tr></thead>\n",
       "<tbody>\n",
       "\t<tr><th scope=row>1</th><td>0     </td><td>female</td><td>259   </td></tr>\n",
       "\t<tr><th scope=row>2</th><td>1     </td><td>female</td><td>55    </td></tr>\n",
       "\t<tr><th scope=row>3</th><td>0   </td><td>male</td><td>519 </td></tr>\n",
       "\t<tr><th scope=row>4</th><td>1   </td><td>male</td><td>58  </td></tr>\n",
       "</tbody>\n",
       "</table>\n"
      ],
      "text/latex": [
       "\\begin{tabular}{r|lll}\n",
       "  & Child & Sex & Survived\\\\\n",
       "\\hline\n",
       "\t1 & 0      & female & 259   \\\\\n",
       "\t2 & 1      & female & 55    \\\\\n",
       "\t3 & 0    & male & 519 \\\\\n",
       "\t4 & 1    & male & 58  \\\\\n",
       "\\end{tabular}\n"
      ],
      "text/plain": [
       "  Child    Sex Survived\n",
       "1     0 female      259\n",
       "2     1 female       55\n",
       "3     0   male      519\n",
       "4     1   male       58"
      ]
     },
     "metadata": {},
     "output_type": "display_data"
    }
   ],
   "source": [
    "aggregate(Survived ~ Child + Sex, data=train, FUN=length)"
   ]
  },
  {
   "cell_type": "markdown",
   "metadata": {},
   "source": [
    "Again the proportions would be more helpful, luckily we can define custom functions."
   ]
  },
  {
   "cell_type": "code",
   "execution_count": 19,
   "metadata": {
    "collapsed": false
   },
   "outputs": [
    {
     "data": {
      "text/html": [
       "<table>\n",
       "<thead><tr><th></th><th scope=col>Child</th><th scope=col>Sex</th><th scope=col>Survived</th></tr></thead>\n",
       "<tbody>\n",
       "\t<tr><th scope=row>1</th><td>0                </td><td>female           </td><td>0.752895752895753</td></tr>\n",
       "\t<tr><th scope=row>2</th><td>1                </td><td>female           </td><td>0.690909090909091</td></tr>\n",
       "\t<tr><th scope=row>3</th><td>0                </td><td>male             </td><td>0.165703275529865</td></tr>\n",
       "\t<tr><th scope=row>4</th><td>1                </td><td>male             </td><td>0.396551724137931</td></tr>\n",
       "</tbody>\n",
       "</table>\n"
      ],
      "text/latex": [
       "\\begin{tabular}{r|lll}\n",
       "  & Child & Sex & Survived\\\\\n",
       "\\hline\n",
       "\t1 & 0                 & female            & 0.752895752895753\\\\\n",
       "\t2 & 1                 & female            & 0.690909090909091\\\\\n",
       "\t3 & 0                 & male              & 0.165703275529865\\\\\n",
       "\t4 & 1                 & male              & 0.396551724137931\\\\\n",
       "\\end{tabular}\n"
      ],
      "text/plain": [
       "  Child    Sex  Survived\n",
       "1     0 female 0.7528958\n",
       "2     1 female 0.6909091\n",
       "3     0   male 0.1657033\n",
       "4     1   male 0.3965517"
      ]
     },
     "metadata": {},
     "output_type": "display_data"
    }
   ],
   "source": [
    "aggregate(Survived ~ Child + Sex, data = train, FUN=function(x){sum(x)/length(x)})"
   ]
  },
  {
   "cell_type": "markdown",
   "metadata": {},
   "source": [
    "Not surprised: most females survived, most men did not --- regardless if child or not. Still chances are better for children"
   ]
  },
  {
   "cell_type": "markdown",
   "metadata": {},
   "source": [
    "## Look at some other variables"
   ]
  },
  {
   "cell_type": "markdown",
   "metadata": {},
   "source": [
    "First let's bin the ticket fare"
   ]
  },
  {
   "cell_type": "code",
   "execution_count": 20,
   "metadata": {
    "collapsed": true
   },
   "outputs": [],
   "source": [
    "train$Fare2 <- '30+'\n",
    "\n",
    "train$Fare2[train$Fare>=20 & train$Fare<30] <- '20-30'\n",
    "\n",
    "train$Fare2[train$Fare>=10 & train$Fare<20] <- '10-20'\n",
    "\n",
    "train$Fare2[train$Fare<10] <- '<10'"
   ]
  },
  {
   "cell_type": "markdown",
   "metadata": {},
   "source": [
    "Now check how the fare behaves in different subsets of the data"
   ]
  },
  {
   "cell_type": "code",
   "execution_count": 21,
   "metadata": {
    "collapsed": false
   },
   "outputs": [
    {
     "data": {
      "text/html": [
       "<table>\n",
       "<thead><tr><th></th><th scope=col>Fare2</th><th scope=col>Pclass</th><th scope=col>Sex</th><th scope=col>Survived</th></tr></thead>\n",
       "<tbody>\n",
       "\t<tr><th scope=row>1</th><td>20-30            </td><td>1                </td><td>female           </td><td>0.833333333333333</td></tr>\n",
       "\t<tr><th scope=row>2</th><td>30+              </td><td>1                </td><td>female           </td><td>0.977272727272727</td></tr>\n",
       "\t<tr><th scope=row>3</th><td>10-20            </td><td>2                </td><td>female           </td><td>0.914285714285714</td></tr>\n",
       "\t<tr><th scope=row>4</th><td>20-30 </td><td>2     </td><td>female</td><td>0.9   </td></tr>\n",
       "\t<tr><th scope=row>5</th><td>30+   </td><td>2     </td><td>female</td><td>1     </td></tr>\n",
       "\t<tr><th scope=row>6</th><td>&lt;10 </td><td>3      </td><td>female </td><td>0.59375</td></tr>\n",
       "\t<tr><th scope=row>7</th><td>10-20            </td><td>3                </td><td>female           </td><td>0.581395348837209</td></tr>\n",
       "\t<tr><th scope=row>8</th><td>20-30            </td><td>3                </td><td>female           </td><td>0.333333333333333</td></tr>\n",
       "\t<tr><th scope=row>9</th><td>30+   </td><td>3     </td><td>female</td><td>0.125 </td></tr>\n",
       "\t<tr><th scope=row>10</th><td>&lt;10</td><td>1     </td><td>male  </td><td>0     </td></tr>\n",
       "\t<tr><th scope=row>11</th><td>20-30</td><td>1    </td><td>male </td><td>0.4  </td></tr>\n",
       "\t<tr><th scope=row>12</th><td>30+              </td><td>1                </td><td>male             </td><td>0.383720930232558</td></tr>\n",
       "\t<tr><th scope=row>13</th><td>&lt;10</td><td>2     </td><td>male  </td><td>0     </td></tr>\n",
       "\t<tr><th scope=row>14</th><td>10-20            </td><td>2                </td><td>male             </td><td>0.158730158730159</td></tr>\n",
       "\t<tr><th scope=row>15</th><td>20-30</td><td>2    </td><td>male </td><td>0.16 </td></tr>\n",
       "\t<tr><th scope=row>16</th><td>30+              </td><td>2                </td><td>male             </td><td>0.214285714285714</td></tr>\n",
       "\t<tr><th scope=row>17</th><td>&lt;10           </td><td>3                </td><td>male             </td><td>0.111538461538462</td></tr>\n",
       "\t<tr><th scope=row>18</th><td>10-20            </td><td>3                </td><td>male             </td><td>0.236842105263158</td></tr>\n",
       "\t<tr><th scope=row>19</th><td>20-30</td><td>3    </td><td>male </td><td>0.125</td></tr>\n",
       "\t<tr><th scope=row>20</th><td>30+ </td><td>3   </td><td>male</td><td>0.24</td></tr>\n",
       "</tbody>\n",
       "</table>\n"
      ],
      "text/latex": [
       "\\begin{tabular}{r|llll}\n",
       "  & Fare2 & Pclass & Sex & Survived\\\\\n",
       "\\hline\n",
       "\t1 & 20-30             & 1                 & female            & 0.833333333333333\\\\\n",
       "\t2 & 30+               & 1                 & female            & 0.977272727272727\\\\\n",
       "\t3 & 10-20             & 2                 & female            & 0.914285714285714\\\\\n",
       "\t4 & 20-30  & 2      & female & 0.9   \\\\\n",
       "\t5 & 30+    & 2      & female & 1     \\\\\n",
       "\t6 & <10     & 3       & female  & 0.59375\\\\\n",
       "\t7 & 10-20             & 3                 & female            & 0.581395348837209\\\\\n",
       "\t8 & 20-30             & 3                 & female            & 0.333333333333333\\\\\n",
       "\t9 & 30+    & 3      & female & 0.125 \\\\\n",
       "\t10 & <10  & 1    & male & 0   \\\\\n",
       "\t11 & 20-30 & 1     & male  & 0.4  \\\\\n",
       "\t12 & 30+               & 1                 & male              & 0.383720930232558\\\\\n",
       "\t13 & <10  & 2    & male & 0   \\\\\n",
       "\t14 & 10-20             & 2                 & male              & 0.158730158730159\\\\\n",
       "\t15 & 20-30 & 2     & male  & 0.16 \\\\\n",
       "\t16 & 30+               & 2                 & male              & 0.214285714285714\\\\\n",
       "\t17 & <10               & 3                 & male              & 0.111538461538462\\\\\n",
       "\t18 & 10-20             & 3                 & male              & 0.236842105263158\\\\\n",
       "\t19 & 20-30 & 3     & male  & 0.125\\\\\n",
       "\t20 & 30+  & 3    & male & 0.24\\\\\n",
       "\\end{tabular}\n"
      ],
      "text/plain": [
       "   Fare2 Pclass    Sex  Survived\n",
       "1  20-30      1 female 0.8333333\n",
       "2    30+      1 female 0.9772727\n",
       "3  10-20      2 female 0.9142857\n",
       "4  20-30      2 female 0.9000000\n",
       "5    30+      2 female 1.0000000\n",
       "6    <10      3 female 0.5937500\n",
       "7  10-20      3 female 0.5813953\n",
       "8  20-30      3 female 0.3333333\n",
       "9    30+      3 female 0.1250000\n",
       "10   <10      1   male 0.0000000\n",
       "11 20-30      1   male 0.4000000\n",
       "12   30+      1   male 0.3837209\n",
       "13   <10      2   male 0.0000000\n",
       "14 10-20      2   male 0.1587302\n",
       "15 20-30      2   male 0.1600000\n",
       "16   30+      2   male 0.2142857\n",
       "17   <10      3   male 0.1115385\n",
       "18 10-20      3   male 0.2368421\n",
       "19 20-30      3   male 0.1250000\n",
       "20   30+      3   male 0.2400000"
      ]
     },
     "metadata": {},
     "output_type": "display_data"
    }
   ],
   "source": [
    "aggregate(Survived ~ Fare2 + Pclass + Sex, data=train, FUN=function(x){sum(x)/length(x)})"
   ]
  },
  {
   "cell_type": "markdown",
   "metadata": {},
   "source": [
    "#### We can do a 'cut-based' prediction\n",
    "females in 1st and 2nd class survive, 3rd class survives with ticket fare <20.\n",
    "men all die."
   ]
  },
  {
   "cell_type": "code",
   "execution_count": 22,
   "metadata": {
    "collapsed": true
   },
   "outputs": [],
   "source": [
    "test$Survived <- 0\n",
    "test$Survived[test$Sex == 'female'] <- 1\n",
    "test$Survived[test$Sex == 'female' & test$Pclass==3 & test$Fare>=20] <- 0"
   ]
  },
  {
   "cell_type": "markdown",
   "metadata": {},
   "source": [
    "W/o any randomness, this means #2336 on the leaderboard with an accuracy of 0.77990."
   ]
  },
  {
   "cell_type": "markdown",
   "metadata": {},
   "source": [
    "Now add a little randomness to the model, and see what happens. First class males with a ticket fare of >10 have still 40% survival rate."
   ]
  },
  {
   "cell_type": "code",
   "execution_count": 28,
   "metadata": {
    "collapsed": false
   },
   "outputs": [],
   "source": [
    "test$Survived[test$Sex=='male' & test$Pclass==1 & test$Fare>=10 & test$PassengerId %% 10<=3] <- 1"
   ]
  },
  {
   "cell_type": "code",
   "execution_count": 29,
   "metadata": {
    "collapsed": false
   },
   "outputs": [
    {
     "data": {
      "text/html": [
       "<table>\n",
       "<thead><tr><th></th><th scope=col>PassengerId</th><th scope=col>Pclass</th><th scope=col>Name</th><th scope=col>Sex</th><th scope=col>Age</th><th scope=col>SibSp</th><th scope=col>Parch</th><th scope=col>Ticket</th><th scope=col>Fare</th><th scope=col>Cabin</th><th scope=col>Embarked</th><th scope=col>Survived</th></tr></thead>\n",
       "<tbody>\n",
       "\t<tr><th scope=row>12</th><td>903                       </td><td>1                         </td><td>Jones, Mr. Charles Cresson</td><td>male                      </td><td>46                        </td><td>0                         </td><td>0                         </td><td>694                       </td><td>26                        </td><td>                          </td><td>S                         </td><td>1                         </td></tr>\n",
       "\t<tr><th scope=row>21</th><td>912                   </td><td>1                     </td><td>Rothschild, Mr. Martin</td><td>male                  </td><td>55                    </td><td>1                     </td><td>0                     </td><td>PC 17603              </td><td>59.4                  </td><td>                      </td><td>C                     </td><td>1                     </td></tr>\n",
       "\t<tr><th scope=row>24</th><td>915                            </td><td>1                              </td><td>Williams, Mr. Richard Norris II</td><td>male                           </td><td>21                             </td><td>0                              </td><td>1                              </td><td>PC 17597                       </td><td>61.3792                        </td><td>                               </td><td>C                              </td><td>0                              </td></tr>\n",
       "\t<tr><th scope=row>29</th><td>920                    </td><td>1                      </td><td>Brady, Mr. John Bertram</td><td>male                   </td><td>41                     </td><td>0                      </td><td>0                      </td><td>113054                 </td><td>30.5                   </td><td>A21                    </td><td>S                      </td><td>1                      </td></tr>\n",
       "</tbody>\n",
       "</table>\n"
      ],
      "text/latex": [
       "\\begin{tabular}{r|llllllllllll}\n",
       "  & PassengerId & Pclass & Name & Sex & Age & SibSp & Parch & Ticket & Fare & Cabin & Embarked & Survived\\\\\n",
       "\\hline\n",
       "\t12 & 903                        & 1                          & Jones, Mr. Charles Cresson & male                       & 46                         & 0                          & 0                          & 694                        & 26                         &                            & S                          & 1                         \\\\\n",
       "\t21 & 912                    & 1                      & Rothschild, Mr. Martin & male                   & 55                     & 1                      & 0                      & PC 17603               & 59.4                   &                        & C                      & 1                     \\\\\n",
       "\t24 & 915                             & 1                               & Williams, Mr. Richard Norris II & male                            & 21                              & 0                               & 1                               & PC 17597                        & 61.3792                         &                                 & C                               & 0                              \\\\\n",
       "\t29 & 920                     & 1                       & Brady, Mr. John Bertram & male                    & 41                      & 0                       & 0                       & 113054                  & 30.5                    & A21                     & S                       & 1                      \\\\\n",
       "\\end{tabular}\n"
      ],
      "text/plain": [
       "   PassengerId Pclass                            Name  Sex Age SibSp Parch\n",
       "12         903      1      Jones, Mr. Charles Cresson male  46     0     0\n",
       "21         912      1          Rothschild, Mr. Martin male  55     1     0\n",
       "24         915      1 Williams, Mr. Richard Norris II male  21     0     1\n",
       "29         920      1         Brady, Mr. John Bertram male  41     0     0\n",
       "     Ticket    Fare Cabin Embarked Survived\n",
       "12      694 26.0000              S        1\n",
       "21 PC 17603 59.4000              C        1\n",
       "24 PC 17597 61.3792              C        0\n",
       "29   113054 30.5000   A21        S        1"
      ]
     },
     "metadata": {},
     "output_type": "display_data"
    }
   ],
   "source": [
    "head(subset(test, test$Sex=='male' & test$Pclass==1 & test$Fare>10),4)"
   ]
  },
  {
   "cell_type": "code",
   "execution_count": 30,
   "metadata": {
    "collapsed": false
   },
   "outputs": [
    {
     "data": {
      "text/plain": [
       "\n",
       "        0         1 \n",
       "0.6363636 0.3636364 "
      ]
     },
     "metadata": {},
     "output_type": "display_data"
    }
   ],
   "source": [
    "prop.table(table(test$Survived[test$Sex=='male' & test$Pclass==1 & test$Fare>10]))"
   ]
  },
  {
   "cell_type": "markdown",
   "metadata": {},
   "source": [
    "It is not 40%, so reduce to randomness... with <=3 in modulo this is ok. Let's see if randomness improves the result."
   ]
  },
  {
   "cell_type": "markdown",
   "metadata": {},
   "source": [
    "Ok the randomness leads to q score of 0.75120. Which is worse than w/o randomness!!"
   ]
  },
  {
   "cell_type": "markdown",
   "metadata": {},
   "source": [
    "## Let's move on to decision trees"
   ]
  },
  {
   "cell_type": "code",
   "execution_count": null,
   "metadata": {
    "collapsed": true
   },
   "outputs": [],
   "source": []
  },
  {
   "cell_type": "markdown",
   "metadata": {},
   "source": [
    "### Solutions to the problem can be submitted in csv format\n",
    "It has to contain the test sample's passenger's id and the prediction of survival:"
   ]
  },
  {
   "cell_type": "code",
   "execution_count": 31,
   "metadata": {
    "collapsed": false
   },
   "outputs": [],
   "source": [
    "solution <- data.frame(PassengerId = test$PassengerId, Survived = test$Survived)"
   ]
  },
  {
   "cell_type": "markdown",
   "metadata": {},
   "source": [
    "#### Write to csv file"
   ]
  },
  {
   "cell_type": "code",
   "execution_count": 32,
   "metadata": {
    "collapsed": true
   },
   "outputs": [],
   "source": [
    "write.csv(solution, file=\"solution.csv\", row.names=FALSE) # not exactly sure if Kaggle allows for row names. to be tested"
   ]
  },
  {
   "cell_type": "code",
   "execution_count": null,
   "metadata": {
    "collapsed": true
   },
   "outputs": [],
   "source": []
  }
 ],
 "metadata": {
  "anaconda-cloud": {},
  "kernelspec": {
   "display_name": "R",
   "language": "R",
   "name": "ir"
  },
  "language_info": {
   "codemirror_mode": "r",
   "file_extension": ".r",
   "mimetype": "text/x-r-source",
   "name": "R",
   "pygments_lexer": "r",
   "version": "3.3.1"
  }
 },
 "nbformat": 4,
 "nbformat_minor": 0
}
