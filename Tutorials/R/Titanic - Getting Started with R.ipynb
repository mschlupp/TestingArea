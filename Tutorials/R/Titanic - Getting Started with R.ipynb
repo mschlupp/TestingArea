{
 "cells": [
  {
   "cell_type": "markdown",
   "metadata": {},
   "source": [
    "# The R tutorial"
   ]
  },
  {
   "cell_type": "markdown",
   "metadata": {},
   "source": [
    "This notebook summarises the R tutorial by Trevor Stephens ([link](http://trevorstephens.com/kaggle-titanic-tutorial/getting-started-with-r/)) tackling the [Titanic Kaggle competition](https://www.kaggle.com/c/titanic). Let's see how it goes."
   ]
  },
  {
   "cell_type": "markdown",
   "metadata": {
    "collapsed": true
   },
   "source": [
    "#### Set working directory "
   ]
  },
  {
   "cell_type": "markdown",
   "metadata": {},
   "source": [
    "Variables and objects are assigned by '<-' operator"
   ]
  },
  {
   "cell_type": "markdown",
   "metadata": {},
   "source": [
    "Now lets set the working directory with `setwd()`."
   ]
  },
  {
   "cell_type": "code",
   "execution_count": 1,
   "metadata": {
    "collapsed": true
   },
   "outputs": [],
   "source": [
    "setwd(\"~/TestingArea/Tutorials/R\")"
   ]
  },
  {
   "cell_type": "markdown",
   "metadata": {},
   "source": [
    "#### Read datasets"
   ]
  },
  {
   "cell_type": "code",
   "execution_count": 2,
   "metadata": {
    "collapsed": false
   },
   "outputs": [],
   "source": [
    "train<-read.csv(\"train.csv\")"
   ]
  },
  {
   "cell_type": "code",
   "execution_count": 5,
   "metadata": {
    "collapsed": true
   },
   "outputs": [],
   "source": [
    "test<-read.csv(\"test.csv\")"
   ]
  },
  {
   "cell_type": "markdown",
   "metadata": {},
   "source": [
    "Let's see what we loaded. We can use R's `View` for it. You can always get help by typing `?View`. In a jupyter notebook we can simply print the dataset. This is possible in the script, too, but gets very difficult to read. "
   ]
  },
  {
   "cell_type": "markdown",
   "metadata": {},
   "source": [
    "Instead let's use `head`, which is the equivalent to pandas `DataFrame.head()` to see what is inside the dataset."
   ]
  },
  {
   "cell_type": "code",
   "execution_count": 15,
   "metadata": {
    "collapsed": false,
    "scrolled": true
   },
   "outputs": [
    {
     "data": {
      "text/html": [
       "<table>\n",
       "<thead><tr><th></th><th scope=col>PassengerId</th><th scope=col>Survived</th><th scope=col>Pclass</th><th scope=col>Name</th><th scope=col>Sex</th><th scope=col>Age</th><th scope=col>SibSp</th><th scope=col>Parch</th><th scope=col>Ticket</th><th scope=col>Fare</th><th scope=col>Cabin</th><th scope=col>Embarked</th></tr></thead>\n",
       "<tbody>\n",
       "\t<tr><th scope=row>1</th><td>1                      </td><td>0                      </td><td>3                      </td><td>Braund, Mr. Owen Harris</td><td>male                   </td><td>22                     </td><td>1                      </td><td>0                      </td><td>A/5 21171              </td><td>7.25                   </td><td>                       </td><td>S                      </td></tr>\n",
       "\t<tr><th scope=row>2</th><td>2                                                  </td><td>1                                                  </td><td>1                                                  </td><td>Cumings, Mrs. John Bradley (Florence Briggs Thayer)</td><td>female                                             </td><td>38                                                 </td><td>1                                                  </td><td>0                                                  </td><td>PC 17599                                           </td><td>71.2833                                            </td><td>C85                                                </td><td>C                                                  </td></tr>\n",
       "</tbody>\n",
       "</table>\n"
      ],
      "text/latex": [
       "\\begin{tabular}{r|llllllllllll}\n",
       "  & PassengerId & Survived & Pclass & Name & Sex & Age & SibSp & Parch & Ticket & Fare & Cabin & Embarked\\\\\n",
       "\\hline\n",
       "\t1 & 1                       & 0                       & 3                       & Braund, Mr. Owen Harris & male                    & 22                      & 1                       & 0                       & A/5 21171               & 7.25                    &                         & S                      \\\\\n",
       "\t2 & 2                                                   & 1                                                   & 1                                                   & Cumings, Mrs. John Bradley (Florence Briggs Thayer) & female                                              & 38                                                  & 1                                                   & 0                                                   & PC 17599                                            & 71.2833                                             & C85                                                 & C                                                  \\\\\n",
       "\\end{tabular}\n"
      ],
      "text/plain": [
       "  PassengerId Survived Pclass\n",
       "1           1        0      3\n",
       "2           2        1      1\n",
       "                                                 Name    Sex Age SibSp Parch\n",
       "1                             Braund, Mr. Owen Harris   male  22     1     0\n",
       "2 Cumings, Mrs. John Bradley (Florence Briggs Thayer) female  38     1     0\n",
       "     Ticket    Fare Cabin Embarked\n",
       "1 A/5 21171  7.2500              S\n",
       "2  PC 17599 71.2833   C85        C"
      ]
     },
     "metadata": {},
     "output_type": "display_data"
    }
   ],
   "source": [
    "head(train,2)"
   ]
  },
  {
   "cell_type": "code",
   "execution_count": 17,
   "metadata": {
    "collapsed": false
   },
   "outputs": [
    {
     "data": {
      "text/html": [
       "<table>\n",
       "<thead><tr><th></th><th scope=col>PassengerId</th><th scope=col>Pclass</th><th scope=col>Name</th><th scope=col>Sex</th><th scope=col>Age</th><th scope=col>SibSp</th><th scope=col>Parch</th><th scope=col>Ticket</th><th scope=col>Fare</th><th scope=col>Cabin</th><th scope=col>Embarked</th></tr></thead>\n",
       "<tbody>\n",
       "\t<tr><th scope=row>417</th><td>1308               </td><td>3                  </td><td>Ware, Mr. Frederick</td><td>male               </td><td>NA                 </td><td>0                  </td><td>0                  </td><td>359309             </td><td>8.05               </td><td>                   </td><td>S                  </td></tr>\n",
       "\t<tr><th scope=row>418</th><td>1309                    </td><td>3                       </td><td>Peter, Master. Michael J</td><td>male                    </td><td>NA                      </td><td>1                       </td><td>1                       </td><td>2668                    </td><td>22.3583                 </td><td>                        </td><td>C                       </td></tr>\n",
       "</tbody>\n",
       "</table>\n"
      ],
      "text/latex": [
       "\\begin{tabular}{r|lllllllllll}\n",
       "  & PassengerId & Pclass & Name & Sex & Age & SibSp & Parch & Ticket & Fare & Cabin & Embarked\\\\\n",
       "\\hline\n",
       "\t417 & 1308                & 3                   & Ware, Mr. Frederick & male                & NA                  & 0                   & 0                   & 359309              & 8.05                &                     & S                  \\\\\n",
       "\t418 & 1309                     & 3                        & Peter, Master. Michael J & male                     & NA                       & 1                        & 1                        & 2668                     & 22.3583                  &                          & C                       \\\\\n",
       "\\end{tabular}\n"
      ],
      "text/plain": [
       "    PassengerId Pclass                     Name  Sex Age SibSp Parch Ticket\n",
       "417        1308      3      Ware, Mr. Frederick male  NA     0     0 359309\n",
       "418        1309      3 Peter, Master. Michael J male  NA     1     1   2668\n",
       "       Fare Cabin Embarked\n",
       "417  8.0500              S\n",
       "418 22.3583              C"
      ]
     },
     "metadata": {},
     "output_type": "display_data"
    }
   ],
   "source": [
    "tail(test,2)"
   ]
  },
  {
   "cell_type": "markdown",
   "metadata": {},
   "source": [
    "We have different features in the dataset, which we clearly need to understand (Kaggle competition helps).\n",
    "- **PassengerID**: Identified for the passenger\n",
    "- **survival**: Survival\n",
    "   - 0 = No; 1 = Yes\n",
    "- **pclass**: Passenger Class\n",
    "   - 1 = 1st; 2 = 2nd; 3 = 3rd\n",
    "- **name**: Name of the passenger\n",
    "- **sex**: Sex of the passenger\n",
    "- **age**: Age\n",
    "- **sibsp**: Number of Siblings/Spouses aboard\n",
    "- **parch**: Number of Parents/Children aboard\n",
    "- **ticket**: Ticket Number\n",
    "- **fare**: Passenger Fare\n",
    "- **cabin**: Cabin number\n",
    "- **embarked**: Port of Embarkation\n",
    "   - C = Cherbourg; Q = Queenstown; S = Southampton\n",
    "\n",
    "Additionally, some columns of the dataset are not fully filled (cabin has empty slots, age is sometimes `NA`, while int else ,or the format of the ticket does not seem to be consistent)"
   ]
  },
  {
   "cell_type": "markdown",
   "metadata": {},
   "source": [
    "We notice that the test dataset has no `survival` feature. Sure, we're going to predict this :)"
   ]
  },
  {
   "cell_type": "markdown",
   "metadata": {},
   "source": [
    "#### Lets have a look at the structure of the data"
   ]
  },
  {
   "cell_type": "code",
   "execution_count": 18,
   "metadata": {
    "collapsed": false
   },
   "outputs": [
    {
     "name": "stdout",
     "output_type": "stream",
     "text": [
      "'data.frame':\t891 obs. of  12 variables:\n",
      " $ PassengerId: int  1 2 3 4 5 6 7 8 9 10 ...\n",
      " $ Survived   : int  0 1 1 1 0 0 0 0 1 1 ...\n",
      " $ Pclass     : int  3 1 3 1 3 3 1 3 3 2 ...\n",
      " $ Name       : Factor w/ 891 levels \"Abbing, Mr. Anthony\",..: 109 191 358 277 16 559 520 629 417 581 ...\n",
      " $ Sex        : Factor w/ 2 levels \"female\",\"male\": 2 1 1 1 2 2 2 2 1 1 ...\n",
      " $ Age        : num  22 38 26 35 35 NA 54 2 27 14 ...\n",
      " $ SibSp      : int  1 1 0 1 0 0 0 3 0 1 ...\n",
      " $ Parch      : int  0 0 0 0 0 0 0 1 2 0 ...\n",
      " $ Ticket     : Factor w/ 681 levels \"110152\",\"110413\",..: 524 597 670 50 473 276 86 396 345 133 ...\n",
      " $ Fare       : num  7.25 71.28 7.92 53.1 8.05 ...\n",
      " $ Cabin      : Factor w/ 148 levels \"\",\"A10\",\"A14\",..: 1 83 1 57 1 1 131 1 1 1 ...\n",
      " $ Embarked   : Factor w/ 4 levels \"\",\"C\",\"Q\",\"S\": 4 2 4 4 4 3 4 4 4 2 ...\n"
     ]
    }
   ],
   "source": [
    "str(train)"
   ]
  },
  {
   "cell_type": "markdown",
   "metadata": {},
   "source": [
    "So we have a sample of 891 observations (passengers) in the training set and 12 variables (features). Different data types appear:\n",
    "- **int/num**: integer and numerical value (float)\n",
    "- **factor**: Compares to a category. E.g. for strings \"male\" and \"female\": factor w/ 2 Levels (1,2)\n",
    "To import strings from a dataset and keep it as strings, we could have used ```read.csv(\"train.csv\",stringsAsFactors=FALSE)```\n",
    "\n",
    "For the *name* variable we find 891 levels, which mean that there are not two passengers with the same factory level and therefore same name (?). For *ticket* and *cabin* there are less levels due to missing entries or same entries (?)."
   ]
  },
  {
   "cell_type": "code",
   "execution_count": 22,
   "metadata": {
    "collapsed": false
   },
   "outputs": [
    {
     "data": {
      "text/html": [
       "<ol class=list-inline>\n",
       "\t<li>0</li>\n",
       "\t<li>1</li>\n",
       "\t<li>1</li>\n",
       "\t<li>1</li>\n",
       "</ol>\n"
      ],
      "text/latex": [
       "\\begin{enumerate*}\n",
       "\\item 0\n",
       "\\item 1\n",
       "\\item 1\n",
       "\\item 1\n",
       "\\end{enumerate*}\n"
      ],
      "text/markdown": [
       "1. 0\n",
       "2. 1\n",
       "3. 1\n",
       "4. 1\n",
       "\n",
       "\n"
      ],
      "text/plain": [
       "[1] 0 1 1 1"
      ]
     },
     "metadata": {},
     "output_type": "display_data"
    }
   ],
   "source": [
    "head(train$Survived,4) # separate a column from the dataset ($ operator)"
   ]
  },
  {
   "cell_type": "code",
   "execution_count": 26,
   "metadata": {
    "collapsed": false
   },
   "outputs": [
    {
     "data": {
      "text/plain": [
       "\n",
       "  0   1 \n",
       "549 342 "
      ]
     },
     "metadata": {},
     "output_type": "display_data"
    }
   ],
   "source": [
    "table(train$Survived) # table sums occurances in the train$Survived column"
   ]
  },
  {
   "cell_type": "markdown",
   "metadata": {},
   "source": [
    "From using *table()* we infer that 549 passenger have died while 342 survived. What's the percentage? "
   ]
  },
  {
   "cell_type": "code",
   "execution_count": 32,
   "metadata": {
    "collapsed": false
   },
   "outputs": [
    {
     "data": {
      "text/plain": [
       "\n",
       "        0         1 \n",
       "0.6161616 0.3838384 "
      ]
     },
     "metadata": {},
     "output_type": "display_data"
    }
   ],
   "source": [
    "prop.table(table(train$Survived)) "
   ]
  },
  {
   "cell_type": "markdown",
   "metadata": {},
   "source": [
    "#### Create a survived prediction column in the test dataframe \n",
    "first asume everyone died"
   ]
  },
  {
   "cell_type": "code",
   "execution_count": 36,
   "metadata": {
    "collapsed": false
   },
   "outputs": [],
   "source": [
    "test$Survived <- rep(0,418)"
   ]
  },
  {
   "cell_type": "code",
   "execution_count": 37,
   "metadata": {
    "collapsed": false
   },
   "outputs": [
    {
     "data": {
      "text/html": [
       "<table>\n",
       "<thead><tr><th></th><th scope=col>PassengerId</th><th scope=col>Pclass</th><th scope=col>Name</th><th scope=col>Sex</th><th scope=col>Age</th><th scope=col>SibSp</th><th scope=col>Parch</th><th scope=col>Ticket</th><th scope=col>Fare</th><th scope=col>Cabin</th><th scope=col>Embarked</th><th scope=col>Survived</th></tr></thead>\n",
       "<tbody>\n",
       "\t<tr><th scope=row>1</th><td>892             </td><td>3               </td><td>Kelly, Mr. James</td><td>male            </td><td>34.5            </td><td>0               </td><td>0               </td><td>330911          </td><td>7.8292          </td><td>                </td><td>Q               </td><td>0               </td></tr>\n",
       "\t<tr><th scope=row>2</th><td>893                             </td><td>3                               </td><td>Wilkes, Mrs. James (Ellen Needs)</td><td>female                          </td><td>47                              </td><td>1                               </td><td>0                               </td><td>363272                          </td><td>7                               </td><td>                                </td><td>S                               </td><td>0                               </td></tr>\n",
       "</tbody>\n",
       "</table>\n"
      ],
      "text/latex": [
       "\\begin{tabular}{r|llllllllllll}\n",
       "  & PassengerId & Pclass & Name & Sex & Age & SibSp & Parch & Ticket & Fare & Cabin & Embarked & Survived\\\\\n",
       "\\hline\n",
       "\t1 & 892              & 3                & Kelly, Mr. James & male             & 34.5             & 0                & 0                & 330911           & 7.8292           &                  & Q                & 0               \\\\\n",
       "\t2 & 893                              & 3                                & Wilkes, Mrs. James (Ellen Needs) & female                           & 47                               & 1                                & 0                                & 363272                           & 7                                &                                  & S                                & 0                               \\\\\n",
       "\\end{tabular}\n"
      ],
      "text/plain": [
       "  PassengerId Pclass                             Name    Sex  Age SibSp Parch\n",
       "1         892      3                 Kelly, Mr. James   male 34.5     0     0\n",
       "2         893      3 Wilkes, Mrs. James (Ellen Needs) female 47.0     1     0\n",
       "  Ticket   Fare Cabin Embarked Survived\n",
       "1 330911 7.8292              Q        0\n",
       "2 363272 7.0000              S        0"
      ]
     },
     "metadata": {},
     "output_type": "display_data"
    }
   ],
   "source": [
    "head(test,2) # check if survived column is present now?"
   ]
  },
  {
   "cell_type": "markdown",
   "metadata": {},
   "source": [
    "### Solutions to the problem can be submitted in csv format\n",
    "It has to contain the test sample's passenger's id and the prediction of survival:"
   ]
  },
  {
   "cell_type": "code",
   "execution_count": 41,
   "metadata": {
    "collapsed": false
   },
   "outputs": [],
   "source": [
    "solution <- data.frame(PassengerId = test$PassengerId, Survived = test$Survived)"
   ]
  },
  {
   "cell_type": "markdown",
   "metadata": {},
   "source": [
    "#### Write to csv file"
   ]
  },
  {
   "cell_type": "code",
   "execution_count": 44,
   "metadata": {
    "collapsed": true
   },
   "outputs": [],
   "source": [
    "write.csv(solution, file=\"solution.csv\", row.names=FALSE) # not exactly sure if Kaggle allows for row names. to be tested"
   ]
  },
  {
   "cell_type": "code",
   "execution_count": null,
   "metadata": {
    "collapsed": true
   },
   "outputs": [],
   "source": []
  }
 ],
 "metadata": {
  "anaconda-cloud": {},
  "kernelspec": {
   "display_name": "R",
   "language": "R",
   "name": "ir"
  },
  "language_info": {
   "codemirror_mode": "r",
   "file_extension": ".r",
   "mimetype": "text/x-r-source",
   "name": "R",
   "pygments_lexer": "r",
   "version": "3.3.1"
  }
 },
 "nbformat": 4,
 "nbformat_minor": 0
}
