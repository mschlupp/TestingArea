{
 "cells": [
  {
   "cell_type": "markdown",
   "metadata": {},
   "source": [
    "# The R tutorial"
   ]
  },
  {
   "cell_type": "markdown",
   "metadata": {},
   "source": [
    "This notebook summarises the R tutorial by Trevor Stephens ([link](http://trevorstephens.com/kaggle-titanic-tutorial/getting-started-with-r/)) tackling the [Titanic Kaggle competition](https://www.kaggle.com/c/titanic). Let's see how it goes."
   ]
  },
  {
   "cell_type": "markdown",
   "metadata": {
    "collapsed": true
   },
   "source": [
    "#### Set working directory "
   ]
  },
  {
   "cell_type": "markdown",
   "metadata": {},
   "source": [
    "Variables and objects are assigned by '<-' operator"
   ]
  },
  {
   "cell_type": "markdown",
   "metadata": {},
   "source": [
    "Now lets set the working directory with `setwd()`."
   ]
  },
  {
   "cell_type": "code",
   "execution_count": 1,
   "metadata": {
    "collapsed": true
   },
   "outputs": [],
   "source": [
    "setwd(\"~/TestingArea/Tutorials/R\")"
   ]
  },
  {
   "cell_type": "markdown",
   "metadata": {},
   "source": [
    "#### Read datasets"
   ]
  },
  {
   "cell_type": "code",
   "execution_count": 2,
   "metadata": {
    "collapsed": false
   },
   "outputs": [],
   "source": [
    "train<-read.csv(\"train.csv\")"
   ]
  },
  {
   "cell_type": "code",
   "execution_count": 3,
   "metadata": {
    "collapsed": true
   },
   "outputs": [],
   "source": [
    "test<-read.csv(\"test.csv\")"
   ]
  },
  {
   "cell_type": "markdown",
   "metadata": {},
   "source": [
    "Let's see what we loaded. We can use R's `View` for it. You can always get help by typing `?View`. In a jupyter notebook we can simply print the dataset. This is possible in the script, too, but gets very difficult to read. "
   ]
  },
  {
   "cell_type": "markdown",
   "metadata": {},
   "source": [
    "Instead let's use `head`, which is the equivalent to pandas `DataFrame.head()` to see what is inside the dataset."
   ]
  },
  {
   "cell_type": "code",
   "execution_count": 4,
   "metadata": {
    "collapsed": false,
    "scrolled": true
   },
   "outputs": [
    {
     "data": {
      "text/html": [
       "<table>\n",
       "<thead><tr><th></th><th scope=col>PassengerId</th><th scope=col>Survived</th><th scope=col>Pclass</th><th scope=col>Name</th><th scope=col>Sex</th><th scope=col>Age</th><th scope=col>SibSp</th><th scope=col>Parch</th><th scope=col>Ticket</th><th scope=col>Fare</th><th scope=col>Cabin</th><th scope=col>Embarked</th></tr></thead>\n",
       "<tbody>\n",
       "\t<tr><th scope=row>1</th><td>1                      </td><td>0                      </td><td>3                      </td><td>Braund, Mr. Owen Harris</td><td>male                   </td><td>22                     </td><td>1                      </td><td>0                      </td><td>A/5 21171              </td><td>7.25                   </td><td>                       </td><td>S                      </td></tr>\n",
       "\t<tr><th scope=row>2</th><td>2                                                  </td><td>1                                                  </td><td>1                                                  </td><td>Cumings, Mrs. John Bradley (Florence Briggs Thayer)</td><td>female                                             </td><td>38                                                 </td><td>1                                                  </td><td>0                                                  </td><td>PC 17599                                           </td><td>71.2833                                            </td><td>C85                                                </td><td>C                                                  </td></tr>\n",
       "</tbody>\n",
       "</table>\n"
      ],
      "text/latex": [
       "\\begin{tabular}{r|llllllllllll}\n",
       "  & PassengerId & Survived & Pclass & Name & Sex & Age & SibSp & Parch & Ticket & Fare & Cabin & Embarked\\\\\n",
       "\\hline\n",
       "\t1 & 1                       & 0                       & 3                       & Braund, Mr. Owen Harris & male                    & 22                      & 1                       & 0                       & A/5 21171               & 7.25                    &                         & S                      \\\\\n",
       "\t2 & 2                                                   & 1                                                   & 1                                                   & Cumings, Mrs. John Bradley (Florence Briggs Thayer) & female                                              & 38                                                  & 1                                                   & 0                                                   & PC 17599                                            & 71.2833                                             & C85                                                 & C                                                  \\\\\n",
       "\\end{tabular}\n"
      ],
      "text/plain": [
       "  PassengerId Survived Pclass\n",
       "1           1        0      3\n",
       "2           2        1      1\n",
       "                                                 Name    Sex Age SibSp Parch\n",
       "1                             Braund, Mr. Owen Harris   male  22     1     0\n",
       "2 Cumings, Mrs. John Bradley (Florence Briggs Thayer) female  38     1     0\n",
       "     Ticket    Fare Cabin Embarked\n",
       "1 A/5 21171  7.2500              S\n",
       "2  PC 17599 71.2833   C85        C"
      ]
     },
     "metadata": {},
     "output_type": "display_data"
    }
   ],
   "source": [
    "head(train,2)"
   ]
  },
  {
   "cell_type": "code",
   "execution_count": 5,
   "metadata": {
    "collapsed": false
   },
   "outputs": [
    {
     "data": {
      "text/html": [
       "<table>\n",
       "<thead><tr><th></th><th scope=col>PassengerId</th><th scope=col>Pclass</th><th scope=col>Name</th><th scope=col>Sex</th><th scope=col>Age</th><th scope=col>SibSp</th><th scope=col>Parch</th><th scope=col>Ticket</th><th scope=col>Fare</th><th scope=col>Cabin</th><th scope=col>Embarked</th></tr></thead>\n",
       "<tbody>\n",
       "\t<tr><th scope=row>417</th><td>1308               </td><td>3                  </td><td>Ware, Mr. Frederick</td><td>male               </td><td>NA                 </td><td>0                  </td><td>0                  </td><td>359309             </td><td>8.05               </td><td>                   </td><td>S                  </td></tr>\n",
       "\t<tr><th scope=row>418</th><td>1309                    </td><td>3                       </td><td>Peter, Master. Michael J</td><td>male                    </td><td>NA                      </td><td>1                       </td><td>1                       </td><td>2668                    </td><td>22.3583                 </td><td>                        </td><td>C                       </td></tr>\n",
       "</tbody>\n",
       "</table>\n"
      ],
      "text/latex": [
       "\\begin{tabular}{r|lllllllllll}\n",
       "  & PassengerId & Pclass & Name & Sex & Age & SibSp & Parch & Ticket & Fare & Cabin & Embarked\\\\\n",
       "\\hline\n",
       "\t417 & 1308                & 3                   & Ware, Mr. Frederick & male                & NA                  & 0                   & 0                   & 359309              & 8.05                &                     & S                  \\\\\n",
       "\t418 & 1309                     & 3                        & Peter, Master. Michael J & male                     & NA                       & 1                        & 1                        & 2668                     & 22.3583                  &                          & C                       \\\\\n",
       "\\end{tabular}\n"
      ],
      "text/plain": [
       "    PassengerId Pclass                     Name  Sex Age SibSp Parch Ticket\n",
       "417        1308      3      Ware, Mr. Frederick male  NA     0     0 359309\n",
       "418        1309      3 Peter, Master. Michael J male  NA     1     1   2668\n",
       "       Fare Cabin Embarked\n",
       "417  8.0500              S\n",
       "418 22.3583              C"
      ]
     },
     "metadata": {},
     "output_type": "display_data"
    }
   ],
   "source": [
    "tail(test,2)"
   ]
  },
  {
   "cell_type": "markdown",
   "metadata": {},
   "source": [
    "We have different features in the dataset, which we clearly need to understand (Kaggle competition helps).\n",
    "- **PassengerID**: Identified for the passenger\n",
    "- **survival**: Survival\n",
    "   - 0 = No; 1 = Yes\n",
    "- **pclass**: Passenger Class\n",
    "   - 1 = 1st; 2 = 2nd; 3 = 3rd\n",
    "- **name**: Name of the passenger\n",
    "- **sex**: Sex of the passenger\n",
    "- **age**: Age\n",
    "- **sibsp**: Number of Siblings/Spouses aboard\n",
    "- **parch**: Number of Parents/Children aboard\n",
    "- **ticket**: Ticket Number\n",
    "- **fare**: Passenger Fare\n",
    "- **cabin**: Cabin number\n",
    "- **embarked**: Port of Embarkation\n",
    "   - C = Cherbourg; Q = Queenstown; S = Southampton\n",
    "\n",
    "Additionally, some columns of the dataset are not fully filled (cabin has empty slots, age is sometimes `NA`, while int else ,or the format of the ticket does not seem to be consistent)"
   ]
  },
  {
   "cell_type": "markdown",
   "metadata": {},
   "source": [
    "We notice that the test dataset has no `survival` feature. Sure, we're going to predict this :)"
   ]
  },
  {
   "cell_type": "markdown",
   "metadata": {},
   "source": [
    "#### Lets have a look at the structure of the data"
   ]
  },
  {
   "cell_type": "code",
   "execution_count": 6,
   "metadata": {
    "collapsed": false
   },
   "outputs": [
    {
     "name": "stdout",
     "output_type": "stream",
     "text": [
      "'data.frame':\t891 obs. of  12 variables:\n",
      " $ PassengerId: int  1 2 3 4 5 6 7 8 9 10 ...\n",
      " $ Survived   : int  0 1 1 1 0 0 0 0 1 1 ...\n",
      " $ Pclass     : int  3 1 3 1 3 3 1 3 3 2 ...\n",
      " $ Name       : Factor w/ 891 levels \"Abbing, Mr. Anthony\",..: 109 191 358 277 16 559 520 629 417 581 ...\n",
      " $ Sex        : Factor w/ 2 levels \"female\",\"male\": 2 1 1 1 2 2 2 2 1 1 ...\n",
      " $ Age        : num  22 38 26 35 35 NA 54 2 27 14 ...\n",
      " $ SibSp      : int  1 1 0 1 0 0 0 3 0 1 ...\n",
      " $ Parch      : int  0 0 0 0 0 0 0 1 2 0 ...\n",
      " $ Ticket     : Factor w/ 681 levels \"110152\",\"110413\",..: 524 597 670 50 473 276 86 396 345 133 ...\n",
      " $ Fare       : num  7.25 71.28 7.92 53.1 8.05 ...\n",
      " $ Cabin      : Factor w/ 148 levels \"\",\"A10\",\"A14\",..: 1 83 1 57 1 1 131 1 1 1 ...\n",
      " $ Embarked   : Factor w/ 4 levels \"\",\"C\",\"Q\",\"S\": 4 2 4 4 4 3 4 4 4 2 ...\n"
     ]
    }
   ],
   "source": [
    "str(train)"
   ]
  },
  {
   "cell_type": "markdown",
   "metadata": {},
   "source": [
    "So we have a sample of 891 observations (passengers) in the training set and 12 variables (features). Different data types appear:\n",
    "- **int/num**: integer and numerical value (float)\n",
    "- **factor**: Compares to a category. E.g. for strings \"male\" and \"female\": factor w/ 2 Levels (1,2)\n",
    "To import strings from a dataset and keep it as strings, we could have used ```read.csv(\"train.csv\",stringsAsFactors=FALSE)```\n",
    "\n",
    "For the *name* variable we find 891 levels, which mean that there are not two passengers with the same factory level and therefore same name (?). For *ticket* and *cabin* there are less levels due to missing entries or same entries (?)."
   ]
  },
  {
   "cell_type": "code",
   "execution_count": 7,
   "metadata": {
    "collapsed": false
   },
   "outputs": [
    {
     "data": {
      "text/html": [
       "<ol class=list-inline>\n",
       "\t<li>0</li>\n",
       "\t<li>1</li>\n",
       "\t<li>1</li>\n",
       "\t<li>1</li>\n",
       "</ol>\n"
      ],
      "text/latex": [
       "\\begin{enumerate*}\n",
       "\\item 0\n",
       "\\item 1\n",
       "\\item 1\n",
       "\\item 1\n",
       "\\end{enumerate*}\n"
      ],
      "text/markdown": [
       "1. 0\n",
       "2. 1\n",
       "3. 1\n",
       "4. 1\n",
       "\n",
       "\n"
      ],
      "text/plain": [
       "[1] 0 1 1 1"
      ]
     },
     "metadata": {},
     "output_type": "display_data"
    }
   ],
   "source": [
    "head(train$Survived,4) # separate a column from the dataset ($ operator)"
   ]
  },
  {
   "cell_type": "code",
   "execution_count": 8,
   "metadata": {
    "collapsed": false
   },
   "outputs": [
    {
     "data": {
      "text/plain": [
       "\n",
       "  0   1 \n",
       "549 342 "
      ]
     },
     "metadata": {},
     "output_type": "display_data"
    }
   ],
   "source": [
    "table(train$Survived) # table sums occurances in the train$Survived column"
   ]
  },
  {
   "cell_type": "markdown",
   "metadata": {},
   "source": [
    "From using *table()* we infer that 549 passenger have died while 342 survived. What's the percentage? "
   ]
  },
  {
   "cell_type": "code",
   "execution_count": 9,
   "metadata": {
    "collapsed": false
   },
   "outputs": [
    {
     "data": {
      "text/plain": [
       "\n",
       "        0         1 \n",
       "0.6161616 0.3838384 "
      ]
     },
     "metadata": {},
     "output_type": "display_data"
    }
   ],
   "source": [
    "prop.table(table(train$Survived)) "
   ]
  },
  {
   "cell_type": "markdown",
   "metadata": {},
   "source": [
    "#### Create a survived prediction column in the test dataframe \n",
    "first asume everyone died"
   ]
  },
  {
   "cell_type": "code",
   "execution_count": 10,
   "metadata": {
    "collapsed": false
   },
   "outputs": [],
   "source": [
    "test$Survived <- rep(0,418)"
   ]
  },
  {
   "cell_type": "code",
   "execution_count": 11,
   "metadata": {
    "collapsed": false
   },
   "outputs": [
    {
     "data": {
      "text/html": [
       "<table>\n",
       "<thead><tr><th></th><th scope=col>PassengerId</th><th scope=col>Pclass</th><th scope=col>Name</th><th scope=col>Sex</th><th scope=col>Age</th><th scope=col>SibSp</th><th scope=col>Parch</th><th scope=col>Ticket</th><th scope=col>Fare</th><th scope=col>Cabin</th><th scope=col>Embarked</th><th scope=col>Survived</th></tr></thead>\n",
       "<tbody>\n",
       "\t<tr><th scope=row>1</th><td>892             </td><td>3               </td><td>Kelly, Mr. James</td><td>male            </td><td>34.5            </td><td>0               </td><td>0               </td><td>330911          </td><td>7.8292          </td><td>                </td><td>Q               </td><td>0               </td></tr>\n",
       "\t<tr><th scope=row>2</th><td>893                             </td><td>3                               </td><td>Wilkes, Mrs. James (Ellen Needs)</td><td>female                          </td><td>47                              </td><td>1                               </td><td>0                               </td><td>363272                          </td><td>7                               </td><td>                                </td><td>S                               </td><td>0                               </td></tr>\n",
       "</tbody>\n",
       "</table>\n"
      ],
      "text/latex": [
       "\\begin{tabular}{r|llllllllllll}\n",
       "  & PassengerId & Pclass & Name & Sex & Age & SibSp & Parch & Ticket & Fare & Cabin & Embarked & Survived\\\\\n",
       "\\hline\n",
       "\t1 & 892              & 3                & Kelly, Mr. James & male             & 34.5             & 0                & 0                & 330911           & 7.8292           &                  & Q                & 0               \\\\\n",
       "\t2 & 893                              & 3                                & Wilkes, Mrs. James (Ellen Needs) & female                           & 47                               & 1                                & 0                                & 363272                           & 7                                &                                  & S                                & 0                               \\\\\n",
       "\\end{tabular}\n"
      ],
      "text/plain": [
       "  PassengerId Pclass                             Name    Sex  Age SibSp Parch\n",
       "1         892      3                 Kelly, Mr. James   male 34.5     0     0\n",
       "2         893      3 Wilkes, Mrs. James (Ellen Needs) female 47.0     1     0\n",
       "  Ticket   Fare Cabin Embarked Survived\n",
       "1 330911 7.8292              Q        0\n",
       "2 363272 7.0000              S        0"
      ]
     },
     "metadata": {},
     "output_type": "display_data"
    }
   ],
   "source": [
    "head(test,2) # check if survived column is present now?"
   ]
  },
  {
   "cell_type": "markdown",
   "metadata": {},
   "source": [
    "## Let's try to make sense (women and children first?)"
   ]
  },
  {
   "cell_type": "code",
   "execution_count": 12,
   "metadata": {
    "collapsed": false
   },
   "outputs": [
    {
     "data": {
      "text/html": [
       "<dl class=dl-horizontal>\n",
       "\t<dt>female</dt>\n",
       "\t\t<dd>314</dd>\n",
       "\t<dt>male</dt>\n",
       "\t\t<dd>577</dd>\n",
       "</dl>\n"
      ],
      "text/latex": [
       "\\begin{description*}\n",
       "\\item[female] 314\n",
       "\\item[male] 577\n",
       "\\end{description*}\n"
      ],
      "text/markdown": [
       "female\n",
       ":   314male\n",
       ":   577\n",
       "\n"
      ],
      "text/plain": [
       "female   male \n",
       "   314    577 "
      ]
     },
     "metadata": {},
     "output_type": "display_data"
    }
   ],
   "source": [
    "summary(train$Sex)"
   ]
  },
  {
   "cell_type": "code",
   "execution_count": 13,
   "metadata": {
    "collapsed": false
   },
   "outputs": [
    {
     "data": {
      "text/plain": [
       "        \n",
       "                 0         1\n",
       "  female 0.2579618 0.7420382\n",
       "  male   0.8110919 0.1889081"
      ]
     },
     "metadata": {},
     "output_type": "display_data"
    }
   ],
   "source": [
    "prop.table(table(train$Sex, train$Survived),1) #1,2 for horizontal (row) or vertical (column) proportion"
   ]
  },
  {
   "cell_type": "markdown",
   "metadata": {},
   "source": [
    "### 74% of all female passengers survived, while only 19% of the male did"
   ]
  },
  {
   "cell_type": "markdown",
   "metadata": {},
   "source": [
    "### predict: women survide, male die"
   ]
  },
  {
   "cell_type": "code",
   "execution_count": 14,
   "metadata": {
    "collapsed": true
   },
   "outputs": [],
   "source": [
    "test$Survived <- 0\n",
    "test$Survived[test$Sex=='female'] <- 1"
   ]
  },
  {
   "cell_type": "code",
   "execution_count": 15,
   "metadata": {
    "collapsed": false
   },
   "outputs": [
    {
     "data": {
      "text/plain": [
       "   Min. 1st Qu.  Median    Mean 3rd Qu.    Max.    NA's \n",
       "   0.42   20.12   28.00   29.70   38.00   80.00     177 "
      ]
     },
     "metadata": {},
     "output_type": "display_data"
    }
   ],
   "source": [
    "summary(train$Age)"
   ]
  },
  {
   "cell_type": "markdown",
   "metadata": {},
   "source": [
    "Now see how many minors there are (assuming the NA are of average age)"
   ]
  },
  {
   "cell_type": "code",
   "execution_count": 16,
   "metadata": {
    "collapsed": true
   },
   "outputs": [],
   "source": [
    "train$Child <- 0\n",
    "train$Child[train$Age<18] <- 1"
   ]
  },
  {
   "cell_type": "markdown",
   "metadata": {},
   "source": [
    "Sums up survived passengers by categories \"Child\" and \"Sex\""
   ]
  },
  {
   "cell_type": "code",
   "execution_count": 17,
   "metadata": {
    "collapsed": false
   },
   "outputs": [
    {
     "data": {
      "text/html": [
       "<table>\n",
       "<thead><tr><th></th><th scope=col>Child</th><th scope=col>Sex</th><th scope=col>Survived</th></tr></thead>\n",
       "<tbody>\n",
       "\t<tr><th scope=row>1</th><td>0     </td><td>female</td><td>195   </td></tr>\n",
       "\t<tr><th scope=row>2</th><td>1     </td><td>female</td><td>38    </td></tr>\n",
       "\t<tr><th scope=row>3</th><td>0   </td><td>male</td><td>86  </td></tr>\n",
       "\t<tr><th scope=row>4</th><td>1   </td><td>male</td><td>23  </td></tr>\n",
       "</tbody>\n",
       "</table>\n"
      ],
      "text/latex": [
       "\\begin{tabular}{r|lll}\n",
       "  & Child & Sex & Survived\\\\\n",
       "\\hline\n",
       "\t1 & 0      & female & 195   \\\\\n",
       "\t2 & 1      & female & 38    \\\\\n",
       "\t3 & 0    & male & 86  \\\\\n",
       "\t4 & 1    & male & 23  \\\\\n",
       "\\end{tabular}\n"
      ],
      "text/plain": [
       "  Child    Sex Survived\n",
       "1     0 female      195\n",
       "2     1 female       38\n",
       "3     0   male       86\n",
       "4     1   male       23"
      ]
     },
     "metadata": {},
     "output_type": "display_data"
    }
   ],
   "source": [
    "aggregate(Survived ~ Child + Sex, data=train, FUN=sum)"
   ]
  },
  {
   "cell_type": "markdown",
   "metadata": {},
   "source": [
    "But how many passengers are in the categories?"
   ]
  },
  {
   "cell_type": "code",
   "execution_count": 18,
   "metadata": {
    "collapsed": false
   },
   "outputs": [
    {
     "data": {
      "text/html": [
       "<table>\n",
       "<thead><tr><th></th><th scope=col>Child</th><th scope=col>Sex</th><th scope=col>Survived</th></tr></thead>\n",
       "<tbody>\n",
       "\t<tr><th scope=row>1</th><td>0     </td><td>female</td><td>259   </td></tr>\n",
       "\t<tr><th scope=row>2</th><td>1     </td><td>female</td><td>55    </td></tr>\n",
       "\t<tr><th scope=row>3</th><td>0   </td><td>male</td><td>519 </td></tr>\n",
       "\t<tr><th scope=row>4</th><td>1   </td><td>male</td><td>58  </td></tr>\n",
       "</tbody>\n",
       "</table>\n"
      ],
      "text/latex": [
       "\\begin{tabular}{r|lll}\n",
       "  & Child & Sex & Survived\\\\\n",
       "\\hline\n",
       "\t1 & 0      & female & 259   \\\\\n",
       "\t2 & 1      & female & 55    \\\\\n",
       "\t3 & 0    & male & 519 \\\\\n",
       "\t4 & 1    & male & 58  \\\\\n",
       "\\end{tabular}\n"
      ],
      "text/plain": [
       "  Child    Sex Survived\n",
       "1     0 female      259\n",
       "2     1 female       55\n",
       "3     0   male      519\n",
       "4     1   male       58"
      ]
     },
     "metadata": {},
     "output_type": "display_data"
    }
   ],
   "source": [
    "aggregate(Survived ~ Child + Sex, data=train, FUN=length)"
   ]
  },
  {
   "cell_type": "markdown",
   "metadata": {},
   "source": [
    "Again the proportions would be more helpful, luckily we can define custom functions."
   ]
  },
  {
   "cell_type": "code",
   "execution_count": 19,
   "metadata": {
    "collapsed": false
   },
   "outputs": [
    {
     "data": {
      "text/html": [
       "<table>\n",
       "<thead><tr><th></th><th scope=col>Child</th><th scope=col>Sex</th><th scope=col>Survived</th></tr></thead>\n",
       "<tbody>\n",
       "\t<tr><th scope=row>1</th><td>0                </td><td>female           </td><td>0.752895752895753</td></tr>\n",
       "\t<tr><th scope=row>2</th><td>1                </td><td>female           </td><td>0.690909090909091</td></tr>\n",
       "\t<tr><th scope=row>3</th><td>0                </td><td>male             </td><td>0.165703275529865</td></tr>\n",
       "\t<tr><th scope=row>4</th><td>1                </td><td>male             </td><td>0.396551724137931</td></tr>\n",
       "</tbody>\n",
       "</table>\n"
      ],
      "text/latex": [
       "\\begin{tabular}{r|lll}\n",
       "  & Child & Sex & Survived\\\\\n",
       "\\hline\n",
       "\t1 & 0                 & female            & 0.752895752895753\\\\\n",
       "\t2 & 1                 & female            & 0.690909090909091\\\\\n",
       "\t3 & 0                 & male              & 0.165703275529865\\\\\n",
       "\t4 & 1                 & male              & 0.396551724137931\\\\\n",
       "\\end{tabular}\n"
      ],
      "text/plain": [
       "  Child    Sex  Survived\n",
       "1     0 female 0.7528958\n",
       "2     1 female 0.6909091\n",
       "3     0   male 0.1657033\n",
       "4     1   male 0.3965517"
      ]
     },
     "metadata": {},
     "output_type": "display_data"
    }
   ],
   "source": [
    "aggregate(Survived ~ Child + Sex, data = train, FUN=function(x){sum(x)/length(x)})"
   ]
  },
  {
   "cell_type": "markdown",
   "metadata": {},
   "source": [
    "Not surprised: most females survived, most men did not --- regardless if child or not. Still chances are better for children"
   ]
  },
  {
   "cell_type": "markdown",
   "metadata": {},
   "source": [
    "## Look at some other variables"
   ]
  },
  {
   "cell_type": "markdown",
   "metadata": {},
   "source": [
    "First let's bin the ticket fare"
   ]
  },
  {
   "cell_type": "code",
   "execution_count": 20,
   "metadata": {
    "collapsed": true
   },
   "outputs": [],
   "source": [
    "train$Fare2 <- '30+'\n",
    "\n",
    "train$Fare2[train$Fare>=20 & train$Fare<30] <- '20-30'\n",
    "\n",
    "train$Fare2[train$Fare>=10 & train$Fare<20] <- '10-20'\n",
    "\n",
    "train$Fare2[train$Fare<10] <- '<10'"
   ]
  },
  {
   "cell_type": "markdown",
   "metadata": {},
   "source": [
    "Now check how the fare behaves in different subsets of the data"
   ]
  },
  {
   "cell_type": "code",
   "execution_count": 21,
   "metadata": {
    "collapsed": false
   },
   "outputs": [
    {
     "data": {
      "text/html": [
       "<table>\n",
       "<thead><tr><th></th><th scope=col>Fare2</th><th scope=col>Pclass</th><th scope=col>Sex</th><th scope=col>Survived</th></tr></thead>\n",
       "<tbody>\n",
       "\t<tr><th scope=row>1</th><td>20-30            </td><td>1                </td><td>female           </td><td>0.833333333333333</td></tr>\n",
       "\t<tr><th scope=row>2</th><td>30+              </td><td>1                </td><td>female           </td><td>0.977272727272727</td></tr>\n",
       "\t<tr><th scope=row>3</th><td>10-20            </td><td>2                </td><td>female           </td><td>0.914285714285714</td></tr>\n",
       "\t<tr><th scope=row>4</th><td>20-30 </td><td>2     </td><td>female</td><td>0.9   </td></tr>\n",
       "\t<tr><th scope=row>5</th><td>30+   </td><td>2     </td><td>female</td><td>1     </td></tr>\n",
       "\t<tr><th scope=row>6</th><td>&lt;10 </td><td>3      </td><td>female </td><td>0.59375</td></tr>\n",
       "\t<tr><th scope=row>7</th><td>10-20            </td><td>3                </td><td>female           </td><td>0.581395348837209</td></tr>\n",
       "\t<tr><th scope=row>8</th><td>20-30            </td><td>3                </td><td>female           </td><td>0.333333333333333</td></tr>\n",
       "\t<tr><th scope=row>9</th><td>30+   </td><td>3     </td><td>female</td><td>0.125 </td></tr>\n",
       "\t<tr><th scope=row>10</th><td>&lt;10</td><td>1     </td><td>male  </td><td>0     </td></tr>\n",
       "\t<tr><th scope=row>11</th><td>20-30</td><td>1    </td><td>male </td><td>0.4  </td></tr>\n",
       "\t<tr><th scope=row>12</th><td>30+              </td><td>1                </td><td>male             </td><td>0.383720930232558</td></tr>\n",
       "\t<tr><th scope=row>13</th><td>&lt;10</td><td>2     </td><td>male  </td><td>0     </td></tr>\n",
       "\t<tr><th scope=row>14</th><td>10-20            </td><td>2                </td><td>male             </td><td>0.158730158730159</td></tr>\n",
       "\t<tr><th scope=row>15</th><td>20-30</td><td>2    </td><td>male </td><td>0.16 </td></tr>\n",
       "\t<tr><th scope=row>16</th><td>30+              </td><td>2                </td><td>male             </td><td>0.214285714285714</td></tr>\n",
       "\t<tr><th scope=row>17</th><td>&lt;10           </td><td>3                </td><td>male             </td><td>0.111538461538462</td></tr>\n",
       "\t<tr><th scope=row>18</th><td>10-20            </td><td>3                </td><td>male             </td><td>0.236842105263158</td></tr>\n",
       "\t<tr><th scope=row>19</th><td>20-30</td><td>3    </td><td>male </td><td>0.125</td></tr>\n",
       "\t<tr><th scope=row>20</th><td>30+ </td><td>3   </td><td>male</td><td>0.24</td></tr>\n",
       "</tbody>\n",
       "</table>\n"
      ],
      "text/latex": [
       "\\begin{tabular}{r|llll}\n",
       "  & Fare2 & Pclass & Sex & Survived\\\\\n",
       "\\hline\n",
       "\t1 & 20-30             & 1                 & female            & 0.833333333333333\\\\\n",
       "\t2 & 30+               & 1                 & female            & 0.977272727272727\\\\\n",
       "\t3 & 10-20             & 2                 & female            & 0.914285714285714\\\\\n",
       "\t4 & 20-30  & 2      & female & 0.9   \\\\\n",
       "\t5 & 30+    & 2      & female & 1     \\\\\n",
       "\t6 & <10     & 3       & female  & 0.59375\\\\\n",
       "\t7 & 10-20             & 3                 & female            & 0.581395348837209\\\\\n",
       "\t8 & 20-30             & 3                 & female            & 0.333333333333333\\\\\n",
       "\t9 & 30+    & 3      & female & 0.125 \\\\\n",
       "\t10 & <10  & 1    & male & 0   \\\\\n",
       "\t11 & 20-30 & 1     & male  & 0.4  \\\\\n",
       "\t12 & 30+               & 1                 & male              & 0.383720930232558\\\\\n",
       "\t13 & <10  & 2    & male & 0   \\\\\n",
       "\t14 & 10-20             & 2                 & male              & 0.158730158730159\\\\\n",
       "\t15 & 20-30 & 2     & male  & 0.16 \\\\\n",
       "\t16 & 30+               & 2                 & male              & 0.214285714285714\\\\\n",
       "\t17 & <10               & 3                 & male              & 0.111538461538462\\\\\n",
       "\t18 & 10-20             & 3                 & male              & 0.236842105263158\\\\\n",
       "\t19 & 20-30 & 3     & male  & 0.125\\\\\n",
       "\t20 & 30+  & 3    & male & 0.24\\\\\n",
       "\\end{tabular}\n"
      ],
      "text/plain": [
       "   Fare2 Pclass    Sex  Survived\n",
       "1  20-30      1 female 0.8333333\n",
       "2    30+      1 female 0.9772727\n",
       "3  10-20      2 female 0.9142857\n",
       "4  20-30      2 female 0.9000000\n",
       "5    30+      2 female 1.0000000\n",
       "6    <10      3 female 0.5937500\n",
       "7  10-20      3 female 0.5813953\n",
       "8  20-30      3 female 0.3333333\n",
       "9    30+      3 female 0.1250000\n",
       "10   <10      1   male 0.0000000\n",
       "11 20-30      1   male 0.4000000\n",
       "12   30+      1   male 0.3837209\n",
       "13   <10      2   male 0.0000000\n",
       "14 10-20      2   male 0.1587302\n",
       "15 20-30      2   male 0.1600000\n",
       "16   30+      2   male 0.2142857\n",
       "17   <10      3   male 0.1115385\n",
       "18 10-20      3   male 0.2368421\n",
       "19 20-30      3   male 0.1250000\n",
       "20   30+      3   male 0.2400000"
      ]
     },
     "metadata": {},
     "output_type": "display_data"
    }
   ],
   "source": [
    "aggregate(Survived ~ Fare2 + Pclass + Sex, data=train, FUN=function(x){sum(x)/length(x)})"
   ]
  },
  {
   "cell_type": "markdown",
   "metadata": {},
   "source": [
    "#### We can do a 'cut-based' prediction\n",
    "females in 1st and 2nd class survive, 3rd class survives with ticket fare <20.\n",
    "men all die."
   ]
  },
  {
   "cell_type": "code",
   "execution_count": 22,
   "metadata": {
    "collapsed": true
   },
   "outputs": [],
   "source": [
    "test$Survived <- 0\n",
    "test$Survived[test$Sex == 'female'] <- 1\n",
    "test$Survived[test$Sex == 'female' & test$Pclass==3 & test$Fare>=20] <- 0"
   ]
  },
  {
   "cell_type": "markdown",
   "metadata": {},
   "source": [
    "W/o any randomness, this means #2336 on the leaderboard with an accuracy of 0.77990."
   ]
  },
  {
   "cell_type": "markdown",
   "metadata": {},
   "source": [
    "Now add a little randomness to the model, and see what happens. First class males with a ticket fare of >10 have still 40% survival rate."
   ]
  },
  {
   "cell_type": "code",
   "execution_count": 23,
   "metadata": {
    "collapsed": false
   },
   "outputs": [],
   "source": [
    "test$Survived[test$Sex=='male' & test$Pclass==1 & test$Fare>=10 & test$PassengerId %% 10<=3] <- 1"
   ]
  },
  {
   "cell_type": "code",
   "execution_count": 24,
   "metadata": {
    "collapsed": false
   },
   "outputs": [
    {
     "data": {
      "text/html": [
       "<table>\n",
       "<thead><tr><th></th><th scope=col>PassengerId</th><th scope=col>Pclass</th><th scope=col>Name</th><th scope=col>Sex</th><th scope=col>Age</th><th scope=col>SibSp</th><th scope=col>Parch</th><th scope=col>Ticket</th><th scope=col>Fare</th><th scope=col>Cabin</th><th scope=col>Embarked</th><th scope=col>Survived</th></tr></thead>\n",
       "<tbody>\n",
       "\t<tr><th scope=row>12</th><td>903                       </td><td>1                         </td><td>Jones, Mr. Charles Cresson</td><td>male                      </td><td>46                        </td><td>0                         </td><td>0                         </td><td>694                       </td><td>26                        </td><td>                          </td><td>S                         </td><td>1                         </td></tr>\n",
       "\t<tr><th scope=row>21</th><td>912                   </td><td>1                     </td><td>Rothschild, Mr. Martin</td><td>male                  </td><td>55                    </td><td>1                     </td><td>0                     </td><td>PC 17603              </td><td>59.4                  </td><td>                      </td><td>C                     </td><td>1                     </td></tr>\n",
       "\t<tr><th scope=row>24</th><td>915                            </td><td>1                              </td><td>Williams, Mr. Richard Norris II</td><td>male                           </td><td>21                             </td><td>0                              </td><td>1                              </td><td>PC 17597                       </td><td>61.3792                        </td><td>                               </td><td>C                              </td><td>0                              </td></tr>\n",
       "\t<tr><th scope=row>29</th><td>920                    </td><td>1                      </td><td>Brady, Mr. John Bertram</td><td>male                   </td><td>41                     </td><td>0                      </td><td>0                      </td><td>113054                 </td><td>30.5                   </td><td>A21                    </td><td>S                      </td><td>1                      </td></tr>\n",
       "</tbody>\n",
       "</table>\n"
      ],
      "text/latex": [
       "\\begin{tabular}{r|llllllllllll}\n",
       "  & PassengerId & Pclass & Name & Sex & Age & SibSp & Parch & Ticket & Fare & Cabin & Embarked & Survived\\\\\n",
       "\\hline\n",
       "\t12 & 903                        & 1                          & Jones, Mr. Charles Cresson & male                       & 46                         & 0                          & 0                          & 694                        & 26                         &                            & S                          & 1                         \\\\\n",
       "\t21 & 912                    & 1                      & Rothschild, Mr. Martin & male                   & 55                     & 1                      & 0                      & PC 17603               & 59.4                   &                        & C                      & 1                     \\\\\n",
       "\t24 & 915                             & 1                               & Williams, Mr. Richard Norris II & male                            & 21                              & 0                               & 1                               & PC 17597                        & 61.3792                         &                                 & C                               & 0                              \\\\\n",
       "\t29 & 920                     & 1                       & Brady, Mr. John Bertram & male                    & 41                      & 0                       & 0                       & 113054                  & 30.5                    & A21                     & S                       & 1                      \\\\\n",
       "\\end{tabular}\n"
      ],
      "text/plain": [
       "   PassengerId Pclass                            Name  Sex Age SibSp Parch\n",
       "12         903      1      Jones, Mr. Charles Cresson male  46     0     0\n",
       "21         912      1          Rothschild, Mr. Martin male  55     1     0\n",
       "24         915      1 Williams, Mr. Richard Norris II male  21     0     1\n",
       "29         920      1         Brady, Mr. John Bertram male  41     0     0\n",
       "     Ticket    Fare Cabin Embarked Survived\n",
       "12      694 26.0000              S        1\n",
       "21 PC 17603 59.4000              C        1\n",
       "24 PC 17597 61.3792              C        0\n",
       "29   113054 30.5000   A21        S        1"
      ]
     },
     "metadata": {},
     "output_type": "display_data"
    }
   ],
   "source": [
    "head(subset(test, test$Sex=='male' & test$Pclass==1 & test$Fare>10),4)"
   ]
  },
  {
   "cell_type": "code",
   "execution_count": 25,
   "metadata": {
    "collapsed": false
   },
   "outputs": [
    {
     "data": {
      "text/plain": [
       "\n",
       "        0         1 \n",
       "0.6363636 0.3636364 "
      ]
     },
     "metadata": {},
     "output_type": "display_data"
    }
   ],
   "source": [
    "prop.table(table(test$Survived[test$Sex=='male' & test$Pclass==1 & test$Fare>10]))"
   ]
  },
  {
   "cell_type": "markdown",
   "metadata": {},
   "source": [
    "It is not 40%, so reduce to randomness... with <=3 in modulo this is ok. Let's see if randomness improves the result."
   ]
  },
  {
   "cell_type": "markdown",
   "metadata": {},
   "source": [
    "Ok the randomness leads to q score of 0.75120. Which is worse than w/o randomness!!"
   ]
  },
  {
   "cell_type": "markdown",
   "metadata": {},
   "source": [
    "## Let's move on to decision trees"
   ]
  },
  {
   "cell_type": "markdown",
   "metadata": {
    "collapsed": true
   },
   "source": [
    "They come with advantages: easy to understand, can be visualized and are foundation to modern ML algorithms (BDTs)."
   ]
  },
  {
   "cell_type": "markdown",
   "metadata": {},
   "source": [
    "Decision trees choose the best variable to split the data (according to most pure node samples: most 'amount of signal')"
   ]
  },
  {
   "cell_type": "code",
   "execution_count": 26,
   "metadata": {
    "collapsed": false
   },
   "outputs": [
    {
     "data": {
      "text/html": [
       "<dl class=dl-horizontal>\n",
       "\t<dt>female</dt>\n",
       "\t\t<dd>0.352413019079686</dd>\n",
       "\t<dt>male</dt>\n",
       "\t\t<dd>0.647586980920314</dd>\n",
       "</dl>\n"
      ],
      "text/latex": [
       "\\begin{description*}\n",
       "\\item[female] 0.352413019079686\n",
       "\\item[male] 0.647586980920314\n",
       "\\end{description*}\n"
      ],
      "text/markdown": [
       "female\n",
       ":   0.352413019079686male\n",
       ":   0.647586980920314\n",
       "\n"
      ],
      "text/plain": [
       "  female     male \n",
       "0.352413 0.647587 "
      ]
     },
     "metadata": {},
     "output_type": "display_data"
    }
   ],
   "source": [
    "prop.table(summary(train$Sex))"
   ]
  },
  {
   "cell_type": "markdown",
   "metadata": {},
   "source": [
    "#### Get the 'Recursive partitioning and regression trees' library"
   ]
  },
  {
   "cell_type": "code",
   "execution_count": 27,
   "metadata": {
    "collapsed": true
   },
   "outputs": [],
   "source": [
    "library(rpart)"
   ]
  },
  {
   "cell_type": "code",
   "execution_count": 28,
   "metadata": {
    "collapsed": false
   },
   "outputs": [],
   "source": [
    "decTree <- rpart(Survived~ Pclass + Sex + Age + SibSp + Parch+ Fare+ Embarked, \n",
    "     data = train,\n",
    "     method = \"class\")"
   ]
  },
  {
   "cell_type": "code",
   "execution_count": 29,
   "metadata": {
    "collapsed": false
   },
   "outputs": [
    {
     "data": {
      "image/png": "[encoded data removed]",
      "image/svg+xml": [
       "<?xml version=\"1.0\" encoding=\"UTF-8\"?>\n",
       "<svg xmlns=\"http://www.w3.org/2000/svg\" xmlns:xlink=\"http://www.w3.org/1999/xlink\" width=\"504pt\" height=\"504pt\" viewBox=\"0 0 504 504\" version=\"1.1\">\n",
       "<defs>\n",
       "<g>\n",
       "<symbol overflow=\"visible\" id=\"glyph0-0\">\n",
       "<path style=\"stroke:none;\" d=\"\"/>\n",
       "</symbol>\n",
       "<symbol overflow=\"visible\" id=\"glyph0-1\">\n",
       "<path style=\"stroke:none;\" d=\"M 1.96875 2.546875 L 1.96875 -8.75 L 1.15625 -8.75 L 1.15625 2.546875 Z \"/>\n",
       "</symbol>\n",
       "<symbol overflow=\"visible\" id=\"glyph0-2\">\n",
       "<path style=\"stroke:none;\" d=\"M 7.453125 -2.40625 C 7.453125 -3.484375 6.78125 -4.265625 5.59375 -4.59375 L 3.390625 -5.1875 C 2.34375 -5.453125 1.953125 -5.8125 1.953125 -6.484375 C 1.953125 -7.375 2.734375 -8.03125 3.90625 -8.03125 C 5.296875 -8.03125 6.09375 -7.390625 6.09375 -6.25 L 7.15625 -6.25 C 7.15625 -7.96875 5.96875 -8.96875 3.953125 -8.96875 C 2.03125 -8.96875 0.84375 -7.90625 0.84375 -6.328125 C 0.84375 -5.25 1.40625 -4.578125 2.5625 -4.28125 L 4.734375 -3.703125 C 5.828125 -3.421875 6.34375 -2.96875 6.34375 -2.296875 C 6.34375 -1.328125 5.609375 -0.765625 4.109375 -0.765625 C 2.453125 -0.765625 1.625 -1.59375 1.625 -2.84375 L 0.578125 -2.84375 C 0.578125 -0.78125 1.96875 0.21875 4.03125 0.21875 C 6.25 0.21875 7.453125 -0.84375 7.453125 -2.40625 Z \"/>\n",
       "</symbol>\n",
       "<symbol overflow=\"visible\" id=\"glyph0-3\">\n",
       "<path style=\"stroke:none;\" d=\"M 6.15625 -2.859375 C 6.15625 -3.765625 6.078125 -4.34375 5.90625 -4.8125 C 5.5 -5.84375 4.53125 -6.46875 3.359375 -6.46875 C 1.609375 -6.46875 0.484375 -5.171875 0.484375 -3.109375 C 0.484375 -1.046875 1.578125 0.1875 3.34375 0.1875 C 4.78125 0.1875 5.765625 -0.640625 6.03125 -1.90625 L 5.015625 -1.90625 C 4.734375 -1.078125 4.171875 -0.75 3.375 -0.75 C 2.328125 -0.75 1.546875 -1.421875 1.53125 -2.859375 Z M 5.09375 -3.75 C 5.09375 -3.75 5.09375 -3.703125 5.078125 -3.671875 L 1.546875 -3.671875 C 1.625 -4.78125 2.34375 -5.546875 3.34375 -5.546875 C 4.328125 -5.546875 5.09375 -4.734375 5.09375 -3.75 Z \"/>\n",
       "</symbol>\n",
       "<symbol overflow=\"visible\" id=\"glyph0-4\">\n",
       "<path style=\"stroke:none;\" d=\"M 5.671875 0 L 3.5 -3.25 L 5.609375 -6.28125 L 4.484375 -6.28125 L 2.96875 -4.015625 L 1.46875 -6.28125 L 0.328125 -6.28125 L 2.421875 -3.203125 L 0.203125 0 L 1.34375 0 L 2.9375 -2.40625 L 4.515625 0 Z \"/>\n",
       "</symbol>\n",
       "<symbol overflow=\"visible\" id=\"glyph0-5\">\n",
       "<path style=\"stroke:none;\" d=\"M 6.1875 -3.6875 L 6.1875 -4.5 L 0.8125 -4.5 L 0.8125 -3.6875 Z M 6.1875 -1.5 L 6.1875 -2.3125 L 0.8125 -2.3125 L 0.8125 -1.5 Z \"/>\n",
       "</symbol>\n",
       "<symbol overflow=\"visible\" id=\"glyph0-6\">\n",
       "<path style=\"stroke:none;\" d=\"M 6.28125 -3.21875 C 6.28125 -5.25 5.25 -6.46875 3.59375 -6.46875 C 2.71875 -6.46875 2.109375 -6.140625 1.640625 -5.4375 L 1.640625 -8.75 L 0.640625 -8.75 L 0.640625 0 L 1.546875 0 L 1.546875 -0.90625 C 2.03125 -0.171875 2.65625 0.1875 3.546875 0.1875 C 5.203125 0.1875 6.28125 -1.171875 6.28125 -3.21875 Z M 5.234375 -3.15625 C 5.234375 -1.734375 4.484375 -0.75 3.390625 -0.75 C 2.34375 -0.75 1.640625 -1.71875 1.640625 -3.140625 C 1.640625 -4.625 2.34375 -5.578125 3.390625 -5.53125 C 4.515625 -5.53125 5.234375 -4.5625 5.234375 -3.15625 Z \"/>\n",
       "</symbol>\n",
       "<symbol overflow=\"visible\" id=\"glyph0-7\">\n",
       "<path style=\"stroke:none;\" d=\"M 7.84375 0 L 4.765625 -8.75 L 3.328125 -8.75 L 0.203125 0 L 1.390625 0 L 2.3125 -2.625 L 5.6875 -2.625 L 6.59375 0 Z M 5.375 -3.5625 L 2.59375 -3.5625 L 4.03125 -7.546875 Z \"/>\n",
       "</symbol>\n",
       "<symbol overflow=\"visible\" id=\"glyph0-8\">\n",
       "<path style=\"stroke:none;\" d=\"M 5.875 -1.03125 L 5.875 -6.28125 L 4.9375 -6.28125 L 4.9375 -5.375 C 4.4375 -6.125 3.828125 -6.46875 3.03125 -6.46875 C 1.421875 -6.46875 0.34375 -5.125 0.34375 -3.078125 C 0.34375 -1.109375 1.46875 0.1875 2.9375 0.1875 C 3.734375 0.1875 4.28125 -0.15625 4.9375 -0.953125 L 4.9375 -0.53125 C 4.9375 1.140625 4.265625 1.78125 3.09375 1.78125 C 2.296875 1.78125 1.6875 1.484375 1.578125 0.71875 L 0.546875 0.71875 C 0.65625 1.90625 1.578125 2.609375 3.0625 2.609375 C 5.03125 2.609375 5.875 1.734375 5.875 -1.03125 Z M 4.84375 -3.109375 C 4.84375 -1.609375 4.203125 -0.75 3.140625 -0.75 C 2.046875 -0.75 1.390625 -1.625 1.390625 -3.140625 C 1.390625 -4.65625 2.0625 -5.546875 3.125 -5.546875 C 4.21875 -5.546875 4.84375 -4.625 4.84375 -3.109375 Z \"/>\n",
       "</symbol>\n",
       "<symbol overflow=\"visible\" id=\"glyph0-9\">\n",
       "<path style=\"stroke:none;\" d=\"M 5.375 -2.6875 L 5.375 -3.3125 L 1.375 -6.828125 L 1.375 -5.75 L 4.484375 -3 L 1.375 -0.25 L 1.375 0.828125 Z \"/>\n",
       "</symbol>\n",
       "<symbol overflow=\"visible\" id=\"glyph0-10\">\n",
       "<path style=\"stroke:none;\" d=\"M 6.15625 -2.640625 C 6.15625 -4.21875 5.078125 -5.296875 3.546875 -5.296875 C 2.71875 -5.296875 2.046875 -4.96875 1.59375 -4.34375 C 1.609375 -6.421875 2.28125 -7.578125 3.484375 -7.578125 C 4.234375 -7.578125 4.75 -7.109375 4.921875 -6.28125 L 5.96875 -6.28125 C 5.765625 -7.6875 4.859375 -8.515625 3.5625 -8.515625 C 1.578125 -8.515625 0.515625 -6.84375 0.515625 -3.875 C 0.515625 -1.21875 1.421875 0.1875 3.375 0.1875 C 4.984375 0.1875 6.15625 -0.96875 6.15625 -2.640625 Z M 5.078125 -2.5625 C 5.078125 -1.484375 4.359375 -0.75 3.390625 -0.75 C 2.40625 -0.75 1.65625 -1.53125 1.65625 -2.609375 C 1.65625 -3.671875 2.375 -4.359375 3.421875 -4.359375 C 4.4375 -4.359375 5.078125 -3.703125 5.078125 -2.5625 Z \"/>\n",
       "</symbol>\n",
       "<symbol overflow=\"visible\" id=\"glyph0-11\">\n",
       "<path style=\"stroke:none;\" d=\"M 2.296875 0 L 2.296875 -1.25 L 1.046875 -1.25 L 1.046875 0 Z \"/>\n",
       "</symbol>\n",
       "<symbol overflow=\"visible\" id=\"glyph0-12\">\n",
       "<path style=\"stroke:none;\" d=\"M 6.15625 -2.8125 C 6.15625 -4.5 5.046875 -5.609375 3.40625 -5.609375 C 2.8125 -5.609375 2.328125 -5.453125 1.84375 -5.09375 L 2.171875 -7.28125 L 5.71875 -7.28125 L 5.71875 -8.328125 L 1.3125 -8.328125 L 0.6875 -3.875 L 1.65625 -3.875 C 2.140625 -4.46875 2.5625 -4.671875 3.21875 -4.671875 C 4.359375 -4.671875 5.078125 -3.9375 5.078125 -2.671875 C 5.078125 -1.453125 4.375 -0.75 3.21875 -0.75 C 2.296875 -0.75 1.734375 -1.21875 1.46875 -2.1875 L 0.421875 -2.1875 C 0.765625 -0.484375 1.734375 0.1875 3.234375 0.1875 C 4.953125 0.1875 6.15625 -1.015625 6.15625 -2.8125 Z \"/>\n",
       "</symbol>\n",
       "<symbol overflow=\"visible\" id=\"glyph0-13\">\n",
       "<path style=\"stroke:none;\" d=\"M 1.84375 0 L 1.84375 -6.28125 L 0.84375 -6.28125 L 0.84375 0 Z M 1.96875 -7.234375 L 1.96875 -8.484375 L 0.71875 -8.484375 L 0.71875 -7.234375 Z \"/>\n",
       "</symbol>\n",
       "<symbol overflow=\"visible\" id=\"glyph0-14\">\n",
       "<path style=\"stroke:none;\" d=\"M 6.28125 -3.078125 C 6.28125 -5.203125 5.25 -6.46875 3.578125 -6.46875 C 2.71875 -6.46875 2.046875 -6.078125 1.578125 -5.34375 L 1.578125 -6.28125 L 0.65625 -6.28125 L 0.65625 2.609375 L 1.65625 2.609375 L 1.65625 -0.75 C 2.1875 -0.109375 2.765625 0.1875 3.59375 0.1875 C 5.203125 0.1875 6.28125 -1.078125 6.28125 -3.078125 Z M 5.234375 -3.109375 C 5.234375 -1.6875 4.5 -0.75 3.40625 -0.75 C 2.359375 -0.75 1.65625 -1.625 1.65625 -3.09375 C 1.65625 -4.578125 2.359375 -5.53125 3.40625 -5.53125 C 4.515625 -5.53125 5.234375 -4.609375 5.234375 -3.109375 Z \"/>\n",
       "</symbol>\n",
       "<symbol overflow=\"visible\" id=\"glyph0-15\">\n",
       "<path style=\"stroke:none;\" d=\"M 6.125 -6.015625 C 6.125 -7.453125 5.015625 -8.515625 3.40625 -8.515625 C 1.671875 -8.515625 0.65625 -7.625 0.59375 -5.5625 L 1.65625 -5.5625 C 1.734375 -6.984375 2.328125 -7.578125 3.375 -7.578125 C 4.328125 -7.578125 5.046875 -6.90625 5.046875 -5.984375 C 5.046875 -5.3125 4.65625 -4.734375 3.90625 -4.3125 L 2.796875 -3.6875 C 1.015625 -2.671875 0.5 -1.875 0.40625 0 L 6.078125 0 L 6.078125 -1.046875 L 1.59375 -1.046875 C 1.703125 -1.734375 2.09375 -2.1875 3.125 -2.796875 L 4.328125 -3.4375 C 5.515625 -4.078125 6.125 -4.96875 6.125 -6.015625 Z \"/>\n",
       "</symbol>\n",
       "<symbol overflow=\"visible\" id=\"glyph0-16\">\n",
       "<path style=\"stroke:none;\" d=\"M 7.40625 -6.1875 C 7.40625 -7.828125 6.4375 -8.75 4.703125 -8.75 L 1.09375 -8.75 L 1.09375 0 L 2.203125 0 L 2.203125 -3.703125 L 4.953125 -3.703125 C 6.390625 -3.703125 7.40625 -4.734375 7.40625 -6.1875 Z M 6.234375 -6.234375 C 6.234375 -5.265625 5.609375 -4.6875 4.53125 -4.6875 L 2.203125 -4.6875 L 2.203125 -7.765625 L 4.53125 -7.765625 C 5.609375 -7.765625 6.234375 -7.1875 6.234375 -6.234375 Z \"/>\n",
       "</symbol>\n",
       "<symbol overflow=\"visible\" id=\"glyph0-17\">\n",
       "<path style=\"stroke:none;\" d=\"M 5.71875 -2.15625 L 4.71875 -2.15625 C 4.546875 -1.15625 4.03125 -0.75 3.1875 -0.75 C 2.078125 -0.75 1.421875 -1.59375 1.421875 -3.078125 C 1.421875 -4.65625 2.0625 -5.546875 3.15625 -5.546875 C 4 -5.546875 4.53125 -5.046875 4.640625 -4.171875 L 5.65625 -4.171875 C 5.53125 -5.71875 4.578125 -6.46875 3.171875 -6.46875 C 1.46875 -6.46875 0.375 -5.171875 0.375 -3.078125 C 0.375 -1.0625 1.453125 0.1875 3.15625 0.1875 C 4.65625 0.1875 5.609375 -0.71875 5.71875 -2.15625 Z \"/>\n",
       "</symbol>\n",
       "<symbol overflow=\"visible\" id=\"glyph0-18\">\n",
       "<path style=\"stroke:none;\" d=\"M 1.8125 0 L 1.8125 -8.75 L 0.8125 -8.75 L 0.8125 0 Z \"/>\n",
       "</symbol>\n",
       "<symbol overflow=\"visible\" id=\"glyph0-19\">\n",
       "<path style=\"stroke:none;\" d=\"M 6.421875 -0.03125 L 6.421875 -0.78125 C 6.3125 -0.75 6.265625 -0.75 6.203125 -0.75 C 5.859375 -0.75 5.65625 -0.9375 5.65625 -1.25 L 5.65625 -4.75 C 5.65625 -5.875 4.84375 -6.46875 3.296875 -6.46875 C 1.78125 -6.46875 0.84375 -5.875 0.78125 -4.421875 L 1.78125 -4.421875 C 1.875 -5.203125 2.328125 -5.546875 3.265625 -5.546875 C 4.15625 -5.546875 4.671875 -5.203125 4.671875 -4.609375 L 4.671875 -4.34375 C 4.671875 -3.921875 4.421875 -3.75 3.625 -3.640625 C 2.203125 -3.46875 1.984375 -3.421875 1.609375 -3.265625 C 0.875 -2.96875 0.5 -2.40625 0.5 -1.625 C 0.5 -0.484375 1.296875 0.1875 2.5625 0.1875 C 3.375 0.1875 4.15625 -0.15625 4.703125 -0.75 C 4.8125 -0.265625 5.25 0.078125 5.734375 0.078125 C 5.9375 0.078125 6.09375 0.0625 6.421875 -0.03125 Z M 4.671875 -2.171875 C 4.671875 -1.265625 3.75 -0.703125 2.78125 -0.703125 C 2 -0.703125 1.546875 -0.96875 1.546875 -1.65625 C 1.546875 -2.3125 1.984375 -2.609375 3.0625 -2.765625 C 4.109375 -2.90625 4.328125 -2.953125 4.671875 -3.109375 Z \"/>\n",
       "</symbol>\n",
       "<symbol overflow=\"visible\" id=\"glyph0-20\">\n",
       "<path style=\"stroke:none;\" d=\"M 5.515625 -1.765625 C 5.515625 -2.703125 4.984375 -3.171875 3.734375 -3.46875 L 2.765625 -3.703125 C 1.953125 -3.890625 1.609375 -4.15625 1.609375 -4.59375 C 1.609375 -5.171875 2.125 -5.546875 2.9375 -5.546875 C 3.75 -5.546875 4.171875 -5.203125 4.203125 -4.53125 L 5.25 -4.53125 C 5.25 -5.765625 4.421875 -6.46875 2.96875 -6.46875 C 1.515625 -6.46875 0.5625 -5.71875 0.5625 -4.546875 C 0.5625 -3.5625 1.0625 -3.09375 2.5625 -2.734375 L 3.484375 -2.515625 C 4.1875 -2.34375 4.46875 -2.140625 4.46875 -1.6875 C 4.46875 -1.09375 3.875 -0.75 3 -0.75 C 2.09375 -0.75 1.59375 -0.953125 1.46875 -1.921875 L 0.40625 -1.921875 C 0.453125 -0.46875 1.265625 0.1875 2.921875 0.1875 C 4.5 0.1875 5.515625 -0.546875 5.515625 -1.765625 Z \"/>\n",
       "</symbol>\n",
       "<symbol overflow=\"visible\" id=\"glyph0-21\">\n",
       "<path style=\"stroke:none;\" d=\"M 6.953125 -7.765625 L 6.953125 -8.75 L 1.078125 -8.75 L 1.078125 0 L 2.203125 0 L 2.203125 -3.984375 L 6.375 -3.984375 L 6.375 -4.96875 L 2.203125 -4.96875 L 2.203125 -7.765625 Z \"/>\n",
       "</symbol>\n",
       "<symbol overflow=\"visible\" id=\"glyph0-22\">\n",
       "<path style=\"stroke:none;\" d=\"M 3.859375 -5.40625 L 3.859375 -6.4375 C 3.6875 -6.453125 3.59375 -6.46875 3.46875 -6.46875 C 2.8125 -6.46875 2.328125 -6.078125 1.75 -5.140625 L 1.75 -6.28125 L 0.84375 -6.28125 L 0.84375 0 L 1.84375 0 L 1.84375 -3.265625 C 1.84375 -4.6875 2.296875 -5.390625 3.859375 -5.40625 Z \"/>\n",
       "</symbol>\n",
       "<symbol overflow=\"visible\" id=\"glyph0-23\">\n",
       "<path style=\"stroke:none;\" d=\"M 6.078125 -2.46875 C 6.078125 -3.5 5.65625 -4.109375 4.625 -4.453125 C 5.421875 -4.765625 5.8125 -5.3125 5.8125 -6.171875 C 5.8125 -7.625 4.84375 -8.515625 3.234375 -8.515625 C 1.515625 -8.515625 0.59375 -7.578125 0.5625 -5.765625 L 1.625 -5.765625 C 1.640625 -7.015625 2.15625 -7.578125 3.234375 -7.578125 C 4.171875 -7.578125 4.734375 -7.03125 4.734375 -6.125 C 4.734375 -5.21875 4.34375 -4.84375 2.65625 -4.84375 L 2.65625 -3.953125 L 3.234375 -3.953125 C 4.390625 -3.953125 4.984375 -3.40625 4.984375 -2.453125 C 4.984375 -1.390625 4.328125 -0.75 3.234375 -0.75 C 2.078125 -0.75 1.515625 -1.328125 1.4375 -2.5625 L 0.390625 -2.5625 C 0.515625 -0.671875 1.453125 0.1875 3.1875 0.1875 C 4.9375 0.1875 6.078125 -0.859375 6.078125 -2.46875 Z \"/>\n",
       "</symbol>\n",
       "<symbol overflow=\"visible\" id=\"glyph0-24\">\n",
       "<path style=\"stroke:none;\" d=\"M 7.359375 0 L 7.359375 -0.984375 L 2.203125 -0.984375 L 2.203125 -3.984375 L 6.953125 -3.984375 L 6.953125 -4.96875 L 2.203125 -4.96875 L 2.203125 -7.765625 L 7.140625 -7.765625 L 7.140625 -8.75 L 1.078125 -8.75 L 1.078125 0 Z \"/>\n",
       "</symbol>\n",
       "<symbol overflow=\"visible\" id=\"glyph0-25\">\n",
       "<path style=\"stroke:none;\" d=\"M 9.125 0 L 9.125 -4.71875 C 9.125 -5.84375 8.5 -6.46875 7.3125 -6.46875 C 6.484375 -6.46875 5.96875 -6.21875 5.390625 -5.515625 C 5.015625 -6.1875 4.515625 -6.46875 3.703125 -6.46875 C 2.859375 -6.46875 2.296875 -6.15625 1.765625 -5.40625 L 1.765625 -6.28125 L 0.859375 -6.28125 L 0.859375 0 L 1.84375 0 L 1.84375 -3.953125 C 1.84375 -4.859375 2.515625 -5.59375 3.328125 -5.59375 C 4.0625 -5.59375 4.484375 -5.140625 4.484375 -4.328125 L 4.484375 0 L 5.484375 0 L 5.484375 -3.953125 C 5.484375 -4.859375 6.15625 -5.59375 6.96875 -5.59375 C 7.703125 -5.59375 8.125 -5.125 8.125 -4.328125 L 8.125 0 Z \"/>\n",
       "</symbol>\n",
       "<symbol overflow=\"visible\" id=\"glyph0-26\">\n",
       "<path style=\"stroke:none;\" d=\"M 6.03125 0 L 3.453125 -4.109375 L 5.640625 -6.28125 L 4.359375 -6.28125 L 1.6875 -3.625 L 1.6875 -8.75 L 0.703125 -8.75 L 0.703125 0 L 1.6875 0 L 1.6875 -2.453125 L 2.65625 -3.40625 L 4.78125 0 Z \"/>\n",
       "</symbol>\n",
       "<symbol overflow=\"visible\" id=\"glyph0-27\">\n",
       "<path style=\"stroke:none;\" d=\"M 5.9375 0 L 5.9375 -8.75 L 4.9375 -8.75 L 4.9375 -5.5 C 4.53125 -6.125 3.859375 -6.46875 3.015625 -6.46875 C 1.375 -6.46875 0.3125 -5.203125 0.3125 -3.203125 C 0.3125 -1.078125 1.359375 0.1875 3.046875 0.1875 C 3.90625 0.1875 4.515625 -0.140625 5.046875 -0.921875 L 5.046875 0 Z M 4.9375 -3.125 C 4.9375 -1.671875 4.25 -0.75 3.1875 -0.75 C 2.09375 -0.75 1.359375 -1.6875 1.359375 -3.140625 C 1.359375 -4.609375 2.09375 -5.53125 3.1875 -5.53125 C 4.265625 -5.53125 4.9375 -4.578125 4.9375 -3.125 Z \"/>\n",
       "</symbol>\n",
       "<symbol overflow=\"visible\" id=\"glyph0-28\">\n",
       "<path style=\"stroke:none;\" d=\"M 5.375 0.828125 L 5.375 -0.25 L 2.25 -3 L 5.375 -5.75 L 5.375 -6.828125 L 1.375 -3.3125 L 1.375 -2.6875 Z \"/>\n",
       "</symbol>\n",
       "<symbol overflow=\"visible\" id=\"glyph0-29\">\n",
       "<path style=\"stroke:none;\" d=\"\"/>\n",
       "</symbol>\n",
       "<symbol overflow=\"visible\" id=\"glyph0-30\">\n",
       "<path style=\"stroke:none;\" d=\"M 4.15625 0 L 4.15625 -8.515625 L 3.46875 -8.515625 C 3.09375 -7.203125 2.859375 -7.015625 1.21875 -6.8125 L 1.21875 -6.0625 L 3.109375 -6.0625 L 3.109375 0 Z \"/>\n",
       "</symbol>\n",
       "<symbol overflow=\"visible\" id=\"glyph0-31\">\n",
       "<path style=\"stroke:none;\" d=\"M 6.078125 -4.09375 C 6.078125 -7.046875 5.140625 -8.515625 3.296875 -8.515625 C 1.46875 -8.515625 0.515625 -7.015625 0.515625 -4.15625 C 0.515625 -1.296875 1.46875 0.1875 3.296875 0.1875 C 5.09375 0.1875 6.078125 -1.296875 6.078125 -4.09375 Z M 5 -4.1875 C 5 -1.78125 4.453125 -0.703125 3.28125 -0.703125 C 2.15625 -0.703125 1.59375 -1.828125 1.59375 -4.15625 C 1.59375 -6.484375 2.15625 -7.578125 3.296875 -7.578125 C 4.4375 -7.578125 5 -6.46875 5 -4.1875 Z \"/>\n",
       "</symbol>\n",
       "<symbol overflow=\"visible\" id=\"glyph0-32\">\n",
       "<path style=\"stroke:none;\" d=\"M 6.15625 -2.40625 C 6.15625 -3.34375 5.671875 -4.015625 4.6875 -4.46875 C 5.5625 -5 5.859375 -5.4375 5.859375 -6.234375 C 5.859375 -7.578125 4.8125 -8.515625 3.296875 -8.515625 C 1.796875 -8.515625 0.75 -7.578125 0.75 -6.234375 C 0.75 -5.453125 1.03125 -5.015625 1.890625 -4.46875 C 0.921875 -4.015625 0.4375 -3.34375 0.4375 -2.40625 C 0.4375 -0.859375 1.625 0.1875 3.296875 0.1875 C 4.984375 0.1875 6.15625 -0.859375 6.15625 -2.40625 Z M 4.78125 -6.21875 C 4.78125 -5.421875 4.1875 -4.890625 3.296875 -4.890625 C 2.40625 -4.890625 1.828125 -5.421875 1.828125 -6.234375 C 1.828125 -7.046875 2.40625 -7.578125 3.296875 -7.578125 C 4.203125 -7.578125 4.78125 -7.046875 4.78125 -6.21875 Z M 5.078125 -2.390625 C 5.078125 -1.375 4.359375 -0.75 3.28125 -0.75 C 2.25 -0.75 1.53125 -1.390625 1.53125 -2.390625 C 1.53125 -3.390625 2.25 -4.015625 3.296875 -4.015625 C 4.359375 -4.015625 5.078125 -3.390625 5.078125 -2.390625 Z \"/>\n",
       "</symbol>\n",
       "<symbol overflow=\"visible\" id=\"glyph0-33\">\n",
       "<path style=\"stroke:none;\" d=\"M 6.234375 -7.4375 L 6.234375 -8.328125 L 0.546875 -8.328125 L 0.546875 -7.28125 L 5.140625 -7.28125 C 3.453125 -5.140625 2.25 -2.65625 1.65625 0 L 2.78125 0 C 3.25 -2.75 4.453125 -5.3125 6.234375 -7.4375 Z \"/>\n",
       "</symbol>\n",
       "</g>\n",
       "</defs>\n",
       "<g id=\"surface53\">\n",
       "<rect x=\"0\" y=\"0\" width=\"504\" height=\"504\" style=\"fill:rgb(100%,100%,100%);fill-opacity:1;stroke:none;\"/>\n",
       "<g style=\"fill:rgb(0%,0%,0%);fill-opacity:1;\">\n",
       "  <use xlink:href=\"#glyph0-1\" x=\"239.648438\" y=\"75.577148\"/>\n",
       "</g>\n",
       "<path style=\"fill:none;stroke-width:0.75;stroke-linecap:round;stroke-linejoin:round;stroke:rgb(0%,0%,0%);stroke-opacity:1;stroke-miterlimit:10;\" d=\"M 110.398438 328.363281 L 110.398438 72.800781 L 372.898438 72.800781 L 372.898438 328.363281 \"/>\n",
       "<path style=\"fill:none;stroke-width:0.75;stroke-linecap:round;stroke-linejoin:round;stroke:rgb(0%,0%,0%);stroke-opacity:1;stroke-miterlimit:10;\" d=\"M 74.398438 343.832031 L 74.398438 328.363281 L 146.398438 328.363281 L 146.398438 343.832031 \"/>\n",
       "<path style=\"fill:none;stroke-width:0.75;stroke-linecap:round;stroke-linejoin:round;stroke:rgb(0%,0%,0%);stroke-opacity:1;stroke-miterlimit:10;\" d=\"M 122.398438 355.597656 L 122.398438 343.832031 L 170.398438 343.832031 L 170.398438 355.597656 \"/>\n",
       "<path style=\"fill:none;stroke-width:0.75;stroke-linecap:round;stroke-linejoin:round;stroke:rgb(0%,0%,0%);stroke-opacity:1;stroke-miterlimit:10;\" d=\"M 287.398438 343.832031 L 287.398438 328.363281 L 458.398438 328.363281 L 458.398438 343.832031 \"/>\n",
       "<path style=\"fill:none;stroke-width:0.75;stroke-linecap:round;stroke-linejoin:round;stroke:rgb(0%,0%,0%);stroke-opacity:1;stroke-miterlimit:10;\" d=\"M 218.398438 379.136719 L 218.398438 343.832031 L 356.398438 343.832031 L 356.398438 379.136719 \"/>\n",
       "<path style=\"fill:none;stroke-width:0.75;stroke-linecap:round;stroke-linejoin:round;stroke:rgb(0%,0%,0%);stroke-opacity:1;stroke-miterlimit:10;\" d=\"M 302.398438 394.605469 L 302.398438 379.136719 L 410.398438 379.136719 L 410.398438 394.605469 \"/>\n",
       "<path style=\"fill:none;stroke-width:0.75;stroke-linecap:round;stroke-linejoin:round;stroke:rgb(0%,0%,0%);stroke-opacity:1;stroke-miterlimit:10;\" d=\"M 266.398438 410.074219 L 266.398438 394.605469 L 338.398438 394.605469 L 338.398438 410.074219 \"/>\n",
       "<path style=\"fill:none;stroke-width:0.75;stroke-linecap:round;stroke-linejoin:round;stroke:rgb(0%,0%,0%);stroke-opacity:1;stroke-miterlimit:10;\" d=\"M 314.398438 416.800781 L 314.398438 410.074219 L 362.398438 410.074219 L 362.398438 416.800781 \"/>\n",
       "<g style=\"fill:rgb(0%,0%,0%);fill-opacity:1;\">\n",
       "  <use xlink:href=\"#glyph0-2\" x=\"224.148438\" y=\"69.37793\"/>\n",
       "  <use xlink:href=\"#glyph0-3\" x=\"232.152344\" y=\"69.37793\"/>\n",
       "  <use xlink:href=\"#glyph0-4\" x=\"238.824219\" y=\"69.37793\"/>\n",
       "  <use xlink:href=\"#glyph0-5\" x=\"244.824219\" y=\"69.37793\"/>\n",
       "  <use xlink:href=\"#glyph0-6\" x=\"251.832031\" y=\"69.37793\"/>\n",
       "</g>\n",
       "<g style=\"fill:rgb(0%,0%,0%);fill-opacity:1;\">\n",
       "  <use xlink:href=\"#glyph0-7\" x=\"83.898438\" y=\"323.936523\"/>\n",
       "  <use xlink:href=\"#glyph0-8\" x=\"91.902344\" y=\"323.936523\"/>\n",
       "  <use xlink:href=\"#glyph0-3\" x=\"98.574219\" y=\"323.936523\"/>\n",
       "  <use xlink:href=\"#glyph0-9\" x=\"105.246094\" y=\"323.936523\"/>\n",
       "  <use xlink:href=\"#glyph0-5\" x=\"112.253906\" y=\"323.936523\"/>\n",
       "  <use xlink:href=\"#glyph0-10\" x=\"119.261719\" y=\"323.936523\"/>\n",
       "  <use xlink:href=\"#glyph0-11\" x=\"125.933594\" y=\"323.936523\"/>\n",
       "  <use xlink:href=\"#glyph0-12\" x=\"129.269531\" y=\"323.936523\"/>\n",
       "</g>\n",
       "<g style=\"fill:rgb(0%,0%,0%);fill-opacity:1;\">\n",
       "  <use xlink:href=\"#glyph0-2\" x=\"114.898438\" y=\"339.405273\"/>\n",
       "  <use xlink:href=\"#glyph0-13\" x=\"122.902344\" y=\"339.405273\"/>\n",
       "  <use xlink:href=\"#glyph0-6\" x=\"125.566406\" y=\"339.405273\"/>\n",
       "  <use xlink:href=\"#glyph0-2\" x=\"132.238281\" y=\"339.405273\"/>\n",
       "  <use xlink:href=\"#glyph0-14\" x=\"140.242188\" y=\"339.405273\"/>\n",
       "  <use xlink:href=\"#glyph0-9\" x=\"146.914062\" y=\"339.405273\"/>\n",
       "  <use xlink:href=\"#glyph0-5\" x=\"153.921875\" y=\"339.405273\"/>\n",
       "  <use xlink:href=\"#glyph0-15\" x=\"160.929688\" y=\"339.405273\"/>\n",
       "  <use xlink:href=\"#glyph0-11\" x=\"167.601562\" y=\"339.405273\"/>\n",
       "  <use xlink:href=\"#glyph0-12\" x=\"170.9375\" y=\"339.405273\"/>\n",
       "</g>\n",
       "<g style=\"fill:rgb(0%,0%,0%);fill-opacity:1;\">\n",
       "  <use xlink:href=\"#glyph0-16\" x=\"339.398438\" y=\"324.936523\"/>\n",
       "  <use xlink:href=\"#glyph0-17\" x=\"347.402344\" y=\"324.936523\"/>\n",
       "  <use xlink:href=\"#glyph0-18\" x=\"353.402344\" y=\"324.936523\"/>\n",
       "  <use xlink:href=\"#glyph0-19\" x=\"356.066406\" y=\"324.936523\"/>\n",
       "  <use xlink:href=\"#glyph0-20\" x=\"362.738281\" y=\"324.936523\"/>\n",
       "  <use xlink:href=\"#glyph0-20\" x=\"368.738281\" y=\"324.936523\"/>\n",
       "  <use xlink:href=\"#glyph0-9\" x=\"374.738281\" y=\"324.936523\"/>\n",
       "  <use xlink:href=\"#glyph0-5\" x=\"381.746094\" y=\"324.936523\"/>\n",
       "  <use xlink:href=\"#glyph0-15\" x=\"388.753906\" y=\"324.936523\"/>\n",
       "  <use xlink:href=\"#glyph0-11\" x=\"395.425781\" y=\"324.936523\"/>\n",
       "  <use xlink:href=\"#glyph0-12\" x=\"398.761719\" y=\"324.936523\"/>\n",
       "</g>\n",
       "<g style=\"fill:rgb(0%,0%,0%);fill-opacity:1;\">\n",
       "  <use xlink:href=\"#glyph0-21\" x=\"252.898438\" y=\"340.405273\"/>\n",
       "  <use xlink:href=\"#glyph0-19\" x=\"260.230469\" y=\"340.405273\"/>\n",
       "  <use xlink:href=\"#glyph0-22\" x=\"266.902344\" y=\"340.405273\"/>\n",
       "  <use xlink:href=\"#glyph0-3\" x=\"270.898438\" y=\"340.405273\"/>\n",
       "  <use xlink:href=\"#glyph0-9\" x=\"277.570312\" y=\"340.405273\"/>\n",
       "  <use xlink:href=\"#glyph0-5\" x=\"284.578125\" y=\"340.405273\"/>\n",
       "  <use xlink:href=\"#glyph0-15\" x=\"291.585938\" y=\"340.405273\"/>\n",
       "  <use xlink:href=\"#glyph0-23\" x=\"298.257812\" y=\"340.405273\"/>\n",
       "  <use xlink:href=\"#glyph0-11\" x=\"304.929688\" y=\"340.405273\"/>\n",
       "  <use xlink:href=\"#glyph0-23\" x=\"308.265625\" y=\"340.405273\"/>\n",
       "  <use xlink:href=\"#glyph0-12\" x=\"314.9375\" y=\"340.405273\"/>\n",
       "</g>\n",
       "<g style=\"fill:rgb(0%,0%,0%);fill-opacity:1;\">\n",
       "  <use xlink:href=\"#glyph0-24\" x=\"321.898438\" y=\"375.713867\"/>\n",
       "  <use xlink:href=\"#glyph0-25\" x=\"329.902344\" y=\"375.713867\"/>\n",
       "  <use xlink:href=\"#glyph0-6\" x=\"339.898438\" y=\"375.713867\"/>\n",
       "  <use xlink:href=\"#glyph0-19\" x=\"346.570312\" y=\"375.713867\"/>\n",
       "  <use xlink:href=\"#glyph0-22\" x=\"353.242188\" y=\"375.713867\"/>\n",
       "  <use xlink:href=\"#glyph0-26\" x=\"357.238281\" y=\"375.713867\"/>\n",
       "  <use xlink:href=\"#glyph0-3\" x=\"363.238281\" y=\"375.713867\"/>\n",
       "  <use xlink:href=\"#glyph0-27\" x=\"369.910156\" y=\"375.713867\"/>\n",
       "  <use xlink:href=\"#glyph0-5\" x=\"376.582031\" y=\"375.713867\"/>\n",
       "  <use xlink:href=\"#glyph0-27\" x=\"383.589844\" y=\"375.713867\"/>\n",
       "</g>\n",
       "<g style=\"fill:rgb(0%,0%,0%);fill-opacity:1;\">\n",
       "  <use xlink:href=\"#glyph0-21\" x=\"269.398438\" y=\"391.182617\"/>\n",
       "  <use xlink:href=\"#glyph0-19\" x=\"276.730469\" y=\"391.182617\"/>\n",
       "  <use xlink:href=\"#glyph0-22\" x=\"283.402344\" y=\"391.182617\"/>\n",
       "  <use xlink:href=\"#glyph0-3\" x=\"287.398438\" y=\"391.182617\"/>\n",
       "  <use xlink:href=\"#glyph0-28\" x=\"294.070312\" y=\"391.182617\"/>\n",
       "  <use xlink:href=\"#glyph0-29\" x=\"301.078125\" y=\"391.182617\"/>\n",
       "  <use xlink:href=\"#glyph0-30\" x=\"304.414062\" y=\"391.182617\"/>\n",
       "  <use xlink:href=\"#glyph0-31\" x=\"311.085938\" y=\"391.182617\"/>\n",
       "  <use xlink:href=\"#glyph0-11\" x=\"317.757812\" y=\"391.182617\"/>\n",
       "  <use xlink:href=\"#glyph0-32\" x=\"321.09375\" y=\"391.182617\"/>\n",
       "  <use xlink:href=\"#glyph0-15\" x=\"327.765625\" y=\"391.182617\"/>\n",
       "</g>\n",
       "<g style=\"fill:rgb(0%,0%,0%);fill-opacity:1;\">\n",
       "  <use xlink:href=\"#glyph0-21\" x=\"306.898438\" y=\"406.651367\"/>\n",
       "  <use xlink:href=\"#glyph0-19\" x=\"314.230469\" y=\"406.651367\"/>\n",
       "  <use xlink:href=\"#glyph0-22\" x=\"320.902344\" y=\"406.651367\"/>\n",
       "  <use xlink:href=\"#glyph0-3\" x=\"324.898438\" y=\"406.651367\"/>\n",
       "  <use xlink:href=\"#glyph0-9\" x=\"331.570312\" y=\"406.651367\"/>\n",
       "  <use xlink:href=\"#glyph0-5\" x=\"338.578125\" y=\"406.651367\"/>\n",
       "  <use xlink:href=\"#glyph0-30\" x=\"345.585938\" y=\"406.651367\"/>\n",
       "  <use xlink:href=\"#glyph0-33\" x=\"352.257812\" y=\"406.651367\"/>\n",
       "  <use xlink:href=\"#glyph0-11\" x=\"358.929688\" y=\"406.651367\"/>\n",
       "  <use xlink:href=\"#glyph0-10\" x=\"362.265625\" y=\"406.651367\"/>\n",
       "</g>\n",
       "<g style=\"fill:rgb(0%,0%,0%);fill-opacity:1;\">\n",
       "  <use xlink:href=\"#glyph0-31\" x=\"70.898438\" y=\"354.807617\"/>\n",
       "</g>\n",
       "<g style=\"fill:rgb(0%,0%,0%);fill-opacity:1;\">\n",
       "  <use xlink:href=\"#glyph0-31\" x=\"118.898438\" y=\"366.577148\"/>\n",
       "</g>\n",
       "<g style=\"fill:rgb(0%,0%,0%);fill-opacity:1;\">\n",
       "  <use xlink:href=\"#glyph0-30\" x=\"166.898438\" y=\"367.077148\"/>\n",
       "</g>\n",
       "<g style=\"fill:rgb(0%,0%,0%);fill-opacity:1;\">\n",
       "  <use xlink:href=\"#glyph0-31\" x=\"214.898438\" y=\"390.116211\"/>\n",
       "</g>\n",
       "<g style=\"fill:rgb(0%,0%,0%);fill-opacity:1;\">\n",
       "  <use xlink:href=\"#glyph0-31\" x=\"262.898438\" y=\"421.049805\"/>\n",
       "</g>\n",
       "<g style=\"fill:rgb(0%,0%,0%);fill-opacity:1;\">\n",
       "  <use xlink:href=\"#glyph0-31\" x=\"310.898438\" y=\"427.776367\"/>\n",
       "</g>\n",
       "<g style=\"fill:rgb(0%,0%,0%);fill-opacity:1;\">\n",
       "  <use xlink:href=\"#glyph0-30\" x=\"358.898438\" y=\"428.276367\"/>\n",
       "</g>\n",
       "<g style=\"fill:rgb(0%,0%,0%);fill-opacity:1;\">\n",
       "  <use xlink:href=\"#glyph0-30\" x=\"406.898438\" y=\"406.081055\"/>\n",
       "</g>\n",
       "<g style=\"fill:rgb(0%,0%,0%);fill-opacity:1;\">\n",
       "  <use xlink:href=\"#glyph0-30\" x=\"454.898438\" y=\"355.307617\"/>\n",
       "</g>\n",
       "</g>\n",
       "</svg>\n"
      ],
      "text/plain": [
       "plot without title"
      ]
     },
     "metadata": {
      "image/svg+xml": {
       "isolated": true
      }
     },
     "output_type": "display_data"
    }
   ],
   "source": [
    "plot(decTree)\n",
    "text(decTree)"
   ]
  },
  {
   "cell_type": "markdown",
   "metadata": {},
   "source": [
    "That is ugly. But there are solutions: let's install the packages 'rattle', 'rpart-plot', and 'RColorBrewer' by\n",
    "```\n",
    "install.packages('rattle')\n",
    "install.packages('rpart.plot')\n",
    "install.packages('RColorBrewer')\n",
    "```"
   ]
  },
  {
   "cell_type": "markdown",
   "metadata": {},
   "source": [
    "Again an issue installing `rattle` from inside R. \n",
    "Seems to work by installing\n",
    "```\n",
    "sudo apt-get install libgtk2.0-dev\n",
    "```\n",
    "Then, let's try to load the libraries."
   ]
  },
  {
   "cell_type": "code",
   "execution_count": 30,
   "metadata": {
    "collapsed": false
   },
   "outputs": [
    {
     "name": "stderr",
     "output_type": "stream",
     "text": [
      "Rattle: A free graphical interface for data mining with R.\n",
      "Version 4.1.0 Copyright (c) 2006-2015 Togaware Pty Ltd.\n",
      "Type 'rattle()' to shake, rattle, and roll your data.\n"
     ]
    }
   ],
   "source": [
    "library(rattle)\n",
    "library(rpart.plot)\n",
    "library(RColorBrewer)"
   ]
  },
  {
   "cell_type": "code",
   "execution_count": 31,
   "metadata": {
    "collapsed": false
   },
   "outputs": [
    {
     "data": {
      "image/png": "[encoded data removed]",
      "image/svg+xml": [
       "<?xml version=\"1.0\" encoding=\"UTF-8\"?>\n",
       "<svg xmlns=\"http://www.w3.org/2000/svg\" xmlns:xlink=\"http://www.w3.org/1999/xlink\" width=\"504pt\" height=\"504pt\" viewBox=\"0 0 504 504\" version=\"1.1\">\n",
       "<defs>\n",
       "<g>\n",
       "<symbol overflow=\"visible\" id=\"glyph0-0\">\n",
       "<path style=\"stroke:none;\" d=\"\"/>\n",
       "</symbol>\n",
       "<symbol overflow=\"visible\" id=\"glyph0-1\">\n",
       "<path style=\"stroke:none;\" d=\"M 6.578125 -2.28125 C 6.578125 -3.46875 5.96875 -4.03125 4.578125 -4.296875 L 3.390625 -4.53125 C 2.28125 -4.75 1.953125 -4.96875 1.953125 -5.515625 C 1.953125 -6.09375 2.46875 -6.453125 3.265625 -6.453125 C 4.25 -6.453125 4.859375 -6.03125 4.859375 -5.265625 L 6.3125 -5.265625 C 6.3125 -6.875 5.1875 -7.703125 3.328125 -7.703125 C 1.515625 -7.703125 0.46875 -6.84375 0.46875 -5.375 C 0.46875 -4.1875 1.0625 -3.640625 2.59375 -3.328125 L 3.65625 -3.125 C 4.703125 -2.921875 5.078125 -2.703125 5.078125 -2.09375 C 5.078125 -1.453125 4.5 -1.125 3.546875 -1.125 C 2.5 -1.125 1.84375 -1.5625 1.84375 -2.375 L 0.328125 -2.375 C 0.328125 -0.765625 1.53125 0.125 3.46875 0.125 C 5.421875 0.125 6.578125 -0.734375 6.578125 -2.28125 Z \"/>\n",
       "</symbol>\n",
       "<symbol overflow=\"visible\" id=\"glyph0-2\">\n",
       "<path style=\"stroke:none;\" d=\"M 5.453125 -2.59375 C 5.453125 -4.53125 4.484375 -5.703125 2.828125 -5.703125 C 1.21875 -5.703125 0.234375 -4.609375 0.234375 -2.734375 C 0.234375 -0.9375 1.203125 0.09375 2.796875 0.09375 C 4.046875 0.09375 5.078125 -0.484375 5.390625 -1.578125 L 3.953125 -1.578125 C 3.828125 -1.171875 3.375 -1.015625 2.84375 -1.015625 C 2.15625 -1.015625 1.71875 -1.328125 1.6875 -2.421875 L 5.4375 -2.421875 Z M 3.9375 -3.390625 L 1.703125 -3.390625 C 1.796875 -4.171875 2.15625 -4.59375 2.8125 -4.59375 C 3.421875 -4.59375 3.859375 -4.1875 3.9375 -3.390625 Z \"/>\n",
       "</symbol>\n",
       "<symbol overflow=\"visible\" id=\"glyph0-3\">\n",
       "<path style=\"stroke:none;\" d=\"M 5.5625 0 L 3.6875 -2.828125 L 5.515625 -5.609375 L 3.765625 -5.609375 L 2.875 -3.921875 L 1.953125 -5.609375 L 0.203125 -5.609375 L 2.03125 -2.828125 L 0.171875 0 L 1.90625 0 L 2.875 -1.75 L 3.8125 0 Z \"/>\n",
       "</symbol>\n",
       "<symbol overflow=\"visible\" id=\"glyph0-4\">\n",
       "<path style=\"stroke:none;\" d=\"\"/>\n",
       "</symbol>\n",
       "<symbol overflow=\"visible\" id=\"glyph0-5\">\n",
       "<path style=\"stroke:none;\" d=\"M 5.4375 -3.03125 L 5.4375 -4.0625 L 0.625 -4.0625 L 0.625 -3.03125 Z M 5.4375 -1.125 L 5.4375 -2.171875 L 0.625 -2.171875 L 0.625 -1.125 Z \"/>\n",
       "</symbol>\n",
       "<symbol overflow=\"visible\" id=\"glyph0-6\">\n",
       "<path style=\"stroke:none;\" d=\"M 8.5625 0 L 8.5625 -3.96875 C 8.5625 -5.0625 7.890625 -5.703125 6.78125 -5.703125 C 6.0625 -5.703125 5.5625 -5.453125 5.140625 -4.875 C 4.859375 -5.40625 4.296875 -5.703125 3.609375 -5.703125 C 2.96875 -5.703125 2.546875 -5.484375 2.0625 -4.921875 L 2.0625 -5.609375 L 0.625 -5.609375 L 0.625 0 L 2.078125 0 L 2.078125 -3.359375 C 2.078125 -4.046875 2.453125 -4.46875 3.078125 -4.46875 C 3.5625 -4.46875 3.859375 -4.1875 3.859375 -3.734375 L 3.859375 0 L 5.3125 0 L 5.3125 -3.359375 C 5.3125 -4.046875 5.6875 -4.46875 6.3125 -4.46875 C 6.8125 -4.46875 7.109375 -4.1875 7.109375 -3.734375 L 7.109375 0 Z \"/>\n",
       "</symbol>\n",
       "<symbol overflow=\"visible\" id=\"glyph0-7\">\n",
       "<path style=\"stroke:none;\" d=\"M 5.4375 0 L 5.4375 -0.171875 C 5.1875 -0.421875 5.109375 -0.578125 5.109375 -0.859375 L 5.109375 -3.984375 C 5.109375 -5.125 4.328125 -5.703125 2.8125 -5.703125 C 1.296875 -5.703125 0.515625 -5.0625 0.421875 -3.765625 L 1.8125 -3.765625 C 1.890625 -4.34375 2.125 -4.53125 2.84375 -4.53125 C 3.40625 -4.53125 3.6875 -4.34375 3.6875 -3.96875 C 3.6875 -3.375 3.25 -3.4375 2.53125 -3.3125 L 1.9375 -3.203125 C 0.828125 -3.015625 0.296875 -2.53125 0.296875 -1.515625 C 0.296875 -0.421875 1.0625 0.09375 2 0.09375 C 2.625 0.09375 3.1875 -0.171875 3.703125 -0.703125 C 3.703125 -0.421875 3.734375 -0.171875 3.859375 0 Z M 3.6875 -2.40625 C 3.6875 -1.5625 3.265625 -1.078125 2.53125 -1.078125 C 2.046875 -1.078125 1.75 -1.265625 1.75 -1.6875 C 1.75 -2.109375 1.96875 -2.265625 2.578125 -2.375 L 3.078125 -2.46875 C 3.453125 -2.546875 3.515625 -2.5625 3.6875 -2.65625 Z \"/>\n",
       "</symbol>\n",
       "<symbol overflow=\"visible\" id=\"glyph0-8\">\n",
       "<path style=\"stroke:none;\" d=\"M 2.15625 0 L 2.15625 -7.578125 L 0.703125 -7.578125 L 0.703125 0 Z \"/>\n",
       "</symbol>\n",
       "<symbol overflow=\"visible\" id=\"glyph0-9\">\n",
       "<path style=\"stroke:none;\" d=\"M 7.296875 0 L 4.6875 -7.578125 L 2.96875 -7.578125 L 0.265625 0 L 1.859375 0 L 2.375 -1.53125 L 5.203125 -1.53125 L 5.703125 0 Z M 4.78125 -2.828125 L 2.8125 -2.828125 L 3.796875 -5.78125 Z \"/>\n",
       "</symbol>\n",
       "<symbol overflow=\"visible\" id=\"glyph0-10\">\n",
       "<path style=\"stroke:none;\" d=\"M 5.625 0.1875 L 5.625 -5.609375 L 4.234375 -5.609375 L 4.234375 -4.75 C 3.796875 -5.40625 3.328125 -5.703125 2.6875 -5.703125 C 1.34375 -5.703125 0.359375 -4.484375 0.359375 -2.75 C 0.359375 -1 1.265625 0.09375 2.65625 0.09375 C 3.296875 0.09375 3.703125 -0.109375 4.234375 -0.640625 L 4.234375 0.1875 C 4.234375 0.859375 3.734375 1.328125 3 1.328125 C 2.453125 1.328125 2.09375 1.09375 1.96875 0.671875 L 0.46875 0.671875 C 0.484375 1.59375 1.40625 2.265625 2.953125 2.265625 C 4.640625 2.265625 5.625 1.5 5.625 0.1875 Z M 4.265625 -2.765625 C 4.265625 -1.75 3.734375 -1.125 2.96875 -1.125 C 2.28125 -1.125 1.8125 -1.75 1.8125 -2.765625 C 1.8125 -3.828125 2.28125 -4.484375 3 -4.484375 C 3.71875 -4.484375 4.265625 -3.796875 4.265625 -2.765625 Z \"/>\n",
       "</symbol>\n",
       "<symbol overflow=\"visible\" id=\"glyph0-11\">\n",
       "<path style=\"stroke:none;\" d=\"M 4.828125 -2.203125 L 4.828125 -3 L 0.921875 -6.28125 L 0.921875 -4.9375 L 3.671875 -2.59375 L 0.921875 -0.265625 L 0.921875 1.09375 Z \"/>\n",
       "</symbol>\n",
       "<symbol overflow=\"visible\" id=\"glyph0-12\">\n",
       "<path style=\"stroke:none;\" d=\"M 5.390625 -2.53125 C 5.390625 -3.953125 4.515625 -4.859375 3.25 -4.859375 C 2.65625 -4.859375 2.25 -4.671875 1.78125 -4.203125 C 1.84375 -5.6875 2.109375 -6.34375 3.015625 -6.34375 C 3.484375 -6.34375 3.734375 -6.15625 3.921875 -5.6875 L 5.265625 -5.6875 C 5.078125 -6.90625 4.265625 -7.515625 3.0625 -7.515625 C 1.28125 -7.515625 0.328125 -6.15625 0.328125 -3.5 C 0.328125 -2.234375 0.484375 -1.515625 0.859375 -0.921875 C 1.28125 -0.234375 2.0625 0.09375 2.9375 0.09375 C 4.390625 0.09375 5.390625 -0.9375 5.390625 -2.53125 Z M 4.015625 -2.4375 C 4.015625 -1.65625 3.53125 -1.15625 2.890625 -1.15625 C 2.21875 -1.15625 1.765625 -1.625 1.765625 -2.40625 C 1.765625 -3.21875 2.21875 -3.703125 2.90625 -3.703125 C 3.578125 -3.703125 4.015625 -3.25 4.015625 -2.4375 Z \"/>\n",
       "</symbol>\n",
       "<symbol overflow=\"visible\" id=\"glyph0-13\">\n",
       "<path style=\"stroke:none;\" d=\"M 2.21875 0 L 2.21875 -1.515625 L 0.671875 -1.515625 L 0.671875 0 Z \"/>\n",
       "</symbol>\n",
       "<symbol overflow=\"visible\" id=\"glyph0-14\">\n",
       "<path style=\"stroke:none;\" d=\"M 5.375 -2.5 C 5.375 -4.015625 4.4375 -4.984375 3.078125 -4.984375 C 2.59375 -4.984375 2.21875 -4.859375 1.796875 -4.53125 L 2.03125 -6.0625 L 5.078125 -6.0625 L 5.078125 -7.359375 L 1.140625 -7.359375 L 0.484375 -3.265625 L 1.796875 -3.265625 C 1.953125 -3.625 2.28125 -3.828125 2.734375 -3.828125 C 3.46875 -3.828125 3.921875 -3.359375 3.921875 -2.46875 C 3.921875 -1.609375 3.453125 -1.15625 2.734375 -1.15625 C 2.09375 -1.15625 1.71875 -1.46875 1.71875 -2.0625 L 0.28125 -2.0625 C 0.28125 -0.78125 1.28125 0.09375 2.71875 0.09375 C 4.296875 0.09375 5.375 -0.921875 5.375 -2.5 Z \"/>\n",
       "</symbol>\n",
       "<symbol overflow=\"visible\" id=\"glyph0-15\">\n",
       "<path style=\"stroke:none;\" d=\"M 2.15625 0 L 2.15625 -5.609375 L 0.703125 -5.609375 L 0.703125 0 Z M 2.171875 -6.28125 L 2.171875 -7.734375 L 0.71875 -7.734375 L 0.71875 -6.28125 Z \"/>\n",
       "</symbol>\n",
       "<symbol overflow=\"visible\" id=\"glyph0-16\">\n",
       "<path style=\"stroke:none;\" d=\"M 5.96875 -2.734375 C 5.96875 -4.328125 5.09375 -5.703125 3.609375 -5.703125 C 2.921875 -5.703125 2.421875 -5.4375 2.0625 -4.890625 L 2.0625 -7.578125 L 0.609375 -7.578125 L 0.609375 0 L 2.0625 0 L 2.0625 -0.640625 C 2.421875 -0.171875 2.90625 0.09375 3.609375 0.09375 C 4.953125 0.09375 5.96875 -1.03125 5.96875 -2.734375 Z M 4.515625 -2.796875 C 4.515625 -1.78125 4.015625 -1.125 3.296875 -1.125 C 2.5625 -1.125 2.0625 -1.75 2.0625 -2.828125 C 2.0625 -3.84375 2.5625 -4.484375 3.296875 -4.484375 C 4.015625 -4.484375 4.515625 -3.828125 4.515625 -2.796875 Z \"/>\n",
       "</symbol>\n",
       "<symbol overflow=\"visible\" id=\"glyph0-17\">\n",
       "<path style=\"stroke:none;\" d=\"M 5.96875 -2.8125 C 5.96875 -4.46875 5.078125 -5.703125 3.609375 -5.703125 C 2.90625 -5.703125 2.40625 -5.40625 2.0625 -4.78125 L 2.0625 -5.609375 L 0.609375 -5.609375 L 0.609375 2.265625 L 2.0625 2.265625 L 2.0625 -0.75 C 2.40625 -0.125 2.90625 0.09375 3.609375 0.09375 C 4.96875 0.09375 5.96875 -1.09375 5.96875 -2.8125 Z M 4.515625 -2.78125 C 4.515625 -1.765625 4 -1.125 3.28125 -1.125 C 2.5625 -1.125 2.0625 -1.75 2.0625 -2.8125 C 2.0625 -3.859375 2.5625 -4.484375 3.28125 -4.484375 C 4.015625 -4.484375 4.515625 -3.859375 4.515625 -2.78125 Z \"/>\n",
       "</symbol>\n",
       "<symbol overflow=\"visible\" id=\"glyph0-18\">\n",
       "<path style=\"stroke:none;\" d=\"M 5.34375 -5.1875 C 5.34375 -6.609375 4.375 -7.515625 2.828125 -7.515625 C 1.296875 -7.515625 0.40625 -6.625 0.40625 -5.0625 C 0.40625 -5 0.40625 -4.921875 0.421875 -4.796875 L 1.8125 -4.796875 L 1.8125 -5.046875 C 1.8125 -5.859375 2.1875 -6.34375 2.859375 -6.34375 C 3.5 -6.34375 3.890625 -5.890625 3.890625 -5.15625 C 3.890625 -4.34375 3.640625 -4.015625 2.015625 -2.875 C 0.765625 -2.015625 0.390625 -1.359375 0.3125 0 L 5.3125 0 L 5.3125 -1.296875 L 2.203125 -1.296875 C 2.390625 -1.6875 2.625 -1.90625 3.703125 -2.6875 C 4.984375 -3.625 5.34375 -4.1875 5.34375 -5.1875 Z \"/>\n",
       "</symbol>\n",
       "<symbol overflow=\"visible\" id=\"glyph0-19\">\n",
       "<path style=\"stroke:none;\" d=\"M 6.578125 -5.21875 C 6.578125 -6.75 5.71875 -7.578125 4.140625 -7.578125 L 0.796875 -7.578125 L 0.796875 0 L 2.34375 0 L 2.34375 -2.703125 L 4.296875 -2.703125 C 5.6875 -2.703125 6.578125 -3.6875 6.578125 -5.21875 Z M 5.015625 -5.140625 C 5.015625 -4.359375 4.640625 -4 3.796875 -4 L 2.34375 -4 L 2.34375 -6.28125 L 3.796875 -6.28125 C 4.640625 -6.28125 5.015625 -5.90625 5.015625 -5.140625 Z \"/>\n",
       "</symbol>\n",
       "<symbol overflow=\"visible\" id=\"glyph0-20\">\n",
       "<path style=\"stroke:none;\" d=\"M 5.421875 -1.9375 L 4.03125 -1.9375 C 3.84375 -1.359375 3.546875 -1.078125 3 -1.078125 C 2.25 -1.078125 1.8125 -1.671875 1.8125 -2.765625 C 1.8125 -3.796875 2.078125 -4.53125 3 -4.53125 C 3.578125 -4.53125 3.859375 -4.25 4.03125 -3.515625 L 5.421875 -3.515625 C 5.3125 -4.890625 4.40625 -5.703125 3 -5.703125 C 1.328125 -5.703125 0.359375 -4.671875 0.359375 -2.765625 C 0.359375 -0.921875 1.3125 0.09375 2.984375 0.09375 C 4.34375 0.09375 5.28125 -0.75 5.421875 -1.9375 Z \"/>\n",
       "</symbol>\n",
       "<symbol overflow=\"visible\" id=\"glyph0-21\">\n",
       "<path style=\"stroke:none;\" d=\"M 5.40625 -1.65625 L 5.40625 -1.734375 C 5.40625 -2.375 5.046875 -2.859375 4.296875 -3.078125 L 2.46875 -3.609375 C 2.0625 -3.71875 1.953125 -3.8125 1.953125 -4.046875 C 1.953125 -4.359375 2.28125 -4.5625 2.796875 -4.5625 C 3.484375 -4.5625 3.828125 -4.3125 3.84375 -3.796875 L 5.25 -3.796875 C 5.21875 -4.984375 4.3125 -5.703125 2.8125 -5.703125 C 1.375 -5.703125 0.5 -4.984375 0.5 -3.828125 C 0.5 -3.140625 0.6875 -2.78125 1.71875 -2.453125 L 3.453125 -1.90625 C 3.828125 -1.796875 3.953125 -1.6875 3.953125 -1.53125 C 3.953125 -1.1875 3.546875 -1.046875 2.875 -1.046875 C 2.203125 -1.046875 1.84375 -1.171875 1.71875 -1.78125 L 0.296875 -1.78125 C 0.34375 -0.546875 1.25 0.09375 2.953125 0.09375 C 4.53125 0.09375 5.40625 -0.53125 5.40625 -1.65625 Z \"/>\n",
       "</symbol>\n",
       "<symbol overflow=\"visible\" id=\"glyph0-22\">\n",
       "<path style=\"stroke:none;\" d=\"M 6.09375 -6.28125 L 6.09375 -7.578125 L 0.765625 -7.578125 L 0.765625 0 L 2.328125 0 L 2.328125 -3.265625 L 5.640625 -3.265625 L 5.640625 -4.5625 L 2.328125 -4.5625 L 2.328125 -6.28125 Z \"/>\n",
       "</symbol>\n",
       "<symbol overflow=\"visible\" id=\"glyph0-23\">\n",
       "<path style=\"stroke:none;\" d=\"M 3.84375 -4.21875 L 3.84375 -5.6875 C 3.765625 -5.703125 3.703125 -5.703125 3.671875 -5.703125 C 3 -5.703125 2.421875 -5.265625 2.109375 -4.515625 L 2.109375 -5.609375 L 0.65625 -5.609375 L 0.65625 0 L 2.109375 0 L 2.109375 -2.984375 C 2.109375 -3.828125 2.53125 -4.265625 3.390625 -4.265625 C 3.546875 -4.265625 3.640625 -4.25 3.84375 -4.21875 Z \"/>\n",
       "</symbol>\n",
       "<symbol overflow=\"visible\" id=\"glyph0-24\">\n",
       "<path style=\"stroke:none;\" d=\"M 5.359375 -2.265625 C 5.359375 -3.125 4.984375 -3.609375 4.15625 -4.015625 C 4.84375 -4.453125 5.125 -4.84375 5.125 -5.515625 C 5.125 -6.75 4.203125 -7.515625 2.78125 -7.515625 C 1.359375 -7.515625 0.390625 -6.78125 0.390625 -5.171875 L 0.390625 -5.046875 L 1.75 -5.046875 C 1.75 -5.96875 2.03125 -6.34375 2.75 -6.34375 C 3.328125 -6.34375 3.671875 -6 3.671875 -5.375 C 3.671875 -4.640625 3.234375 -4.34375 2.375 -4.34375 L 2.25 -4.34375 L 2.25 -3.359375 C 3.34375 -3.359375 3.90625 -3.0625 3.90625 -2.265625 C 3.90625 -1.625 3.453125 -1.15625 2.8125 -1.15625 C 2.125 -1.15625 1.71875 -1.546875 1.71875 -2.3125 L 0.296875 -2.3125 C 0.296875 -0.828125 1.28125 0.09375 2.78125 0.09375 C 4.359375 0.09375 5.359375 -0.828125 5.359375 -2.265625 Z \"/>\n",
       "</symbol>\n",
       "<symbol overflow=\"visible\" id=\"glyph0-25\">\n",
       "<path style=\"stroke:none;\" d=\"M 6.484375 0 L 6.484375 -1.296875 L 2.375 -1.296875 L 2.375 -3.265625 L 6 -3.265625 L 6 -4.5625 L 2.375 -4.5625 L 2.375 -6.28125 L 6.296875 -6.28125 L 6.296875 -7.578125 L 0.828125 -7.578125 L 0.828125 0 Z \"/>\n",
       "</symbol>\n",
       "<symbol overflow=\"visible\" id=\"glyph0-26\">\n",
       "<path style=\"stroke:none;\" d=\"M 5.6875 0 L 3.640625 -3.484375 L 5.5625 -5.609375 L 3.90625 -5.609375 L 2.0625 -3.421875 L 2.0625 -7.578125 L 0.609375 -7.578125 L 0.609375 0 L 2.0625 0 L 2.0625 -1.84375 L 2.65625 -2.46875 L 3.984375 0 Z \"/>\n",
       "</symbol>\n",
       "<symbol overflow=\"visible\" id=\"glyph0-27\">\n",
       "<path style=\"stroke:none;\" d=\"M 5.65625 0 L 5.65625 -7.578125 L 4.203125 -7.578125 L 4.203125 -4.890625 C 3.84375 -5.4375 3.359375 -5.703125 2.65625 -5.703125 C 1.3125 -5.703125 0.296875 -4.484375 0.296875 -2.796875 C 0.296875 -1.203125 1.171875 0.09375 2.65625 0.09375 C 3.359375 0.09375 3.84375 -0.171875 4.203125 -0.640625 L 4.203125 0 Z M 4.203125 -2.78125 C 4.203125 -1.75 3.703125 -1.125 2.984375 -1.125 C 2.25 -1.125 1.75 -1.765625 1.75 -2.796875 C 1.75 -3.828125 2.25 -4.484375 2.984375 -4.484375 C 3.71875 -4.484375 4.203125 -3.84375 4.203125 -2.78125 Z \"/>\n",
       "</symbol>\n",
       "<symbol overflow=\"visible\" id=\"glyph0-28\">\n",
       "<path style=\"stroke:none;\" d=\"M 4.828125 1.09375 L 4.828125 -0.265625 L 2.0625 -2.59375 L 4.828125 -4.9375 L 4.828125 -6.28125 L 0.921875 -3 L 0.921875 -2.203125 Z \"/>\n",
       "</symbol>\n",
       "<symbol overflow=\"visible\" id=\"glyph0-29\">\n",
       "<path style=\"stroke:none;\" d=\"M 3.921875 0 L 3.921875 -7.359375 L 2.96875 -7.359375 C 2.734375 -6.5 1.96875 -6.046875 0.703125 -6.046875 L 0.703125 -5.078125 L 2.46875 -5.078125 L 2.46875 0 Z \"/>\n",
       "</symbol>\n",
       "<symbol overflow=\"visible\" id=\"glyph0-30\">\n",
       "<path style=\"stroke:none;\" d=\"M 5.453125 -2.1875 C 5.453125 -3.0625 5.109375 -3.546875 4.25 -4.015625 C 4.90625 -4.359375 5.203125 -4.796875 5.203125 -5.53125 C 5.203125 -6.6875 4.203125 -7.515625 2.84375 -7.515625 C 1.46875 -7.515625 0.484375 -6.6875 0.484375 -5.515625 C 0.484375 -4.8125 0.765625 -4.359375 1.4375 -4.015625 C 0.578125 -3.546875 0.234375 -3.0625 0.234375 -2.1875 C 0.234375 -0.796875 1.296875 0.09375 2.84375 0.09375 C 4.390625 0.09375 5.453125 -0.796875 5.453125 -2.1875 Z M 3.953125 -5.375 C 3.953125 -4.828125 3.484375 -4.421875 2.859375 -4.421875 C 2.21875 -4.421875 1.75 -4.828125 1.75 -5.390625 C 1.75 -5.953125 2.203125 -6.34375 2.859375 -6.34375 C 3.515625 -6.34375 3.9375 -5.953125 3.953125 -5.375 Z M 4 -2.25 C 4 -1.546875 3.546875 -1.15625 2.84375 -1.15625 C 2.125 -1.15625 1.6875 -1.546875 1.6875 -2.28125 C 1.6875 -3.03125 2.140625 -3.421875 2.84375 -3.421875 C 3.546875 -3.421875 4 -3.03125 4 -2.25 Z \"/>\n",
       "</symbol>\n",
       "<symbol overflow=\"visible\" id=\"glyph1-0\">\n",
       "<path style=\"stroke:none;\" d=\"\"/>\n",
       "</symbol>\n",
       "<symbol overflow=\"visible\" id=\"glyph1-1\">\n",
       "<path style=\"stroke:none;\" d=\"M 4.484375 -4.359375 L 3.75 -4.359375 L 1.8125 -0.96875 L 1.4375 -4.359375 L 0.6875 -4.359375 L 1.25 0.03125 L 0.8125 0.703125 C 0.59375 1.0625 0.453125 1.140625 0.15625 1.140625 C 0.0625 1.140625 0.015625 1.125 -0.21875 1.109375 L -0.34375 1.734375 C -0.203125 1.796875 -0.09375 1.8125 0.0625 1.8125 C 0.640625 1.8125 1.078125 1.53125 1.4375 0.921875 Z \"/>\n",
       "</symbol>\n",
       "<symbol overflow=\"visible\" id=\"glyph1-2\">\n",
       "<path style=\"stroke:none;\" d=\"M 4.265625 -1.984375 L 4.296875 -2.09375 C 4.359375 -2.484375 4.40625 -2.828125 4.40625 -3.0625 C 4.40625 -3.859375 3.71875 -4.484375 2.8125 -4.484375 C 2.09375 -4.484375 1.390625 -4.140625 0.984375 -3.578125 C 0.59375 -3.0625 0.296875 -2.140625 0.296875 -1.46875 C 0.296875 -0.609375 0.9375 0.125 1.9375 0.125 C 2.9375 0.125 3.78125 -0.421875 4.046875 -1.328125 L 3.34375 -1.328125 C 3.0625 -0.8125 2.625 -0.515625 2.0625 -0.515625 C 1.40625 -0.515625 1.015625 -0.890625 1.015625 -1.59375 C 1.015625 -1.734375 1.015625 -1.828125 1.0625 -1.984375 Z M 3.65625 -2.578125 L 1.21875 -2.578125 C 1.421875 -3.3125 2.03125 -3.84375 2.703125 -3.84375 C 3.296875 -3.84375 3.671875 -3.4375 3.671875 -2.8125 C 3.671875 -2.734375 3.671875 -2.671875 3.65625 -2.578125 Z \"/>\n",
       "</symbol>\n",
       "<symbol overflow=\"visible\" id=\"glyph1-3\">\n",
       "<path style=\"stroke:none;\" d=\"M 3.703125 -1.5 C 3.703125 -2.015625 3.421875 -2.28125 2.6875 -2.453125 L 2.0625 -2.625 C 1.59375 -2.734375 1.359375 -2.90625 1.359375 -3.109375 C 1.359375 -3.546875 1.765625 -3.84375 2.40625 -3.84375 C 2.890625 -3.84375 3.171875 -3.65625 3.171875 -3.328125 C 3.171875 -3.265625 3.171875 -3.203125 3.15625 -3.140625 L 3.859375 -3.140625 C 3.90625 -3.3125 3.90625 -3.390625 3.90625 -3.5 C 3.90625 -4.078125 3.34375 -4.484375 2.546875 -4.484375 C 1.390625 -4.484375 0.625 -3.8125 0.625 -2.9375 C 0.625 -2.421875 0.921875 -2.171875 1.765625 -1.96875 L 2.390625 -1.796875 C 2.90625 -1.671875 2.96875 -1.484375 2.96875 -1.3125 C 2.96875 -0.84375 2.421875 -0.515625 1.78125 -0.515625 C 1.203125 -0.515625 0.875 -0.734375 0.875 -1.15625 C 0.875 -1.203125 0.890625 -1.28125 0.890625 -1.359375 L 0.15625 -1.359375 C 0.109375 -1.171875 0.109375 -1.078125 0.109375 -0.9375 C 0.109375 -0.28125 0.6875 0.125 1.65625 0.125 C 2.890625 0.125 3.703125 -0.515625 3.703125 -1.5 Z \"/>\n",
       "</symbol>\n",
       "<symbol overflow=\"visible\" id=\"glyph1-4\">\n",
       "<path style=\"stroke:none;\" d=\"M 4.328125 -3.125 C 4.34375 -3.234375 4.359375 -3.328125 4.359375 -3.4375 C 4.359375 -4.078125 3.921875 -4.484375 3.21875 -4.484375 C 2.59375 -4.484375 2.046875 -4.25 1.609375 -3.8125 L 1.71875 -4.359375 L 1.09375 -4.359375 L 0.171875 0 L 0.859375 0 L 1.375 -2.40625 C 1.5625 -3.3125 2.15625 -3.875 2.90625 -3.875 C 3.3125 -3.875 3.625 -3.59375 3.625 -3.203125 C 3.625 -3.15625 3.59375 -3.03125 3.578125 -2.90625 L 2.953125 0 L 3.65625 0 Z \"/>\n",
       "</symbol>\n",
       "<symbol overflow=\"visible\" id=\"glyph1-5\">\n",
       "<path style=\"stroke:none;\" d=\"M 4.375 -2.921875 C 4.375 -3.8125 3.78125 -4.484375 2.78125 -4.484375 C 1.21875 -4.484375 0.25 -3.046875 0.25 -1.390625 C 0.25 -0.46875 0.90625 0.125 1.84375 0.125 C 3.34375 0.125 4.375 -1.203125 4.375 -2.921875 Z M 3.640625 -2.765625 C 3.640625 -1.53125 2.9375 -0.515625 1.953125 -0.515625 C 1.359375 -0.515625 0.984375 -0.890625 0.984375 -1.5625 C 0.984375 -2.765625 1.6875 -3.84375 2.671875 -3.84375 C 3.28125 -3.84375 3.640625 -3.4375 3.640625 -2.765625 Z \"/>\n",
       "</symbol>\n",
       "<symbol overflow=\"visible\" id=\"glyph2-0\">\n",
       "<path style=\"stroke:none;\" d=\"\"/>\n",
       "</symbol>\n",
       "<symbol overflow=\"visible\" id=\"glyph2-1\">\n",
       "<path style=\"stroke:none;\" d=\"M 3.25 -5.15625 L 2.828125 -5.15625 C 2.4375 -4.359375 2.28125 -4.265625 1.25 -4.125 L 1.140625 -3.671875 L 2.296875 -3.671875 L 1.515625 0 L 2.15625 0 Z \"/>\n",
       "</symbol>\n",
       "<symbol overflow=\"visible\" id=\"glyph2-2\">\n",
       "<path style=\"stroke:none;\" d=\"M 4.140625 -3.90625 C 4.140625 -4.640625 3.625 -5.15625 2.75 -5.15625 C 1.625 -5.15625 0.984375 -4.59375 0.703125 -3.359375 L 1.34375 -3.359375 C 1.5625 -4.203125 1.96875 -4.59375 2.65625 -4.59375 C 3.171875 -4.59375 3.5 -4.28125 3.5 -3.8125 C 3.5 -3.34375 3.15625 -2.90625 2.546875 -2.609375 L 1.796875 -2.234375 C 0.53125 -1.5625 0.203125 -1.171875 -0.109375 0 L 3.3125 0 L 3.4375 -0.625 L 0.703125 -0.625 C 0.828125 -1 1.234375 -1.34375 1.890625 -1.671875 L 2.703125 -2.078125 C 3.671875 -2.578125 4.140625 -3.171875 4.140625 -3.90625 Z \"/>\n",
       "</symbol>\n",
       "<symbol overflow=\"visible\" id=\"glyph2-3\">\n",
       "<path style=\"stroke:none;\" d=\"M 3.796875 -1.796875 L 3.03125 -1.796875 L 3.734375 -5.15625 L 3.265625 -5.15625 L 0.234375 -1.90625 L 0.09375 -1.234375 L 2.265625 -1.234375 L 2 0 L 2.640625 0 L 2.90625 -1.234375 L 3.671875 -1.234375 Z M 2.390625 -1.796875 L 0.78125 -1.796875 L 2.859375 -4.046875 Z \"/>\n",
       "</symbol>\n",
       "<symbol overflow=\"visible\" id=\"glyph2-4\">\n",
       "<path style=\"stroke:none;\" d=\"M 3.75 -2.140625 C 3.75 -2.90625 3.21875 -3.390625 2.40625 -3.390625 C 2.0625 -3.390625 1.75 -3.296875 1.390625 -3.078125 L 1.875 -4.40625 L 4.046875 -4.40625 L 4.1875 -5.046875 L 1.5 -5.046875 L 0.53125 -2.34375 L 1.125 -2.34375 C 1.5625 -2.734375 1.78125 -2.828125 2.203125 -2.828125 C 2.78125 -2.828125 3.109375 -2.515625 3.109375 -1.953125 C 3.109375 -1.046875 2.53125 -0.453125 1.703125 -0.453125 C 1.140625 -0.453125 0.828125 -0.734375 0.796875 -1.328125 L 0.15625 -1.328125 L 0.15625 -1.15625 C 0.15625 -0.265625 0.796875 0.109375 1.625 0.109375 C 2.75 0.109375 3.75 -0.84375 3.75 -2.140625 Z \"/>\n",
       "</symbol>\n",
       "<symbol overflow=\"visible\" id=\"glyph2-5\">\n",
       "<path style=\"stroke:none;\" d=\"M 3.984375 -3.734375 C 3.984375 -4.625 3.5 -5.15625 2.671875 -5.15625 C 2.078125 -5.15625 1.5625 -4.859375 1.15625 -4.265625 C 0.703125 -3.59375 0.359375 -2.34375 0.359375 -1.296875 C 0.359375 -0.375 0.90625 0.109375 1.65625 0.109375 C 2.28125 0.109375 2.765625 -0.171875 3.1875 -0.78125 C 3.640625 -1.453125 3.984375 -2.703125 3.984375 -3.734375 Z M 3.34375 -3.65625 C 3.34375 -2.984375 3.109375 -1.9375 2.84375 -1.34375 C 2.546875 -0.71875 2.203125 -0.453125 1.734375 -0.453125 C 1.28125 -0.453125 1 -0.796875 1 -1.375 C 1 -2.0625 1.21875 -3.09375 1.5 -3.703125 C 1.765625 -4.296875 2.125 -4.59375 2.59375 -4.59375 C 3.0625 -4.59375 3.34375 -4.25 3.34375 -3.65625 Z \"/>\n",
       "</symbol>\n",
       "<symbol overflow=\"visible\" id=\"glyph2-6\">\n",
       "<path style=\"stroke:none;\" d=\"M 3.671875 -1.84375 C 3.671875 -2.25 3.515625 -2.484375 3.109375 -2.703125 C 3.734375 -3.046875 3.984375 -3.4375 3.984375 -4.09375 C 3.984375 -4.734375 3.46875 -5.15625 2.671875 -5.15625 C 1.6875 -5.15625 1.03125 -4.703125 0.71875 -3.484375 L 1.359375 -3.484375 C 1.546875 -4.28125 1.953125 -4.59375 2.578125 -4.59375 C 3.046875 -4.59375 3.34375 -4.359375 3.34375 -3.953125 C 3.34375 -3.296875 2.96875 -2.9375 2 -2.9375 L 1.875 -2.9375 L 1.75 -2.390625 C 1.90625 -2.40625 1.96875 -2.40625 2.078125 -2.40625 C 2.6875 -2.40625 3.03125 -2.15625 3.03125 -1.75 C 3.03125 -0.953125 2.484375 -0.453125 1.65625 -0.453125 C 1.140625 -0.453125 0.8125 -0.734375 0.8125 -1.171875 C 0.8125 -1.234375 0.8125 -1.34375 0.828125 -1.453125 L 0.84375 -1.5625 L 0.203125 -1.5625 C 0.171875 -1.34375 0.171875 -1.234375 0.171875 -1.109375 C 0.171875 -0.3125 0.65625 0.109375 1.5625 0.109375 C 2.84375 0.109375 3.671875 -0.78125 3.671875 -1.84375 Z \"/>\n",
       "</symbol>\n",
       "<symbol overflow=\"visible\" id=\"glyph2-7\">\n",
       "<path style=\"stroke:none;\" d=\"M 3.75 -1.96875 C 3.75 -2.71875 3.234375 -3.21875 2.453125 -3.21875 C 1.96875 -3.21875 1.5625 -3.015625 1.15625 -2.59375 C 1.359375 -3.828125 1.96875 -4.59375 2.703125 -4.59375 C 3.171875 -4.59375 3.421875 -4.28125 3.4375 -3.84375 C 3.4375 -3.84375 3.4375 -3.828125 3.421875 -3.8125 L 4.0625 -3.8125 C 4.078125 -3.890625 4.078125 -3.953125 4.078125 -4 C 4.078125 -4.703125 3.578125 -5.15625 2.796875 -5.15625 C 2.109375 -5.15625 1.53125 -4.78125 1.078125 -4.0625 C 0.65625 -3.40625 0.3125 -2.15625 0.3125 -1.25 C 0.3125 -0.40625 0.875 0.109375 1.734375 0.109375 C 2.796875 0.109375 3.75 -0.84375 3.75 -1.96875 Z M 3.109375 -1.859375 C 3.109375 -1.046875 2.546875 -0.453125 1.828125 -0.453125 C 1.328125 -0.453125 0.953125 -0.78125 0.953125 -1.296875 C 0.953125 -2.0625 1.546875 -2.65625 2.28125 -2.65625 C 2.78125 -2.65625 3.109375 -2.328125 3.109375 -1.859375 Z \"/>\n",
       "</symbol>\n",
       "<symbol overflow=\"visible\" id=\"glyph2-8\">\n",
       "<path style=\"stroke:none;\" d=\"M 4.359375 -4.453125 L 4.484375 -5.046875 L 1.03125 -5.046875 L 0.90625 -4.40625 L 3.6875 -4.40625 C 2.046875 -2.578125 1.28125 -1.53125 0.625 0 L 1.34375 0 C 1.828125 -1.375 3.125 -3.234375 4.359375 -4.453125 Z \"/>\n",
       "</symbol>\n",
       "<symbol overflow=\"visible\" id=\"glyph3-0\">\n",
       "<path style=\"stroke:none;\" d=\"\"/>\n",
       "</symbol>\n",
       "<symbol overflow=\"visible\" id=\"glyph3-1\">\n",
       "<path style=\"stroke:none;\" d=\"M 5.265625 -3.546875 C 5.265625 -6.09375 4.453125 -7.359375 2.859375 -7.359375 C 1.265625 -7.359375 0.453125 -6.078125 0.453125 -3.609375 C 0.453125 -1.125 1.28125 0.15625 2.859375 0.15625 C 4.421875 0.15625 5.265625 -1.125 5.265625 -3.546875 Z M 4.328125 -3.625 C 4.328125 -1.53125 3.859375 -0.609375 2.84375 -0.609375 C 1.875 -0.609375 1.375 -1.578125 1.375 -3.59375 C 1.375 -5.609375 1.875 -6.5625 2.859375 -6.5625 C 3.84375 -6.5625 4.328125 -5.59375 4.328125 -3.625 Z \"/>\n",
       "</symbol>\n",
       "<symbol overflow=\"visible\" id=\"glyph3-2\">\n",
       "<path style=\"stroke:none;\" d=\"M 1.984375 0 L 1.984375 -1.078125 L 0.90625 -1.078125 L 0.90625 0 Z \"/>\n",
       "</symbol>\n",
       "<symbol overflow=\"visible\" id=\"glyph3-3\">\n",
       "<path style=\"stroke:none;\" d=\"M 5.328125 -2.28125 C 5.328125 -3.65625 4.390625 -4.578125 3.078125 -4.578125 C 2.34375 -4.578125 1.78125 -4.296875 1.375 -3.765625 C 1.390625 -5.5625 1.96875 -6.5625 3.03125 -6.5625 C 3.671875 -6.5625 4.109375 -6.15625 4.265625 -5.4375 L 5.171875 -5.4375 C 5 -6.65625 4.203125 -7.359375 3.09375 -7.359375 C 1.375 -7.359375 0.453125 -5.921875 0.453125 -3.359375 C 0.453125 -1.0625 1.234375 0.15625 2.921875 0.15625 C 4.328125 0.15625 5.328125 -0.84375 5.328125 -2.28125 Z M 4.390625 -2.21875 C 4.390625 -1.28125 3.765625 -0.65625 2.9375 -0.65625 C 2.078125 -0.65625 1.4375 -1.3125 1.4375 -2.265625 C 1.4375 -3.171875 2.0625 -3.765625 2.96875 -3.765625 C 3.84375 -3.765625 4.390625 -3.203125 4.390625 -2.21875 Z \"/>\n",
       "</symbol>\n",
       "<symbol overflow=\"visible\" id=\"glyph3-4\">\n",
       "<path style=\"stroke:none;\" d=\"M 5.3125 -5.203125 C 5.3125 -6.453125 4.34375 -7.359375 2.953125 -7.359375 C 1.4375 -7.359375 0.578125 -6.59375 0.515625 -4.8125 L 1.4375 -4.8125 C 1.5 -6.046875 2.015625 -6.5625 2.921875 -6.5625 C 3.75 -6.5625 4.375 -5.96875 4.375 -5.1875 C 4.375 -4.609375 4.03125 -4.109375 3.375 -3.734375 L 2.421875 -3.1875 C 0.890625 -2.3125 0.4375 -1.625 0.359375 0 L 5.25 0 L 5.25 -0.90625 L 1.375 -0.90625 C 1.46875 -1.5 1.8125 -1.890625 2.71875 -2.421875 L 3.75 -2.984375 C 4.78125 -3.53125 5.3125 -4.296875 5.3125 -5.203125 Z \"/>\n",
       "</symbol>\n",
       "<symbol overflow=\"visible\" id=\"glyph3-5\">\n",
       "<path style=\"stroke:none;\" d=\"\"/>\n",
       "</symbol>\n",
       "<symbol overflow=\"visible\" id=\"glyph3-6\">\n",
       "<path style=\"stroke:none;\" d=\"M 5.25 -2.140625 C 5.25 -3.03125 4.890625 -3.546875 4.015625 -3.859375 C 4.703125 -4.125 5.046875 -4.609375 5.046875 -5.34375 C 5.046875 -6.609375 4.203125 -7.359375 2.796875 -7.359375 C 1.3125 -7.359375 0.515625 -6.5625 0.484375 -4.984375 L 1.40625 -4.984375 C 1.421875 -6.078125 1.875 -6.5625 2.8125 -6.5625 C 3.609375 -6.5625 4.109375 -6.09375 4.109375 -5.3125 C 4.109375 -4.515625 3.765625 -4.203125 2.296875 -4.203125 L 2.296875 -3.421875 L 2.796875 -3.421875 C 3.796875 -3.421875 4.328125 -2.953125 4.328125 -2.125 C 4.328125 -1.203125 3.75 -0.65625 2.796875 -0.65625 C 1.796875 -0.65625 1.3125 -1.15625 1.25 -2.21875 L 0.328125 -2.21875 C 0.453125 -0.578125 1.25 0.15625 2.765625 0.15625 C 4.28125 0.15625 5.25 -0.75 5.25 -2.140625 Z \"/>\n",
       "</symbol>\n",
       "<symbol overflow=\"visible\" id=\"glyph3-7\">\n",
       "<path style=\"stroke:none;\" d=\"M 5.328125 -2.078125 C 5.328125 -2.90625 4.921875 -3.46875 4.0625 -3.875 C 4.828125 -4.328125 5.078125 -4.703125 5.078125 -5.40625 C 5.078125 -6.5625 4.171875 -7.359375 2.859375 -7.359375 C 1.5625 -7.359375 0.640625 -6.5625 0.640625 -5.40625 C 0.640625 -4.71875 0.890625 -4.34375 1.640625 -3.875 C 0.796875 -3.46875 0.390625 -2.90625 0.390625 -2.09375 C 0.390625 -0.734375 1.40625 0.15625 2.859375 0.15625 C 4.3125 0.15625 5.328125 -0.734375 5.328125 -2.078125 Z M 4.140625 -5.375 C 4.140625 -4.703125 3.625 -4.234375 2.859375 -4.234375 C 2.09375 -4.234375 1.578125 -4.703125 1.578125 -5.390625 C 1.578125 -6.09375 2.09375 -6.5625 2.859375 -6.5625 C 3.640625 -6.5625 4.140625 -6.09375 4.140625 -5.375 Z M 4.390625 -2.0625 C 4.390625 -1.1875 3.765625 -0.65625 2.84375 -0.65625 C 1.9375 -0.65625 1.3125 -1.203125 1.3125 -2.0625 C 1.3125 -2.9375 1.9375 -3.46875 2.859375 -3.46875 C 3.765625 -3.46875 4.390625 -2.9375 4.390625 -2.0625 Z \"/>\n",
       "</symbol>\n",
       "<symbol overflow=\"visible\" id=\"glyph3-8\">\n",
       "<path style=\"stroke:none;\" d=\"M 3.609375 0 L 3.609375 -7.359375 L 3 -7.359375 C 2.6875 -6.234375 2.46875 -6.078125 1.0625 -5.90625 L 1.0625 -5.25 L 2.6875 -5.25 L 2.6875 0 Z \"/>\n",
       "</symbol>\n",
       "<symbol overflow=\"visible\" id=\"glyph3-9\">\n",
       "<path style=\"stroke:none;\" d=\"M 3.84375 -5.3125 C 3.84375 -6.328125 3.0625 -7.125 2.0625 -7.125 C 1.09375 -7.125 0.296875 -6.3125 0.296875 -5.34375 C 0.296875 -4.359375 1.09375 -3.5625 2.078125 -3.5625 C 3.046875 -3.5625 3.84375 -4.359375 3.84375 -5.3125 Z M 3.125 -5.328125 C 3.125 -4.765625 2.65625 -4.296875 2.078125 -4.296875 C 1.5 -4.296875 1.015625 -4.765625 1.015625 -5.34375 C 1.015625 -5.921875 1.5 -6.390625 2.0625 -6.390625 C 2.65625 -6.390625 3.125 -5.921875 3.125 -5.328125 Z M 7.015625 -7.359375 L 6.328125 -7.359375 L 2.21875 0.203125 L 2.90625 0.203125 Z M 8.921875 -1.5625 C 8.921875 -2.5625 8.140625 -3.34375 7.15625 -3.34375 C 6.1875 -3.34375 5.375 -2.546875 5.375 -1.578125 C 5.375 -0.609375 6.1875 0.203125 7.15625 0.203125 C 8.109375 0.203125 8.921875 -0.609375 8.921875 -1.5625 Z M 8.203125 -1.5625 C 8.203125 -1 7.734375 -0.53125 7.15625 -0.53125 C 6.578125 -0.53125 6.09375 -1 6.09375 -1.578125 C 6.09375 -2.15625 6.578125 -2.625 7.15625 -2.625 C 7.734375 -2.625 8.203125 -2.15625 8.203125 -1.5625 Z \"/>\n",
       "</symbol>\n",
       "<symbol overflow=\"visible\" id=\"glyph3-10\">\n",
       "<path style=\"stroke:none;\" d=\"M 5.28125 -3.859375 C 5.28125 -6.15625 4.484375 -7.359375 2.8125 -7.359375 C 1.40625 -7.359375 0.390625 -6.375 0.390625 -4.921875 C 0.390625 -3.546875 1.328125 -2.625 2.65625 -2.625 C 3.359375 -2.625 3.859375 -2.875 4.34375 -3.453125 C 4.328125 -1.65625 3.75 -0.65625 2.703125 -0.65625 C 2.0625 -0.65625 1.609375 -1.0625 1.46875 -1.765625 L 0.546875 -1.765625 C 0.734375 -0.5625 1.515625 0.15625 2.640625 0.15625 C 4.359375 0.15625 5.28125 -1.3125 5.28125 -3.859375 Z M 4.296875 -4.953125 C 4.296875 -4.046875 3.65625 -3.4375 2.765625 -3.4375 C 1.875 -3.4375 1.328125 -4.015625 1.328125 -5 C 1.328125 -5.9375 1.953125 -6.5625 2.796875 -6.5625 C 3.640625 -6.5625 4.296875 -5.90625 4.296875 -4.953125 Z \"/>\n",
       "</symbol>\n",
       "<symbol overflow=\"visible\" id=\"glyph3-11\">\n",
       "<path style=\"stroke:none;\" d=\"M 5.328125 -2.4375 C 5.328125 -3.890625 4.359375 -4.859375 2.953125 -4.859375 C 2.4375 -4.859375 2.015625 -4.71875 1.59375 -4.40625 L 1.875 -6.3125 L 4.953125 -6.3125 L 4.953125 -7.21875 L 1.140625 -7.21875 L 0.59375 -3.359375 L 1.4375 -3.359375 C 1.859375 -3.859375 2.21875 -4.046875 2.78125 -4.046875 C 3.765625 -4.046875 4.390625 -3.40625 4.390625 -2.3125 C 4.390625 -1.25 3.78125 -0.65625 2.78125 -0.65625 C 1.984375 -0.65625 1.5 -1.0625 1.28125 -1.890625 L 0.359375 -1.890625 C 0.671875 -0.421875 1.5 0.15625 2.8125 0.15625 C 4.296875 0.15625 5.328125 -0.890625 5.328125 -2.4375 Z \"/>\n",
       "</symbol>\n",
       "<symbol overflow=\"visible\" id=\"glyph3-12\">\n",
       "<path style=\"stroke:none;\" d=\"M 5.40625 -6.4375 L 5.40625 -7.21875 L 0.484375 -7.21875 L 0.484375 -6.3125 L 4.453125 -6.3125 C 3 -4.453125 1.953125 -2.3125 1.4375 0 L 2.40625 0 C 2.8125 -2.375 3.859375 -4.609375 5.40625 -6.4375 Z \"/>\n",
       "</symbol>\n",
       "<symbol overflow=\"visible\" id=\"glyph3-13\">\n",
       "<path style=\"stroke:none;\" d=\"M 5.40625 -1.765625 L 5.40625 -2.59375 L 4.3125 -2.59375 L 4.3125 -7.359375 L 3.640625 -7.359375 L 0.296875 -2.734375 L 0.296875 -1.765625 L 3.390625 -1.765625 L 3.390625 0 L 4.3125 0 L 4.3125 -1.765625 Z M 3.390625 -2.59375 L 1.09375 -2.59375 L 3.390625 -5.8125 Z \"/>\n",
       "</symbol>\n",
       "<symbol overflow=\"visible\" id=\"glyph4-0\">\n",
       "<path style=\"stroke:none;\" d=\"\"/>\n",
       "</symbol>\n",
       "<symbol overflow=\"visible\" id=\"glyph4-1\">\n",
       "<path style=\"stroke:none;\" d=\"M 8.140625 0 L 8.140625 -0.28125 C 7.734375 -0.5625 7.625 -0.875 7.625 -2.046875 C 7.59375 -3.484375 7.375 -3.90625 6.4375 -4.3125 C 7.421875 -4.796875 7.8125 -5.40625 7.8125 -6.40625 C 7.8125 -7.921875 6.859375 -8.75 5.140625 -8.75 L 1.109375 -8.75 L 1.109375 0 L 2.234375 0 L 2.234375 -3.765625 L 5.109375 -3.765625 C 6.09375 -3.765625 6.5625 -3.28125 6.546875 -2.203125 L 6.546875 -1.421875 C 6.53125 -0.890625 6.640625 -0.359375 6.796875 0 Z M 6.640625 -6.25 C 6.640625 -5.21875 6.125 -4.75 4.9375 -4.75 L 2.234375 -4.75 L 2.234375 -7.765625 L 4.9375 -7.765625 C 6.1875 -7.765625 6.640625 -7.234375 6.640625 -6.25 Z \"/>\n",
       "</symbol>\n",
       "<symbol overflow=\"visible\" id=\"glyph4-2\">\n",
       "<path style=\"stroke:none;\" d=\"M 6.421875 -0.03125 L 6.421875 -0.78125 C 6.3125 -0.75 6.265625 -0.75 6.203125 -0.75 C 5.859375 -0.75 5.65625 -0.9375 5.65625 -1.25 L 5.65625 -4.75 C 5.65625 -5.875 4.84375 -6.46875 3.296875 -6.46875 C 1.78125 -6.46875 0.84375 -5.875 0.78125 -4.421875 L 1.78125 -4.421875 C 1.875 -5.203125 2.328125 -5.546875 3.265625 -5.546875 C 4.15625 -5.546875 4.671875 -5.203125 4.671875 -4.609375 L 4.671875 -4.34375 C 4.671875 -3.921875 4.421875 -3.75 3.625 -3.640625 C 2.203125 -3.46875 1.984375 -3.421875 1.609375 -3.265625 C 0.875 -2.96875 0.5 -2.40625 0.5 -1.625 C 0.5 -0.484375 1.296875 0.1875 2.5625 0.1875 C 3.375 0.1875 4.15625 -0.15625 4.703125 -0.75 C 4.8125 -0.265625 5.25 0.078125 5.734375 0.078125 C 5.9375 0.078125 6.09375 0.0625 6.421875 -0.03125 Z M 4.671875 -2.171875 C 4.671875 -1.265625 3.75 -0.703125 2.78125 -0.703125 C 2 -0.703125 1.546875 -0.96875 1.546875 -1.65625 C 1.546875 -2.3125 1.984375 -2.609375 3.0625 -2.765625 C 4.109375 -2.90625 4.328125 -2.953125 4.671875 -3.109375 Z \"/>\n",
       "</symbol>\n",
       "<symbol overflow=\"visible\" id=\"glyph4-3\">\n",
       "<path style=\"stroke:none;\" d=\"M 3.046875 0 L 3.046875 -0.84375 C 2.921875 -0.796875 2.765625 -0.796875 2.5625 -0.796875 C 2.140625 -0.796875 2.015625 -0.90625 2.015625 -1.359375 L 2.015625 -5.46875 L 3.046875 -5.46875 L 3.046875 -6.28125 L 2.015625 -6.28125 L 2.015625 -8.015625 L 1.015625 -8.015625 L 1.015625 -6.28125 L 0.171875 -6.28125 L 0.171875 -5.46875 L 1.015625 -5.46875 L 1.015625 -0.90625 C 1.015625 -0.28125 1.453125 0.078125 2.234375 0.078125 C 2.46875 0.078125 2.71875 0.0625 3.046875 0 Z \"/>\n",
       "</symbol>\n",
       "<symbol overflow=\"visible\" id=\"glyph4-4\">\n",
       "<path style=\"stroke:none;\" d=\"M 1.8125 0 L 1.8125 -8.75 L 0.8125 -8.75 L 0.8125 0 Z \"/>\n",
       "</symbol>\n",
       "<symbol overflow=\"visible\" id=\"glyph4-5\">\n",
       "<path style=\"stroke:none;\" d=\"M 6.15625 -2.859375 C 6.15625 -3.765625 6.078125 -4.34375 5.90625 -4.8125 C 5.5 -5.84375 4.53125 -6.46875 3.359375 -6.46875 C 1.609375 -6.46875 0.484375 -5.171875 0.484375 -3.109375 C 0.484375 -1.046875 1.578125 0.1875 3.34375 0.1875 C 4.78125 0.1875 5.765625 -0.640625 6.03125 -1.90625 L 5.015625 -1.90625 C 4.734375 -1.078125 4.171875 -0.75 3.375 -0.75 C 2.328125 -0.75 1.546875 -1.421875 1.53125 -2.859375 Z M 5.09375 -3.75 C 5.09375 -3.75 5.09375 -3.703125 5.078125 -3.671875 L 1.546875 -3.671875 C 1.625 -4.78125 2.34375 -5.546875 3.34375 -5.546875 C 4.328125 -5.546875 5.09375 -4.734375 5.09375 -3.75 Z \"/>\n",
       "</symbol>\n",
       "<symbol overflow=\"visible\" id=\"glyph4-6\">\n",
       "<path style=\"stroke:none;\" d=\"\"/>\n",
       "</symbol>\n",
       "<symbol overflow=\"visible\" id=\"glyph4-7\">\n",
       "<path style=\"stroke:none;\" d=\"M 6.125 -6.015625 C 6.125 -7.453125 5.015625 -8.515625 3.40625 -8.515625 C 1.671875 -8.515625 0.65625 -7.625 0.59375 -5.5625 L 1.65625 -5.5625 C 1.734375 -6.984375 2.328125 -7.578125 3.375 -7.578125 C 4.328125 -7.578125 5.046875 -6.90625 5.046875 -5.984375 C 5.046875 -5.3125 4.65625 -4.734375 3.90625 -4.3125 L 2.796875 -3.6875 C 1.015625 -2.671875 0.5 -1.875 0.40625 0 L 6.078125 0 L 6.078125 -1.046875 L 1.59375 -1.046875 C 1.703125 -1.734375 2.09375 -2.1875 3.125 -2.796875 L 4.328125 -3.4375 C 5.515625 -4.078125 6.125 -4.96875 6.125 -6.015625 Z \"/>\n",
       "</symbol>\n",
       "<symbol overflow=\"visible\" id=\"glyph4-8\">\n",
       "<path style=\"stroke:none;\" d=\"M 6.078125 -4.09375 C 6.078125 -7.046875 5.140625 -8.515625 3.296875 -8.515625 C 1.46875 -8.515625 0.515625 -7.015625 0.515625 -4.15625 C 0.515625 -1.296875 1.46875 0.1875 3.296875 0.1875 C 5.09375 0.1875 6.078125 -1.296875 6.078125 -4.09375 Z M 5 -4.1875 C 5 -1.78125 4.453125 -0.703125 3.28125 -0.703125 C 2.15625 -0.703125 1.59375 -1.828125 1.59375 -4.15625 C 1.59375 -6.484375 2.15625 -7.578125 3.296875 -7.578125 C 4.4375 -7.578125 5 -6.46875 5 -4.1875 Z \"/>\n",
       "</symbol>\n",
       "<symbol overflow=\"visible\" id=\"glyph4-9\">\n",
       "<path style=\"stroke:none;\" d=\"M 4.15625 0 L 4.15625 -8.515625 L 3.46875 -8.515625 C 3.09375 -7.203125 2.859375 -7.015625 1.21875 -6.8125 L 1.21875 -6.0625 L 3.109375 -6.0625 L 3.109375 0 Z \"/>\n",
       "</symbol>\n",
       "<symbol overflow=\"visible\" id=\"glyph4-10\">\n",
       "<path style=\"stroke:none;\" d=\"M 6.15625 -2.640625 C 6.15625 -4.21875 5.078125 -5.296875 3.546875 -5.296875 C 2.71875 -5.296875 2.046875 -4.96875 1.59375 -4.34375 C 1.609375 -6.421875 2.28125 -7.578125 3.484375 -7.578125 C 4.234375 -7.578125 4.75 -7.109375 4.921875 -6.28125 L 5.96875 -6.28125 C 5.765625 -7.6875 4.859375 -8.515625 3.5625 -8.515625 C 1.578125 -8.515625 0.515625 -6.84375 0.515625 -3.875 C 0.515625 -1.21875 1.421875 0.1875 3.375 0.1875 C 4.984375 0.1875 6.15625 -0.96875 6.15625 -2.640625 Z M 5.078125 -2.5625 C 5.078125 -1.484375 4.359375 -0.75 3.390625 -0.75 C 2.40625 -0.75 1.65625 -1.53125 1.65625 -2.609375 C 1.65625 -3.671875 2.375 -4.359375 3.421875 -4.359375 C 4.4375 -4.359375 5.078125 -3.703125 5.078125 -2.5625 Z \"/>\n",
       "</symbol>\n",
       "<symbol overflow=\"visible\" id=\"glyph4-11\">\n",
       "<path style=\"stroke:none;\" d=\"M 3.40625 -2.875 L 3.40625 -3.75 L 0.546875 -3.75 L 0.546875 -2.875 Z \"/>\n",
       "</symbol>\n",
       "<symbol overflow=\"visible\" id=\"glyph4-12\">\n",
       "<path style=\"stroke:none;\" d=\"M 5.109375 -2.25 L 5.109375 -8.75 L 4 -8.75 L 4 -2.65625 C 4 -1.21875 3.5 -0.71875 2.65625 -0.71875 C 1.8125 -0.71875 1.34375 -1.28125 1.34375 -2.296875 L 1.34375 -2.8125 L 0.234375 -2.8125 L 0.234375 -2.09375 C 0.234375 -0.6875 1.109375 0.21875 2.640625 0.21875 C 4.15625 0.21875 5.109375 -0.734375 5.109375 -2.25 Z \"/>\n",
       "</symbol>\n",
       "<symbol overflow=\"visible\" id=\"glyph4-13\">\n",
       "<path style=\"stroke:none;\" d=\"M 5.78125 0 L 5.78125 -6.28125 L 4.78125 -6.28125 L 4.78125 -2.8125 C 4.78125 -1.53125 4.109375 -0.703125 3.078125 -0.703125 C 2.28125 -0.703125 1.78125 -1.171875 1.78125 -1.9375 L 1.78125 -6.28125 L 0.78125 -6.28125 L 0.78125 -1.53125 C 0.78125 -0.484375 1.5625 0.1875 2.78125 0.1875 C 3.703125 0.1875 4.296875 -0.140625 4.890625 -0.96875 L 4.890625 0 Z \"/>\n",
       "</symbol>\n",
       "<symbol overflow=\"visible\" id=\"glyph4-14\">\n",
       "<path style=\"stroke:none;\" d=\"M 2.296875 0 L 2.296875 -1.25 L 1.046875 -1.25 L 1.046875 0 Z M 2.296875 -5.046875 L 2.296875 -6.28125 L 1.046875 -6.28125 L 1.046875 -5.046875 Z \"/>\n",
       "</symbol>\n",
       "<symbol overflow=\"visible\" id=\"glyph4-15\">\n",
       "<path style=\"stroke:none;\" d=\"M 6.078125 -2.46875 C 6.078125 -3.5 5.65625 -4.109375 4.625 -4.453125 C 5.421875 -4.765625 5.8125 -5.3125 5.8125 -6.171875 C 5.8125 -7.625 4.84375 -8.515625 3.234375 -8.515625 C 1.515625 -8.515625 0.59375 -7.578125 0.5625 -5.765625 L 1.625 -5.765625 C 1.640625 -7.015625 2.15625 -7.578125 3.234375 -7.578125 C 4.171875 -7.578125 4.734375 -7.03125 4.734375 -6.125 C 4.734375 -5.21875 4.34375 -4.84375 2.65625 -4.84375 L 2.65625 -3.953125 L 3.234375 -3.953125 C 4.390625 -3.953125 4.984375 -3.40625 4.984375 -2.453125 C 4.984375 -1.390625 4.328125 -0.75 3.234375 -0.75 C 2.078125 -0.75 1.515625 -1.328125 1.4375 -2.5625 L 0.390625 -2.5625 C 0.515625 -0.671875 1.453125 0.1875 3.1875 0.1875 C 4.9375 0.1875 6.078125 -0.859375 6.078125 -2.46875 Z \"/>\n",
       "</symbol>\n",
       "<symbol overflow=\"visible\" id=\"glyph4-16\">\n",
       "<path style=\"stroke:none;\" d=\"M 6.234375 -7.4375 L 6.234375 -8.328125 L 0.546875 -8.328125 L 0.546875 -7.28125 L 5.140625 -7.28125 C 3.453125 -5.140625 2.25 -2.65625 1.65625 0 L 2.78125 0 C 3.25 -2.75 4.453125 -5.3125 6.234375 -7.4375 Z \"/>\n",
       "</symbol>\n",
       "<symbol overflow=\"visible\" id=\"glyph4-17\">\n",
       "<path style=\"stroke:none;\" d=\"M 9.125 0 L 9.125 -4.71875 C 9.125 -5.84375 8.5 -6.46875 7.3125 -6.46875 C 6.484375 -6.46875 5.96875 -6.21875 5.390625 -5.515625 C 5.015625 -6.1875 4.515625 -6.46875 3.703125 -6.46875 C 2.859375 -6.46875 2.296875 -6.15625 1.765625 -5.40625 L 1.765625 -6.28125 L 0.859375 -6.28125 L 0.859375 0 L 1.84375 0 L 1.84375 -3.953125 C 1.84375 -4.859375 2.515625 -5.59375 3.328125 -5.59375 C 4.0625 -5.59375 4.484375 -5.140625 4.484375 -4.328125 L 4.484375 0 L 5.484375 0 L 5.484375 -3.953125 C 5.484375 -4.859375 6.15625 -5.59375 6.96875 -5.59375 C 7.703125 -5.59375 8.125 -5.125 8.125 -4.328125 L 8.125 0 Z \"/>\n",
       "</symbol>\n",
       "<symbol overflow=\"visible\" id=\"glyph4-18\">\n",
       "<path style=\"stroke:none;\" d=\"M 5.515625 -1.765625 C 5.515625 -2.703125 4.984375 -3.171875 3.734375 -3.46875 L 2.765625 -3.703125 C 1.953125 -3.890625 1.609375 -4.15625 1.609375 -4.59375 C 1.609375 -5.171875 2.125 -5.546875 2.9375 -5.546875 C 3.75 -5.546875 4.171875 -5.203125 4.203125 -4.53125 L 5.25 -4.53125 C 5.25 -5.765625 4.421875 -6.46875 2.96875 -6.46875 C 1.515625 -6.46875 0.5625 -5.71875 0.5625 -4.546875 C 0.5625 -3.5625 1.0625 -3.09375 2.5625 -2.734375 L 3.484375 -2.515625 C 4.1875 -2.34375 4.46875 -2.140625 4.46875 -1.6875 C 4.46875 -1.09375 3.875 -0.75 3 -0.75 C 2.09375 -0.75 1.59375 -0.953125 1.46875 -1.921875 L 0.40625 -1.921875 C 0.453125 -0.46875 1.265625 0.1875 2.921875 0.1875 C 4.5 0.1875 5.515625 -0.546875 5.515625 -1.765625 Z \"/>\n",
       "</symbol>\n",
       "<symbol overflow=\"visible\" id=\"glyph4-19\">\n",
       "<path style=\"stroke:none;\" d=\"M 5.71875 -2.15625 L 4.71875 -2.15625 C 4.546875 -1.15625 4.03125 -0.75 3.1875 -0.75 C 2.078125 -0.75 1.421875 -1.59375 1.421875 -3.078125 C 1.421875 -4.65625 2.0625 -5.546875 3.15625 -5.546875 C 4 -5.546875 4.53125 -5.046875 4.640625 -4.171875 L 5.65625 -4.171875 C 5.53125 -5.71875 4.578125 -6.46875 3.171875 -6.46875 C 1.46875 -6.46875 0.375 -5.171875 0.375 -3.078125 C 0.375 -1.0625 1.453125 0.1875 3.15625 0.1875 C 4.65625 0.1875 5.609375 -0.71875 5.71875 -2.15625 Z \"/>\n",
       "</symbol>\n",
       "<symbol overflow=\"visible\" id=\"glyph4-20\">\n",
       "<path style=\"stroke:none;\" d=\"M 5.828125 0 L 5.828125 -4.75 C 5.828125 -5.8125 5.078125 -6.46875 3.859375 -6.46875 C 2.96875 -6.46875 2.421875 -6.1875 1.84375 -5.421875 L 1.84375 -8.75 L 0.84375 -8.75 L 0.84375 0 L 1.84375 0 L 1.84375 -3.46875 C 1.84375 -4.75 2.515625 -5.59375 3.546875 -5.59375 C 4.25 -5.59375 4.84375 -5.1875 4.84375 -4.359375 L 4.84375 0 Z \"/>\n",
       "</symbol>\n",
       "<symbol overflow=\"visible\" id=\"glyph4-21\">\n",
       "<path style=\"stroke:none;\" d=\"M 6.28125 -3.078125 C 6.28125 -5.203125 5.25 -6.46875 3.578125 -6.46875 C 2.71875 -6.46875 2.046875 -6.078125 1.578125 -5.34375 L 1.578125 -6.28125 L 0.65625 -6.28125 L 0.65625 2.609375 L 1.65625 2.609375 L 1.65625 -0.75 C 2.1875 -0.109375 2.765625 0.1875 3.59375 0.1875 C 5.203125 0.1875 6.28125 -1.078125 6.28125 -3.078125 Z M 5.234375 -3.109375 C 5.234375 -1.6875 4.5 -0.75 3.40625 -0.75 C 2.359375 -0.75 1.65625 -1.625 1.65625 -3.09375 C 1.65625 -4.578125 2.359375 -5.53125 3.40625 -5.53125 C 4.515625 -5.53125 5.234375 -4.609375 5.234375 -3.109375 Z \"/>\n",
       "</symbol>\n",
       "</g>\n",
       "</defs>\n",
       "<g id=\"surface228\">\n",
       "<rect x=\"0\" y=\"0\" width=\"504\" height=\"504\" style=\"fill:rgb(100%,100%,100%);fill-opacity:1;stroke:none;\"/>\n",
       "<path style=\" stroke:none;fill-rule:nonzero;fill:rgb(100%,100%,100%);fill-opacity:1;\" d=\"M 199.457031 93.105469 L 199.457031 80.179688 L 252.953125 80.179688 L 252.953125 93.105469 Z \"/>\n",
       "<path style=\" stroke:none;fill-rule:nonzero;fill:rgb(100%,100%,100%);fill-opacity:1;\" d=\"M 63.527344 153.003906 L 63.527344 140.082031 L 115.320312 140.082031 L 115.320312 153.003906 Z \"/>\n",
       "<path style=\" stroke:none;fill-rule:nonzero;fill:rgb(100%,100%,100%);fill-opacity:1;\" d=\"M 96.367188 212.90625 L 96.367188 199.980469 L 157.515625 199.980469 L 157.515625 212.90625 Z \"/>\n",
       "<path style=\" stroke:none;fill-rule:nonzero;fill:rgb(100%,100%,100%);fill-opacity:1;\" d=\"M 330.839844 153.003906 L 330.839844 140.082031 L 395.136719 140.082031 L 395.136719 153.003906 Z \"/>\n",
       "<path style=\" stroke:none;fill-rule:nonzero;fill:rgb(100%,100%,100%);fill-opacity:1;\" d=\"M 248.414062 212.90625 L 248.414062 199.980469 L 299.359375 199.980469 L 299.359375 212.90625 Z \"/>\n",
       "<path style=\" stroke:none;fill-rule:nonzero;fill:rgb(100%,100%,100%);fill-opacity:1;\" d=\"M 311.75 272.808594 L 311.75 259.882812 L 379.835938 259.882812 L 379.835938 272.808594 Z \"/>\n",
       "<path style=\" stroke:none;fill-rule:nonzero;fill:rgb(100%,100%,100%);fill-opacity:1;\" d=\"M 266.964844 332.707031 L 266.964844 319.78125 L 312.070312 319.78125 L 312.070312 332.707031 Z \"/>\n",
       "<path style=\" stroke:none;fill-rule:nonzero;fill:rgb(100%,100%,100%);fill-opacity:1;\" d=\"M 301.5625 392.609375 L 301.5625 379.683594 L 352.507812 379.683594 L 352.507812 392.609375 Z \"/>\n",
       "<g style=\"fill:rgb(0%,0%,0%);fill-opacity:1;\">\n",
       "  <use xlink:href=\"#glyph0-1\" x=\"198.707031\" y=\"90.544922\"/>\n",
       "  <use xlink:href=\"#glyph0-2\" x=\"205.637695\" y=\"90.544922\"/>\n",
       "  <use xlink:href=\"#glyph0-3\" x=\"211.415039\" y=\"90.544922\"/>\n",
       "  <use xlink:href=\"#glyph0-4\" x=\"217.192383\" y=\"90.544922\"/>\n",
       "  <use xlink:href=\"#glyph0-5\" x=\"220.081055\" y=\"90.544922\"/>\n",
       "  <use xlink:href=\"#glyph0-4\" x=\"226.149414\" y=\"90.544922\"/>\n",
       "  <use xlink:href=\"#glyph0-6\" x=\"229.038086\" y=\"90.544922\"/>\n",
       "  <use xlink:href=\"#glyph0-7\" x=\"238.275391\" y=\"90.544922\"/>\n",
       "  <use xlink:href=\"#glyph0-8\" x=\"244.052734\" y=\"90.544922\"/>\n",
       "  <use xlink:href=\"#glyph0-2\" x=\"246.941406\" y=\"90.544922\"/>\n",
       "</g>\n",
       "<g style=\"fill:rgb(0%,0%,0%);fill-opacity:1;\">\n",
       "  <use xlink:href=\"#glyph0-9\" x=\"63.421875\" y=\"149.447266\"/>\n",
       "  <use xlink:href=\"#glyph0-10\" x=\"70.923828\" y=\"149.447266\"/>\n",
       "  <use xlink:href=\"#glyph0-2\" x=\"77.272461\" y=\"149.447266\"/>\n",
       "  <use xlink:href=\"#glyph0-4\" x=\"83.049805\" y=\"149.447266\"/>\n",
       "  <use xlink:href=\"#glyph0-11\" x=\"85.938477\" y=\"149.447266\"/>\n",
       "  <use xlink:href=\"#glyph0-5\" x=\"92.006836\" y=\"149.447266\"/>\n",
       "  <use xlink:href=\"#glyph0-4\" x=\"98.075195\" y=\"149.447266\"/>\n",
       "  <use xlink:href=\"#glyph0-12\" x=\"100.963867\" y=\"149.447266\"/>\n",
       "  <use xlink:href=\"#glyph0-13\" x=\"106.741211\" y=\"149.447266\"/>\n",
       "  <use xlink:href=\"#glyph0-14\" x=\"109.629883\" y=\"149.447266\"/>\n",
       "</g>\n",
       "<g style=\"fill:rgb(0%,0%,0%);fill-opacity:1;\">\n",
       "  <use xlink:href=\"#glyph0-1\" x=\"95.941406\" y=\"209.349609\"/>\n",
       "  <use xlink:href=\"#glyph0-15\" x=\"102.87207\" y=\"209.349609\"/>\n",
       "  <use xlink:href=\"#glyph0-16\" x=\"105.760742\" y=\"209.349609\"/>\n",
       "  <use xlink:href=\"#glyph0-1\" x=\"112.109375\" y=\"209.349609\"/>\n",
       "  <use xlink:href=\"#glyph0-17\" x=\"119.040039\" y=\"209.349609\"/>\n",
       "  <use xlink:href=\"#glyph0-4\" x=\"125.388672\" y=\"209.349609\"/>\n",
       "  <use xlink:href=\"#glyph0-11\" x=\"128.277344\" y=\"209.349609\"/>\n",
       "  <use xlink:href=\"#glyph0-5\" x=\"134.345703\" y=\"209.349609\"/>\n",
       "  <use xlink:href=\"#glyph0-4\" x=\"140.414062\" y=\"209.349609\"/>\n",
       "  <use xlink:href=\"#glyph0-18\" x=\"143.302734\" y=\"209.349609\"/>\n",
       "  <use xlink:href=\"#glyph0-13\" x=\"149.080078\" y=\"209.349609\"/>\n",
       "  <use xlink:href=\"#glyph0-14\" x=\"151.96875\" y=\"209.349609\"/>\n",
       "</g>\n",
       "<g style=\"fill:rgb(0%,0%,0%);fill-opacity:1;\">\n",
       "  <use xlink:href=\"#glyph0-19\" x=\"329.988281\" y=\"149.947266\"/>\n",
       "  <use xlink:href=\"#glyph0-20\" x=\"336.918945\" y=\"149.947266\"/>\n",
       "  <use xlink:href=\"#glyph0-8\" x=\"342.696289\" y=\"149.947266\"/>\n",
       "  <use xlink:href=\"#glyph0-7\" x=\"345.584961\" y=\"149.947266\"/>\n",
       "  <use xlink:href=\"#glyph0-21\" x=\"351.362305\" y=\"149.947266\"/>\n",
       "  <use xlink:href=\"#glyph0-21\" x=\"357.139648\" y=\"149.947266\"/>\n",
       "  <use xlink:href=\"#glyph0-4\" x=\"362.916992\" y=\"149.947266\"/>\n",
       "  <use xlink:href=\"#glyph0-11\" x=\"365.805664\" y=\"149.947266\"/>\n",
       "  <use xlink:href=\"#glyph0-5\" x=\"371.874023\" y=\"149.947266\"/>\n",
       "  <use xlink:href=\"#glyph0-4\" x=\"377.942383\" y=\"149.947266\"/>\n",
       "  <use xlink:href=\"#glyph0-18\" x=\"380.831055\" y=\"149.947266\"/>\n",
       "  <use xlink:href=\"#glyph0-13\" x=\"386.608398\" y=\"149.947266\"/>\n",
       "  <use xlink:href=\"#glyph0-14\" x=\"389.49707\" y=\"149.947266\"/>\n",
       "</g>\n",
       "<g style=\"fill:rgb(0%,0%,0%);fill-opacity:1;\">\n",
       "  <use xlink:href=\"#glyph0-22\" x=\"247.886719\" y=\"209.849609\"/>\n",
       "  <use xlink:href=\"#glyph0-7\" x=\"254.235352\" y=\"209.849609\"/>\n",
       "  <use xlink:href=\"#glyph0-23\" x=\"260.012695\" y=\"209.849609\"/>\n",
       "  <use xlink:href=\"#glyph0-2\" x=\"264.054688\" y=\"209.849609\"/>\n",
       "  <use xlink:href=\"#glyph0-4\" x=\"269.832031\" y=\"209.849609\"/>\n",
       "  <use xlink:href=\"#glyph0-11\" x=\"272.720703\" y=\"209.849609\"/>\n",
       "  <use xlink:href=\"#glyph0-5\" x=\"278.789062\" y=\"209.849609\"/>\n",
       "  <use xlink:href=\"#glyph0-4\" x=\"284.857422\" y=\"209.849609\"/>\n",
       "  <use xlink:href=\"#glyph0-18\" x=\"287.746094\" y=\"209.849609\"/>\n",
       "  <use xlink:href=\"#glyph0-24\" x=\"293.523438\" y=\"209.849609\"/>\n",
       "</g>\n",
       "<g style=\"fill:rgb(0%,0%,0%);fill-opacity:1;\">\n",
       "  <use xlink:href=\"#glyph0-25\" x=\"310.792969\" y=\"270.248047\"/>\n",
       "  <use xlink:href=\"#glyph0-6\" x=\"317.723633\" y=\"270.248047\"/>\n",
       "  <use xlink:href=\"#glyph0-16\" x=\"326.960938\" y=\"270.248047\"/>\n",
       "  <use xlink:href=\"#glyph0-7\" x=\"333.30957\" y=\"270.248047\"/>\n",
       "  <use xlink:href=\"#glyph0-23\" x=\"339.086914\" y=\"270.248047\"/>\n",
       "  <use xlink:href=\"#glyph0-26\" x=\"343.128906\" y=\"270.248047\"/>\n",
       "  <use xlink:href=\"#glyph0-2\" x=\"348.90625\" y=\"270.248047\"/>\n",
       "  <use xlink:href=\"#glyph0-27\" x=\"354.683594\" y=\"270.248047\"/>\n",
       "  <use xlink:href=\"#glyph0-4\" x=\"361.032227\" y=\"270.248047\"/>\n",
       "  <use xlink:href=\"#glyph0-5\" x=\"363.920898\" y=\"270.248047\"/>\n",
       "  <use xlink:href=\"#glyph0-4\" x=\"369.989258\" y=\"270.248047\"/>\n",
       "  <use xlink:href=\"#glyph0-1\" x=\"372.87793\" y=\"270.248047\"/>\n",
       "</g>\n",
       "<g style=\"fill:rgb(0%,0%,0%);fill-opacity:1;\">\n",
       "  <use xlink:href=\"#glyph0-22\" x=\"266.519531\" y=\"329.650391\"/>\n",
       "  <use xlink:href=\"#glyph0-7\" x=\"272.868164\" y=\"329.650391\"/>\n",
       "  <use xlink:href=\"#glyph0-23\" x=\"278.645508\" y=\"329.650391\"/>\n",
       "  <use xlink:href=\"#glyph0-2\" x=\"282.6875\" y=\"329.650391\"/>\n",
       "  <use xlink:href=\"#glyph0-4\" x=\"288.464844\" y=\"329.650391\"/>\n",
       "  <use xlink:href=\"#glyph0-28\" x=\"291.353516\" y=\"329.650391\"/>\n",
       "  <use xlink:href=\"#glyph0-4\" x=\"297.421875\" y=\"329.650391\"/>\n",
       "  <use xlink:href=\"#glyph0-29\" x=\"300.310547\" y=\"329.650391\"/>\n",
       "  <use xlink:href=\"#glyph0-29\" x=\"306.087891\" y=\"329.650391\"/>\n",
       "</g>\n",
       "<g style=\"fill:rgb(0%,0%,0%);fill-opacity:1;\">\n",
       "  <use xlink:href=\"#glyph0-22\" x=\"301.035156\" y=\"389.548828\"/>\n",
       "  <use xlink:href=\"#glyph0-7\" x=\"307.383789\" y=\"389.548828\"/>\n",
       "  <use xlink:href=\"#glyph0-23\" x=\"313.161133\" y=\"389.548828\"/>\n",
       "  <use xlink:href=\"#glyph0-2\" x=\"317.203125\" y=\"389.548828\"/>\n",
       "  <use xlink:href=\"#glyph0-4\" x=\"322.980469\" y=\"389.548828\"/>\n",
       "  <use xlink:href=\"#glyph0-11\" x=\"325.869141\" y=\"389.548828\"/>\n",
       "  <use xlink:href=\"#glyph0-5\" x=\"331.9375\" y=\"389.548828\"/>\n",
       "  <use xlink:href=\"#glyph0-4\" x=\"338.005859\" y=\"389.548828\"/>\n",
       "  <use xlink:href=\"#glyph0-29\" x=\"340.894531\" y=\"389.548828\"/>\n",
       "  <use xlink:href=\"#glyph0-30\" x=\"346.671875\" y=\"389.548828\"/>\n",
       "</g>\n",
       "<path style=\" stroke:none;fill-rule:nonzero;fill:rgb(74.509804%,74.509804%,74.509804%);fill-opacity:0.101961;\" d=\"M 206.859375 47.675781 L 207.105469 45.816406 L 207.824219 44.085938 L 208.964844 42.597656 L 210.449219 41.457031 L 212.183594 40.742188 L 214.042969 40.496094 L 246.367188 40.496094 L 248.226562 40.742188 L 249.960938 41.457031 L 251.445312 42.597656 L 252.585938 44.085938 L 253.304688 45.816406 L 253.550781 47.675781 L 253.550781 77.605469 L 253.304688 79.460938 L 252.585938 81.195312 L 251.445312 82.679688 L 249.960938 83.820312 L 248.226562 84.539062 L 246.367188 84.785156 L 214.042969 84.785156 L 212.183594 84.539062 L 210.449219 83.820312 L 208.964844 82.679688 L 207.824219 81.195312 L 207.105469 79.460938 L 206.859375 77.605469 Z \"/>\n",
       "<path style=\" stroke:none;fill-rule:nonzero;fill:rgb(74.509804%,74.509804%,74.509804%);fill-opacity:0.101961;\" d=\"M 70.078125 107.574219 L 70.324219 105.71875 L 71.039062 103.984375 L 72.179688 102.5 L 73.667969 101.359375 L 75.398438 100.640625 L 77.257812 100.394531 L 109.585938 100.394531 L 111.445312 100.640625 L 113.175781 101.359375 L 114.664062 102.5 L 115.804688 103.984375 L 116.519531 105.71875 L 116.765625 107.574219 L 116.765625 137.503906 L 116.519531 139.363281 L 115.804688 141.09375 L 114.664062 142.582031 L 113.175781 143.722656 L 111.445312 144.4375 L 109.585938 144.683594 L 77.257812 144.683594 L 75.398438 144.4375 L 73.667969 143.722656 L 72.179688 142.582031 L 71.039062 141.09375 L 70.324219 139.363281 L 70.078125 137.503906 Z \"/>\n",
       "<path style=\" stroke:none;fill-rule:nonzero;fill:rgb(74.509804%,74.509804%,74.509804%);fill-opacity:0.101961;\" d=\"M 32.558594 443.019531 L 32.804688 441.160156 L 33.523438 439.429688 L 34.664062 437.941406 L 36.148438 436.800781 L 37.882812 436.082031 L 39.742188 435.839844 L 72.066406 435.839844 L 73.925781 436.082031 L 75.660156 436.800781 L 77.144531 437.941406 L 78.285156 439.429688 L 79.003906 441.160156 L 79.25 443.019531 L 79.25 472.945312 L 79.003906 474.804688 L 78.285156 476.535156 L 77.144531 478.023438 L 75.660156 479.164062 L 73.925781 479.882812 L 72.066406 480.125 L 39.742188 480.125 L 37.882812 479.882812 L 36.148438 479.164062 L 34.664062 478.023438 L 33.523438 476.535156 L 32.804688 474.804688 L 32.558594 472.945312 Z \"/>\n",
       "<path style=\" stroke:none;fill-rule:nonzero;fill:rgb(74.509804%,74.509804%,74.509804%);fill-opacity:0.101961;\" d=\"M 107.59375 167.476562 L 107.839844 165.617188 L 108.558594 163.886719 L 109.699219 162.398438 L 111.1875 161.257812 L 112.917969 160.542969 L 114.777344 160.296875 L 147.105469 160.296875 L 148.960938 160.542969 L 150.695312 161.257812 L 152.179688 162.398438 L 153.320312 163.886719 L 154.039062 165.617188 L 154.285156 167.476562 L 154.285156 197.40625 L 154.039062 199.261719 L 153.320312 200.996094 L 152.179688 202.480469 L 150.695312 203.621094 L 148.960938 204.339844 L 147.105469 204.585938 L 114.777344 204.585938 L 112.917969 204.339844 L 111.1875 203.621094 L 109.699219 202.480469 L 108.558594 200.996094 L 107.839844 199.261719 L 107.59375 197.40625 Z \"/>\n",
       "<path style=\" stroke:none;fill-rule:nonzero;fill:rgb(74.509804%,74.509804%,74.509804%);fill-opacity:0.101961;\" d=\"M 82.582031 443.019531 L 82.828125 441.160156 L 83.546875 439.429688 L 84.6875 437.941406 L 86.175781 436.800781 L 87.90625 436.082031 L 89.765625 435.839844 L 122.09375 435.839844 L 123.949219 436.082031 L 125.683594 436.800781 L 127.167969 437.941406 L 128.308594 439.429688 L 129.027344 441.160156 L 129.273438 443.019531 L 129.273438 472.945312 L 129.027344 474.804688 L 128.308594 476.535156 L 127.167969 478.023438 L 125.683594 479.164062 L 123.949219 479.882812 L 122.09375 480.125 L 89.765625 480.125 L 87.90625 479.882812 L 86.175781 479.164062 L 84.6875 478.023438 L 83.546875 476.535156 L 82.828125 474.804688 L 82.582031 472.945312 Z \"/>\n",
       "<path style=\" stroke:none;fill-rule:nonzero;fill:rgb(74.509804%,74.509804%,74.509804%);fill-opacity:0.101961;\" d=\"M 129.828125 443.019531 L 130.070312 441.160156 L 130.789062 439.429688 L 131.929688 437.941406 L 133.417969 436.800781 L 135.148438 436.082031 L 137.007812 435.839844 L 174.894531 435.839844 L 176.753906 436.082031 L 178.484375 436.800781 L 179.972656 437.941406 L 181.113281 439.429688 L 181.832031 441.160156 L 182.074219 443.019531 L 182.074219 472.945312 L 181.832031 474.804688 L 181.113281 476.535156 L 179.972656 478.023438 L 178.484375 479.164062 L 176.753906 479.882812 L 174.894531 480.125 L 137.007812 480.125 L 135.148438 479.882812 L 133.417969 479.164062 L 131.929688 478.023438 L 130.789062 476.535156 L 130.070312 474.804688 L 129.828125 472.945312 Z \"/>\n",
       "<path style=\" stroke:none;fill-rule:nonzero;fill:rgb(74.509804%,74.509804%,74.509804%);fill-opacity:0.101961;\" d=\"M 343.644531 107.574219 L 343.890625 105.71875 L 344.605469 103.984375 L 345.746094 102.5 L 347.234375 101.359375 L 348.964844 100.640625 L 350.824219 100.394531 L 383.152344 100.394531 L 385.011719 100.640625 L 386.742188 101.359375 L 388.230469 102.5 L 389.371094 103.984375 L 390.085938 105.71875 L 390.332031 107.574219 L 390.332031 137.503906 L 390.085938 139.363281 L 389.371094 141.09375 L 388.230469 142.582031 L 386.742188 143.722656 L 385.011719 144.4375 L 383.152344 144.683594 L 350.824219 144.683594 L 348.964844 144.4375 L 347.234375 143.722656 L 345.746094 142.582031 L 344.605469 141.09375 L 343.890625 139.363281 L 343.644531 137.503906 Z \"/>\n",
       "<path style=\" stroke:none;fill-rule:nonzero;fill:rgb(74.509804%,74.509804%,74.509804%);fill-opacity:0.101961;\" d=\"M 254.539062 167.476562 L 254.785156 165.617188 L 255.5 163.886719 L 256.644531 162.398438 L 258.128906 161.257812 L 259.863281 160.542969 L 261.71875 160.296875 L 294.046875 160.296875 L 295.90625 160.542969 L 297.636719 161.257812 L 299.125 162.398438 L 300.265625 163.886719 L 300.984375 165.617188 L 301.226562 167.476562 L 301.226562 197.40625 L 300.984375 199.261719 L 300.265625 200.996094 L 299.125 202.480469 L 297.636719 203.621094 L 295.90625 204.339844 L 294.046875 204.585938 L 261.71875 204.585938 L 259.863281 204.339844 L 258.128906 203.621094 L 256.644531 202.480469 L 255.5 200.996094 L 254.785156 199.261719 L 254.539062 197.40625 Z \"/>\n",
       "<path style=\" stroke:none;fill-rule:nonzero;fill:rgb(74.509804%,74.509804%,74.509804%);fill-opacity:0.101961;\" d=\"M 182.632812 443.019531 L 182.875 441.160156 L 183.59375 439.429688 L 184.734375 437.941406 L 186.222656 436.800781 L 187.953125 436.082031 L 189.8125 435.839844 L 222.140625 435.839844 L 223.996094 436.082031 L 225.730469 436.800781 L 227.214844 437.941406 L 228.355469 439.429688 L 229.074219 441.160156 L 229.320312 443.019531 L 229.320312 472.945312 L 229.074219 474.804688 L 228.355469 476.535156 L 227.214844 478.023438 L 225.730469 479.164062 L 223.996094 479.882812 L 222.140625 480.125 L 189.8125 480.125 L 187.953125 479.882812 L 186.222656 479.164062 L 184.734375 478.023438 L 183.59375 476.535156 L 182.875 474.804688 L 182.632812 472.945312 Z \"/>\n",
       "<path style=\" stroke:none;fill-rule:nonzero;fill:rgb(74.509804%,74.509804%,74.509804%);fill-opacity:0.101961;\" d=\"M 326.449219 227.378906 L 326.691406 225.519531 L 327.410156 223.785156 L 328.550781 222.300781 L 330.039062 221.160156 L 331.769531 220.441406 L 333.628906 220.195312 L 365.957031 220.195312 L 367.816406 220.441406 L 369.546875 221.160156 L 371.035156 222.300781 L 372.175781 223.785156 L 372.890625 225.519531 L 373.136719 227.378906 L 373.136719 257.304688 L 372.890625 259.164062 L 372.175781 260.894531 L 371.035156 262.382812 L 369.546875 263.523438 L 367.816406 264.242188 L 365.957031 264.484375 L 333.628906 264.484375 L 331.769531 264.242188 L 330.039062 263.523438 L 328.550781 262.382812 L 327.410156 260.894531 L 326.691406 259.164062 L 326.449219 257.304688 Z \"/>\n",
       "<path style=\" stroke:none;fill-rule:nonzero;fill:rgb(74.509804%,74.509804%,74.509804%);fill-opacity:0.101961;\" d=\"M 270.171875 287.277344 L 270.417969 285.417969 L 271.132812 283.6875 L 272.273438 282.199219 L 273.761719 281.058594 L 275.492188 280.34375 L 277.351562 280.097656 L 309.679688 280.097656 L 311.539062 280.34375 L 313.269531 281.058594 L 314.757812 282.199219 L 315.898438 283.6875 L 316.617188 285.417969 L 316.859375 287.277344 L 316.859375 317.207031 L 316.617188 319.0625 L 315.898438 320.796875 L 314.757812 322.28125 L 313.269531 323.421875 L 311.539062 324.140625 L 309.679688 324.386719 L 277.351562 324.386719 L 275.492188 324.140625 L 273.761719 323.421875 L 272.273438 322.28125 L 271.132812 320.796875 L 270.417969 319.0625 L 270.171875 317.207031 Z \"/>\n",
       "<path style=\" stroke:none;fill-rule:nonzero;fill:rgb(74.509804%,74.509804%,74.509804%);fill-opacity:0.101961;\" d=\"M 232.65625 443.019531 L 232.898438 441.160156 L 233.617188 439.429688 L 234.757812 437.941406 L 236.246094 436.800781 L 237.976562 436.082031 L 239.835938 435.839844 L 272.164062 435.839844 L 274.019531 436.082031 L 275.753906 436.800781 L 277.238281 437.941406 L 278.378906 439.429688 L 279.097656 441.160156 L 279.34375 443.019531 L 279.34375 472.945312 L 279.097656 474.804688 L 278.378906 476.535156 L 277.238281 478.023438 L 275.753906 479.164062 L 274.019531 479.882812 L 272.164062 480.125 L 239.835938 480.125 L 237.976562 479.882812 L 236.246094 479.164062 L 234.757812 478.023438 L 233.617188 476.535156 L 232.898438 474.804688 L 232.65625 472.945312 Z \"/>\n",
       "<path style=\" stroke:none;fill-rule:nonzero;fill:rgb(74.509804%,74.509804%,74.509804%);fill-opacity:0.101961;\" d=\"M 307.691406 347.179688 L 307.933594 345.320312 L 308.652344 343.589844 L 309.792969 342.101562 L 311.28125 340.960938 L 313.011719 340.242188 L 314.871094 340 L 347.199219 340 L 349.054688 340.242188 L 350.789062 340.960938 L 352.273438 342.101562 L 353.414062 343.589844 L 354.132812 345.320312 L 354.378906 347.179688 L 354.378906 377.105469 L 354.132812 378.964844 L 353.414062 380.695312 L 352.273438 382.183594 L 350.789062 383.324219 L 349.054688 384.042969 L 347.199219 384.285156 L 314.871094 384.285156 L 313.011719 384.042969 L 311.28125 383.324219 L 309.792969 382.183594 L 308.652344 380.695312 L 307.933594 378.964844 L 307.691406 377.105469 Z \"/>\n",
       "<path style=\" stroke:none;fill-rule:nonzero;fill:rgb(74.509804%,74.509804%,74.509804%);fill-opacity:0.101961;\" d=\"M 282.679688 443.019531 L 282.921875 441.160156 L 283.640625 439.429688 L 284.78125 437.941406 L 286.269531 436.800781 L 288 436.082031 L 289.859375 435.839844 L 322.1875 435.839844 L 324.042969 436.082031 L 325.777344 436.800781 L 327.261719 437.941406 L 328.402344 439.429688 L 329.121094 441.160156 L 329.367188 443.019531 L 329.367188 472.945312 L 329.121094 474.804688 L 328.402344 476.535156 L 327.261719 478.023438 L 325.777344 479.164062 L 324.042969 479.882812 L 322.1875 480.125 L 289.859375 480.125 L 288 479.882812 L 286.269531 479.164062 L 284.78125 478.023438 L 283.640625 476.535156 L 282.921875 474.804688 L 282.679688 472.945312 Z \"/>\n",
       "<path style=\" stroke:none;fill-rule:nonzero;fill:rgb(74.509804%,74.509804%,74.509804%);fill-opacity:0.101961;\" d=\"M 332.703125 443.019531 L 332.945312 441.160156 L 333.664062 439.429688 L 334.804688 437.941406 L 336.292969 436.800781 L 338.023438 436.082031 L 339.882812 435.839844 L 372.210938 435.839844 L 374.066406 436.082031 L 375.800781 436.800781 L 377.285156 437.941406 L 378.425781 439.429688 L 379.144531 441.160156 L 379.390625 443.019531 L 379.390625 472.945312 L 379.144531 474.804688 L 378.425781 476.535156 L 377.285156 478.023438 L 375.800781 479.164062 L 374.066406 479.882812 L 372.210938 480.125 L 339.882812 480.125 L 338.023438 479.882812 L 336.292969 479.164062 L 334.804688 478.023438 L 333.664062 476.535156 L 332.945312 474.804688 L 332.703125 472.945312 Z \"/>\n",
       "<path style=\" stroke:none;fill-rule:nonzero;fill:rgb(74.509804%,74.509804%,74.509804%);fill-opacity:0.101961;\" d=\"M 382.726562 443.019531 L 382.96875 441.160156 L 383.6875 439.429688 L 384.828125 437.941406 L 386.316406 436.800781 L 388.046875 436.082031 L 389.90625 435.839844 L 422.234375 435.839844 L 424.089844 436.082031 L 425.824219 436.800781 L 427.308594 437.941406 L 428.449219 439.429688 L 429.167969 441.160156 L 429.414062 443.019531 L 429.414062 472.945312 L 429.167969 474.804688 L 428.449219 476.535156 L 427.308594 478.023438 L 425.824219 479.164062 L 424.089844 479.882812 L 422.234375 480.125 L 389.90625 480.125 L 388.046875 479.882812 L 386.316406 479.164062 L 384.828125 478.023438 L 383.6875 476.535156 L 382.96875 474.804688 L 382.726562 472.945312 Z \"/>\n",
       "<path style=\" stroke:none;fill-rule:nonzero;fill:rgb(74.509804%,74.509804%,74.509804%);fill-opacity:0.101961;\" d=\"M 432.75 443.019531 L 432.992188 441.160156 L 433.710938 439.429688 L 434.851562 437.941406 L 436.339844 436.800781 L 438.070312 436.082031 L 439.929688 435.839844 L 472.257812 435.839844 L 474.113281 436.082031 L 475.847656 436.800781 L 477.332031 437.941406 L 478.472656 439.429688 L 479.191406 441.160156 L 479.4375 443.019531 L 479.4375 472.945312 L 479.191406 474.804688 L 478.472656 476.535156 L 477.332031 478.023438 L 475.847656 479.164062 L 474.113281 479.882812 L 472.257812 480.125 L 439.929688 480.125 L 438.070312 479.882812 L 436.339844 479.164062 L 434.851562 478.023438 L 433.710938 476.535156 L 432.992188 474.804688 L 432.75 472.945312 Z \"/>\n",
       "<path style=\" stroke:none;fill-rule:nonzero;fill:rgb(74.509804%,74.509804%,74.509804%);fill-opacity:0.2;\" d=\"M 207.359375 48.175781 L 207.605469 46.316406 L 208.324219 44.585938 L 209.464844 43.097656 L 210.949219 41.957031 L 212.683594 41.238281 L 214.539062 40.996094 L 245.871094 40.996094 L 247.726562 41.238281 L 249.460938 41.957031 L 250.945312 43.097656 L 252.085938 44.585938 L 252.804688 46.316406 L 253.050781 48.175781 L 253.050781 77.105469 L 252.804688 78.960938 L 252.085938 80.695312 L 250.945312 82.179688 L 249.460938 83.320312 L 247.726562 84.039062 L 245.871094 84.285156 L 214.539062 84.285156 L 212.683594 84.039062 L 210.949219 83.320312 L 209.464844 82.179688 L 208.324219 80.695312 L 207.605469 78.960938 L 207.359375 77.105469 Z \"/>\n",
       "<path style=\" stroke:none;fill-rule:nonzero;fill:rgb(74.509804%,74.509804%,74.509804%);fill-opacity:0.2;\" d=\"M 70.578125 108.074219 L 70.824219 106.21875 L 71.539062 104.484375 L 72.679688 103 L 74.167969 101.859375 L 75.898438 101.140625 L 77.757812 100.894531 L 109.085938 100.894531 L 110.945312 101.140625 L 112.675781 101.859375 L 114.164062 103 L 115.304688 104.484375 L 116.023438 106.21875 L 116.265625 108.074219 L 116.265625 137.003906 L 116.023438 138.863281 L 115.304688 140.59375 L 114.164062 142.082031 L 112.675781 143.222656 L 110.945312 143.941406 L 109.085938 144.183594 L 77.757812 144.183594 L 75.898438 143.941406 L 74.167969 143.222656 L 72.679688 142.082031 L 71.539062 140.59375 L 70.824219 138.863281 L 70.578125 137.003906 Z \"/>\n",
       "<path style=\" stroke:none;fill-rule:nonzero;fill:rgb(74.509804%,74.509804%,74.509804%);fill-opacity:0.2;\" d=\"M 33.058594 443.519531 L 33.304688 441.660156 L 34.023438 439.929688 L 35.164062 438.441406 L 36.648438 437.300781 L 38.382812 436.582031 L 40.238281 436.339844 L 71.570312 436.339844 L 73.425781 436.582031 L 75.160156 437.300781 L 76.644531 438.441406 L 77.785156 439.929688 L 78.503906 441.660156 L 78.75 443.519531 L 78.75 472.445312 L 78.503906 474.304688 L 77.785156 476.035156 L 76.644531 477.523438 L 75.160156 478.664062 L 73.425781 479.382812 L 71.570312 479.628906 L 40.238281 479.628906 L 38.382812 479.382812 L 36.648438 478.664062 L 35.164062 477.523438 L 34.023438 476.035156 L 33.304688 474.304688 L 33.058594 472.445312 Z \"/>\n",
       "<path style=\" stroke:none;fill-rule:nonzero;fill:rgb(74.509804%,74.509804%,74.509804%);fill-opacity:0.2;\" d=\"M 108.09375 167.976562 L 108.339844 166.117188 L 109.058594 164.386719 L 110.199219 162.898438 L 111.683594 161.757812 L 113.417969 161.042969 L 115.277344 160.796875 L 146.605469 160.796875 L 148.460938 161.042969 L 150.195312 161.757812 L 151.679688 162.898438 L 152.820312 164.386719 L 153.539062 166.117188 L 153.785156 167.976562 L 153.785156 196.90625 L 153.539062 198.761719 L 152.820312 200.496094 L 151.679688 201.980469 L 150.195312 203.121094 L 148.460938 203.839844 L 146.605469 204.085938 L 115.277344 204.085938 L 113.417969 203.839844 L 111.683594 203.121094 L 110.199219 201.980469 L 109.058594 200.496094 L 108.339844 198.761719 L 108.09375 196.90625 Z \"/>\n",
       "<path style=\" stroke:none;fill-rule:nonzero;fill:rgb(74.509804%,74.509804%,74.509804%);fill-opacity:0.2;\" d=\"M 83.082031 443.519531 L 83.328125 441.660156 L 84.046875 439.929688 L 85.1875 438.441406 L 86.671875 437.300781 L 88.40625 436.582031 L 90.261719 436.339844 L 121.59375 436.339844 L 123.449219 436.582031 L 125.183594 437.300781 L 126.667969 438.441406 L 127.808594 439.929688 L 128.527344 441.660156 L 128.773438 443.519531 L 128.773438 472.445312 L 128.527344 474.304688 L 127.808594 476.035156 L 126.667969 477.523438 L 125.183594 478.664062 L 123.449219 479.382812 L 121.59375 479.628906 L 90.261719 479.628906 L 88.40625 479.382812 L 86.671875 478.664062 L 85.1875 477.523438 L 84.046875 476.035156 L 83.328125 474.304688 L 83.082031 472.445312 Z \"/>\n",
       "<path style=\" stroke:none;fill-rule:nonzero;fill:rgb(74.509804%,74.509804%,74.509804%);fill-opacity:0.2;\" d=\"M 130.328125 443.519531 L 130.570312 441.660156 L 131.289062 439.929688 L 132.429688 438.441406 L 133.917969 437.300781 L 135.648438 436.582031 L 137.507812 436.339844 L 174.394531 436.339844 L 176.253906 436.582031 L 177.984375 437.300781 L 179.472656 438.441406 L 180.613281 439.929688 L 181.332031 441.660156 L 181.574219 443.519531 L 181.574219 472.445312 L 181.332031 474.304688 L 180.613281 476.035156 L 179.472656 477.523438 L 177.984375 478.664062 L 176.253906 479.382812 L 174.394531 479.628906 L 137.507812 479.628906 L 135.648438 479.382812 L 133.917969 478.664062 L 132.429688 477.523438 L 131.289062 476.035156 L 130.570312 474.304688 L 130.328125 472.445312 Z \"/>\n",
       "<path style=\" stroke:none;fill-rule:nonzero;fill:rgb(74.509804%,74.509804%,74.509804%);fill-opacity:0.2;\" d=\"M 344.144531 108.074219 L 344.386719 106.21875 L 345.105469 104.484375 L 346.246094 103 L 347.734375 101.859375 L 349.464844 101.140625 L 351.324219 100.894531 L 382.652344 100.894531 L 384.511719 101.140625 L 386.242188 101.859375 L 387.730469 103 L 388.871094 104.484375 L 389.585938 106.21875 L 389.832031 108.074219 L 389.832031 137.003906 L 389.585938 138.863281 L 388.871094 140.59375 L 387.730469 142.082031 L 386.242188 143.222656 L 384.511719 143.941406 L 382.652344 144.183594 L 351.324219 144.183594 L 349.464844 143.941406 L 347.734375 143.222656 L 346.246094 142.082031 L 345.105469 140.59375 L 344.386719 138.863281 L 344.144531 137.003906 Z \"/>\n",
       "<path style=\" stroke:none;fill-rule:nonzero;fill:rgb(74.509804%,74.509804%,74.509804%);fill-opacity:0.2;\" d=\"M 255.039062 167.976562 L 255.285156 166.117188 L 256 164.386719 L 257.140625 162.898438 L 258.628906 161.757812 L 260.359375 161.042969 L 262.21875 160.796875 L 293.546875 160.796875 L 295.40625 161.042969 L 297.136719 161.757812 L 298.625 162.898438 L 299.765625 164.386719 L 300.484375 166.117188 L 300.726562 167.976562 L 300.726562 196.90625 L 300.484375 198.761719 L 299.765625 200.496094 L 298.625 201.980469 L 297.136719 203.121094 L 295.40625 203.839844 L 293.546875 204.085938 L 262.21875 204.085938 L 260.359375 203.839844 L 258.628906 203.121094 L 257.140625 201.980469 L 256 200.496094 L 255.285156 198.761719 L 255.039062 196.90625 Z \"/>\n",
       "<path style=\" stroke:none;fill-rule:nonzero;fill:rgb(74.509804%,74.509804%,74.509804%);fill-opacity:0.2;\" d=\"M 183.128906 443.519531 L 183.375 441.660156 L 184.09375 439.929688 L 185.234375 438.441406 L 186.71875 437.300781 L 188.453125 436.582031 L 190.3125 436.339844 L 221.640625 436.339844 L 223.496094 436.582031 L 225.230469 437.300781 L 226.714844 438.441406 L 227.855469 439.929688 L 228.574219 441.660156 L 228.820312 443.519531 L 228.820312 472.445312 L 228.574219 474.304688 L 227.855469 476.035156 L 226.714844 477.523438 L 225.230469 478.664062 L 223.496094 479.382812 L 221.640625 479.628906 L 190.3125 479.628906 L 188.453125 479.382812 L 186.71875 478.664062 L 185.234375 477.523438 L 184.09375 476.035156 L 183.375 474.304688 L 183.128906 472.445312 Z \"/>\n",
       "<path style=\" stroke:none;fill-rule:nonzero;fill:rgb(74.509804%,74.509804%,74.509804%);fill-opacity:0.2;\" d=\"M 326.949219 227.875 L 327.191406 226.019531 L 327.910156 224.285156 L 329.050781 222.800781 L 330.539062 221.660156 L 332.269531 220.941406 L 334.128906 220.695312 L 365.457031 220.695312 L 367.316406 220.941406 L 369.046875 221.660156 L 370.535156 222.800781 L 371.675781 224.285156 L 372.390625 226.019531 L 372.636719 227.875 L 372.636719 256.804688 L 372.390625 258.664062 L 371.675781 260.394531 L 370.535156 261.882812 L 369.046875 263.023438 L 367.316406 263.742188 L 365.457031 263.984375 L 334.128906 263.984375 L 332.269531 263.742188 L 330.539062 263.023438 L 329.050781 261.882812 L 327.910156 260.394531 L 327.191406 258.664062 L 326.949219 256.804688 Z \"/>\n",
       "<path style=\" stroke:none;fill-rule:nonzero;fill:rgb(74.509804%,74.509804%,74.509804%);fill-opacity:0.2;\" d=\"M 270.671875 287.777344 L 270.917969 285.917969 L 271.632812 284.1875 L 272.773438 282.699219 L 274.261719 281.558594 L 275.992188 280.84375 L 277.851562 280.597656 L 309.179688 280.597656 L 311.039062 280.84375 L 312.769531 281.558594 L 314.257812 282.699219 L 315.398438 284.1875 L 316.117188 285.917969 L 316.359375 287.777344 L 316.359375 316.707031 L 316.117188 318.5625 L 315.398438 320.296875 L 314.257812 321.78125 L 312.769531 322.925781 L 311.039062 323.640625 L 309.179688 323.886719 L 277.851562 323.886719 L 275.992188 323.640625 L 274.261719 322.925781 L 272.773438 321.78125 L 271.632812 320.296875 L 270.917969 318.5625 L 270.671875 316.707031 Z \"/>\n",
       "<path style=\" stroke:none;fill-rule:nonzero;fill:rgb(74.509804%,74.509804%,74.509804%);fill-opacity:0.2;\" d=\"M 233.152344 443.519531 L 233.398438 441.660156 L 234.117188 439.929688 L 235.257812 438.441406 L 236.746094 437.300781 L 238.476562 436.582031 L 240.335938 436.339844 L 271.664062 436.339844 L 273.519531 436.582031 L 275.253906 437.300781 L 276.738281 438.441406 L 277.878906 439.929688 L 278.597656 441.660156 L 278.84375 443.519531 L 278.84375 472.445312 L 278.597656 474.304688 L 277.878906 476.035156 L 276.738281 477.523438 L 275.253906 478.664062 L 273.519531 479.382812 L 271.664062 479.628906 L 240.335938 479.628906 L 238.476562 479.382812 L 236.746094 478.664062 L 235.257812 477.523438 L 234.117188 476.035156 L 233.398438 474.304688 L 233.152344 472.445312 Z \"/>\n",
       "<path style=\" stroke:none;fill-rule:nonzero;fill:rgb(74.509804%,74.509804%,74.509804%);fill-opacity:0.2;\" d=\"M 308.191406 347.679688 L 308.433594 345.820312 L 309.152344 344.085938 L 310.292969 342.601562 L 311.78125 341.460938 L 313.511719 340.742188 L 315.371094 340.496094 L 346.699219 340.496094 L 348.554688 340.742188 L 350.289062 341.460938 L 351.773438 342.601562 L 352.914062 344.085938 L 353.632812 345.820312 L 353.878906 347.679688 L 353.878906 376.605469 L 353.632812 378.464844 L 352.914062 380.195312 L 351.773438 381.683594 L 350.289062 382.824219 L 348.554688 383.542969 L 346.699219 383.785156 L 315.371094 383.785156 L 313.511719 383.542969 L 311.78125 382.824219 L 310.292969 381.683594 L 309.152344 380.195312 L 308.433594 378.464844 L 308.191406 376.605469 Z \"/>\n",
       "<path style=\" stroke:none;fill-rule:nonzero;fill:rgb(74.509804%,74.509804%,74.509804%);fill-opacity:0.2;\" d=\"M 283.175781 443.519531 L 283.421875 441.660156 L 284.140625 439.929688 L 285.28125 438.441406 L 286.769531 437.300781 L 288.5 436.582031 L 290.359375 436.339844 L 321.6875 436.339844 L 323.542969 436.582031 L 325.277344 437.300781 L 326.761719 438.441406 L 327.902344 439.929688 L 328.621094 441.660156 L 328.867188 443.519531 L 328.867188 472.445312 L 328.621094 474.304688 L 327.902344 476.035156 L 326.761719 477.523438 L 325.277344 478.664062 L 323.542969 479.382812 L 321.6875 479.628906 L 290.359375 479.628906 L 288.5 479.382812 L 286.769531 478.664062 L 285.28125 477.523438 L 284.140625 476.035156 L 283.421875 474.304688 L 283.175781 472.445312 Z \"/>\n",
       "<path style=\" stroke:none;fill-rule:nonzero;fill:rgb(74.509804%,74.509804%,74.509804%);fill-opacity:0.2;\" d=\"M 333.203125 443.519531 L 333.445312 441.660156 L 334.164062 439.929688 L 335.304688 438.441406 L 336.792969 437.300781 L 338.523438 436.582031 L 340.382812 436.339844 L 371.710938 436.339844 L 373.566406 436.582031 L 375.300781 437.300781 L 376.785156 438.441406 L 377.925781 439.929688 L 378.644531 441.660156 L 378.890625 443.519531 L 378.890625 472.445312 L 378.644531 474.304688 L 377.925781 476.035156 L 376.785156 477.523438 L 375.300781 478.664062 L 373.566406 479.382812 L 371.710938 479.628906 L 340.382812 479.628906 L 338.523438 479.382812 L 336.792969 478.664062 L 335.304688 477.523438 L 334.164062 476.035156 L 333.445312 474.304688 L 333.203125 472.445312 Z \"/>\n",
       "<path style=\" stroke:none;fill-rule:nonzero;fill:rgb(74.509804%,74.509804%,74.509804%);fill-opacity:0.2;\" d=\"M 383.226562 443.519531 L 383.46875 441.660156 L 384.1875 439.929688 L 385.328125 438.441406 L 386.816406 437.300781 L 388.546875 436.582031 L 390.40625 436.339844 L 421.734375 436.339844 L 423.589844 436.582031 L 425.324219 437.300781 L 426.808594 438.441406 L 427.953125 439.929688 L 428.667969 441.660156 L 428.914062 443.519531 L 428.914062 472.445312 L 428.667969 474.304688 L 427.953125 476.035156 L 426.808594 477.523438 L 425.324219 478.664062 L 423.589844 479.382812 L 421.734375 479.628906 L 390.40625 479.628906 L 388.546875 479.382812 L 386.816406 478.664062 L 385.328125 477.523438 L 384.1875 476.035156 L 383.46875 474.304688 L 383.226562 472.445312 Z \"/>\n",
       "<path style=\" stroke:none;fill-rule:nonzero;fill:rgb(74.509804%,74.509804%,74.509804%);fill-opacity:0.2;\" d=\"M 433.25 443.519531 L 433.492188 441.660156 L 434.210938 439.929688 L 435.351562 438.441406 L 436.839844 437.300781 L 438.570312 436.582031 L 440.429688 436.339844 L 471.757812 436.339844 L 473.613281 436.582031 L 475.347656 437.300781 L 476.832031 438.441406 L 477.976562 439.929688 L 478.691406 441.660156 L 478.9375 443.519531 L 478.9375 472.445312 L 478.691406 474.304688 L 477.976562 476.035156 L 476.832031 477.523438 L 475.347656 478.664062 L 473.613281 479.382812 L 471.757812 479.628906 L 440.429688 479.628906 L 438.570312 479.382812 L 436.839844 478.664062 L 435.351562 477.523438 L 434.210938 476.035156 L 433.492188 474.304688 L 433.25 472.445312 Z \"/>\n",
       "<path style=\" stroke:none;fill-rule:nonzero;fill:rgb(74.509804%,74.509804%,74.509804%);fill-opacity:0.301961;\" d=\"M 207.859375 48.675781 L 208.105469 46.816406 L 208.824219 45.085938 L 209.964844 43.597656 L 211.449219 42.457031 L 213.183594 41.738281 L 215.039062 41.496094 L 245.371094 41.496094 L 247.226562 41.738281 L 248.960938 42.457031 L 250.445312 43.597656 L 251.585938 45.085938 L 252.304688 46.816406 L 252.550781 48.675781 L 252.550781 76.605469 L 252.304688 78.460938 L 251.585938 80.195312 L 250.445312 81.679688 L 248.960938 82.820312 L 247.226562 83.539062 L 245.371094 83.785156 L 215.039062 83.785156 L 213.183594 83.539062 L 211.449219 82.820312 L 209.964844 81.679688 L 208.824219 80.195312 L 208.105469 78.460938 L 207.859375 76.605469 Z \"/>\n",
       "<path style=\" stroke:none;fill-rule:nonzero;fill:rgb(74.509804%,74.509804%,74.509804%);fill-opacity:0.301961;\" d=\"M 71.078125 108.574219 L 71.320312 106.71875 L 72.039062 104.984375 L 73.179688 103.5 L 74.667969 102.359375 L 76.398438 101.640625 L 78.257812 101.394531 L 108.585938 101.394531 L 110.445312 101.640625 L 112.175781 102.359375 L 113.664062 103.5 L 114.804688 104.984375 L 115.523438 106.71875 L 115.765625 108.574219 L 115.765625 136.503906 L 115.523438 138.363281 L 114.804688 140.09375 L 113.664062 141.582031 L 112.175781 142.722656 L 110.445312 143.441406 L 108.585938 143.683594 L 78.257812 143.683594 L 76.398438 143.441406 L 74.667969 142.722656 L 73.179688 141.582031 L 72.039062 140.09375 L 71.320312 138.363281 L 71.078125 136.503906 Z \"/>\n",
       "<path style=\" stroke:none;fill-rule:nonzero;fill:rgb(74.509804%,74.509804%,74.509804%);fill-opacity:0.301961;\" d=\"M 33.558594 444.019531 L 33.804688 442.160156 L 34.523438 440.429688 L 35.664062 438.941406 L 37.148438 437.800781 L 38.882812 437.082031 L 40.738281 436.839844 L 71.070312 436.839844 L 72.925781 437.082031 L 74.660156 437.800781 L 76.144531 438.941406 L 77.285156 440.429688 L 78.003906 442.160156 L 78.25 444.019531 L 78.25 471.945312 L 78.003906 473.804688 L 77.285156 475.539062 L 76.144531 477.023438 L 74.660156 478.164062 L 72.925781 478.882812 L 71.070312 479.128906 L 40.738281 479.128906 L 38.882812 478.882812 L 37.148438 478.164062 L 35.664062 477.023438 L 34.523438 475.539062 L 33.804688 473.804688 L 33.558594 471.945312 Z \"/>\n",
       "<path style=\" stroke:none;fill-rule:nonzero;fill:rgb(74.509804%,74.509804%,74.509804%);fill-opacity:0.301961;\" d=\"M 108.59375 168.476562 L 108.839844 166.617188 L 109.558594 164.886719 L 110.699219 163.398438 L 112.183594 162.257812 L 113.917969 161.539062 L 115.773438 161.296875 L 146.105469 161.296875 L 147.960938 161.539062 L 149.695312 162.257812 L 151.179688 163.398438 L 152.320312 164.886719 L 153.039062 166.617188 L 153.285156 168.476562 L 153.285156 196.40625 L 153.039062 198.261719 L 152.320312 199.996094 L 151.179688 201.480469 L 149.695312 202.621094 L 147.960938 203.339844 L 146.105469 203.585938 L 115.773438 203.585938 L 113.917969 203.339844 L 112.183594 202.621094 L 110.699219 201.480469 L 109.558594 199.996094 L 108.839844 198.261719 L 108.59375 196.40625 Z \"/>\n",
       "<path style=\" stroke:none;fill-rule:nonzero;fill:rgb(74.509804%,74.509804%,74.509804%);fill-opacity:0.301961;\" d=\"M 83.582031 444.019531 L 83.828125 442.160156 L 84.546875 440.429688 L 85.6875 438.941406 L 87.171875 437.800781 L 88.90625 437.082031 L 90.761719 436.839844 L 121.09375 436.839844 L 122.949219 437.082031 L 124.683594 437.800781 L 126.167969 438.941406 L 127.308594 440.429688 L 128.027344 442.160156 L 128.273438 444.019531 L 128.273438 471.945312 L 128.027344 473.804688 L 127.308594 475.539062 L 126.167969 477.023438 L 124.683594 478.164062 L 122.949219 478.882812 L 121.09375 479.128906 L 90.761719 479.128906 L 88.90625 478.882812 L 87.171875 478.164062 L 85.6875 477.023438 L 84.546875 475.539062 L 83.828125 473.804688 L 83.582031 471.945312 Z \"/>\n",
       "<path style=\" stroke:none;fill-rule:nonzero;fill:rgb(74.509804%,74.509804%,74.509804%);fill-opacity:0.301961;\" d=\"M 130.828125 444.019531 L 131.070312 442.160156 L 131.789062 440.429688 L 132.929688 438.941406 L 134.417969 437.800781 L 136.148438 437.082031 L 138.007812 436.839844 L 173.894531 436.839844 L 175.753906 437.082031 L 177.484375 437.800781 L 178.972656 438.941406 L 180.113281 440.429688 L 180.832031 442.160156 L 181.074219 444.019531 L 181.074219 471.945312 L 180.832031 473.804688 L 180.113281 475.539062 L 178.972656 477.023438 L 177.484375 478.164062 L 175.753906 478.882812 L 173.894531 479.128906 L 138.007812 479.128906 L 136.148438 478.882812 L 134.417969 478.164062 L 132.929688 477.023438 L 131.789062 475.539062 L 131.070312 473.804688 L 130.828125 471.945312 Z \"/>\n",
       "<path style=\" stroke:none;fill-rule:nonzero;fill:rgb(74.509804%,74.509804%,74.509804%);fill-opacity:0.301961;\" d=\"M 344.644531 108.574219 L 344.886719 106.71875 L 345.605469 104.984375 L 346.746094 103.5 L 348.234375 102.359375 L 349.964844 101.640625 L 351.824219 101.394531 L 382.152344 101.394531 L 384.011719 101.640625 L 385.742188 102.359375 L 387.230469 103.5 L 388.371094 104.984375 L 389.085938 106.71875 L 389.332031 108.574219 L 389.332031 136.503906 L 389.085938 138.363281 L 388.371094 140.09375 L 387.230469 141.582031 L 385.742188 142.722656 L 384.011719 143.441406 L 382.152344 143.683594 L 351.824219 143.683594 L 349.964844 143.441406 L 348.234375 142.722656 L 346.746094 141.582031 L 345.605469 140.09375 L 344.886719 138.363281 L 344.644531 136.503906 Z \"/>\n",
       "<path style=\" stroke:none;fill-rule:nonzero;fill:rgb(74.509804%,74.509804%,74.509804%);fill-opacity:0.301961;\" d=\"M 255.539062 168.476562 L 255.785156 166.617188 L 256.5 164.886719 L 257.640625 163.398438 L 259.128906 162.257812 L 260.859375 161.539062 L 262.71875 161.296875 L 293.046875 161.296875 L 294.90625 161.539062 L 296.636719 162.257812 L 298.125 163.398438 L 299.265625 164.886719 L 299.984375 166.617188 L 300.226562 168.476562 L 300.226562 196.40625 L 299.984375 198.261719 L 299.265625 199.996094 L 298.125 201.480469 L 296.636719 202.621094 L 294.90625 203.339844 L 293.046875 203.585938 L 262.71875 203.585938 L 260.859375 203.339844 L 259.128906 202.621094 L 257.640625 201.480469 L 256.5 199.996094 L 255.785156 198.261719 L 255.539062 196.40625 Z \"/>\n",
       "<path style=\" stroke:none;fill-rule:nonzero;fill:rgb(74.509804%,74.509804%,74.509804%);fill-opacity:0.301961;\" d=\"M 183.628906 444.019531 L 183.875 442.160156 L 184.59375 440.429688 L 185.734375 438.941406 L 187.21875 437.800781 L 188.953125 437.082031 L 190.808594 436.839844 L 221.140625 436.839844 L 222.996094 437.082031 L 224.730469 437.800781 L 226.214844 438.941406 L 227.355469 440.429688 L 228.074219 442.160156 L 228.320312 444.019531 L 228.320312 471.945312 L 228.074219 473.804688 L 227.355469 475.539062 L 226.214844 477.023438 L 224.730469 478.164062 L 222.996094 478.882812 L 221.140625 479.128906 L 190.808594 479.128906 L 188.953125 478.882812 L 187.21875 478.164062 L 185.734375 477.023438 L 184.59375 475.539062 L 183.875 473.804688 L 183.628906 471.945312 Z \"/>\n",
       "<path style=\" stroke:none;fill-rule:nonzero;fill:rgb(74.509804%,74.509804%,74.509804%);fill-opacity:0.301961;\" d=\"M 327.449219 228.375 L 327.691406 226.519531 L 328.410156 224.785156 L 329.550781 223.300781 L 331.039062 222.160156 L 332.769531 221.441406 L 334.628906 221.195312 L 364.957031 221.195312 L 366.816406 221.441406 L 368.546875 222.160156 L 370.035156 223.300781 L 371.175781 224.785156 L 371.890625 226.519531 L 372.136719 228.375 L 372.136719 256.304688 L 371.890625 258.164062 L 371.175781 259.894531 L 370.035156 261.382812 L 368.546875 262.523438 L 366.816406 263.242188 L 364.957031 263.484375 L 334.628906 263.484375 L 332.769531 263.242188 L 331.039062 262.523438 L 329.550781 261.382812 L 328.410156 259.894531 L 327.691406 258.164062 L 327.449219 256.304688 Z \"/>\n",
       "<path style=\" stroke:none;fill-rule:nonzero;fill:rgb(74.509804%,74.509804%,74.509804%);fill-opacity:0.301961;\" d=\"M 271.171875 288.277344 L 271.417969 286.417969 L 272.132812 284.6875 L 273.273438 283.199219 L 274.761719 282.058594 L 276.492188 281.34375 L 278.351562 281.097656 L 308.679688 281.097656 L 310.539062 281.34375 L 312.269531 282.058594 L 313.757812 283.199219 L 314.898438 284.6875 L 315.617188 286.417969 L 315.859375 288.277344 L 315.859375 316.207031 L 315.617188 318.0625 L 314.898438 319.796875 L 313.757812 321.28125 L 312.269531 322.425781 L 310.539062 323.140625 L 308.679688 323.386719 L 278.351562 323.386719 L 276.492188 323.140625 L 274.761719 322.425781 L 273.273438 321.28125 L 272.132812 319.796875 L 271.417969 318.0625 L 271.171875 316.207031 Z \"/>\n",
       "<path style=\" stroke:none;fill-rule:nonzero;fill:rgb(74.509804%,74.509804%,74.509804%);fill-opacity:0.301961;\" d=\"M 233.652344 444.019531 L 233.898438 442.160156 L 234.617188 440.429688 L 235.757812 438.941406 L 237.242188 437.800781 L 238.976562 437.082031 L 240.835938 436.839844 L 271.164062 436.839844 L 273.019531 437.082031 L 274.753906 437.800781 L 276.238281 438.941406 L 277.382812 440.429688 L 278.097656 442.160156 L 278.34375 444.019531 L 278.34375 471.945312 L 278.097656 473.804688 L 277.382812 475.539062 L 276.238281 477.023438 L 274.753906 478.164062 L 273.019531 478.882812 L 271.164062 479.128906 L 240.835938 479.128906 L 238.976562 478.882812 L 237.242188 478.164062 L 235.757812 477.023438 L 234.617188 475.539062 L 233.898438 473.804688 L 233.652344 471.945312 Z \"/>\n",
       "<path style=\" stroke:none;fill-rule:nonzero;fill:rgb(74.509804%,74.509804%,74.509804%);fill-opacity:0.301961;\" d=\"M 308.6875 348.175781 L 308.933594 346.320312 L 309.652344 344.585938 L 310.792969 343.101562 L 312.277344 341.960938 L 314.011719 341.242188 L 315.871094 340.996094 L 346.199219 340.996094 L 348.054688 341.242188 L 349.789062 341.960938 L 351.273438 343.101562 L 352.417969 344.585938 L 353.132812 346.320312 L 353.378906 348.175781 L 353.378906 376.105469 L 353.132812 377.964844 L 352.417969 379.695312 L 351.273438 381.183594 L 349.789062 382.324219 L 348.054688 383.042969 L 346.199219 383.285156 L 315.871094 383.285156 L 314.011719 383.042969 L 312.277344 382.324219 L 310.792969 381.183594 L 309.652344 379.695312 L 308.933594 377.964844 L 308.6875 376.105469 Z \"/>\n",
       "<path style=\" stroke:none;fill-rule:nonzero;fill:rgb(74.509804%,74.509804%,74.509804%);fill-opacity:0.301961;\" d=\"M 283.675781 444.019531 L 283.921875 442.160156 L 284.640625 440.429688 L 285.78125 438.941406 L 287.265625 437.800781 L 289 437.082031 L 290.859375 436.839844 L 321.1875 436.839844 L 323.042969 437.082031 L 324.777344 437.800781 L 326.261719 438.941406 L 327.40625 440.429688 L 328.121094 442.160156 L 328.367188 444.019531 L 328.367188 471.945312 L 328.121094 473.804688 L 327.40625 475.539062 L 326.261719 477.023438 L 324.777344 478.164062 L 323.042969 478.882812 L 321.1875 479.128906 L 290.859375 479.128906 L 289 478.882812 L 287.265625 478.164062 L 285.78125 477.023438 L 284.640625 475.539062 L 283.921875 473.804688 L 283.675781 471.945312 Z \"/>\n",
       "<path style=\" stroke:none;fill-rule:nonzero;fill:rgb(74.509804%,74.509804%,74.509804%);fill-opacity:0.301961;\" d=\"M 333.699219 444.019531 L 333.945312 442.160156 L 334.664062 440.429688 L 335.804688 438.941406 L 337.292969 437.800781 L 339.023438 437.082031 L 340.882812 436.839844 L 371.210938 436.839844 L 373.066406 437.082031 L 374.800781 437.800781 L 376.285156 438.941406 L 377.429688 440.429688 L 378.144531 442.160156 L 378.390625 444.019531 L 378.390625 471.945312 L 378.144531 473.804688 L 377.429688 475.539062 L 376.285156 477.023438 L 374.800781 478.164062 L 373.066406 478.882812 L 371.210938 479.128906 L 340.882812 479.128906 L 339.023438 478.882812 L 337.292969 478.164062 L 335.804688 477.023438 L 334.664062 475.539062 L 333.945312 473.804688 L 333.699219 471.945312 Z \"/>\n",
       "<path style=\" stroke:none;fill-rule:nonzero;fill:rgb(74.509804%,74.509804%,74.509804%);fill-opacity:0.301961;\" d=\"M 383.722656 444.019531 L 383.96875 442.160156 L 384.6875 440.429688 L 385.828125 438.941406 L 387.316406 437.800781 L 389.046875 437.082031 L 390.90625 436.839844 L 421.234375 436.839844 L 423.089844 437.082031 L 424.824219 437.800781 L 426.308594 438.941406 L 427.453125 440.429688 L 428.167969 442.160156 L 428.414062 444.019531 L 428.414062 471.945312 L 428.167969 473.804688 L 427.453125 475.539062 L 426.308594 477.023438 L 424.824219 478.164062 L 423.089844 478.882812 L 421.234375 479.128906 L 390.90625 479.128906 L 389.046875 478.882812 L 387.316406 478.164062 L 385.828125 477.023438 L 384.6875 475.539062 L 383.96875 473.804688 L 383.722656 471.945312 Z \"/>\n",
       "<path style=\" stroke:none;fill-rule:nonzero;fill:rgb(74.509804%,74.509804%,74.509804%);fill-opacity:0.301961;\" d=\"M 433.75 444.019531 L 433.992188 442.160156 L 434.710938 440.429688 L 435.851562 438.941406 L 437.339844 437.800781 L 439.070312 437.082031 L 440.929688 436.839844 L 471.257812 436.839844 L 473.113281 437.082031 L 474.847656 437.800781 L 476.332031 438.941406 L 477.476562 440.429688 L 478.191406 442.160156 L 478.4375 444.019531 L 478.4375 471.945312 L 478.191406 473.804688 L 477.476562 475.539062 L 476.332031 477.023438 L 474.847656 478.164062 L 473.113281 478.882812 L 471.257812 479.128906 L 440.929688 479.128906 L 439.070312 478.882812 L 437.339844 478.164062 L 435.851562 477.023438 L 434.710938 475.539062 L 433.992188 473.804688 L 433.75 471.945312 Z \"/>\n",
       "<path style=\" stroke:none;fill-rule:nonzero;fill:rgb(74.509804%,74.509804%,74.509804%);fill-opacity:0.639216;\" d=\"M 208.359375 49.175781 L 208.605469 47.316406 L 209.324219 45.585938 L 210.464844 44.097656 L 211.949219 42.957031 L 213.683594 42.238281 L 215.539062 41.996094 L 244.871094 41.996094 L 246.726562 42.238281 L 248.460938 42.957031 L 249.945312 44.097656 L 251.085938 45.585938 L 251.804688 47.316406 L 252.050781 49.175781 L 252.050781 76.105469 L 251.804688 77.960938 L 251.085938 79.695312 L 249.945312 81.179688 L 248.460938 82.320312 L 246.726562 83.039062 L 244.871094 83.285156 L 215.539062 83.285156 L 213.683594 83.039062 L 211.949219 82.320312 L 210.464844 81.179688 L 209.324219 79.695312 L 208.605469 77.960938 L 208.359375 76.105469 Z \"/>\n",
       "<path style=\" stroke:none;fill-rule:nonzero;fill:rgb(74.509804%,74.509804%,74.509804%);fill-opacity:0.639216;\" d=\"M 71.578125 109.074219 L 71.820312 107.21875 L 72.539062 105.484375 L 73.679688 104 L 75.167969 102.855469 L 76.898438 102.140625 L 78.757812 101.894531 L 108.085938 101.894531 L 109.945312 102.140625 L 111.675781 102.855469 L 113.164062 104 L 114.304688 105.484375 L 115.023438 107.21875 L 115.265625 109.074219 L 115.265625 136.003906 L 115.023438 137.863281 L 114.304688 139.59375 L 113.164062 141.082031 L 111.675781 142.222656 L 109.945312 142.941406 L 108.085938 143.183594 L 78.757812 143.183594 L 76.898438 142.941406 L 75.167969 142.222656 L 73.679688 141.082031 L 72.539062 139.59375 L 71.820312 137.863281 L 71.578125 136.003906 Z \"/>\n",
       "<path style=\" stroke:none;fill-rule:nonzero;fill:rgb(74.509804%,74.509804%,74.509804%);fill-opacity:0.639216;\" d=\"M 34.058594 444.519531 L 34.304688 442.660156 L 35.023438 440.929688 L 36.164062 439.441406 L 37.648438 438.300781 L 39.382812 437.582031 L 41.238281 437.339844 L 70.570312 437.339844 L 72.425781 437.582031 L 74.160156 438.300781 L 75.644531 439.441406 L 76.785156 440.929688 L 77.503906 442.660156 L 77.75 444.519531 L 77.75 471.449219 L 77.503906 473.304688 L 76.785156 475.039062 L 75.644531 476.523438 L 74.160156 477.664062 L 72.425781 478.382812 L 70.570312 478.628906 L 41.238281 478.628906 L 39.382812 478.382812 L 37.648438 477.664062 L 36.164062 476.523438 L 35.023438 475.039062 L 34.304688 473.304688 L 34.058594 471.449219 Z \"/>\n",
       "<path style=\" stroke:none;fill-rule:nonzero;fill:rgb(74.509804%,74.509804%,74.509804%);fill-opacity:0.639216;\" d=\"M 109.09375 168.976562 L 109.339844 167.117188 L 110.058594 165.386719 L 111.199219 163.898438 L 112.683594 162.757812 L 114.417969 162.039062 L 116.273438 161.796875 L 145.605469 161.796875 L 147.460938 162.039062 L 149.195312 162.757812 L 150.679688 163.898438 L 151.824219 165.386719 L 152.539062 167.117188 L 152.785156 168.976562 L 152.785156 195.90625 L 152.539062 197.761719 L 151.824219 199.496094 L 150.679688 200.980469 L 149.195312 202.125 L 147.460938 202.839844 L 145.605469 203.085938 L 116.273438 203.085938 L 114.417969 202.839844 L 112.683594 202.125 L 111.199219 200.980469 L 110.058594 199.496094 L 109.339844 197.761719 L 109.09375 195.90625 Z \"/>\n",
       "<path style=\" stroke:none;fill-rule:nonzero;fill:rgb(74.509804%,74.509804%,74.509804%);fill-opacity:0.639216;\" d=\"M 84.082031 444.519531 L 84.328125 442.660156 L 85.046875 440.929688 L 86.1875 439.441406 L 87.671875 438.300781 L 89.40625 437.582031 L 91.261719 437.339844 L 120.59375 437.339844 L 122.449219 437.582031 L 124.183594 438.300781 L 125.667969 439.441406 L 126.808594 440.929688 L 127.527344 442.660156 L 127.773438 444.519531 L 127.773438 471.449219 L 127.527344 473.304688 L 126.808594 475.039062 L 125.667969 476.523438 L 124.183594 477.664062 L 122.449219 478.382812 L 120.59375 478.628906 L 91.261719 478.628906 L 89.40625 478.382812 L 87.671875 477.664062 L 86.1875 476.523438 L 85.046875 475.039062 L 84.328125 473.304688 L 84.082031 471.449219 Z \"/>\n",
       "<path style=\" stroke:none;fill-rule:nonzero;fill:rgb(74.509804%,74.509804%,74.509804%);fill-opacity:0.639216;\" d=\"M 131.328125 444.519531 L 131.570312 442.660156 L 132.289062 440.929688 L 133.429688 439.441406 L 134.917969 438.300781 L 136.648438 437.582031 L 138.507812 437.339844 L 173.394531 437.339844 L 175.253906 437.582031 L 176.984375 438.300781 L 178.472656 439.441406 L 179.613281 440.929688 L 180.332031 442.660156 L 180.574219 444.519531 L 180.574219 471.449219 L 180.332031 473.304688 L 179.613281 475.039062 L 178.472656 476.523438 L 176.984375 477.664062 L 175.253906 478.382812 L 173.394531 478.628906 L 138.507812 478.628906 L 136.648438 478.382812 L 134.917969 477.664062 L 133.429688 476.523438 L 132.289062 475.039062 L 131.570312 473.304688 L 131.328125 471.449219 Z \"/>\n",
       "<path style=\" stroke:none;fill-rule:nonzero;fill:rgb(74.509804%,74.509804%,74.509804%);fill-opacity:0.639216;\" d=\"M 345.144531 109.074219 L 345.386719 107.21875 L 346.105469 105.484375 L 347.246094 104 L 348.734375 102.855469 L 350.464844 102.140625 L 352.324219 101.894531 L 381.652344 101.894531 L 383.511719 102.140625 L 385.242188 102.855469 L 386.730469 104 L 387.871094 105.484375 L 388.589844 107.21875 L 388.832031 109.074219 L 388.832031 136.003906 L 388.589844 137.863281 L 387.871094 139.59375 L 386.730469 141.082031 L 385.242188 142.222656 L 383.511719 142.941406 L 381.652344 143.183594 L 352.324219 143.183594 L 350.464844 142.941406 L 348.734375 142.222656 L 347.246094 141.082031 L 346.105469 139.59375 L 345.386719 137.863281 L 345.144531 136.003906 Z \"/>\n",
       "<path style=\" stroke:none;fill-rule:nonzero;fill:rgb(74.509804%,74.509804%,74.509804%);fill-opacity:0.639216;\" d=\"M 256.039062 168.976562 L 256.285156 167.117188 L 257 165.386719 L 258.140625 163.898438 L 259.628906 162.757812 L 261.359375 162.039062 L 263.21875 161.796875 L 292.546875 161.796875 L 294.40625 162.039062 L 296.136719 162.757812 L 297.625 163.898438 L 298.765625 165.386719 L 299.484375 167.117188 L 299.726562 168.976562 L 299.726562 195.90625 L 299.484375 197.761719 L 298.765625 199.496094 L 297.625 200.980469 L 296.136719 202.125 L 294.40625 202.839844 L 292.546875 203.085938 L 263.21875 203.085938 L 261.359375 202.839844 L 259.628906 202.125 L 258.140625 200.980469 L 257 199.496094 L 256.285156 197.761719 L 256.039062 195.90625 Z \"/>\n",
       "<path style=\" stroke:none;fill-rule:nonzero;fill:rgb(74.509804%,74.509804%,74.509804%);fill-opacity:0.639216;\" d=\"M 184.128906 444.519531 L 184.375 442.660156 L 185.09375 440.929688 L 186.234375 439.441406 L 187.71875 438.300781 L 189.453125 437.582031 L 191.308594 437.339844 L 220.640625 437.339844 L 222.496094 437.582031 L 224.230469 438.300781 L 225.714844 439.441406 L 226.859375 440.929688 L 227.574219 442.660156 L 227.820312 444.519531 L 227.820312 471.449219 L 227.574219 473.304688 L 226.859375 475.039062 L 225.714844 476.523438 L 224.230469 477.664062 L 222.496094 478.382812 L 220.640625 478.628906 L 191.308594 478.628906 L 189.453125 478.382812 L 187.71875 477.664062 L 186.234375 476.523438 L 185.09375 475.039062 L 184.375 473.304688 L 184.128906 471.449219 Z \"/>\n",
       "<path style=\" stroke:none;fill-rule:nonzero;fill:rgb(74.509804%,74.509804%,74.509804%);fill-opacity:0.639216;\" d=\"M 327.949219 228.875 L 328.191406 227.019531 L 328.910156 225.285156 L 330.050781 223.800781 L 331.539062 222.660156 L 333.269531 221.941406 L 335.128906 221.695312 L 364.457031 221.695312 L 366.316406 221.941406 L 368.046875 222.660156 L 369.535156 223.800781 L 370.675781 225.285156 L 371.390625 227.019531 L 371.636719 228.875 L 371.636719 255.804688 L 371.390625 257.664062 L 370.675781 259.394531 L 369.535156 260.882812 L 368.046875 262.023438 L 366.316406 262.742188 L 364.457031 262.984375 L 335.128906 262.984375 L 333.269531 262.742188 L 331.539062 262.023438 L 330.050781 260.882812 L 328.910156 259.394531 L 328.191406 257.664062 L 327.949219 255.804688 Z \"/>\n",
       "<path style=\" stroke:none;fill-rule:nonzero;fill:rgb(74.509804%,74.509804%,74.509804%);fill-opacity:0.639216;\" d=\"M 271.671875 288.777344 L 271.917969 286.917969 L 272.632812 285.1875 L 273.773438 283.699219 L 275.261719 282.558594 L 276.992188 281.839844 L 278.851562 281.597656 L 308.179688 281.597656 L 310.039062 281.839844 L 311.769531 282.558594 L 313.257812 283.699219 L 314.398438 285.1875 L 315.117188 286.917969 L 315.359375 288.777344 L 315.359375 315.707031 L 315.117188 317.566406 L 314.398438 319.296875 L 313.257812 320.78125 L 311.769531 321.925781 L 310.039062 322.640625 L 308.179688 322.886719 L 278.851562 322.886719 L 276.992188 322.640625 L 275.261719 321.925781 L 273.773438 320.78125 L 272.632812 319.296875 L 271.917969 317.566406 L 271.671875 315.707031 Z \"/>\n",
       "<path style=\" stroke:none;fill-rule:nonzero;fill:rgb(74.509804%,74.509804%,74.509804%);fill-opacity:0.639216;\" d=\"M 234.152344 444.519531 L 234.398438 442.660156 L 235.117188 440.929688 L 236.257812 439.441406 L 237.742188 438.300781 L 239.476562 437.582031 L 241.332031 437.339844 L 270.664062 437.339844 L 272.519531 437.582031 L 274.253906 438.300781 L 275.738281 439.441406 L 276.882812 440.929688 L 277.597656 442.660156 L 277.84375 444.519531 L 277.84375 471.449219 L 277.597656 473.304688 L 276.882812 475.039062 L 275.738281 476.523438 L 274.253906 477.664062 L 272.519531 478.382812 L 270.664062 478.628906 L 241.332031 478.628906 L 239.476562 478.382812 L 237.742188 477.664062 L 236.257812 476.523438 L 235.117188 475.039062 L 234.398438 473.304688 L 234.152344 471.449219 Z \"/>\n",
       "<path style=\" stroke:none;fill-rule:nonzero;fill:rgb(74.509804%,74.509804%,74.509804%);fill-opacity:0.639216;\" d=\"M 309.1875 348.675781 L 309.433594 346.820312 L 310.152344 345.085938 L 311.292969 343.601562 L 312.777344 342.460938 L 314.511719 341.742188 L 316.367188 341.496094 L 345.699219 341.496094 L 347.554688 341.742188 L 349.289062 342.460938 L 350.773438 343.601562 L 351.917969 345.085938 L 352.632812 346.820312 L 352.878906 348.675781 L 352.878906 375.605469 L 352.632812 377.464844 L 351.917969 379.195312 L 350.773438 380.683594 L 349.289062 381.824219 L 347.554688 382.542969 L 345.699219 382.785156 L 316.367188 382.785156 L 314.511719 382.542969 L 312.777344 381.824219 L 311.292969 380.683594 L 310.152344 379.195312 L 309.433594 377.464844 L 309.1875 375.605469 Z \"/>\n",
       "<path style=\" stroke:none;fill-rule:nonzero;fill:rgb(74.509804%,74.509804%,74.509804%);fill-opacity:0.639216;\" d=\"M 284.175781 444.519531 L 284.421875 442.660156 L 285.140625 440.929688 L 286.28125 439.441406 L 287.765625 438.300781 L 289.5 437.582031 L 291.355469 437.339844 L 320.6875 437.339844 L 322.542969 437.582031 L 324.277344 438.300781 L 325.761719 439.441406 L 326.90625 440.929688 L 327.621094 442.660156 L 327.867188 444.519531 L 327.867188 471.449219 L 327.621094 473.304688 L 326.90625 475.039062 L 325.761719 476.523438 L 324.277344 477.664062 L 322.542969 478.382812 L 320.6875 478.628906 L 291.355469 478.628906 L 289.5 478.382812 L 287.765625 477.664062 L 286.28125 476.523438 L 285.140625 475.039062 L 284.421875 473.304688 L 284.175781 471.449219 Z \"/>\n",
       "<path style=\" stroke:none;fill-rule:nonzero;fill:rgb(74.509804%,74.509804%,74.509804%);fill-opacity:0.639216;\" d=\"M 334.199219 444.519531 L 334.445312 442.660156 L 335.164062 440.929688 L 336.304688 439.441406 L 337.789062 438.300781 L 339.523438 437.582031 L 341.378906 437.339844 L 370.710938 437.339844 L 372.566406 437.582031 L 374.300781 438.300781 L 375.785156 439.441406 L 376.929688 440.929688 L 377.644531 442.660156 L 377.890625 444.519531 L 377.890625 471.449219 L 377.644531 473.304688 L 376.929688 475.039062 L 375.785156 476.523438 L 374.300781 477.664062 L 372.566406 478.382812 L 370.710938 478.628906 L 341.378906 478.628906 L 339.523438 478.382812 L 337.789062 477.664062 L 336.304688 476.523438 L 335.164062 475.039062 L 334.445312 473.304688 L 334.199219 471.449219 Z \"/>\n",
       "<path style=\" stroke:none;fill-rule:nonzero;fill:rgb(74.509804%,74.509804%,74.509804%);fill-opacity:0.639216;\" d=\"M 384.222656 444.519531 L 384.46875 442.660156 L 385.1875 440.929688 L 386.328125 439.441406 L 387.8125 438.300781 L 389.546875 437.582031 L 391.40625 437.339844 L 420.734375 437.339844 L 422.59375 437.582031 L 424.324219 438.300781 L 425.8125 439.441406 L 426.953125 440.929688 L 427.667969 442.660156 L 427.914062 444.519531 L 427.914062 471.449219 L 427.667969 473.304688 L 426.953125 475.039062 L 425.8125 476.523438 L 424.324219 477.664062 L 422.59375 478.382812 L 420.734375 478.628906 L 391.40625 478.628906 L 389.546875 478.382812 L 387.8125 477.664062 L 386.328125 476.523438 L 385.1875 475.039062 L 384.46875 473.304688 L 384.222656 471.449219 Z \"/>\n",
       "<path style=\" stroke:none;fill-rule:nonzero;fill:rgb(74.509804%,74.509804%,74.509804%);fill-opacity:0.639216;\" d=\"M 434.246094 444.519531 L 434.492188 442.660156 L 435.210938 440.929688 L 436.351562 439.441406 L 437.835938 438.300781 L 439.570312 437.582031 L 441.429688 437.339844 L 470.757812 437.339844 L 472.617188 437.582031 L 474.347656 438.300781 L 475.835938 439.441406 L 476.976562 440.929688 L 477.691406 442.660156 L 477.9375 444.519531 L 477.9375 471.449219 L 477.691406 473.304688 L 476.976562 475.039062 L 475.835938 476.523438 L 474.347656 477.664062 L 472.617188 478.382812 L 470.757812 478.628906 L 441.429688 478.628906 L 439.570312 478.382812 L 437.835938 477.664062 L 436.351562 476.523438 L 435.210938 475.039062 L 434.492188 473.304688 L 434.246094 471.449219 Z \"/>\n",
       "<path style=\" stroke:none;fill-rule:nonzero;fill:rgb(74.509804%,74.509804%,74.509804%);fill-opacity:1;\" d=\"M 208.859375 49.675781 L 209.105469 47.816406 L 209.820312 46.085938 L 210.964844 44.597656 L 212.449219 43.457031 L 214.183594 42.738281 L 216.039062 42.496094 L 244.371094 42.496094 L 246.226562 42.738281 L 247.960938 43.457031 L 249.445312 44.597656 L 250.585938 46.085938 L 251.304688 47.816406 L 251.550781 49.675781 L 251.550781 75.605469 L 251.304688 77.460938 L 250.585938 79.195312 L 249.445312 80.679688 L 247.960938 81.824219 L 246.226562 82.539062 L 244.371094 82.785156 L 216.039062 82.785156 L 214.183594 82.539062 L 212.449219 81.824219 L 210.964844 80.679688 L 209.820312 79.195312 L 209.105469 77.460938 L 208.859375 75.605469 Z \"/>\n",
       "<path style=\" stroke:none;fill-rule:nonzero;fill:rgb(74.509804%,74.509804%,74.509804%);fill-opacity:1;\" d=\"M 72.078125 109.574219 L 72.320312 107.71875 L 73.039062 105.984375 L 74.179688 104.5 L 75.667969 103.355469 L 77.398438 102.640625 L 79.257812 102.394531 L 107.585938 102.394531 L 109.445312 102.640625 L 111.175781 103.355469 L 112.664062 104.5 L 113.804688 105.984375 L 114.523438 107.71875 L 114.765625 109.574219 L 114.765625 135.503906 L 114.523438 137.363281 L 113.804688 139.09375 L 112.664062 140.582031 L 111.175781 141.722656 L 109.445312 142.441406 L 107.585938 142.683594 L 79.257812 142.683594 L 77.398438 142.441406 L 75.667969 141.722656 L 74.179688 140.582031 L 73.039062 139.09375 L 72.320312 137.363281 L 72.078125 135.503906 Z \"/>\n",
       "<path style=\" stroke:none;fill-rule:nonzero;fill:rgb(74.509804%,74.509804%,74.509804%);fill-opacity:1;\" d=\"M 34.558594 445.019531 L 34.804688 443.160156 L 35.523438 441.429688 L 36.664062 439.941406 L 38.148438 438.800781 L 39.882812 438.082031 L 41.738281 437.839844 L 70.070312 437.839844 L 71.925781 438.082031 L 73.660156 438.800781 L 75.144531 439.941406 L 76.289062 441.429688 L 77.003906 443.160156 L 77.25 445.019531 L 77.25 470.949219 L 77.003906 472.804688 L 76.289062 474.539062 L 75.144531 476.023438 L 73.660156 477.164062 L 71.925781 477.882812 L 70.070312 478.128906 L 41.738281 478.128906 L 39.882812 477.882812 L 38.148438 477.164062 L 36.664062 476.023438 L 35.523438 474.539062 L 34.804688 472.804688 L 34.558594 470.949219 Z \"/>\n",
       "<path style=\" stroke:none;fill-rule:nonzero;fill:rgb(74.509804%,74.509804%,74.509804%);fill-opacity:1;\" d=\"M 109.59375 169.476562 L 109.839844 167.617188 L 110.558594 165.886719 L 111.699219 164.398438 L 113.183594 163.257812 L 114.917969 162.539062 L 116.773438 162.296875 L 145.105469 162.296875 L 146.960938 162.539062 L 148.695312 163.257812 L 150.179688 164.398438 L 151.324219 165.886719 L 152.039062 167.617188 L 152.285156 169.476562 L 152.285156 195.40625 L 152.039062 197.265625 L 151.324219 198.996094 L 150.179688 200.480469 L 148.695312 201.625 L 146.960938 202.339844 L 145.105469 202.585938 L 116.773438 202.585938 L 114.917969 202.339844 L 113.183594 201.625 L 111.699219 200.480469 L 110.558594 198.996094 L 109.839844 197.265625 L 109.59375 195.40625 Z \"/>\n",
       "<path style=\" stroke:none;fill-rule:nonzero;fill:rgb(74.509804%,74.509804%,74.509804%);fill-opacity:1;\" d=\"M 84.582031 445.019531 L 84.828125 443.160156 L 85.546875 441.429688 L 86.6875 439.941406 L 88.171875 438.800781 L 89.90625 438.082031 L 91.761719 437.839844 L 120.09375 437.839844 L 121.949219 438.082031 L 123.683594 438.800781 L 125.167969 439.941406 L 126.3125 441.429688 L 127.027344 443.160156 L 127.273438 445.019531 L 127.273438 470.949219 L 127.027344 472.804688 L 126.3125 474.539062 L 125.167969 476.023438 L 123.683594 477.164062 L 121.949219 477.882812 L 120.09375 478.128906 L 91.761719 478.128906 L 89.90625 477.882812 L 88.171875 477.164062 L 86.6875 476.023438 L 85.546875 474.539062 L 84.828125 472.804688 L 84.582031 470.949219 Z \"/>\n",
       "<path style=\" stroke:none;fill-rule:nonzero;fill:rgb(74.509804%,74.509804%,74.509804%);fill-opacity:1;\" d=\"M 131.828125 445.019531 L 132.070312 443.160156 L 132.789062 441.429688 L 133.929688 439.941406 L 135.417969 438.800781 L 137.148438 438.082031 L 139.007812 437.839844 L 172.894531 437.839844 L 174.753906 438.082031 L 176.484375 438.800781 L 177.972656 439.941406 L 179.113281 441.429688 L 179.832031 443.160156 L 180.078125 445.019531 L 180.078125 470.949219 L 179.832031 472.804688 L 179.113281 474.539062 L 177.972656 476.023438 L 176.484375 477.164062 L 174.753906 477.882812 L 172.894531 478.128906 L 139.007812 478.128906 L 137.148438 477.882812 L 135.417969 477.164062 L 133.929688 476.023438 L 132.789062 474.539062 L 132.070312 472.804688 L 131.828125 470.949219 Z \"/>\n",
       "<path style=\" stroke:none;fill-rule:nonzero;fill:rgb(74.509804%,74.509804%,74.509804%);fill-opacity:1;\" d=\"M 345.644531 109.574219 L 345.886719 107.71875 L 346.605469 105.984375 L 347.746094 104.5 L 349.234375 103.355469 L 350.964844 102.640625 L 352.824219 102.394531 L 381.152344 102.394531 L 383.011719 102.640625 L 384.742188 103.355469 L 386.230469 104.5 L 387.371094 105.984375 L 388.089844 107.71875 L 388.332031 109.574219 L 388.332031 135.503906 L 388.089844 137.363281 L 387.371094 139.09375 L 386.230469 140.582031 L 384.742188 141.722656 L 383.011719 142.441406 L 381.152344 142.683594 L 352.824219 142.683594 L 350.964844 142.441406 L 349.234375 141.722656 L 347.746094 140.582031 L 346.605469 139.09375 L 345.886719 137.363281 L 345.644531 135.503906 Z \"/>\n",
       "<path style=\" stroke:none;fill-rule:nonzero;fill:rgb(74.509804%,74.509804%,74.509804%);fill-opacity:1;\" d=\"M 256.539062 169.476562 L 256.785156 167.617188 L 257.5 165.886719 L 258.640625 164.398438 L 260.128906 163.257812 L 261.859375 162.539062 L 263.71875 162.296875 L 292.046875 162.296875 L 293.90625 162.539062 L 295.636719 163.257812 L 297.125 164.398438 L 298.265625 165.886719 L 298.984375 167.617188 L 299.226562 169.476562 L 299.226562 195.40625 L 298.984375 197.265625 L 298.265625 198.996094 L 297.125 200.480469 L 295.636719 201.625 L 293.90625 202.339844 L 292.046875 202.585938 L 263.71875 202.585938 L 261.859375 202.339844 L 260.128906 201.625 L 258.640625 200.480469 L 257.5 198.996094 L 256.785156 197.265625 L 256.539062 195.40625 Z \"/>\n",
       "<path style=\" stroke:none;fill-rule:nonzero;fill:rgb(74.509804%,74.509804%,74.509804%);fill-opacity:1;\" d=\"M 184.628906 445.019531 L 184.875 443.160156 L 185.59375 441.429688 L 186.734375 439.941406 L 188.21875 438.800781 L 189.953125 438.082031 L 191.808594 437.839844 L 220.140625 437.839844 L 221.996094 438.082031 L 223.730469 438.800781 L 225.214844 439.941406 L 226.359375 441.429688 L 227.074219 443.160156 L 227.320312 445.019531 L 227.320312 470.949219 L 227.074219 472.804688 L 226.359375 474.539062 L 225.214844 476.023438 L 223.730469 477.164062 L 221.996094 477.882812 L 220.140625 478.128906 L 191.808594 478.128906 L 189.953125 477.882812 L 188.21875 477.164062 L 186.734375 476.023438 L 185.59375 474.539062 L 184.875 472.804688 L 184.628906 470.949219 Z \"/>\n",
       "<path style=\" stroke:none;fill-rule:nonzero;fill:rgb(74.509804%,74.509804%,74.509804%);fill-opacity:1;\" d=\"M 328.449219 229.375 L 328.691406 227.519531 L 329.410156 225.785156 L 330.550781 224.300781 L 332.039062 223.160156 L 333.769531 222.441406 L 335.628906 222.195312 L 363.957031 222.195312 L 365.816406 222.441406 L 367.546875 223.160156 L 369.035156 224.300781 L 370.175781 225.785156 L 370.894531 227.519531 L 371.136719 229.375 L 371.136719 255.304688 L 370.894531 257.164062 L 370.175781 258.894531 L 369.035156 260.382812 L 367.546875 261.523438 L 365.816406 262.242188 L 363.957031 262.484375 L 335.628906 262.484375 L 333.769531 262.242188 L 332.039062 261.523438 L 330.550781 260.382812 L 329.410156 258.894531 L 328.691406 257.164062 L 328.449219 255.304688 Z \"/>\n",
       "<path style=\" stroke:none;fill-rule:nonzero;fill:rgb(74.509804%,74.509804%,74.509804%);fill-opacity:1;\" d=\"M 272.171875 289.277344 L 272.414062 287.417969 L 273.132812 285.6875 L 274.273438 284.199219 L 275.761719 283.058594 L 277.492188 282.339844 L 279.351562 282.097656 L 307.679688 282.097656 L 309.539062 282.339844 L 311.269531 283.058594 L 312.757812 284.199219 L 313.898438 285.6875 L 314.617188 287.417969 L 314.859375 289.277344 L 314.859375 315.207031 L 314.617188 317.066406 L 313.898438 318.796875 L 312.757812 320.285156 L 311.269531 321.425781 L 309.539062 322.140625 L 307.679688 322.386719 L 279.351562 322.386719 L 277.492188 322.140625 L 275.761719 321.425781 L 274.273438 320.285156 L 273.132812 318.796875 L 272.414062 317.066406 L 272.171875 315.207031 Z \"/>\n",
       "<path style=\" stroke:none;fill-rule:nonzero;fill:rgb(74.509804%,74.509804%,74.509804%);fill-opacity:1;\" d=\"M 234.652344 445.019531 L 234.898438 443.160156 L 235.617188 441.429688 L 236.757812 439.941406 L 238.242188 438.800781 L 239.976562 438.082031 L 241.832031 437.839844 L 270.164062 437.839844 L 272.023438 438.082031 L 273.753906 438.800781 L 275.238281 439.941406 L 276.382812 441.429688 L 277.097656 443.160156 L 277.34375 445.019531 L 277.34375 470.949219 L 277.097656 472.804688 L 276.382812 474.539062 L 275.238281 476.023438 L 273.753906 477.164062 L 272.023438 477.882812 L 270.164062 478.128906 L 241.832031 478.128906 L 239.976562 477.882812 L 238.242188 477.164062 L 236.757812 476.023438 L 235.617188 474.539062 L 234.898438 472.804688 L 234.652344 470.949219 Z \"/>\n",
       "<path style=\" stroke:none;fill-rule:nonzero;fill:rgb(74.509804%,74.509804%,74.509804%);fill-opacity:1;\" d=\"M 309.6875 349.175781 L 309.933594 347.320312 L 310.652344 345.585938 L 311.792969 344.101562 L 313.277344 342.960938 L 315.011719 342.242188 L 316.867188 341.996094 L 345.199219 341.996094 L 347.058594 342.242188 L 348.789062 342.960938 L 350.277344 344.101562 L 351.417969 345.585938 L 352.132812 347.320312 L 352.378906 349.175781 L 352.378906 375.105469 L 352.132812 376.964844 L 351.417969 378.695312 L 350.277344 380.183594 L 348.789062 381.324219 L 347.058594 382.042969 L 345.199219 382.285156 L 316.867188 382.285156 L 315.011719 382.042969 L 313.277344 381.324219 L 311.792969 380.183594 L 310.652344 378.695312 L 309.933594 376.964844 L 309.6875 375.105469 Z \"/>\n",
       "<path style=\" stroke:none;fill-rule:nonzero;fill:rgb(74.509804%,74.509804%,74.509804%);fill-opacity:1;\" d=\"M 284.675781 445.019531 L 284.921875 443.160156 L 285.640625 441.429688 L 286.78125 439.941406 L 288.265625 438.800781 L 290 438.082031 L 291.855469 437.839844 L 320.1875 437.839844 L 322.046875 438.082031 L 323.777344 438.800781 L 325.265625 439.941406 L 326.40625 441.429688 L 327.121094 443.160156 L 327.367188 445.019531 L 327.367188 470.949219 L 327.121094 472.804688 L 326.40625 474.539062 L 325.265625 476.023438 L 323.777344 477.164062 L 322.046875 477.882812 L 320.1875 478.128906 L 291.855469 478.128906 L 290 477.882812 L 288.265625 477.164062 L 286.78125 476.023438 L 285.640625 474.539062 L 284.921875 472.804688 L 284.675781 470.949219 Z \"/>\n",
       "<path style=\" stroke:none;fill-rule:nonzero;fill:rgb(74.509804%,74.509804%,74.509804%);fill-opacity:1;\" d=\"M 334.699219 445.019531 L 334.945312 443.160156 L 335.664062 441.429688 L 336.804688 439.941406 L 338.289062 438.800781 L 340.023438 438.082031 L 341.878906 437.839844 L 370.210938 437.839844 L 372.070312 438.082031 L 373.800781 438.800781 L 375.289062 439.941406 L 376.429688 441.429688 L 377.144531 443.160156 L 377.390625 445.019531 L 377.390625 470.949219 L 377.144531 472.804688 L 376.429688 474.539062 L 375.289062 476.023438 L 373.800781 477.164062 L 372.070312 477.882812 L 370.210938 478.128906 L 341.878906 478.128906 L 340.023438 477.882812 L 338.289062 477.164062 L 336.804688 476.023438 L 335.664062 474.539062 L 334.945312 472.804688 L 334.699219 470.949219 Z \"/>\n",
       "<path style=\" stroke:none;fill-rule:nonzero;fill:rgb(74.509804%,74.509804%,74.509804%);fill-opacity:1;\" d=\"M 384.722656 445.019531 L 384.96875 443.160156 L 385.6875 441.429688 L 386.828125 439.941406 L 388.3125 438.800781 L 390.046875 438.082031 L 391.902344 437.839844 L 420.234375 437.839844 L 422.09375 438.082031 L 423.824219 438.800781 L 425.3125 439.941406 L 426.453125 441.429688 L 427.167969 443.160156 L 427.414062 445.019531 L 427.414062 470.949219 L 427.167969 472.804688 L 426.453125 474.539062 L 425.3125 476.023438 L 423.824219 477.164062 L 422.09375 477.882812 L 420.234375 478.128906 L 391.902344 478.128906 L 390.046875 477.882812 L 388.3125 477.164062 L 386.828125 476.023438 L 385.6875 474.539062 L 384.96875 472.804688 L 384.722656 470.949219 Z \"/>\n",
       "<path style=\" stroke:none;fill-rule:nonzero;fill:rgb(74.509804%,74.509804%,74.509804%);fill-opacity:1;\" d=\"M 434.746094 445.019531 L 434.992188 443.160156 L 435.710938 441.429688 L 436.851562 439.941406 L 438.335938 438.800781 L 440.070312 438.082031 L 441.925781 437.839844 L 470.257812 437.839844 L 472.117188 438.082031 L 473.847656 438.800781 L 475.335938 439.941406 L 476.476562 441.429688 L 477.191406 443.160156 L 477.4375 445.019531 L 477.4375 470.949219 L 477.191406 472.804688 L 476.476562 474.539062 L 475.335938 476.023438 L 473.847656 477.164062 L 472.117188 477.882812 L 470.257812 478.128906 L 441.925781 478.128906 L 440.070312 477.882812 L 438.335938 477.164062 L 436.851562 476.023438 L 435.710938 474.539062 L 434.992188 472.804688 L 434.746094 470.949219 Z \"/>\n",
       "<g style=\"fill:rgb(0%,0%,0%);fill-opacity:1;\">\n",
       "  <use xlink:href=\"#glyph1-1\" x=\"176.855469\" y=\"89.079102\"/>\n",
       "  <use xlink:href=\"#glyph1-2\" x=\"181.011719\" y=\"89.079102\"/>\n",
       "  <use xlink:href=\"#glyph1-3\" x=\"185.633789\" y=\"89.079102\"/>\n",
       "</g>\n",
       "<g style=\"fill:rgb(0%,0%,0%);fill-opacity:1;\">\n",
       "  <use xlink:href=\"#glyph1-4\" x=\"260.234375\" y=\"88.71582\"/>\n",
       "  <use xlink:href=\"#glyph1-5\" x=\"264.856445\" y=\"88.71582\"/>\n",
       "</g>\n",
       "<path style=\" stroke:none;fill-rule:nonzero;fill:rgb(74.509804%,74.509804%,74.509804%);fill-opacity:0.101961;\" d=\"M 223.425781 33.710938 L 223.453125 33.515625 L 223.527344 33.332031 L 223.648438 33.175781 L 223.804688 33.058594 L 223.988281 32.980469 L 224.179688 32.957031 L 236.230469 32.957031 L 236.421875 32.980469 L 236.605469 33.058594 L 236.761719 33.175781 L 236.882812 33.332031 L 236.957031 33.515625 L 236.984375 33.710938 L 236.984375 44.738281 L 236.957031 44.933594 L 236.882812 45.117188 L 236.761719 45.273438 L 236.605469 45.394531 L 236.421875 45.46875 L 236.230469 45.492188 L 224.179688 45.492188 L 223.988281 45.46875 L 223.804688 45.394531 L 223.648438 45.273438 L 223.527344 45.117188 L 223.453125 44.933594 L 223.425781 44.738281 Z \"/>\n",
       "<path style=\" stroke:none;fill-rule:nonzero;fill:rgb(74.509804%,74.509804%,74.509804%);fill-opacity:0.101961;\" d=\"M 86.644531 93.609375 L 86.671875 93.414062 L 86.746094 93.234375 L 86.867188 93.078125 L 87.023438 92.957031 L 87.203125 92.882812 L 87.398438 92.855469 L 99.445312 92.855469 L 99.640625 92.882812 L 99.824219 92.957031 L 99.980469 93.078125 L 100.097656 93.234375 L 100.171875 93.414062 L 100.199219 93.609375 L 100.199219 104.640625 L 100.171875 104.835938 L 100.097656 105.015625 L 99.980469 105.171875 L 99.824219 105.292969 L 99.640625 105.367188 L 99.445312 105.394531 L 87.398438 105.394531 L 87.203125 105.367188 L 87.023438 105.292969 L 86.867188 105.171875 L 86.746094 105.015625 L 86.671875 104.835938 L 86.644531 104.640625 Z \"/>\n",
       "<path style=\" stroke:none;fill-rule:nonzero;fill:rgb(74.509804%,74.509804%,74.509804%);fill-opacity:0.101961;\" d=\"M 49.125 429.054688 L 49.152344 428.859375 L 49.226562 428.675781 L 49.347656 428.519531 L 49.503906 428.402344 L 49.6875 428.324219 L 49.878906 428.300781 L 61.929688 428.300781 L 62.121094 428.324219 L 62.304688 428.402344 L 62.460938 428.519531 L 62.582031 428.675781 L 62.65625 428.859375 L 62.683594 429.054688 L 62.683594 440.082031 L 62.65625 440.277344 L 62.582031 440.460938 L 62.460938 440.617188 L 62.304688 440.734375 L 62.121094 440.8125 L 61.929688 440.835938 L 49.878906 440.835938 L 49.6875 440.8125 L 49.503906 440.734375 L 49.347656 440.617188 L 49.226562 440.460938 L 49.152344 440.277344 L 49.125 440.082031 Z \"/>\n",
       "<path style=\" stroke:none;fill-rule:nonzero;fill:rgb(74.509804%,74.509804%,74.509804%);fill-opacity:0.101961;\" d=\"M 124.164062 153.511719 L 124.1875 153.316406 L 124.261719 153.132812 L 124.382812 152.976562 L 124.539062 152.859375 L 124.722656 152.785156 L 124.917969 152.757812 L 136.964844 152.757812 L 137.160156 152.785156 L 137.339844 152.859375 L 137.496094 152.976562 L 137.617188 153.132812 L 137.691406 153.316406 L 137.71875 153.511719 L 137.71875 164.539062 L 137.691406 164.734375 L 137.617188 164.917969 L 137.496094 165.074219 L 137.339844 165.195312 L 137.160156 165.269531 L 136.964844 165.292969 L 124.917969 165.292969 L 124.722656 165.269531 L 124.539062 165.195312 L 124.382812 165.074219 L 124.261719 164.917969 L 124.1875 164.734375 L 124.164062 164.539062 Z \"/>\n",
       "<path style=\" stroke:none;fill-rule:nonzero;fill:rgb(74.509804%,74.509804%,74.509804%);fill-opacity:0.101961;\" d=\"M 97.203125 429.054688 L 97.230469 428.859375 L 97.304688 428.675781 L 97.425781 428.519531 L 97.582031 428.402344 L 97.761719 428.324219 L 97.957031 428.300781 L 113.898438 428.300781 L 114.09375 428.324219 L 114.273438 428.402344 L 114.429688 428.519531 L 114.550781 428.675781 L 114.625 428.859375 L 114.652344 429.054688 L 114.652344 440.082031 L 114.625 440.277344 L 114.550781 440.460938 L 114.429688 440.617188 L 114.273438 440.734375 L 114.09375 440.8125 L 113.898438 440.835938 L 97.957031 440.835938 L 97.761719 440.8125 L 97.582031 440.734375 L 97.425781 440.617188 L 97.304688 440.460938 L 97.230469 440.277344 L 97.203125 440.082031 Z \"/>\n",
       "<path style=\" stroke:none;fill-rule:nonzero;fill:rgb(74.509804%,74.509804%,74.509804%);fill-opacity:0.101961;\" d=\"M 147.226562 429.054688 L 147.253906 428.859375 L 147.328125 428.675781 L 147.449219 428.519531 L 147.605469 428.402344 L 147.785156 428.324219 L 147.980469 428.300781 L 163.921875 428.300781 L 164.117188 428.324219 L 164.296875 428.402344 L 164.453125 428.519531 L 164.574219 428.675781 L 164.648438 428.859375 L 164.675781 429.054688 L 164.675781 440.082031 L 164.648438 440.277344 L 164.574219 440.460938 L 164.453125 440.617188 L 164.296875 440.734375 L 164.117188 440.8125 L 163.921875 440.835938 L 147.980469 440.835938 L 147.785156 440.8125 L 147.605469 440.734375 L 147.449219 440.617188 L 147.328125 440.460938 L 147.253906 440.277344 L 147.226562 440.082031 Z \"/>\n",
       "<path style=\" stroke:none;fill-rule:nonzero;fill:rgb(74.509804%,74.509804%,74.509804%);fill-opacity:0.101961;\" d=\"M 360.210938 93.609375 L 360.238281 93.414062 L 360.3125 93.234375 L 360.429688 93.078125 L 360.585938 92.957031 L 360.769531 92.882812 L 360.964844 92.855469 L 373.011719 92.855469 L 373.207031 92.882812 L 373.386719 92.957031 L 373.542969 93.078125 L 373.664062 93.234375 L 373.738281 93.414062 L 373.765625 93.609375 L 373.765625 104.640625 L 373.738281 104.835938 L 373.664062 105.015625 L 373.542969 105.171875 L 373.386719 105.292969 L 373.207031 105.367188 L 373.011719 105.394531 L 360.964844 105.394531 L 360.769531 105.367188 L 360.585938 105.292969 L 360.429688 105.171875 L 360.3125 105.015625 L 360.238281 104.835938 L 360.210938 104.640625 Z \"/>\n",
       "<path style=\" stroke:none;fill-rule:nonzero;fill:rgb(74.509804%,74.509804%,74.509804%);fill-opacity:0.101961;\" d=\"M 271.105469 153.511719 L 271.132812 153.316406 L 271.207031 153.132812 L 271.328125 152.976562 L 271.484375 152.859375 L 271.664062 152.785156 L 271.859375 152.757812 L 283.90625 152.757812 L 284.101562 152.785156 L 284.285156 152.859375 L 284.441406 152.976562 L 284.558594 153.132812 L 284.636719 153.316406 L 284.660156 153.511719 L 284.660156 164.539062 L 284.636719 164.734375 L 284.558594 164.917969 L 284.441406 165.074219 L 284.285156 165.195312 L 284.101562 165.269531 L 283.90625 165.292969 L 271.859375 165.292969 L 271.664062 165.269531 L 271.484375 165.195312 L 271.328125 165.074219 L 271.207031 164.917969 L 271.132812 164.734375 L 271.105469 164.539062 Z \"/>\n",
       "<path style=\" stroke:none;fill-rule:nonzero;fill:rgb(74.509804%,74.509804%,74.509804%);fill-opacity:0.101961;\" d=\"M 197.25 429.054688 L 197.277344 428.859375 L 197.351562 428.675781 L 197.472656 428.519531 L 197.628906 428.402344 L 197.808594 428.324219 L 198.003906 428.300781 L 213.945312 428.300781 L 214.140625 428.324219 L 214.320312 428.402344 L 214.476562 428.519531 L 214.597656 428.675781 L 214.671875 428.859375 L 214.699219 429.054688 L 214.699219 440.082031 L 214.671875 440.277344 L 214.597656 440.460938 L 214.476562 440.617188 L 214.320312 440.734375 L 214.140625 440.8125 L 213.945312 440.835938 L 198.003906 440.835938 L 197.808594 440.8125 L 197.628906 440.734375 L 197.472656 440.617188 L 197.351562 440.460938 L 197.277344 440.277344 L 197.25 440.082031 Z \"/>\n",
       "<path style=\" stroke:none;fill-rule:nonzero;fill:rgb(74.509804%,74.509804%,74.509804%);fill-opacity:0.101961;\" d=\"M 341.070312 213.410156 L 341.09375 213.21875 L 341.171875 213.035156 L 341.289062 212.878906 L 341.445312 212.757812 L 341.628906 212.683594 L 341.824219 212.65625 L 357.761719 212.65625 L 357.957031 212.683594 L 358.140625 212.757812 L 358.296875 212.878906 L 358.414062 213.035156 L 358.488281 213.21875 L 358.515625 213.410156 L 358.515625 224.441406 L 358.488281 224.636719 L 358.414062 224.816406 L 358.296875 224.972656 L 358.140625 225.09375 L 357.957031 225.167969 L 357.761719 225.195312 L 341.824219 225.195312 L 341.628906 225.167969 L 341.445312 225.09375 L 341.289062 224.972656 L 341.171875 224.816406 L 341.09375 224.636719 L 341.070312 224.441406 Z \"/>\n",
       "<path style=\" stroke:none;fill-rule:nonzero;fill:rgb(74.509804%,74.509804%,74.509804%);fill-opacity:0.101961;\" d=\"M 284.792969 273.3125 L 284.816406 273.117188 L 284.894531 272.933594 L 285.011719 272.78125 L 285.167969 272.660156 L 285.351562 272.585938 L 285.546875 272.558594 L 301.484375 272.558594 L 301.679688 272.585938 L 301.863281 272.660156 L 302.019531 272.78125 L 302.136719 272.933594 L 302.214844 273.117188 L 302.238281 273.3125 L 302.238281 284.339844 L 302.214844 284.535156 L 302.136719 284.71875 L 302.019531 284.875 L 301.863281 284.996094 L 301.679688 285.070312 L 301.484375 285.09375 L 285.546875 285.09375 L 285.351562 285.070312 L 285.167969 284.996094 L 285.011719 284.875 L 284.894531 284.71875 L 284.816406 284.535156 L 284.792969 284.339844 Z \"/>\n",
       "<path style=\" stroke:none;fill-rule:nonzero;fill:rgb(74.509804%,74.509804%,74.509804%);fill-opacity:0.101961;\" d=\"M 247.273438 429.054688 L 247.300781 428.859375 L 247.375 428.675781 L 247.496094 428.519531 L 247.652344 428.402344 L 247.832031 428.324219 L 248.027344 428.300781 L 263.96875 428.300781 L 264.164062 428.324219 L 264.34375 428.402344 L 264.5 428.519531 L 264.621094 428.675781 L 264.695312 428.859375 L 264.722656 429.054688 L 264.722656 440.082031 L 264.695312 440.277344 L 264.621094 440.460938 L 264.5 440.617188 L 264.34375 440.734375 L 264.164062 440.8125 L 263.96875 440.835938 L 248.027344 440.835938 L 247.832031 440.8125 L 247.652344 440.734375 L 247.496094 440.617188 L 247.375 440.460938 L 247.300781 440.277344 L 247.273438 440.082031 Z \"/>\n",
       "<path style=\" stroke:none;fill-rule:nonzero;fill:rgb(74.509804%,74.509804%,74.509804%);fill-opacity:0.101961;\" d=\"M 322.308594 333.214844 L 322.335938 333.019531 L 322.410156 332.835938 L 322.53125 332.679688 L 322.6875 332.558594 L 322.867188 332.484375 L 323.0625 332.460938 L 339.003906 332.460938 L 339.199219 332.484375 L 339.378906 332.558594 L 339.535156 332.679688 L 339.65625 332.835938 L 339.730469 333.019531 L 339.757812 333.214844 L 339.757812 344.242188 L 339.730469 344.4375 L 339.65625 344.617188 L 339.535156 344.773438 L 339.378906 344.894531 L 339.199219 344.96875 L 339.003906 344.996094 L 323.0625 344.996094 L 322.867188 344.96875 L 322.6875 344.894531 L 322.53125 344.773438 L 322.410156 344.617188 L 322.335938 344.4375 L 322.308594 344.242188 Z \"/>\n",
       "<path style=\" stroke:none;fill-rule:nonzero;fill:rgb(74.509804%,74.509804%,74.509804%);fill-opacity:0.101961;\" d=\"M 295.351562 429.054688 L 295.378906 428.859375 L 295.453125 428.675781 L 295.574219 428.519531 L 295.730469 428.402344 L 295.910156 428.324219 L 296.105469 428.300781 L 315.9375 428.300781 L 316.132812 428.324219 L 316.3125 428.402344 L 316.46875 428.519531 L 316.589844 428.675781 L 316.664062 428.859375 L 316.691406 429.054688 L 316.691406 440.082031 L 316.664062 440.277344 L 316.589844 440.460938 L 316.46875 440.617188 L 316.3125 440.734375 L 316.132812 440.8125 L 315.9375 440.835938 L 296.105469 440.835938 L 295.910156 440.8125 L 295.730469 440.734375 L 295.574219 440.617188 L 295.453125 440.460938 L 295.378906 440.277344 L 295.351562 440.082031 Z \"/>\n",
       "<path style=\" stroke:none;fill-rule:nonzero;fill:rgb(74.509804%,74.509804%,74.509804%);fill-opacity:0.101961;\" d=\"M 345.375 429.054688 L 345.402344 428.859375 L 345.476562 428.675781 L 345.597656 428.519531 L 345.753906 428.402344 L 345.933594 428.324219 L 346.128906 428.300781 L 365.960938 428.300781 L 366.15625 428.324219 L 366.335938 428.402344 L 366.492188 428.519531 L 366.613281 428.675781 L 366.6875 428.859375 L 366.714844 429.054688 L 366.714844 440.082031 L 366.6875 440.277344 L 366.613281 440.460938 L 366.492188 440.617188 L 366.335938 440.734375 L 366.15625 440.8125 L 365.960938 440.835938 L 346.128906 440.835938 L 345.933594 440.8125 L 345.753906 440.734375 L 345.597656 440.617188 L 345.476562 440.460938 L 345.402344 440.277344 L 345.375 440.082031 Z \"/>\n",
       "<path style=\" stroke:none;fill-rule:nonzero;fill:rgb(74.509804%,74.509804%,74.509804%);fill-opacity:0.101961;\" d=\"M 397.34375 429.054688 L 397.371094 428.859375 L 397.445312 428.675781 L 397.566406 428.519531 L 397.722656 428.402344 L 397.90625 428.324219 L 398.097656 428.300781 L 414.039062 428.300781 L 414.234375 428.324219 L 414.414062 428.402344 L 414.570312 428.519531 L 414.691406 428.675781 L 414.765625 428.859375 L 414.792969 429.054688 L 414.792969 440.082031 L 414.765625 440.277344 L 414.691406 440.460938 L 414.570312 440.617188 L 414.414062 440.734375 L 414.234375 440.8125 L 414.039062 440.835938 L 398.097656 440.835938 L 397.90625 440.8125 L 397.722656 440.734375 L 397.566406 440.617188 L 397.445312 440.460938 L 397.371094 440.277344 L 397.34375 440.082031 Z \"/>\n",
       "<path style=\" stroke:none;fill-rule:nonzero;fill:rgb(74.509804%,74.509804%,74.509804%);fill-opacity:0.101961;\" d=\"M 449.316406 429.054688 L 449.339844 428.859375 L 449.417969 428.675781 L 449.535156 428.519531 L 449.691406 428.402344 L 449.875 428.324219 L 450.070312 428.300781 L 462.117188 428.300781 L 462.3125 428.324219 L 462.492188 428.402344 L 462.648438 428.519531 L 462.769531 428.675781 L 462.84375 428.859375 L 462.871094 429.054688 L 462.871094 440.082031 L 462.84375 440.277344 L 462.769531 440.460938 L 462.648438 440.617188 L 462.492188 440.734375 L 462.3125 440.8125 L 462.117188 440.835938 L 450.070312 440.835938 L 449.875 440.8125 L 449.691406 440.734375 L 449.535156 440.617188 L 449.417969 440.460938 L 449.339844 440.277344 L 449.316406 440.082031 Z \"/>\n",
       "<path style=\" stroke:none;fill-rule:nonzero;fill:rgb(74.509804%,74.509804%,74.509804%);fill-opacity:0.2;\" d=\"M 223.925781 34.210938 L 223.953125 34.015625 L 224.027344 33.832031 L 224.148438 33.675781 L 224.304688 33.558594 L 224.484375 33.480469 L 224.679688 33.457031 L 235.730469 33.457031 L 235.925781 33.480469 L 236.105469 33.558594 L 236.261719 33.675781 L 236.382812 33.832031 L 236.457031 34.015625 L 236.484375 34.210938 L 236.484375 44.238281 L 236.457031 44.433594 L 236.382812 44.617188 L 236.261719 44.773438 L 236.105469 44.894531 L 235.925781 44.96875 L 235.730469 44.992188 L 224.679688 44.992188 L 224.484375 44.96875 L 224.304688 44.894531 L 224.148438 44.773438 L 224.027344 44.617188 L 223.953125 44.433594 L 223.925781 44.238281 Z \"/>\n",
       "<path style=\" stroke:none;fill-rule:nonzero;fill:rgb(74.509804%,74.509804%,74.509804%);fill-opacity:0.2;\" d=\"M 87.144531 94.109375 L 87.171875 93.914062 L 87.246094 93.734375 L 87.363281 93.578125 L 87.519531 93.457031 L 87.703125 93.382812 L 87.898438 93.355469 L 98.945312 93.355469 L 99.140625 93.382812 L 99.324219 93.457031 L 99.480469 93.578125 L 99.597656 93.734375 L 99.675781 93.914062 L 99.699219 94.109375 L 99.699219 104.140625 L 99.675781 104.335938 L 99.597656 104.515625 L 99.480469 104.671875 L 99.324219 104.792969 L 99.140625 104.867188 L 98.945312 104.894531 L 87.898438 104.894531 L 87.703125 104.867188 L 87.519531 104.792969 L 87.363281 104.671875 L 87.246094 104.515625 L 87.171875 104.335938 L 87.144531 104.140625 Z \"/>\n",
       "<path style=\" stroke:none;fill-rule:nonzero;fill:rgb(74.509804%,74.509804%,74.509804%);fill-opacity:0.2;\" d=\"M 49.625 429.554688 L 49.652344 429.359375 L 49.726562 429.175781 L 49.847656 429.019531 L 50.003906 428.902344 L 50.183594 428.824219 L 50.378906 428.800781 L 61.429688 428.800781 L 61.625 428.824219 L 61.804688 428.902344 L 61.960938 429.019531 L 62.082031 429.175781 L 62.15625 429.359375 L 62.183594 429.554688 L 62.183594 439.582031 L 62.15625 439.777344 L 62.082031 439.960938 L 61.960938 440.117188 L 61.804688 440.234375 L 61.625 440.3125 L 61.429688 440.335938 L 50.378906 440.335938 L 50.183594 440.3125 L 50.003906 440.234375 L 49.847656 440.117188 L 49.726562 439.960938 L 49.652344 439.777344 L 49.625 439.582031 Z \"/>\n",
       "<path style=\" stroke:none;fill-rule:nonzero;fill:rgb(74.509804%,74.509804%,74.509804%);fill-opacity:0.2;\" d=\"M 124.660156 154.011719 L 124.6875 153.816406 L 124.761719 153.632812 L 124.882812 153.476562 L 125.039062 153.359375 L 125.222656 153.28125 L 125.414062 153.257812 L 136.464844 153.257812 L 136.660156 153.28125 L 136.839844 153.359375 L 136.996094 153.476562 L 137.117188 153.632812 L 137.191406 153.816406 L 137.21875 154.011719 L 137.21875 164.039062 L 137.191406 164.234375 L 137.117188 164.417969 L 136.996094 164.574219 L 136.839844 164.695312 L 136.660156 164.769531 L 136.464844 164.792969 L 125.414062 164.792969 L 125.222656 164.769531 L 125.039062 164.695312 L 124.882812 164.574219 L 124.761719 164.417969 L 124.6875 164.234375 L 124.660156 164.039062 Z \"/>\n",
       "<path style=\" stroke:none;fill-rule:nonzero;fill:rgb(74.509804%,74.509804%,74.509804%);fill-opacity:0.2;\" d=\"M 97.703125 429.554688 L 97.730469 429.359375 L 97.804688 429.175781 L 97.925781 429.019531 L 98.082031 428.902344 L 98.261719 428.824219 L 98.457031 428.800781 L 113.398438 428.800781 L 113.59375 428.824219 L 113.773438 428.902344 L 113.929688 429.019531 L 114.050781 429.175781 L 114.125 429.359375 L 114.152344 429.554688 L 114.152344 439.582031 L 114.125 439.777344 L 114.050781 439.960938 L 113.929688 440.117188 L 113.773438 440.234375 L 113.59375 440.3125 L 113.398438 440.335938 L 98.457031 440.335938 L 98.261719 440.3125 L 98.082031 440.234375 L 97.925781 440.117188 L 97.804688 439.960938 L 97.730469 439.777344 L 97.703125 439.582031 Z \"/>\n",
       "<path style=\" stroke:none;fill-rule:nonzero;fill:rgb(74.509804%,74.509804%,74.509804%);fill-opacity:0.2;\" d=\"M 147.726562 429.554688 L 147.753906 429.359375 L 147.828125 429.175781 L 147.949219 429.019531 L 148.105469 428.902344 L 148.285156 428.824219 L 148.480469 428.800781 L 163.421875 428.800781 L 163.617188 428.824219 L 163.796875 428.902344 L 163.953125 429.019531 L 164.074219 429.175781 L 164.148438 429.359375 L 164.175781 429.554688 L 164.175781 439.582031 L 164.148438 439.777344 L 164.074219 439.960938 L 163.953125 440.117188 L 163.796875 440.234375 L 163.617188 440.3125 L 163.421875 440.335938 L 148.480469 440.335938 L 148.285156 440.3125 L 148.105469 440.234375 L 147.949219 440.117188 L 147.828125 439.960938 L 147.753906 439.777344 L 147.726562 439.582031 Z \"/>\n",
       "<path style=\" stroke:none;fill-rule:nonzero;fill:rgb(74.509804%,74.509804%,74.509804%);fill-opacity:0.2;\" d=\"M 360.710938 94.109375 L 360.734375 93.914062 L 360.8125 93.734375 L 360.929688 93.578125 L 361.085938 93.457031 L 361.269531 93.382812 L 361.464844 93.355469 L 372.511719 93.355469 L 372.707031 93.382812 L 372.890625 93.457031 L 373.042969 93.578125 L 373.164062 93.734375 L 373.238281 93.914062 L 373.265625 94.109375 L 373.265625 104.140625 L 373.238281 104.335938 L 373.164062 104.515625 L 373.042969 104.671875 L 372.890625 104.792969 L 372.707031 104.867188 L 372.511719 104.894531 L 361.464844 104.894531 L 361.269531 104.867188 L 361.085938 104.792969 L 360.929688 104.671875 L 360.8125 104.515625 L 360.734375 104.335938 L 360.710938 104.140625 Z \"/>\n",
       "<path style=\" stroke:none;fill-rule:nonzero;fill:rgb(74.509804%,74.509804%,74.509804%);fill-opacity:0.2;\" d=\"M 271.605469 154.011719 L 271.632812 153.816406 L 271.707031 153.632812 L 271.828125 153.476562 L 271.984375 153.359375 L 272.164062 153.28125 L 272.359375 153.257812 L 283.40625 153.257812 L 283.601562 153.28125 L 283.785156 153.359375 L 283.941406 153.476562 L 284.058594 153.632812 L 284.136719 153.816406 L 284.160156 154.011719 L 284.160156 164.039062 L 284.136719 164.234375 L 284.058594 164.417969 L 283.941406 164.574219 L 283.785156 164.695312 L 283.601562 164.769531 L 283.40625 164.792969 L 272.359375 164.792969 L 272.164062 164.769531 L 271.984375 164.695312 L 271.828125 164.574219 L 271.707031 164.417969 L 271.632812 164.234375 L 271.605469 164.039062 Z \"/>\n",
       "<path style=\" stroke:none;fill-rule:nonzero;fill:rgb(74.509804%,74.509804%,74.509804%);fill-opacity:0.2;\" d=\"M 197.75 429.554688 L 197.777344 429.359375 L 197.851562 429.175781 L 197.972656 429.019531 L 198.128906 428.902344 L 198.308594 428.824219 L 198.503906 428.800781 L 213.445312 428.800781 L 213.640625 428.824219 L 213.820312 428.902344 L 213.976562 429.019531 L 214.097656 429.175781 L 214.171875 429.359375 L 214.199219 429.554688 L 214.199219 439.582031 L 214.171875 439.777344 L 214.097656 439.960938 L 213.976562 440.117188 L 213.820312 440.234375 L 213.640625 440.3125 L 213.445312 440.335938 L 198.503906 440.335938 L 198.308594 440.3125 L 198.128906 440.234375 L 197.972656 440.117188 L 197.851562 439.960938 L 197.777344 439.777344 L 197.75 439.582031 Z \"/>\n",
       "<path style=\" stroke:none;fill-rule:nonzero;fill:rgb(74.509804%,74.509804%,74.509804%);fill-opacity:0.2;\" d=\"M 341.570312 213.910156 L 341.59375 213.714844 L 341.667969 213.535156 L 341.789062 213.378906 L 341.945312 213.257812 L 342.128906 213.183594 L 342.324219 213.15625 L 357.261719 213.15625 L 357.457031 213.183594 L 357.640625 213.257812 L 357.796875 213.378906 L 357.914062 213.535156 L 357.992188 213.714844 L 358.015625 213.910156 L 358.015625 223.941406 L 357.992188 224.136719 L 357.914062 224.316406 L 357.796875 224.472656 L 357.640625 224.59375 L 357.457031 224.667969 L 357.261719 224.695312 L 342.324219 224.695312 L 342.128906 224.667969 L 341.945312 224.59375 L 341.789062 224.472656 L 341.667969 224.316406 L 341.59375 224.136719 L 341.570312 223.941406 Z \"/>\n",
       "<path style=\" stroke:none;fill-rule:nonzero;fill:rgb(74.509804%,74.509804%,74.509804%);fill-opacity:0.2;\" d=\"M 285.292969 273.8125 L 285.316406 273.617188 L 285.394531 273.433594 L 285.511719 273.277344 L 285.667969 273.160156 L 285.851562 273.085938 L 286.046875 273.058594 L 300.984375 273.058594 L 301.179688 273.085938 L 301.363281 273.160156 L 301.519531 273.277344 L 301.636719 273.433594 L 301.714844 273.617188 L 301.738281 273.8125 L 301.738281 283.84375 L 301.714844 284.035156 L 301.636719 284.21875 L 301.519531 284.375 L 301.363281 284.496094 L 301.179688 284.570312 L 300.984375 284.597656 L 286.046875 284.597656 L 285.851562 284.570312 L 285.667969 284.496094 L 285.511719 284.375 L 285.394531 284.21875 L 285.316406 284.035156 L 285.292969 283.84375 Z \"/>\n",
       "<path style=\" stroke:none;fill-rule:nonzero;fill:rgb(74.509804%,74.509804%,74.509804%);fill-opacity:0.2;\" d=\"M 247.773438 429.554688 L 247.800781 429.359375 L 247.875 429.175781 L 247.996094 429.019531 L 248.152344 428.902344 L 248.332031 428.824219 L 248.527344 428.800781 L 263.46875 428.800781 L 263.664062 428.824219 L 263.84375 428.902344 L 264 429.019531 L 264.121094 429.175781 L 264.195312 429.359375 L 264.222656 429.554688 L 264.222656 439.582031 L 264.195312 439.777344 L 264.121094 439.960938 L 264 440.117188 L 263.84375 440.234375 L 263.664062 440.3125 L 263.46875 440.335938 L 248.527344 440.335938 L 248.332031 440.3125 L 248.152344 440.234375 L 247.996094 440.117188 L 247.875 439.960938 L 247.800781 439.777344 L 247.773438 439.582031 Z \"/>\n",
       "<path style=\" stroke:none;fill-rule:nonzero;fill:rgb(74.509804%,74.509804%,74.509804%);fill-opacity:0.2;\" d=\"M 322.808594 333.710938 L 322.835938 333.519531 L 322.910156 333.335938 L 323.03125 333.179688 L 323.1875 333.058594 L 323.367188 332.984375 L 323.5625 332.957031 L 338.503906 332.957031 L 338.699219 332.984375 L 338.878906 333.058594 L 339.035156 333.179688 L 339.15625 333.335938 L 339.230469 333.519531 L 339.257812 333.710938 L 339.257812 343.742188 L 339.230469 343.9375 L 339.15625 344.121094 L 339.035156 344.277344 L 338.878906 344.394531 L 338.699219 344.46875 L 338.503906 344.496094 L 323.5625 344.496094 L 323.367188 344.46875 L 323.1875 344.394531 L 323.03125 344.277344 L 322.910156 344.121094 L 322.835938 343.9375 L 322.808594 343.742188 Z \"/>\n",
       "<path style=\" stroke:none;fill-rule:nonzero;fill:rgb(74.509804%,74.509804%,74.509804%);fill-opacity:0.2;\" d=\"M 295.851562 429.554688 L 295.878906 429.359375 L 295.953125 429.175781 L 296.074219 429.019531 L 296.230469 428.902344 L 296.410156 428.824219 L 296.605469 428.800781 L 315.4375 428.800781 L 315.632812 428.824219 L 315.816406 428.902344 L 315.96875 429.019531 L 316.089844 429.175781 L 316.164062 429.359375 L 316.191406 429.554688 L 316.191406 439.582031 L 316.164062 439.777344 L 316.089844 439.960938 L 315.96875 440.117188 L 315.816406 440.234375 L 315.632812 440.3125 L 315.4375 440.335938 L 296.605469 440.335938 L 296.410156 440.3125 L 296.230469 440.234375 L 296.074219 440.117188 L 295.953125 439.960938 L 295.878906 439.777344 L 295.851562 439.582031 Z \"/>\n",
       "<path style=\" stroke:none;fill-rule:nonzero;fill:rgb(74.509804%,74.509804%,74.509804%);fill-opacity:0.2;\" d=\"M 345.875 429.554688 L 345.902344 429.359375 L 345.976562 429.175781 L 346.097656 429.019531 L 346.253906 428.902344 L 346.433594 428.824219 L 346.628906 428.800781 L 365.460938 428.800781 L 365.65625 428.824219 L 365.839844 428.902344 L 365.996094 429.019531 L 366.113281 429.175781 L 366.1875 429.359375 L 366.214844 429.554688 L 366.214844 439.582031 L 366.1875 439.777344 L 366.113281 439.960938 L 365.996094 440.117188 L 365.839844 440.234375 L 365.65625 440.3125 L 365.460938 440.335938 L 346.628906 440.335938 L 346.433594 440.3125 L 346.253906 440.234375 L 346.097656 440.117188 L 345.976562 439.960938 L 345.902344 439.777344 L 345.875 439.582031 Z \"/>\n",
       "<path style=\" stroke:none;fill-rule:nonzero;fill:rgb(74.509804%,74.509804%,74.509804%);fill-opacity:0.2;\" d=\"M 397.84375 429.554688 L 397.871094 429.359375 L 397.945312 429.175781 L 398.066406 429.019531 L 398.222656 428.902344 L 398.402344 428.824219 L 398.597656 428.800781 L 413.539062 428.800781 L 413.734375 428.824219 L 413.914062 428.902344 L 414.070312 429.019531 L 414.191406 429.175781 L 414.265625 429.359375 L 414.292969 429.554688 L 414.292969 439.582031 L 414.265625 439.777344 L 414.191406 439.960938 L 414.070312 440.117188 L 413.914062 440.234375 L 413.734375 440.3125 L 413.539062 440.335938 L 398.597656 440.335938 L 398.402344 440.3125 L 398.222656 440.234375 L 398.066406 440.117188 L 397.945312 439.960938 L 397.871094 439.777344 L 397.84375 439.582031 Z \"/>\n",
       "<path style=\" stroke:none;fill-rule:nonzero;fill:rgb(74.509804%,74.509804%,74.509804%);fill-opacity:0.2;\" d=\"M 449.816406 429.554688 L 449.839844 429.359375 L 449.914062 429.175781 L 450.035156 429.019531 L 450.191406 428.902344 L 450.375 428.824219 L 450.570312 428.800781 L 461.617188 428.800781 L 461.8125 428.824219 L 461.992188 428.902344 L 462.148438 429.019531 L 462.269531 429.175781 L 462.34375 429.359375 L 462.371094 429.554688 L 462.371094 439.582031 L 462.34375 439.777344 L 462.269531 439.960938 L 462.148438 440.117188 L 461.992188 440.234375 L 461.8125 440.3125 L 461.617188 440.335938 L 450.570312 440.335938 L 450.375 440.3125 L 450.191406 440.234375 L 450.035156 440.117188 L 449.914062 439.960938 L 449.839844 439.777344 L 449.816406 439.582031 Z \"/>\n",
       "<path style=\" stroke:none;fill-rule:nonzero;fill:rgb(74.509804%,74.509804%,74.509804%);fill-opacity:0.301961;\" d=\"M 224.425781 34.710938 L 224.453125 34.515625 L 224.527344 34.332031 L 224.648438 34.175781 L 224.804688 34.058594 L 224.984375 33.980469 L 225.179688 33.957031 L 235.230469 33.957031 L 235.425781 33.980469 L 235.605469 34.058594 L 235.761719 34.175781 L 235.882812 34.332031 L 235.957031 34.515625 L 235.984375 34.710938 L 235.984375 43.738281 L 235.957031 43.933594 L 235.882812 44.117188 L 235.761719 44.273438 L 235.605469 44.394531 L 235.425781 44.46875 L 235.230469 44.492188 L 225.179688 44.492188 L 224.984375 44.46875 L 224.804688 44.394531 L 224.648438 44.273438 L 224.527344 44.117188 L 224.453125 43.933594 L 224.425781 43.738281 Z \"/>\n",
       "<path style=\" stroke:none;fill-rule:nonzero;fill:rgb(74.509804%,74.509804%,74.509804%);fill-opacity:0.301961;\" d=\"M 87.644531 94.609375 L 87.667969 94.414062 L 87.746094 94.234375 L 87.863281 94.078125 L 88.019531 93.957031 L 88.203125 93.882812 L 88.398438 93.855469 L 98.445312 93.855469 L 98.640625 93.882812 L 98.824219 93.957031 L 98.980469 94.078125 L 99.097656 94.234375 L 99.175781 94.414062 L 99.199219 94.609375 L 99.199219 103.640625 L 99.175781 103.835938 L 99.097656 104.015625 L 98.980469 104.171875 L 98.824219 104.292969 L 98.640625 104.367188 L 98.445312 104.394531 L 88.398438 104.394531 L 88.203125 104.367188 L 88.019531 104.292969 L 87.863281 104.171875 L 87.746094 104.015625 L 87.667969 103.835938 L 87.644531 103.640625 Z \"/>\n",
       "<path style=\" stroke:none;fill-rule:nonzero;fill:rgb(74.509804%,74.509804%,74.509804%);fill-opacity:0.301961;\" d=\"M 50.125 430.054688 L 50.152344 429.859375 L 50.226562 429.675781 L 50.347656 429.519531 L 50.503906 429.402344 L 50.683594 429.324219 L 50.878906 429.300781 L 60.929688 429.300781 L 61.125 429.324219 L 61.304688 429.402344 L 61.460938 429.519531 L 61.582031 429.675781 L 61.65625 429.859375 L 61.683594 430.054688 L 61.683594 439.082031 L 61.65625 439.277344 L 61.582031 439.460938 L 61.460938 439.617188 L 61.304688 439.734375 L 61.125 439.8125 L 60.929688 439.835938 L 50.878906 439.835938 L 50.683594 439.8125 L 50.503906 439.734375 L 50.347656 439.617188 L 50.226562 439.460938 L 50.152344 439.277344 L 50.125 439.082031 Z \"/>\n",
       "<path style=\" stroke:none;fill-rule:nonzero;fill:rgb(74.509804%,74.509804%,74.509804%);fill-opacity:0.301961;\" d=\"M 125.160156 154.511719 L 125.1875 154.316406 L 125.261719 154.132812 L 125.382812 153.976562 L 125.539062 153.859375 L 125.71875 153.78125 L 125.914062 153.757812 L 135.964844 153.757812 L 136.160156 153.78125 L 136.339844 153.859375 L 136.496094 153.976562 L 136.617188 154.132812 L 136.691406 154.316406 L 136.71875 154.511719 L 136.71875 163.542969 L 136.691406 163.734375 L 136.617188 163.917969 L 136.496094 164.074219 L 136.339844 164.195312 L 136.160156 164.269531 L 135.964844 164.296875 L 125.914062 164.296875 L 125.71875 164.269531 L 125.539062 164.195312 L 125.382812 164.074219 L 125.261719 163.917969 L 125.1875 163.734375 L 125.160156 163.542969 Z \"/>\n",
       "<path style=\" stroke:none;fill-rule:nonzero;fill:rgb(74.509804%,74.509804%,74.509804%);fill-opacity:0.301961;\" d=\"M 98.203125 430.054688 L 98.230469 429.859375 L 98.304688 429.675781 L 98.425781 429.519531 L 98.582031 429.402344 L 98.761719 429.324219 L 98.957031 429.300781 L 112.898438 429.300781 L 113.09375 429.324219 L 113.273438 429.402344 L 113.429688 429.519531 L 113.550781 429.675781 L 113.625 429.859375 L 113.652344 430.054688 L 113.652344 439.082031 L 113.625 439.277344 L 113.550781 439.460938 L 113.429688 439.617188 L 113.273438 439.734375 L 113.09375 439.8125 L 112.898438 439.835938 L 98.957031 439.835938 L 98.761719 439.8125 L 98.582031 439.734375 L 98.425781 439.617188 L 98.304688 439.460938 L 98.230469 439.277344 L 98.203125 439.082031 Z \"/>\n",
       "<path style=\" stroke:none;fill-rule:nonzero;fill:rgb(74.509804%,74.509804%,74.509804%);fill-opacity:0.301961;\" d=\"M 148.226562 430.054688 L 148.253906 429.859375 L 148.328125 429.675781 L 148.449219 429.519531 L 148.605469 429.402344 L 148.785156 429.324219 L 148.980469 429.300781 L 162.921875 429.300781 L 163.117188 429.324219 L 163.296875 429.402344 L 163.453125 429.519531 L 163.574219 429.675781 L 163.648438 429.859375 L 163.675781 430.054688 L 163.675781 439.082031 L 163.648438 439.277344 L 163.574219 439.460938 L 163.453125 439.617188 L 163.296875 439.734375 L 163.117188 439.8125 L 162.921875 439.835938 L 148.980469 439.835938 L 148.785156 439.8125 L 148.605469 439.734375 L 148.449219 439.617188 L 148.328125 439.460938 L 148.253906 439.277344 L 148.226562 439.082031 Z \"/>\n",
       "<path style=\" stroke:none;fill-rule:nonzero;fill:rgb(74.509804%,74.509804%,74.509804%);fill-opacity:0.301961;\" d=\"M 361.210938 94.609375 L 361.234375 94.414062 L 361.3125 94.234375 L 361.429688 94.078125 L 361.585938 93.957031 L 361.769531 93.882812 L 361.964844 93.855469 L 372.011719 93.855469 L 372.207031 93.882812 L 372.390625 93.957031 L 372.546875 94.078125 L 372.664062 94.234375 L 372.738281 94.414062 L 372.765625 94.609375 L 372.765625 103.640625 L 372.738281 103.835938 L 372.664062 104.015625 L 372.546875 104.171875 L 372.390625 104.292969 L 372.207031 104.367188 L 372.011719 104.394531 L 361.964844 104.394531 L 361.769531 104.367188 L 361.585938 104.292969 L 361.429688 104.171875 L 361.3125 104.015625 L 361.234375 103.835938 L 361.210938 103.640625 Z \"/>\n",
       "<path style=\" stroke:none;fill-rule:nonzero;fill:rgb(74.509804%,74.509804%,74.509804%);fill-opacity:0.301961;\" d=\"M 272.105469 154.511719 L 272.132812 154.316406 L 272.207031 154.132812 L 272.328125 153.976562 L 272.484375 153.859375 L 272.664062 153.78125 L 272.859375 153.757812 L 282.90625 153.757812 L 283.101562 153.78125 L 283.285156 153.859375 L 283.441406 153.976562 L 283.558594 154.132812 L 283.636719 154.316406 L 283.660156 154.511719 L 283.660156 163.542969 L 283.636719 163.734375 L 283.558594 163.917969 L 283.441406 164.074219 L 283.285156 164.195312 L 283.101562 164.269531 L 282.90625 164.296875 L 272.859375 164.296875 L 272.664062 164.269531 L 272.484375 164.195312 L 272.328125 164.074219 L 272.207031 163.917969 L 272.132812 163.734375 L 272.105469 163.542969 Z \"/>\n",
       "<path style=\" stroke:none;fill-rule:nonzero;fill:rgb(74.509804%,74.509804%,74.509804%);fill-opacity:0.301961;\" d=\"M 198.25 430.054688 L 198.277344 429.859375 L 198.351562 429.675781 L 198.472656 429.519531 L 198.628906 429.402344 L 198.808594 429.324219 L 199.003906 429.300781 L 212.945312 429.300781 L 213.140625 429.324219 L 213.320312 429.402344 L 213.476562 429.519531 L 213.597656 429.675781 L 213.671875 429.859375 L 213.699219 430.054688 L 213.699219 439.082031 L 213.671875 439.277344 L 213.597656 439.460938 L 213.476562 439.617188 L 213.320312 439.734375 L 213.140625 439.8125 L 212.945312 439.835938 L 199.003906 439.835938 L 198.808594 439.8125 L 198.628906 439.734375 L 198.472656 439.617188 L 198.351562 439.460938 L 198.277344 439.277344 L 198.25 439.082031 Z \"/>\n",
       "<path style=\" stroke:none;fill-rule:nonzero;fill:rgb(74.509804%,74.509804%,74.509804%);fill-opacity:0.301961;\" d=\"M 342.070312 214.410156 L 342.09375 214.214844 L 342.167969 214.035156 L 342.289062 213.878906 L 342.445312 213.757812 L 342.628906 213.683594 L 342.824219 213.65625 L 356.761719 213.65625 L 356.957031 213.683594 L 357.140625 213.757812 L 357.296875 213.878906 L 357.414062 214.035156 L 357.492188 214.214844 L 357.515625 214.410156 L 357.515625 223.441406 L 357.492188 223.636719 L 357.414062 223.820312 L 357.296875 223.976562 L 357.140625 224.09375 L 356.957031 224.167969 L 356.761719 224.195312 L 342.824219 224.195312 L 342.628906 224.167969 L 342.445312 224.09375 L 342.289062 223.976562 L 342.167969 223.820312 L 342.09375 223.636719 L 342.070312 223.441406 Z \"/>\n",
       "<path style=\" stroke:none;fill-rule:nonzero;fill:rgb(74.509804%,74.509804%,74.509804%);fill-opacity:0.301961;\" d=\"M 285.792969 274.3125 L 285.816406 274.117188 L 285.894531 273.933594 L 286.011719 273.777344 L 286.167969 273.660156 L 286.351562 273.582031 L 286.546875 273.558594 L 300.484375 273.558594 L 300.679688 273.582031 L 300.863281 273.660156 L 301.019531 273.777344 L 301.140625 273.933594 L 301.214844 274.117188 L 301.238281 274.3125 L 301.238281 283.34375 L 301.214844 283.539062 L 301.140625 283.71875 L 301.019531 283.875 L 300.863281 283.996094 L 300.679688 284.070312 L 300.484375 284.097656 L 286.546875 284.097656 L 286.351562 284.070312 L 286.167969 283.996094 L 286.011719 283.875 L 285.894531 283.71875 L 285.816406 283.539062 L 285.792969 283.34375 Z \"/>\n",
       "<path style=\" stroke:none;fill-rule:nonzero;fill:rgb(74.509804%,74.509804%,74.509804%);fill-opacity:0.301961;\" d=\"M 248.273438 430.054688 L 248.300781 429.859375 L 248.375 429.675781 L 248.496094 429.519531 L 248.652344 429.402344 L 248.832031 429.324219 L 249.027344 429.300781 L 262.96875 429.300781 L 263.164062 429.324219 L 263.34375 429.402344 L 263.5 429.519531 L 263.621094 429.675781 L 263.695312 429.859375 L 263.722656 430.054688 L 263.722656 439.082031 L 263.695312 439.277344 L 263.621094 439.460938 L 263.5 439.617188 L 263.34375 439.734375 L 263.164062 439.8125 L 262.96875 439.835938 L 249.027344 439.835938 L 248.832031 439.8125 L 248.652344 439.734375 L 248.496094 439.617188 L 248.375 439.460938 L 248.300781 439.277344 L 248.273438 439.082031 Z \"/>\n",
       "<path style=\" stroke:none;fill-rule:nonzero;fill:rgb(74.509804%,74.509804%,74.509804%);fill-opacity:0.301961;\" d=\"M 323.308594 334.210938 L 323.335938 334.015625 L 323.410156 333.835938 L 323.53125 333.679688 L 323.6875 333.558594 L 323.867188 333.484375 L 324.0625 333.457031 L 338.003906 333.457031 L 338.199219 333.484375 L 338.378906 333.558594 L 338.535156 333.679688 L 338.65625 333.835938 L 338.730469 334.015625 L 338.757812 334.210938 L 338.757812 343.242188 L 338.730469 343.4375 L 338.65625 343.621094 L 338.535156 343.777344 L 338.378906 343.894531 L 338.199219 343.972656 L 338.003906 343.996094 L 324.0625 343.996094 L 323.867188 343.972656 L 323.6875 343.894531 L 323.53125 343.777344 L 323.410156 343.621094 L 323.335938 343.4375 L 323.308594 343.242188 Z \"/>\n",
       "<path style=\" stroke:none;fill-rule:nonzero;fill:rgb(74.509804%,74.509804%,74.509804%);fill-opacity:0.301961;\" d=\"M 296.351562 430.054688 L 296.378906 429.859375 L 296.453125 429.675781 L 296.574219 429.519531 L 296.730469 429.402344 L 296.910156 429.324219 L 297.105469 429.300781 L 314.9375 429.300781 L 315.132812 429.324219 L 315.316406 429.402344 L 315.472656 429.519531 L 315.589844 429.675781 L 315.667969 429.859375 L 315.691406 430.054688 L 315.691406 439.082031 L 315.667969 439.277344 L 315.589844 439.460938 L 315.472656 439.617188 L 315.316406 439.734375 L 315.132812 439.8125 L 314.9375 439.835938 L 297.105469 439.835938 L 296.910156 439.8125 L 296.730469 439.734375 L 296.574219 439.617188 L 296.453125 439.460938 L 296.378906 439.277344 L 296.351562 439.082031 Z \"/>\n",
       "<path style=\" stroke:none;fill-rule:nonzero;fill:rgb(74.509804%,74.509804%,74.509804%);fill-opacity:0.301961;\" d=\"M 346.375 430.054688 L 346.402344 429.859375 L 346.476562 429.675781 L 346.597656 429.519531 L 346.753906 429.402344 L 346.933594 429.324219 L 347.128906 429.300781 L 364.960938 429.300781 L 365.15625 429.324219 L 365.339844 429.402344 L 365.496094 429.519531 L 365.613281 429.675781 L 365.691406 429.859375 L 365.714844 430.054688 L 365.714844 439.082031 L 365.691406 439.277344 L 365.613281 439.460938 L 365.496094 439.617188 L 365.339844 439.734375 L 365.15625 439.8125 L 364.960938 439.835938 L 347.128906 439.835938 L 346.933594 439.8125 L 346.753906 439.734375 L 346.597656 439.617188 L 346.476562 439.460938 L 346.402344 439.277344 L 346.375 439.082031 Z \"/>\n",
       "<path style=\" stroke:none;fill-rule:nonzero;fill:rgb(74.509804%,74.509804%,74.509804%);fill-opacity:0.301961;\" d=\"M 398.34375 430.054688 L 398.371094 429.859375 L 398.445312 429.675781 L 398.566406 429.519531 L 398.722656 429.402344 L 398.902344 429.324219 L 399.097656 429.300781 L 413.039062 429.300781 L 413.234375 429.324219 L 413.414062 429.402344 L 413.570312 429.519531 L 413.691406 429.675781 L 413.765625 429.859375 L 413.792969 430.054688 L 413.792969 439.082031 L 413.765625 439.277344 L 413.691406 439.460938 L 413.570312 439.617188 L 413.414062 439.734375 L 413.234375 439.8125 L 413.039062 439.835938 L 399.097656 439.835938 L 398.902344 439.8125 L 398.722656 439.734375 L 398.566406 439.617188 L 398.445312 439.460938 L 398.371094 439.277344 L 398.34375 439.082031 Z \"/>\n",
       "<path style=\" stroke:none;fill-rule:nonzero;fill:rgb(74.509804%,74.509804%,74.509804%);fill-opacity:0.301961;\" d=\"M 450.316406 430.054688 L 450.339844 429.859375 L 450.414062 429.675781 L 450.535156 429.519531 L 450.691406 429.402344 L 450.875 429.324219 L 451.070312 429.300781 L 461.117188 429.300781 L 461.3125 429.324219 L 461.492188 429.402344 L 461.648438 429.519531 L 461.769531 429.675781 L 461.84375 429.859375 L 461.871094 430.054688 L 461.871094 439.082031 L 461.84375 439.277344 L 461.769531 439.460938 L 461.648438 439.617188 L 461.492188 439.734375 L 461.3125 439.8125 L 461.117188 439.835938 L 451.070312 439.835938 L 450.875 439.8125 L 450.691406 439.734375 L 450.535156 439.617188 L 450.414062 439.460938 L 450.339844 439.277344 L 450.316406 439.082031 Z \"/>\n",
       "<path style=\" stroke:none;fill-rule:nonzero;fill:rgb(74.509804%,74.509804%,74.509804%);fill-opacity:0.639216;\" d=\"M 224.925781 35.210938 L 224.953125 35.015625 L 225.027344 34.832031 L 225.148438 34.675781 L 225.304688 34.558594 L 225.484375 34.480469 L 225.679688 34.457031 L 234.730469 34.457031 L 234.925781 34.480469 L 235.105469 34.558594 L 235.261719 34.675781 L 235.382812 34.832031 L 235.457031 35.015625 L 235.484375 35.210938 L 235.484375 43.242188 L 235.457031 43.433594 L 235.382812 43.617188 L 235.261719 43.773438 L 235.105469 43.894531 L 234.925781 43.96875 L 234.730469 43.996094 L 225.679688 43.996094 L 225.484375 43.96875 L 225.304688 43.894531 L 225.148438 43.773438 L 225.027344 43.617188 L 224.953125 43.433594 L 224.925781 43.242188 Z \"/>\n",
       "<path style=\" stroke:none;fill-rule:nonzero;fill:rgb(74.509804%,74.509804%,74.509804%);fill-opacity:0.639216;\" d=\"M 88.144531 95.109375 L 88.167969 94.914062 L 88.246094 94.734375 L 88.363281 94.578125 L 88.519531 94.457031 L 88.703125 94.382812 L 88.898438 94.355469 L 97.945312 94.355469 L 98.140625 94.382812 L 98.324219 94.457031 L 98.480469 94.578125 L 98.597656 94.734375 L 98.675781 94.914062 L 98.699219 95.109375 L 98.699219 103.140625 L 98.675781 103.335938 L 98.597656 103.519531 L 98.480469 103.675781 L 98.324219 103.792969 L 98.140625 103.867188 L 97.945312 103.894531 L 88.898438 103.894531 L 88.703125 103.867188 L 88.519531 103.792969 L 88.363281 103.675781 L 88.246094 103.519531 L 88.167969 103.335938 L 88.144531 103.140625 Z \"/>\n",
       "<path style=\" stroke:none;fill-rule:nonzero;fill:rgb(74.509804%,74.509804%,74.509804%);fill-opacity:0.639216;\" d=\"M 50.625 430.554688 L 50.652344 430.359375 L 50.726562 430.175781 L 50.847656 430.019531 L 51.003906 429.898438 L 51.183594 429.824219 L 51.378906 429.800781 L 60.429688 429.800781 L 60.625 429.824219 L 60.804688 429.898438 L 60.960938 430.019531 L 61.082031 430.175781 L 61.15625 430.359375 L 61.183594 430.554688 L 61.183594 438.582031 L 61.15625 438.777344 L 61.082031 438.960938 L 60.960938 439.117188 L 60.804688 439.238281 L 60.625 439.3125 L 60.429688 439.335938 L 51.378906 439.335938 L 51.183594 439.3125 L 51.003906 439.238281 L 50.847656 439.117188 L 50.726562 438.960938 L 50.652344 438.777344 L 50.625 438.582031 Z \"/>\n",
       "<path style=\" stroke:none;fill-rule:nonzero;fill:rgb(74.509804%,74.509804%,74.509804%);fill-opacity:0.639216;\" d=\"M 125.660156 155.011719 L 125.6875 154.816406 L 125.761719 154.632812 L 125.882812 154.476562 L 126.039062 154.359375 L 126.21875 154.28125 L 126.414062 154.257812 L 135.464844 154.257812 L 135.660156 154.28125 L 135.839844 154.359375 L 135.996094 154.476562 L 136.117188 154.632812 L 136.191406 154.816406 L 136.21875 155.011719 L 136.21875 163.042969 L 136.191406 163.238281 L 136.117188 163.417969 L 135.996094 163.574219 L 135.839844 163.695312 L 135.660156 163.769531 L 135.464844 163.796875 L 126.414062 163.796875 L 126.21875 163.769531 L 126.039062 163.695312 L 125.882812 163.574219 L 125.761719 163.417969 L 125.6875 163.238281 L 125.660156 163.042969 Z \"/>\n",
       "<path style=\" stroke:none;fill-rule:nonzero;fill:rgb(74.509804%,74.509804%,74.509804%);fill-opacity:0.639216;\" d=\"M 98.703125 430.554688 L 98.730469 430.359375 L 98.804688 430.175781 L 98.925781 430.019531 L 99.082031 429.898438 L 99.261719 429.824219 L 99.457031 429.800781 L 112.398438 429.800781 L 112.59375 429.824219 L 112.773438 429.898438 L 112.929688 430.019531 L 113.050781 430.175781 L 113.125 430.359375 L 113.152344 430.554688 L 113.152344 438.582031 L 113.125 438.777344 L 113.050781 438.960938 L 112.929688 439.117188 L 112.773438 439.238281 L 112.59375 439.3125 L 112.398438 439.335938 L 99.457031 439.335938 L 99.261719 439.3125 L 99.082031 439.238281 L 98.925781 439.117188 L 98.804688 438.960938 L 98.730469 438.777344 L 98.703125 438.582031 Z \"/>\n",
       "<path style=\" stroke:none;fill-rule:nonzero;fill:rgb(74.509804%,74.509804%,74.509804%);fill-opacity:0.639216;\" d=\"M 148.726562 430.554688 L 148.753906 430.359375 L 148.828125 430.175781 L 148.949219 430.019531 L 149.105469 429.898438 L 149.285156 429.824219 L 149.480469 429.800781 L 162.421875 429.800781 L 162.617188 429.824219 L 162.796875 429.898438 L 162.953125 430.019531 L 163.074219 430.175781 L 163.148438 430.359375 L 163.175781 430.554688 L 163.175781 438.582031 L 163.148438 438.777344 L 163.074219 438.960938 L 162.953125 439.117188 L 162.796875 439.238281 L 162.617188 439.3125 L 162.421875 439.335938 L 149.480469 439.335938 L 149.285156 439.3125 L 149.105469 439.238281 L 148.949219 439.117188 L 148.828125 438.960938 L 148.753906 438.777344 L 148.726562 438.582031 Z \"/>\n",
       "<path style=\" stroke:none;fill-rule:nonzero;fill:rgb(74.509804%,74.509804%,74.509804%);fill-opacity:0.639216;\" d=\"M 361.710938 95.109375 L 361.734375 94.914062 L 361.8125 94.734375 L 361.929688 94.578125 L 362.085938 94.457031 L 362.269531 94.382812 L 362.464844 94.355469 L 371.511719 94.355469 L 371.707031 94.382812 L 371.890625 94.457031 L 372.046875 94.578125 L 372.164062 94.734375 L 372.242188 94.914062 L 372.265625 95.109375 L 372.265625 103.140625 L 372.242188 103.335938 L 372.164062 103.519531 L 372.046875 103.675781 L 371.890625 103.792969 L 371.707031 103.867188 L 371.511719 103.894531 L 362.464844 103.894531 L 362.269531 103.867188 L 362.085938 103.792969 L 361.929688 103.675781 L 361.8125 103.519531 L 361.734375 103.335938 L 361.710938 103.140625 Z \"/>\n",
       "<path style=\" stroke:none;fill-rule:nonzero;fill:rgb(74.509804%,74.509804%,74.509804%);fill-opacity:0.639216;\" d=\"M 272.605469 155.011719 L 272.632812 154.816406 L 272.707031 154.632812 L 272.828125 154.476562 L 272.984375 154.359375 L 273.164062 154.28125 L 273.359375 154.257812 L 282.40625 154.257812 L 282.601562 154.28125 L 282.785156 154.359375 L 282.941406 154.476562 L 283.0625 154.632812 L 283.136719 154.816406 L 283.160156 155.011719 L 283.160156 163.042969 L 283.136719 163.238281 L 283.0625 163.417969 L 282.941406 163.574219 L 282.785156 163.695312 L 282.601562 163.769531 L 282.40625 163.796875 L 273.359375 163.796875 L 273.164062 163.769531 L 272.984375 163.695312 L 272.828125 163.574219 L 272.707031 163.417969 L 272.632812 163.238281 L 272.605469 163.042969 Z \"/>\n",
       "<path style=\" stroke:none;fill-rule:nonzero;fill:rgb(74.509804%,74.509804%,74.509804%);fill-opacity:0.639216;\" d=\"M 198.75 430.554688 L 198.777344 430.359375 L 198.851562 430.175781 L 198.972656 430.019531 L 199.128906 429.898438 L 199.308594 429.824219 L 199.503906 429.800781 L 212.445312 429.800781 L 212.640625 429.824219 L 212.820312 429.898438 L 212.976562 430.019531 L 213.097656 430.175781 L 213.171875 430.359375 L 213.199219 430.554688 L 213.199219 438.582031 L 213.171875 438.777344 L 213.097656 438.960938 L 212.976562 439.117188 L 212.820312 439.238281 L 212.640625 439.3125 L 212.445312 439.335938 L 199.503906 439.335938 L 199.308594 439.3125 L 199.128906 439.238281 L 198.972656 439.117188 L 198.851562 438.960938 L 198.777344 438.777344 L 198.75 438.582031 Z \"/>\n",
       "<path style=\" stroke:none;fill-rule:nonzero;fill:rgb(74.509804%,74.509804%,74.509804%);fill-opacity:0.639216;\" d=\"M 342.570312 214.910156 L 342.59375 214.714844 L 342.667969 214.535156 L 342.789062 214.378906 L 342.945312 214.257812 L 343.128906 214.183594 L 343.324219 214.15625 L 356.261719 214.15625 L 356.457031 214.183594 L 356.640625 214.257812 L 356.796875 214.378906 L 356.914062 214.535156 L 356.992188 214.714844 L 357.015625 214.910156 L 357.015625 222.941406 L 356.992188 223.136719 L 356.914062 223.320312 L 356.796875 223.476562 L 356.640625 223.59375 L 356.457031 223.671875 L 356.261719 223.695312 L 343.324219 223.695312 L 343.128906 223.671875 L 342.945312 223.59375 L 342.789062 223.476562 L 342.667969 223.320312 L 342.59375 223.136719 L 342.570312 222.941406 Z \"/>\n",
       "<path style=\" stroke:none;fill-rule:nonzero;fill:rgb(74.509804%,74.509804%,74.509804%);fill-opacity:0.639216;\" d=\"M 286.292969 274.8125 L 286.316406 274.617188 L 286.394531 274.433594 L 286.511719 274.277344 L 286.667969 274.160156 L 286.851562 274.082031 L 287.046875 274.058594 L 299.984375 274.058594 L 300.179688 274.082031 L 300.363281 274.160156 L 300.519531 274.277344 L 300.640625 274.433594 L 300.714844 274.617188 L 300.738281 274.8125 L 300.738281 282.84375 L 300.714844 283.039062 L 300.640625 283.21875 L 300.519531 283.375 L 300.363281 283.496094 L 300.179688 283.570312 L 299.984375 283.597656 L 287.046875 283.597656 L 286.851562 283.570312 L 286.667969 283.496094 L 286.511719 283.375 L 286.394531 283.21875 L 286.316406 283.039062 L 286.292969 282.84375 Z \"/>\n",
       "<path style=\" stroke:none;fill-rule:nonzero;fill:rgb(74.509804%,74.509804%,74.509804%);fill-opacity:0.639216;\" d=\"M 248.773438 430.554688 L 248.800781 430.359375 L 248.875 430.175781 L 248.996094 430.019531 L 249.152344 429.898438 L 249.332031 429.824219 L 249.527344 429.800781 L 262.46875 429.800781 L 262.664062 429.824219 L 262.84375 429.898438 L 263 430.019531 L 263.121094 430.175781 L 263.195312 430.359375 L 263.222656 430.554688 L 263.222656 438.582031 L 263.195312 438.777344 L 263.121094 438.960938 L 263 439.117188 L 262.84375 439.238281 L 262.664062 439.3125 L 262.46875 439.335938 L 249.527344 439.335938 L 249.332031 439.3125 L 249.152344 439.238281 L 248.996094 439.117188 L 248.875 438.960938 L 248.800781 438.777344 L 248.773438 438.582031 Z \"/>\n",
       "<path style=\" stroke:none;fill-rule:nonzero;fill:rgb(74.509804%,74.509804%,74.509804%);fill-opacity:0.639216;\" d=\"M 323.808594 334.710938 L 323.835938 334.515625 L 323.910156 334.335938 L 324.03125 334.179688 L 324.1875 334.058594 L 324.367188 333.984375 L 324.5625 333.957031 L 337.503906 333.957031 L 337.699219 333.984375 L 337.878906 334.058594 L 338.035156 334.179688 L 338.15625 334.335938 L 338.230469 334.515625 L 338.257812 334.710938 L 338.257812 342.742188 L 338.230469 342.9375 L 338.15625 343.121094 L 338.035156 343.277344 L 337.878906 343.394531 L 337.699219 343.472656 L 337.503906 343.496094 L 324.5625 343.496094 L 324.367188 343.472656 L 324.1875 343.394531 L 324.03125 343.277344 L 323.910156 343.121094 L 323.835938 342.9375 L 323.808594 342.742188 Z \"/>\n",
       "<path style=\" stroke:none;fill-rule:nonzero;fill:rgb(74.509804%,74.509804%,74.509804%);fill-opacity:0.639216;\" d=\"M 296.851562 430.554688 L 296.878906 430.359375 L 296.953125 430.175781 L 297.074219 430.019531 L 297.230469 429.898438 L 297.410156 429.824219 L 297.605469 429.800781 L 314.4375 429.800781 L 314.632812 429.824219 L 314.816406 429.898438 L 314.972656 430.019531 L 315.089844 430.175781 L 315.167969 430.359375 L 315.191406 430.554688 L 315.191406 438.582031 L 315.167969 438.777344 L 315.089844 438.960938 L 314.972656 439.117188 L 314.816406 439.238281 L 314.632812 439.3125 L 314.4375 439.335938 L 297.605469 439.335938 L 297.410156 439.3125 L 297.230469 439.238281 L 297.074219 439.117188 L 296.953125 438.960938 L 296.878906 438.777344 L 296.851562 438.582031 Z \"/>\n",
       "<path style=\" stroke:none;fill-rule:nonzero;fill:rgb(74.509804%,74.509804%,74.509804%);fill-opacity:0.639216;\" d=\"M 346.875 430.554688 L 346.902344 430.359375 L 346.976562 430.175781 L 347.097656 430.019531 L 347.253906 429.898438 L 347.433594 429.824219 L 347.628906 429.800781 L 364.460938 429.800781 L 364.65625 429.824219 L 364.839844 429.898438 L 364.996094 430.019531 L 365.113281 430.175781 L 365.191406 430.359375 L 365.214844 430.554688 L 365.214844 438.582031 L 365.191406 438.777344 L 365.113281 438.960938 L 364.996094 439.117188 L 364.839844 439.238281 L 364.65625 439.3125 L 364.460938 439.335938 L 347.628906 439.335938 L 347.433594 439.3125 L 347.253906 439.238281 L 347.097656 439.117188 L 346.976562 438.960938 L 346.902344 438.777344 L 346.875 438.582031 Z \"/>\n",
       "<path style=\" stroke:none;fill-rule:nonzero;fill:rgb(74.509804%,74.509804%,74.509804%);fill-opacity:0.639216;\" d=\"M 398.84375 430.554688 L 398.871094 430.359375 L 398.945312 430.175781 L 399.066406 430.019531 L 399.222656 429.898438 L 399.402344 429.824219 L 399.597656 429.800781 L 412.539062 429.800781 L 412.734375 429.824219 L 412.914062 429.898438 L 413.070312 430.019531 L 413.191406 430.175781 L 413.265625 430.359375 L 413.292969 430.554688 L 413.292969 438.582031 L 413.265625 438.777344 L 413.191406 438.960938 L 413.070312 439.117188 L 412.914062 439.238281 L 412.734375 439.3125 L 412.539062 439.335938 L 399.597656 439.335938 L 399.402344 439.3125 L 399.222656 439.238281 L 399.066406 439.117188 L 398.945312 438.960938 L 398.871094 438.777344 L 398.84375 438.582031 Z \"/>\n",
       "<path style=\" stroke:none;fill-rule:nonzero;fill:rgb(74.509804%,74.509804%,74.509804%);fill-opacity:0.639216;\" d=\"M 450.8125 430.554688 L 450.839844 430.359375 L 450.914062 430.175781 L 451.035156 430.019531 L 451.191406 429.898438 L 451.375 429.824219 L 451.566406 429.800781 L 460.617188 429.800781 L 460.8125 429.824219 L 460.992188 429.898438 L 461.148438 430.019531 L 461.269531 430.175781 L 461.34375 430.359375 L 461.371094 430.554688 L 461.371094 438.582031 L 461.34375 438.777344 L 461.269531 438.960938 L 461.148438 439.117188 L 460.992188 439.238281 L 460.8125 439.3125 L 460.617188 439.335938 L 451.566406 439.335938 L 451.375 439.3125 L 451.191406 439.238281 L 451.035156 439.117188 L 450.914062 438.960938 L 450.839844 438.777344 L 450.8125 438.582031 Z \"/>\n",
       "<path style=\" stroke:none;fill-rule:nonzero;fill:rgb(74.509804%,74.509804%,74.509804%);fill-opacity:1;\" d=\"M 225.425781 35.710938 L 225.453125 35.515625 L 225.527344 35.332031 L 225.648438 35.175781 L 225.804688 35.058594 L 225.984375 34.980469 L 226.179688 34.957031 L 234.230469 34.957031 L 234.425781 34.980469 L 234.605469 35.058594 L 234.761719 35.175781 L 234.882812 35.332031 L 234.957031 35.515625 L 234.984375 35.710938 L 234.984375 42.742188 L 234.957031 42.9375 L 234.882812 43.117188 L 234.761719 43.273438 L 234.605469 43.394531 L 234.425781 43.46875 L 234.230469 43.496094 L 226.179688 43.496094 L 225.984375 43.46875 L 225.804688 43.394531 L 225.648438 43.273438 L 225.527344 43.117188 L 225.453125 42.9375 L 225.425781 42.742188 Z \"/>\n",
       "<path style=\" stroke:none;fill-rule:nonzero;fill:rgb(74.509804%,74.509804%,74.509804%);fill-opacity:1;\" d=\"M 88.644531 95.609375 L 88.667969 95.414062 L 88.746094 95.234375 L 88.863281 95.078125 L 89.019531 94.957031 L 89.203125 94.882812 L 89.398438 94.855469 L 97.445312 94.855469 L 97.640625 94.882812 L 97.824219 94.957031 L 97.980469 95.078125 L 98.097656 95.234375 L 98.175781 95.414062 L 98.199219 95.609375 L 98.199219 102.640625 L 98.175781 102.835938 L 98.097656 103.019531 L 97.980469 103.175781 L 97.824219 103.292969 L 97.640625 103.371094 L 97.445312 103.394531 L 89.398438 103.394531 L 89.203125 103.371094 L 89.019531 103.292969 L 88.863281 103.175781 L 88.746094 103.019531 L 88.667969 102.835938 L 88.644531 102.640625 Z \"/>\n",
       "<path style=\" stroke:none;fill-rule:nonzero;fill:rgb(74.509804%,74.509804%,74.509804%);fill-opacity:1;\" d=\"M 51.125 431.054688 L 51.152344 430.859375 L 51.226562 430.675781 L 51.347656 430.519531 L 51.503906 430.398438 L 51.683594 430.324219 L 51.878906 430.300781 L 59.929688 430.300781 L 60.125 430.324219 L 60.304688 430.398438 L 60.460938 430.519531 L 60.582031 430.675781 L 60.65625 430.859375 L 60.683594 431.054688 L 60.683594 438.082031 L 60.65625 438.277344 L 60.582031 438.460938 L 60.460938 438.617188 L 60.304688 438.738281 L 60.125 438.8125 L 59.929688 438.835938 L 51.878906 438.835938 L 51.683594 438.8125 L 51.503906 438.738281 L 51.347656 438.617188 L 51.226562 438.460938 L 51.152344 438.277344 L 51.125 438.082031 Z \"/>\n",
       "<path style=\" stroke:none;fill-rule:nonzero;fill:rgb(74.509804%,74.509804%,74.509804%);fill-opacity:1;\" d=\"M 126.160156 155.511719 L 126.1875 155.316406 L 126.261719 155.132812 L 126.382812 154.976562 L 126.539062 154.859375 L 126.71875 154.78125 L 126.914062 154.757812 L 134.964844 154.757812 L 135.160156 154.78125 L 135.339844 154.859375 L 135.496094 154.976562 L 135.617188 155.132812 L 135.691406 155.316406 L 135.71875 155.511719 L 135.71875 162.542969 L 135.691406 162.738281 L 135.617188 162.917969 L 135.496094 163.074219 L 135.339844 163.195312 L 135.160156 163.269531 L 134.964844 163.296875 L 126.914062 163.296875 L 126.71875 163.269531 L 126.539062 163.195312 L 126.382812 163.074219 L 126.261719 162.917969 L 126.1875 162.738281 L 126.160156 162.542969 Z \"/>\n",
       "<path style=\" stroke:none;fill-rule:nonzero;fill:rgb(74.509804%,74.509804%,74.509804%);fill-opacity:1;\" d=\"M 99.203125 431.054688 L 99.230469 430.859375 L 99.304688 430.675781 L 99.425781 430.519531 L 99.582031 430.398438 L 99.761719 430.324219 L 99.957031 430.300781 L 111.898438 430.300781 L 112.09375 430.324219 L 112.273438 430.398438 L 112.429688 430.519531 L 112.550781 430.675781 L 112.625 430.859375 L 112.652344 431.054688 L 112.652344 438.082031 L 112.625 438.277344 L 112.550781 438.460938 L 112.429688 438.617188 L 112.273438 438.738281 L 112.09375 438.8125 L 111.898438 438.835938 L 99.957031 438.835938 L 99.761719 438.8125 L 99.582031 438.738281 L 99.425781 438.617188 L 99.304688 438.460938 L 99.230469 438.277344 L 99.203125 438.082031 Z \"/>\n",
       "<path style=\" stroke:none;fill-rule:nonzero;fill:rgb(74.509804%,74.509804%,74.509804%);fill-opacity:1;\" d=\"M 149.226562 431.054688 L 149.253906 430.859375 L 149.328125 430.675781 L 149.449219 430.519531 L 149.605469 430.398438 L 149.785156 430.324219 L 149.980469 430.300781 L 161.921875 430.300781 L 162.117188 430.324219 L 162.296875 430.398438 L 162.453125 430.519531 L 162.574219 430.675781 L 162.648438 430.859375 L 162.675781 431.054688 L 162.675781 438.082031 L 162.648438 438.277344 L 162.574219 438.460938 L 162.453125 438.617188 L 162.296875 438.738281 L 162.117188 438.8125 L 161.921875 438.835938 L 149.980469 438.835938 L 149.785156 438.8125 L 149.605469 438.738281 L 149.449219 438.617188 L 149.328125 438.460938 L 149.253906 438.277344 L 149.226562 438.082031 Z \"/>\n",
       "<path style=\" stroke:none;fill-rule:nonzero;fill:rgb(74.509804%,74.509804%,74.509804%);fill-opacity:1;\" d=\"M 362.210938 95.609375 L 362.234375 95.414062 L 362.3125 95.234375 L 362.429688 95.078125 L 362.585938 94.957031 L 362.769531 94.882812 L 362.964844 94.855469 L 371.011719 94.855469 L 371.207031 94.882812 L 371.390625 94.957031 L 371.546875 95.078125 L 371.664062 95.234375 L 371.742188 95.414062 L 371.765625 95.609375 L 371.765625 102.640625 L 371.742188 102.835938 L 371.664062 103.019531 L 371.546875 103.175781 L 371.390625 103.292969 L 371.207031 103.371094 L 371.011719 103.394531 L 362.964844 103.394531 L 362.769531 103.371094 L 362.585938 103.292969 L 362.429688 103.175781 L 362.3125 103.019531 L 362.234375 102.835938 L 362.210938 102.640625 Z \"/>\n",
       "<path style=\" stroke:none;fill-rule:nonzero;fill:rgb(74.509804%,74.509804%,74.509804%);fill-opacity:1;\" d=\"M 273.105469 155.511719 L 273.132812 155.316406 L 273.207031 155.132812 L 273.328125 154.976562 L 273.484375 154.859375 L 273.664062 154.78125 L 273.859375 154.757812 L 281.90625 154.757812 L 282.101562 154.78125 L 282.285156 154.859375 L 282.441406 154.976562 L 282.5625 155.132812 L 282.636719 155.316406 L 282.660156 155.511719 L 282.660156 162.542969 L 282.636719 162.738281 L 282.5625 162.917969 L 282.441406 163.074219 L 282.285156 163.195312 L 282.101562 163.269531 L 281.90625 163.296875 L 273.859375 163.296875 L 273.664062 163.269531 L 273.484375 163.195312 L 273.328125 163.074219 L 273.207031 162.917969 L 273.132812 162.738281 L 273.105469 162.542969 Z \"/>\n",
       "<path style=\" stroke:none;fill-rule:nonzero;fill:rgb(74.509804%,74.509804%,74.509804%);fill-opacity:1;\" d=\"M 199.25 431.054688 L 199.277344 430.859375 L 199.351562 430.675781 L 199.472656 430.519531 L 199.628906 430.398438 L 199.808594 430.324219 L 200.003906 430.300781 L 211.945312 430.300781 L 212.140625 430.324219 L 212.320312 430.398438 L 212.476562 430.519531 L 212.597656 430.675781 L 212.671875 430.859375 L 212.699219 431.054688 L 212.699219 438.082031 L 212.671875 438.277344 L 212.597656 438.460938 L 212.476562 438.617188 L 212.320312 438.738281 L 212.140625 438.8125 L 211.945312 438.835938 L 200.003906 438.835938 L 199.808594 438.8125 L 199.628906 438.738281 L 199.472656 438.617188 L 199.351562 438.460938 L 199.277344 438.277344 L 199.25 438.082031 Z \"/>\n",
       "<path style=\" stroke:none;fill-rule:nonzero;fill:rgb(74.509804%,74.509804%,74.509804%);fill-opacity:1;\" d=\"M 343.066406 215.410156 L 343.09375 215.214844 L 343.167969 215.035156 L 343.289062 214.878906 L 343.445312 214.757812 L 343.628906 214.683594 L 343.820312 214.65625 L 355.761719 214.65625 L 355.957031 214.683594 L 356.140625 214.757812 L 356.296875 214.878906 L 356.414062 215.035156 L 356.492188 215.214844 L 356.515625 215.410156 L 356.515625 222.441406 L 356.492188 222.636719 L 356.414062 222.820312 L 356.296875 222.976562 L 356.140625 223.09375 L 355.957031 223.171875 L 355.761719 223.195312 L 343.820312 223.195312 L 343.628906 223.171875 L 343.445312 223.09375 L 343.289062 222.976562 L 343.167969 222.820312 L 343.09375 222.636719 L 343.066406 222.441406 Z \"/>\n",
       "<path style=\" stroke:none;fill-rule:nonzero;fill:rgb(74.509804%,74.509804%,74.509804%);fill-opacity:1;\" d=\"M 286.792969 275.3125 L 286.816406 275.117188 L 286.894531 274.933594 L 287.011719 274.777344 L 287.167969 274.660156 L 287.351562 274.582031 L 287.546875 274.558594 L 299.488281 274.558594 L 299.679688 274.582031 L 299.863281 274.660156 L 300.019531 274.777344 L 300.140625 274.933594 L 300.214844 275.117188 L 300.242188 275.3125 L 300.242188 282.34375 L 300.214844 282.539062 L 300.140625 282.71875 L 300.019531 282.875 L 299.863281 282.996094 L 299.679688 283.070312 L 299.488281 283.097656 L 287.546875 283.097656 L 287.351562 283.070312 L 287.167969 282.996094 L 287.011719 282.875 L 286.894531 282.71875 L 286.816406 282.539062 L 286.792969 282.34375 Z \"/>\n",
       "<path style=\" stroke:none;fill-rule:nonzero;fill:rgb(74.509804%,74.509804%,74.509804%);fill-opacity:1;\" d=\"M 249.273438 431.054688 L 249.300781 430.859375 L 249.375 430.675781 L 249.496094 430.519531 L 249.652344 430.398438 L 249.832031 430.324219 L 250.027344 430.300781 L 261.96875 430.300781 L 262.164062 430.324219 L 262.34375 430.398438 L 262.5 430.519531 L 262.621094 430.675781 L 262.695312 430.859375 L 262.722656 431.054688 L 262.722656 438.082031 L 262.695312 438.277344 L 262.621094 438.460938 L 262.5 438.617188 L 262.34375 438.738281 L 262.164062 438.8125 L 261.96875 438.835938 L 250.027344 438.835938 L 249.832031 438.8125 L 249.652344 438.738281 L 249.496094 438.617188 L 249.375 438.460938 L 249.300781 438.277344 L 249.273438 438.082031 Z \"/>\n",
       "<path style=\" stroke:none;fill-rule:nonzero;fill:rgb(74.509804%,74.509804%,74.509804%);fill-opacity:1;\" d=\"M 324.308594 335.210938 L 324.335938 335.015625 L 324.410156 334.835938 L 324.53125 334.679688 L 324.6875 334.558594 L 324.867188 334.484375 L 325.0625 334.457031 L 337.003906 334.457031 L 337.199219 334.484375 L 337.382812 334.558594 L 337.535156 334.679688 L 337.65625 334.835938 L 337.730469 335.015625 L 337.757812 335.210938 L 337.757812 342.242188 L 337.730469 342.4375 L 337.65625 342.621094 L 337.535156 342.777344 L 337.382812 342.894531 L 337.199219 342.972656 L 337.003906 342.996094 L 325.0625 342.996094 L 324.867188 342.972656 L 324.6875 342.894531 L 324.53125 342.777344 L 324.410156 342.621094 L 324.335938 342.4375 L 324.308594 342.242188 Z \"/>\n",
       "<path style=\" stroke:none;fill-rule:nonzero;fill:rgb(74.509804%,74.509804%,74.509804%);fill-opacity:1;\" d=\"M 297.351562 431.054688 L 297.378906 430.859375 L 297.453125 430.675781 L 297.574219 430.519531 L 297.730469 430.398438 L 297.910156 430.324219 L 298.105469 430.300781 L 313.9375 430.300781 L 314.132812 430.324219 L 314.316406 430.398438 L 314.472656 430.519531 L 314.589844 430.675781 L 314.667969 430.859375 L 314.691406 431.054688 L 314.691406 438.082031 L 314.667969 438.277344 L 314.589844 438.460938 L 314.472656 438.617188 L 314.316406 438.738281 L 314.132812 438.8125 L 313.9375 438.835938 L 298.105469 438.835938 L 297.910156 438.8125 L 297.730469 438.738281 L 297.574219 438.617188 L 297.453125 438.460938 L 297.378906 438.277344 L 297.351562 438.082031 Z \"/>\n",
       "<path style=\" stroke:none;fill-rule:nonzero;fill:rgb(74.509804%,74.509804%,74.509804%);fill-opacity:1;\" d=\"M 347.375 431.054688 L 347.402344 430.859375 L 347.476562 430.675781 L 347.597656 430.519531 L 347.753906 430.398438 L 347.933594 430.324219 L 348.128906 430.300781 L 363.960938 430.300781 L 364.15625 430.324219 L 364.339844 430.398438 L 364.496094 430.519531 L 364.613281 430.675781 L 364.691406 430.859375 L 364.714844 431.054688 L 364.714844 438.082031 L 364.691406 438.277344 L 364.613281 438.460938 L 364.496094 438.617188 L 364.339844 438.738281 L 364.15625 438.8125 L 363.960938 438.835938 L 348.128906 438.835938 L 347.933594 438.8125 L 347.753906 438.738281 L 347.597656 438.617188 L 347.476562 438.460938 L 347.402344 438.277344 L 347.375 438.082031 Z \"/>\n",
       "<path style=\" stroke:none;fill-rule:nonzero;fill:rgb(74.509804%,74.509804%,74.509804%);fill-opacity:1;\" d=\"M 399.34375 431.054688 L 399.371094 430.859375 L 399.445312 430.675781 L 399.566406 430.519531 L 399.722656 430.398438 L 399.902344 430.324219 L 400.097656 430.300781 L 412.039062 430.300781 L 412.234375 430.324219 L 412.417969 430.398438 L 412.574219 430.519531 L 412.691406 430.675781 L 412.765625 430.859375 L 412.792969 431.054688 L 412.792969 438.082031 L 412.765625 438.277344 L 412.691406 438.460938 L 412.574219 438.617188 L 412.417969 438.738281 L 412.234375 438.8125 L 412.039062 438.835938 L 400.097656 438.835938 L 399.902344 438.8125 L 399.722656 438.738281 L 399.566406 438.617188 L 399.445312 438.460938 L 399.371094 438.277344 L 399.34375 438.082031 Z \"/>\n",
       "<path style=\" stroke:none;fill-rule:nonzero;fill:rgb(74.509804%,74.509804%,74.509804%);fill-opacity:1;\" d=\"M 451.3125 431.054688 L 451.339844 430.859375 L 451.414062 430.675781 L 451.535156 430.519531 L 451.691406 430.398438 L 451.871094 430.324219 L 452.066406 430.300781 L 460.117188 430.300781 L 460.3125 430.324219 L 460.492188 430.398438 L 460.648438 430.519531 L 460.769531 430.675781 L 460.84375 430.859375 L 460.871094 431.054688 L 460.871094 438.082031 L 460.84375 438.277344 L 460.769531 438.460938 L 460.648438 438.617188 L 460.492188 438.738281 L 460.3125 438.8125 L 460.117188 438.835938 L 452.066406 438.835938 L 451.871094 438.8125 L 451.691406 438.738281 L 451.535156 438.617188 L 451.414062 438.460938 L 451.339844 438.277344 L 451.3125 438.082031 Z \"/>\n",
       "<g style=\"fill:rgb(0%,0%,0%);fill-opacity:1;\">\n",
       "  <use xlink:href=\"#glyph2-1\" x=\"223.707031\" y=\"37.413086\"/>\n",
       "</g>\n",
       "<g style=\"fill:rgb(0%,0%,0%);fill-opacity:1;\">\n",
       "  <use xlink:href=\"#glyph2-2\" x=\"86.921875\" y=\"97.31543\"/>\n",
       "</g>\n",
       "<g style=\"fill:rgb(0%,0%,0%);fill-opacity:1;\">\n",
       "  <use xlink:href=\"#glyph2-3\" x=\"49.40625\" y=\"432.756836\"/>\n",
       "</g>\n",
       "<g style=\"fill:rgb(0%,0%,0%);fill-opacity:1;\">\n",
       "  <use xlink:href=\"#glyph2-4\" x=\"124.441406\" y=\"156.713867\"/>\n",
       "</g>\n",
       "<g style=\"fill:rgb(0%,0%,0%);fill-opacity:1;\">\n",
       "  <use xlink:href=\"#glyph2-1\" x=\"97.429688\" y=\"432.256836\"/>\n",
       "  <use xlink:href=\"#glyph2-5\" x=\"101.469727\" y=\"432.256836\"/>\n",
       "</g>\n",
       "<g style=\"fill:rgb(0%,0%,0%);fill-opacity:1;\">\n",
       "  <use xlink:href=\"#glyph2-1\" x=\"147.453125\" y=\"432.756836\"/>\n",
       "  <use xlink:href=\"#glyph2-1\" x=\"151.493164\" y=\"432.756836\"/>\n",
       "</g>\n",
       "<g style=\"fill:rgb(0%,0%,0%);fill-opacity:1;\">\n",
       "  <use xlink:href=\"#glyph2-6\" x=\"360.488281\" y=\"96.81543\"/>\n",
       "</g>\n",
       "<g style=\"fill:rgb(0%,0%,0%);fill-opacity:1;\">\n",
       "  <use xlink:href=\"#glyph2-7\" x=\"271.386719\" y=\"156.713867\"/>\n",
       "</g>\n",
       "<g style=\"fill:rgb(0%,0%,0%);fill-opacity:1;\">\n",
       "  <use xlink:href=\"#glyph2-1\" x=\"197.476562\" y=\"432.756836\"/>\n",
       "  <use xlink:href=\"#glyph2-2\" x=\"201.516602\" y=\"432.756836\"/>\n",
       "</g>\n",
       "<g style=\"fill:rgb(0%,0%,0%);fill-opacity:1;\">\n",
       "  <use xlink:href=\"#glyph2-1\" x=\"341.292969\" y=\"216.616211\"/>\n",
       "  <use xlink:href=\"#glyph2-6\" x=\"345.333008\" y=\"216.616211\"/>\n",
       "</g>\n",
       "<g style=\"fill:rgb(0%,0%,0%);fill-opacity:1;\">\n",
       "  <use xlink:href=\"#glyph2-2\" x=\"285.019531\" y=\"276.514648\"/>\n",
       "  <use xlink:href=\"#glyph2-7\" x=\"289.05957\" y=\"276.514648\"/>\n",
       "</g>\n",
       "<g style=\"fill:rgb(0%,0%,0%);fill-opacity:1;\">\n",
       "  <use xlink:href=\"#glyph2-4\" x=\"247.5\" y=\"432.256836\"/>\n",
       "  <use xlink:href=\"#glyph2-2\" x=\"251.540039\" y=\"432.256836\"/>\n",
       "</g>\n",
       "<g style=\"fill:rgb(0%,0%,0%);fill-opacity:1;\">\n",
       "  <use xlink:href=\"#glyph2-4\" x=\"322.535156\" y=\"336.416992\"/>\n",
       "  <use xlink:href=\"#glyph2-6\" x=\"326.575195\" y=\"336.416992\"/>\n",
       "</g>\n",
       "<g style=\"fill:rgb(0%,0%,0%);fill-opacity:1;\">\n",
       "  <use xlink:href=\"#glyph2-1\" x=\"295.523438\" y=\"432.256836\"/>\n",
       "  <use xlink:href=\"#glyph2-5\" x=\"299.563477\" y=\"432.256836\"/>\n",
       "  <use xlink:href=\"#glyph2-7\" x=\"303.603516\" y=\"432.256836\"/>\n",
       "</g>\n",
       "<g style=\"fill:rgb(0%,0%,0%);fill-opacity:1;\">\n",
       "  <use xlink:href=\"#glyph2-1\" x=\"345.546875\" y=\"432.256836\"/>\n",
       "  <use xlink:href=\"#glyph2-5\" x=\"349.586914\" y=\"432.256836\"/>\n",
       "  <use xlink:href=\"#glyph2-8\" x=\"353.626953\" y=\"432.256836\"/>\n",
       "</g>\n",
       "<g style=\"fill:rgb(0%,0%,0%);fill-opacity:1;\">\n",
       "  <use xlink:href=\"#glyph2-2\" x=\"397.570312\" y=\"432.756836\"/>\n",
       "  <use xlink:href=\"#glyph2-8\" x=\"401.610352\" y=\"432.756836\"/>\n",
       "</g>\n",
       "<g style=\"fill:rgb(0%,0%,0%);fill-opacity:1;\">\n",
       "  <use xlink:href=\"#glyph2-8\" x=\"449.59375\" y=\"432.756836\"/>\n",
       "</g>\n",
       "<path style=\"fill:none;stroke-width:0.649219;stroke-linecap:butt;stroke-linejoin:round;stroke:rgb(0%,0%,0%);stroke-opacity:1;stroke-dasharray:0.75,2.25;stroke-miterlimit:10;\" d=\"M 89.421875 98.898438 L 89.421875 87.359375 L 226.207031 87.359375 \"/>\n",
       "<path style=\"fill:none;stroke-width:0.649219;stroke-linecap:butt;stroke-linejoin:round;stroke:rgb(0%,0%,0%);stroke-opacity:1;stroke-dasharray:0.75,2.25;stroke-miterlimit:10;\" d=\"M 51.90625 434.339844 L 51.90625 147.261719 L 89.421875 147.261719 \"/>\n",
       "<path style=\"fill:none;stroke-width:0.649219;stroke-linecap:butt;stroke-linejoin:round;stroke:rgb(0%,0%,0%);stroke-opacity:1;stroke-dasharray:0.75,2.25;stroke-miterlimit:10;\" d=\"M 126.941406 158.796875 L 126.941406 147.261719 L 89.421875 147.261719 \"/>\n",
       "<path style=\"fill:none;stroke-width:0.649219;stroke-linecap:butt;stroke-linejoin:round;stroke:rgb(0%,0%,0%);stroke-opacity:1;stroke-dasharray:0.75,2.25;stroke-miterlimit:10;\" d=\"M 101.929688 434.339844 L 101.929688 207.164062 L 126.941406 207.164062 \"/>\n",
       "<path style=\"fill:none;stroke-width:0.649219;stroke-linecap:butt;stroke-linejoin:round;stroke:rgb(0%,0%,0%);stroke-opacity:1;stroke-dasharray:0.75,2.25;stroke-miterlimit:10;\" d=\"M 151.953125 434.339844 L 151.953125 207.164062 L 126.941406 207.164062 \"/>\n",
       "<path style=\"fill:none;stroke-width:0.649219;stroke-linecap:butt;stroke-linejoin:round;stroke:rgb(0%,0%,0%);stroke-opacity:1;stroke-dasharray:0.75,2.25;stroke-miterlimit:10;\" d=\"M 362.988281 98.898438 L 362.988281 87.359375 L 226.207031 87.359375 \"/>\n",
       "<path style=\"fill:none;stroke-width:0.649219;stroke-linecap:butt;stroke-linejoin:round;stroke:rgb(0%,0%,0%);stroke-opacity:1;stroke-dasharray:0.75,2.25;stroke-miterlimit:10;\" d=\"M 273.886719 158.796875 L 273.886719 147.261719 L 362.988281 147.261719 \"/>\n",
       "<path style=\"fill:none;stroke-width:0.649219;stroke-linecap:butt;stroke-linejoin:round;stroke:rgb(0%,0%,0%);stroke-opacity:1;stroke-dasharray:0.75,2.25;stroke-miterlimit:10;\" d=\"M 201.976562 434.339844 L 201.976562 207.164062 L 273.886719 207.164062 \"/>\n",
       "<path style=\"fill:none;stroke-width:0.649219;stroke-linecap:butt;stroke-linejoin:round;stroke:rgb(0%,0%,0%);stroke-opacity:1;stroke-dasharray:0.75,2.25;stroke-miterlimit:10;\" d=\"M 345.792969 218.699219 L 345.792969 207.164062 L 273.886719 207.164062 \"/>\n",
       "<path style=\"fill:none;stroke-width:0.649219;stroke-linecap:butt;stroke-linejoin:round;stroke:rgb(0%,0%,0%);stroke-opacity:1;stroke-dasharray:0.75,2.25;stroke-miterlimit:10;\" d=\"M 289.519531 278.597656 L 289.519531 267.0625 L 345.792969 267.0625 \"/>\n",
       "<path style=\"fill:none;stroke-width:0.649219;stroke-linecap:butt;stroke-linejoin:round;stroke:rgb(0%,0%,0%);stroke-opacity:1;stroke-dasharray:0.75,2.25;stroke-miterlimit:10;\" d=\"M 252 434.339844 L 252 326.964844 L 289.519531 326.964844 \"/>\n",
       "<path style=\"fill:none;stroke-width:0.649219;stroke-linecap:butt;stroke-linejoin:round;stroke:rgb(0%,0%,0%);stroke-opacity:1;stroke-dasharray:0.75,2.25;stroke-miterlimit:10;\" d=\"M 327.035156 338.5 L 327.035156 326.964844 L 289.519531 326.964844 \"/>\n",
       "<path style=\"fill:none;stroke-width:0.649219;stroke-linecap:butt;stroke-linejoin:round;stroke:rgb(0%,0%,0%);stroke-opacity:1;stroke-dasharray:0.75,2.25;stroke-miterlimit:10;\" d=\"M 302.023438 434.339844 L 302.023438 386.863281 L 327.035156 386.863281 \"/>\n",
       "<path style=\"fill:none;stroke-width:0.649219;stroke-linecap:butt;stroke-linejoin:round;stroke:rgb(0%,0%,0%);stroke-opacity:1;stroke-dasharray:0.75,2.25;stroke-miterlimit:10;\" d=\"M 352.046875 434.339844 L 352.046875 386.863281 L 327.035156 386.863281 \"/>\n",
       "<path style=\"fill:none;stroke-width:0.649219;stroke-linecap:butt;stroke-linejoin:round;stroke:rgb(0%,0%,0%);stroke-opacity:1;stroke-dasharray:0.75,2.25;stroke-miterlimit:10;\" d=\"M 402.070312 434.339844 L 402.070312 267.0625 L 345.792969 267.0625 \"/>\n",
       "<path style=\"fill:none;stroke-width:0.649219;stroke-linecap:butt;stroke-linejoin:round;stroke:rgb(0%,0%,0%);stroke-opacity:1;stroke-dasharray:0.75,2.25;stroke-miterlimit:10;\" d=\"M 452.09375 434.339844 L 452.09375 147.261719 L 362.988281 147.261719 \"/>\n",
       "<path style=\" stroke:none;fill-rule:nonzero;fill:rgb(100%,100%,100%);fill-opacity:1;\" d=\"M 199.457031 93.105469 L 199.457031 80.179688 L 252.953125 80.179688 L 252.953125 93.105469 Z \"/>\n",
       "<path style=\" stroke:none;fill-rule:nonzero;fill:rgb(100%,100%,100%);fill-opacity:1;\" d=\"M 63.527344 153.003906 L 63.527344 140.082031 L 115.320312 140.082031 L 115.320312 153.003906 Z \"/>\n",
       "<path style=\" stroke:none;fill-rule:nonzero;fill:rgb(100%,100%,100%);fill-opacity:1;\" d=\"M 96.367188 212.90625 L 96.367188 199.980469 L 157.515625 199.980469 L 157.515625 212.90625 Z \"/>\n",
       "<path style=\" stroke:none;fill-rule:nonzero;fill:rgb(100%,100%,100%);fill-opacity:1;\" d=\"M 330.839844 153.003906 L 330.839844 140.082031 L 395.136719 140.082031 L 395.136719 153.003906 Z \"/>\n",
       "<path style=\" stroke:none;fill-rule:nonzero;fill:rgb(100%,100%,100%);fill-opacity:1;\" d=\"M 248.414062 212.90625 L 248.414062 199.980469 L 299.359375 199.980469 L 299.359375 212.90625 Z \"/>\n",
       "<path style=\" stroke:none;fill-rule:nonzero;fill:rgb(100%,100%,100%);fill-opacity:1;\" d=\"M 311.75 272.808594 L 311.75 259.882812 L 379.835938 259.882812 L 379.835938 272.808594 Z \"/>\n",
       "<path style=\" stroke:none;fill-rule:nonzero;fill:rgb(100%,100%,100%);fill-opacity:1;\" d=\"M 266.964844 332.707031 L 266.964844 319.78125 L 312.070312 319.78125 L 312.070312 332.707031 Z \"/>\n",
       "<path style=\" stroke:none;fill-rule:nonzero;fill:rgb(100%,100%,100%);fill-opacity:1;\" d=\"M 301.5625 392.609375 L 301.5625 379.683594 L 352.507812 379.683594 L 352.507812 392.609375 Z \"/>\n",
       "<g style=\"fill:rgb(0%,0%,0%);fill-opacity:1;\">\n",
       "  <use xlink:href=\"#glyph0-1\" x=\"198.707031\" y=\"90.544922\"/>\n",
       "  <use xlink:href=\"#glyph0-2\" x=\"205.637695\" y=\"90.544922\"/>\n",
       "  <use xlink:href=\"#glyph0-3\" x=\"211.415039\" y=\"90.544922\"/>\n",
       "  <use xlink:href=\"#glyph0-4\" x=\"217.192383\" y=\"90.544922\"/>\n",
       "  <use xlink:href=\"#glyph0-5\" x=\"220.081055\" y=\"90.544922\"/>\n",
       "  <use xlink:href=\"#glyph0-4\" x=\"226.149414\" y=\"90.544922\"/>\n",
       "  <use xlink:href=\"#glyph0-6\" x=\"229.038086\" y=\"90.544922\"/>\n",
       "  <use xlink:href=\"#glyph0-7\" x=\"238.275391\" y=\"90.544922\"/>\n",
       "  <use xlink:href=\"#glyph0-8\" x=\"244.052734\" y=\"90.544922\"/>\n",
       "  <use xlink:href=\"#glyph0-2\" x=\"246.941406\" y=\"90.544922\"/>\n",
       "</g>\n",
       "<g style=\"fill:rgb(0%,0%,0%);fill-opacity:1;\">\n",
       "  <use xlink:href=\"#glyph0-9\" x=\"63.421875\" y=\"149.447266\"/>\n",
       "  <use xlink:href=\"#glyph0-10\" x=\"70.923828\" y=\"149.447266\"/>\n",
       "  <use xlink:href=\"#glyph0-2\" x=\"77.272461\" y=\"149.447266\"/>\n",
       "  <use xlink:href=\"#glyph0-4\" x=\"83.049805\" y=\"149.447266\"/>\n",
       "  <use xlink:href=\"#glyph0-11\" x=\"85.938477\" y=\"149.447266\"/>\n",
       "  <use xlink:href=\"#glyph0-5\" x=\"92.006836\" y=\"149.447266\"/>\n",
       "  <use xlink:href=\"#glyph0-4\" x=\"98.075195\" y=\"149.447266\"/>\n",
       "  <use xlink:href=\"#glyph0-12\" x=\"100.963867\" y=\"149.447266\"/>\n",
       "  <use xlink:href=\"#glyph0-13\" x=\"106.741211\" y=\"149.447266\"/>\n",
       "  <use xlink:href=\"#glyph0-14\" x=\"109.629883\" y=\"149.447266\"/>\n",
       "</g>\n",
       "<g style=\"fill:rgb(0%,0%,0%);fill-opacity:1;\">\n",
       "  <use xlink:href=\"#glyph0-1\" x=\"95.941406\" y=\"209.349609\"/>\n",
       "  <use xlink:href=\"#glyph0-15\" x=\"102.87207\" y=\"209.349609\"/>\n",
       "  <use xlink:href=\"#glyph0-16\" x=\"105.760742\" y=\"209.349609\"/>\n",
       "  <use xlink:href=\"#glyph0-1\" x=\"112.109375\" y=\"209.349609\"/>\n",
       "  <use xlink:href=\"#glyph0-17\" x=\"119.040039\" y=\"209.349609\"/>\n",
       "  <use xlink:href=\"#glyph0-4\" x=\"125.388672\" y=\"209.349609\"/>\n",
       "  <use xlink:href=\"#glyph0-11\" x=\"128.277344\" y=\"209.349609\"/>\n",
       "  <use xlink:href=\"#glyph0-5\" x=\"134.345703\" y=\"209.349609\"/>\n",
       "  <use xlink:href=\"#glyph0-4\" x=\"140.414062\" y=\"209.349609\"/>\n",
       "  <use xlink:href=\"#glyph0-18\" x=\"143.302734\" y=\"209.349609\"/>\n",
       "  <use xlink:href=\"#glyph0-13\" x=\"149.080078\" y=\"209.349609\"/>\n",
       "  <use xlink:href=\"#glyph0-14\" x=\"151.96875\" y=\"209.349609\"/>\n",
       "</g>\n",
       "<g style=\"fill:rgb(0%,0%,0%);fill-opacity:1;\">\n",
       "  <use xlink:href=\"#glyph0-19\" x=\"329.988281\" y=\"149.947266\"/>\n",
       "  <use xlink:href=\"#glyph0-20\" x=\"336.918945\" y=\"149.947266\"/>\n",
       "  <use xlink:href=\"#glyph0-8\" x=\"342.696289\" y=\"149.947266\"/>\n",
       "  <use xlink:href=\"#glyph0-7\" x=\"345.584961\" y=\"149.947266\"/>\n",
       "  <use xlink:href=\"#glyph0-21\" x=\"351.362305\" y=\"149.947266\"/>\n",
       "  <use xlink:href=\"#glyph0-21\" x=\"357.139648\" y=\"149.947266\"/>\n",
       "  <use xlink:href=\"#glyph0-4\" x=\"362.916992\" y=\"149.947266\"/>\n",
       "  <use xlink:href=\"#glyph0-11\" x=\"365.805664\" y=\"149.947266\"/>\n",
       "  <use xlink:href=\"#glyph0-5\" x=\"371.874023\" y=\"149.947266\"/>\n",
       "  <use xlink:href=\"#glyph0-4\" x=\"377.942383\" y=\"149.947266\"/>\n",
       "  <use xlink:href=\"#glyph0-18\" x=\"380.831055\" y=\"149.947266\"/>\n",
       "  <use xlink:href=\"#glyph0-13\" x=\"386.608398\" y=\"149.947266\"/>\n",
       "  <use xlink:href=\"#glyph0-14\" x=\"389.49707\" y=\"149.947266\"/>\n",
       "</g>\n",
       "<g style=\"fill:rgb(0%,0%,0%);fill-opacity:1;\">\n",
       "  <use xlink:href=\"#glyph0-22\" x=\"247.886719\" y=\"209.849609\"/>\n",
       "  <use xlink:href=\"#glyph0-7\" x=\"254.235352\" y=\"209.849609\"/>\n",
       "  <use xlink:href=\"#glyph0-23\" x=\"260.012695\" y=\"209.849609\"/>\n",
       "  <use xlink:href=\"#glyph0-2\" x=\"264.054688\" y=\"209.849609\"/>\n",
       "  <use xlink:href=\"#glyph0-4\" x=\"269.832031\" y=\"209.849609\"/>\n",
       "  <use xlink:href=\"#glyph0-11\" x=\"272.720703\" y=\"209.849609\"/>\n",
       "  <use xlink:href=\"#glyph0-5\" x=\"278.789062\" y=\"209.849609\"/>\n",
       "  <use xlink:href=\"#glyph0-4\" x=\"284.857422\" y=\"209.849609\"/>\n",
       "  <use xlink:href=\"#glyph0-18\" x=\"287.746094\" y=\"209.849609\"/>\n",
       "  <use xlink:href=\"#glyph0-24\" x=\"293.523438\" y=\"209.849609\"/>\n",
       "</g>\n",
       "<g style=\"fill:rgb(0%,0%,0%);fill-opacity:1;\">\n",
       "  <use xlink:href=\"#glyph0-25\" x=\"310.792969\" y=\"270.248047\"/>\n",
       "  <use xlink:href=\"#glyph0-6\" x=\"317.723633\" y=\"270.248047\"/>\n",
       "  <use xlink:href=\"#glyph0-16\" x=\"326.960938\" y=\"270.248047\"/>\n",
       "  <use xlink:href=\"#glyph0-7\" x=\"333.30957\" y=\"270.248047\"/>\n",
       "  <use xlink:href=\"#glyph0-23\" x=\"339.086914\" y=\"270.248047\"/>\n",
       "  <use xlink:href=\"#glyph0-26\" x=\"343.128906\" y=\"270.248047\"/>\n",
       "  <use xlink:href=\"#glyph0-2\" x=\"348.90625\" y=\"270.248047\"/>\n",
       "  <use xlink:href=\"#glyph0-27\" x=\"354.683594\" y=\"270.248047\"/>\n",
       "  <use xlink:href=\"#glyph0-4\" x=\"361.032227\" y=\"270.248047\"/>\n",
       "  <use xlink:href=\"#glyph0-5\" x=\"363.920898\" y=\"270.248047\"/>\n",
       "  <use xlink:href=\"#glyph0-4\" x=\"369.989258\" y=\"270.248047\"/>\n",
       "  <use xlink:href=\"#glyph0-1\" x=\"372.87793\" y=\"270.248047\"/>\n",
       "</g>\n",
       "<g style=\"fill:rgb(0%,0%,0%);fill-opacity:1;\">\n",
       "  <use xlink:href=\"#glyph0-22\" x=\"266.519531\" y=\"329.650391\"/>\n",
       "  <use xlink:href=\"#glyph0-7\" x=\"272.868164\" y=\"329.650391\"/>\n",
       "  <use xlink:href=\"#glyph0-23\" x=\"278.645508\" y=\"329.650391\"/>\n",
       "  <use xlink:href=\"#glyph0-2\" x=\"282.6875\" y=\"329.650391\"/>\n",
       "  <use xlink:href=\"#glyph0-4\" x=\"288.464844\" y=\"329.650391\"/>\n",
       "  <use xlink:href=\"#glyph0-28\" x=\"291.353516\" y=\"329.650391\"/>\n",
       "  <use xlink:href=\"#glyph0-4\" x=\"297.421875\" y=\"329.650391\"/>\n",
       "  <use xlink:href=\"#glyph0-29\" x=\"300.310547\" y=\"329.650391\"/>\n",
       "  <use xlink:href=\"#glyph0-29\" x=\"306.087891\" y=\"329.650391\"/>\n",
       "</g>\n",
       "<g style=\"fill:rgb(0%,0%,0%);fill-opacity:1;\">\n",
       "  <use xlink:href=\"#glyph0-22\" x=\"301.035156\" y=\"389.548828\"/>\n",
       "  <use xlink:href=\"#glyph0-7\" x=\"307.383789\" y=\"389.548828\"/>\n",
       "  <use xlink:href=\"#glyph0-23\" x=\"313.161133\" y=\"389.548828\"/>\n",
       "  <use xlink:href=\"#glyph0-2\" x=\"317.203125\" y=\"389.548828\"/>\n",
       "  <use xlink:href=\"#glyph0-4\" x=\"322.980469\" y=\"389.548828\"/>\n",
       "  <use xlink:href=\"#glyph0-11\" x=\"325.869141\" y=\"389.548828\"/>\n",
       "  <use xlink:href=\"#glyph0-5\" x=\"331.9375\" y=\"389.548828\"/>\n",
       "  <use xlink:href=\"#glyph0-4\" x=\"338.005859\" y=\"389.548828\"/>\n",
       "  <use xlink:href=\"#glyph0-29\" x=\"340.894531\" y=\"389.548828\"/>\n",
       "  <use xlink:href=\"#glyph0-30\" x=\"346.671875\" y=\"389.548828\"/>\n",
       "</g>\n",
       "<path style=\"fill-rule:nonzero;fill:rgb(63.137255%,85.098039%,60.784314%);fill-opacity:1;stroke-width:0.649219;stroke-linecap:round;stroke-linejoin:round;stroke:rgb(0%,0%,0%);stroke-opacity:1;stroke-miterlimit:10;\" d=\"M 205.363281 46.175781 L 205.605469 44.316406 L 206.324219 42.585938 L 207.464844 41.097656 L 208.953125 39.957031 L 210.683594 39.242188 L 212.542969 38.996094 L 239.871094 38.996094 L 241.730469 39.242188 L 243.460938 39.957031 L 244.949219 41.097656 L 246.089844 42.585938 L 246.808594 44.316406 L 247.050781 46.175781 L 247.050781 71.105469 L 246.808594 72.964844 L 246.089844 74.695312 L 244.949219 76.183594 L 243.460938 77.324219 L 241.730469 78.042969 L 239.871094 78.285156 L 212.542969 78.285156 L 210.683594 78.042969 L 208.953125 77.324219 L 207.464844 76.183594 L 206.324219 74.695312 L 205.605469 72.964844 L 205.363281 71.105469 Z \"/>\n",
       "<path style=\"fill-rule:nonzero;fill:rgb(45.490196%,76.862745%,46.27451%);fill-opacity:1;stroke-width:0.649219;stroke-linecap:round;stroke-linejoin:round;stroke:rgb(0%,0%,0%);stroke-opacity:1;stroke-miterlimit:10;\" d=\"M 68.578125 106.078125 L 68.824219 104.21875 L 69.539062 102.488281 L 70.679688 101 L 72.167969 99.859375 L 73.898438 99.140625 L 75.757812 98.898438 L 103.089844 98.898438 L 104.945312 99.140625 L 106.679688 99.859375 L 108.164062 101 L 109.308594 102.488281 L 110.023438 104.21875 L 110.269531 106.078125 L 110.269531 131.007812 L 110.023438 132.863281 L 109.308594 134.597656 L 108.164062 136.082031 L 106.679688 137.226562 L 104.945312 137.941406 L 103.089844 138.1875 L 75.757812 138.1875 L 73.898438 137.941406 L 72.167969 137.226562 L 70.679688 136.082031 L 69.539062 134.597656 L 68.824219 132.863281 L 68.578125 131.007812 Z \"/>\n",
       "<path style=\"fill-rule:nonzero;fill:rgb(45.490196%,76.862745%,46.27451%);fill-opacity:1;stroke-width:0.649219;stroke-linecap:round;stroke-linejoin:round;stroke:rgb(0%,0%,0%);stroke-opacity:1;stroke-miterlimit:10;\" d=\"M 31.0625 441.519531 L 31.304688 439.660156 L 32.023438 437.929688 L 33.164062 436.441406 L 34.652344 435.300781 L 36.382812 434.585938 L 38.242188 434.339844 L 65.570312 434.339844 L 67.429688 434.585938 L 69.160156 435.300781 L 70.648438 436.441406 L 71.789062 437.929688 L 72.507812 439.660156 L 72.75 441.519531 L 72.75 466.449219 L 72.507812 468.308594 L 71.789062 470.039062 L 70.648438 471.527344 L 69.160156 472.667969 L 67.429688 473.386719 L 65.570312 473.628906 L 38.242188 473.628906 L 36.382812 473.386719 L 34.652344 472.667969 L 33.164062 471.527344 L 32.023438 470.039062 L 31.304688 468.308594 L 31.0625 466.449219 Z \"/>\n",
       "<path style=\"fill-rule:nonzero;fill:rgb(61.960784%,79.215686%,88.235294%);fill-opacity:1;stroke-width:0.649219;stroke-linecap:round;stroke-linejoin:round;stroke:rgb(0%,0%,0%);stroke-opacity:1;stroke-miterlimit:10;\" d=\"M 106.097656 165.976562 L 106.339844 164.117188 L 107.058594 162.386719 L 108.199219 160.898438 L 109.6875 159.757812 L 111.417969 159.042969 L 113.277344 158.796875 L 140.605469 158.796875 L 142.464844 159.042969 L 144.195312 159.757812 L 145.683594 160.898438 L 146.824219 162.386719 L 147.542969 164.117188 L 147.785156 165.976562 L 147.785156 190.90625 L 147.542969 192.765625 L 146.824219 194.496094 L 145.683594 195.984375 L 144.195312 197.125 L 142.464844 197.84375 L 140.605469 198.085938 L 113.277344 198.085938 L 111.417969 197.84375 L 109.6875 197.125 L 108.199219 195.984375 L 107.058594 194.496094 L 106.339844 192.765625 L 106.097656 190.90625 Z \"/>\n",
       "<path style=\"fill-rule:nonzero;fill:rgb(45.490196%,76.862745%,46.27451%);fill-opacity:1;stroke-width:0.649219;stroke-linecap:round;stroke-linejoin:round;stroke:rgb(0%,0%,0%);stroke-opacity:1;stroke-miterlimit:10;\" d=\"M 81.085938 441.519531 L 81.328125 439.660156 L 82.046875 437.929688 L 83.1875 436.441406 L 84.675781 435.300781 L 86.40625 434.585938 L 88.265625 434.339844 L 115.59375 434.339844 L 117.453125 434.585938 L 119.183594 435.300781 L 120.671875 436.441406 L 121.8125 437.929688 L 122.53125 439.660156 L 122.773438 441.519531 L 122.773438 466.449219 L 122.53125 468.308594 L 121.8125 470.039062 L 120.671875 471.527344 L 119.183594 472.667969 L 117.453125 473.386719 L 115.59375 473.628906 L 88.265625 473.628906 L 86.40625 473.386719 L 84.675781 472.667969 L 83.1875 471.527344 L 82.046875 470.039062 L 81.328125 468.308594 L 81.085938 466.449219 Z \"/>\n",
       "<path style=\"fill-rule:nonzero;fill:rgb(41.960784%,68.235294%,83.921569%);fill-opacity:1;stroke-width:0.649219;stroke-linecap:round;stroke-linejoin:round;stroke:rgb(0%,0%,0%);stroke-opacity:1;stroke-miterlimit:10;\" d=\"M 128.328125 441.519531 L 128.574219 439.660156 L 129.289062 437.929688 L 130.429688 436.441406 L 131.917969 435.300781 L 133.648438 434.585938 L 135.507812 434.339844 L 168.398438 434.339844 L 170.257812 434.585938 L 171.988281 435.300781 L 173.476562 436.441406 L 174.617188 437.929688 L 175.332031 439.660156 L 175.578125 441.519531 L 175.578125 466.449219 L 175.332031 468.308594 L 174.617188 470.039062 L 173.476562 471.527344 L 171.988281 472.667969 L 170.257812 473.386719 L 168.398438 473.628906 L 135.507812 473.628906 L 133.648438 473.386719 L 131.917969 472.667969 L 130.429688 471.527344 L 129.289062 470.039062 L 128.574219 468.308594 L 128.328125 466.449219 Z \"/>\n",
       "<path style=\"fill-rule:nonzero;fill:rgb(61.960784%,79.215686%,88.235294%);fill-opacity:1;stroke-width:0.649219;stroke-linecap:round;stroke-linejoin:round;stroke:rgb(0%,0%,0%);stroke-opacity:1;stroke-miterlimit:10;\" d=\"M 342.144531 106.078125 L 342.390625 104.21875 L 343.105469 102.488281 L 344.246094 101 L 345.734375 99.859375 L 347.464844 99.140625 L 349.324219 98.898438 L 376.65625 98.898438 L 378.511719 99.140625 L 380.246094 99.859375 L 381.730469 101 L 382.871094 102.488281 L 383.589844 104.21875 L 383.835938 106.078125 L 383.835938 131.007812 L 383.589844 132.863281 L 382.871094 134.597656 L 381.730469 136.082031 L 380.246094 137.226562 L 378.511719 137.941406 L 376.65625 138.1875 L 349.324219 138.1875 L 347.464844 137.941406 L 345.734375 137.226562 L 344.246094 136.082031 L 343.105469 134.597656 L 342.390625 132.863281 L 342.144531 131.007812 Z \"/>\n",
       "<path style=\"fill-rule:nonzero;fill:rgb(78.039216%,91.372549%,75.294118%);fill-opacity:1;stroke-width:0.649219;stroke-linecap:round;stroke-linejoin:round;stroke:rgb(0%,0%,0%);stroke-opacity:1;stroke-miterlimit:10;\" d=\"M 253.039062 165.976562 L 253.285156 164.117188 L 254.003906 162.386719 L 255.144531 160.898438 L 256.628906 159.757812 L 258.363281 159.042969 L 260.21875 158.796875 L 287.550781 158.796875 L 289.410156 159.042969 L 291.140625 159.757812 L 292.628906 160.898438 L 293.769531 162.386719 L 294.484375 164.117188 L 294.730469 165.976562 L 294.730469 190.90625 L 294.484375 192.765625 L 293.769531 194.496094 L 292.628906 195.984375 L 291.140625 197.125 L 289.410156 197.84375 L 287.550781 198.085938 L 260.21875 198.085938 L 258.363281 197.84375 L 256.628906 197.125 L 255.144531 195.984375 L 254.003906 194.496094 L 253.285156 192.765625 L 253.039062 190.90625 Z \"/>\n",
       "<path style=\"fill-rule:nonzero;fill:rgb(45.490196%,76.862745%,46.27451%);fill-opacity:1;stroke-width:0.649219;stroke-linecap:round;stroke-linejoin:round;stroke:rgb(0%,0%,0%);stroke-opacity:1;stroke-miterlimit:10;\" d=\"M 181.132812 441.519531 L 181.375 439.660156 L 182.09375 437.929688 L 183.234375 436.441406 L 184.722656 435.300781 L 186.453125 434.585938 L 188.3125 434.339844 L 215.640625 434.339844 L 217.5 434.585938 L 219.230469 435.300781 L 220.71875 436.441406 L 221.859375 437.929688 L 222.578125 439.660156 L 222.820312 441.519531 L 222.820312 466.449219 L 222.578125 468.308594 L 221.859375 470.039062 L 220.71875 471.527344 L 219.230469 472.667969 L 217.5 473.386719 L 215.640625 473.628906 L 188.3125 473.628906 L 186.453125 473.386719 L 184.722656 472.667969 L 183.234375 471.527344 L 182.09375 470.039062 L 181.375 468.308594 L 181.132812 466.449219 Z \"/>\n",
       "<path style=\"fill-rule:nonzero;fill:rgb(77.647059%,85.882353%,93.72549%);fill-opacity:1;stroke-width:0.649219;stroke-linecap:round;stroke-linejoin:round;stroke:rgb(0%,0%,0%);stroke-opacity:1;stroke-miterlimit:10;\" d=\"M 324.949219 225.878906 L 325.195312 224.019531 L 325.910156 222.289062 L 327.050781 220.800781 L 328.539062 219.660156 L 330.269531 218.941406 L 332.128906 218.699219 L 359.460938 218.699219 L 361.316406 218.941406 L 363.050781 219.660156 L 364.535156 220.800781 L 365.675781 222.289062 L 366.394531 224.019531 L 366.640625 225.878906 L 366.640625 250.808594 L 366.394531 252.664062 L 365.675781 254.398438 L 364.535156 255.882812 L 363.050781 257.027344 L 361.316406 257.742188 L 359.460938 257.988281 L 332.128906 257.988281 L 330.269531 257.742188 L 328.539062 257.027344 L 327.050781 255.882812 L 325.910156 254.398438 L 325.195312 252.664062 L 324.949219 250.808594 Z \"/>\n",
       "<path style=\"fill-rule:nonzero;fill:rgb(78.039216%,91.372549%,75.294118%);fill-opacity:1;stroke-width:0.649219;stroke-linecap:round;stroke-linejoin:round;stroke:rgb(0%,0%,0%);stroke-opacity:1;stroke-miterlimit:10;\" d=\"M 268.671875 285.777344 L 268.917969 283.917969 L 269.632812 282.1875 L 270.777344 280.699219 L 272.261719 279.558594 L 273.996094 278.84375 L 275.851562 278.597656 L 303.183594 278.597656 L 305.039062 278.84375 L 306.773438 279.558594 L 308.257812 280.699219 L 309.402344 282.1875 L 310.117188 283.917969 L 310.363281 285.777344 L 310.363281 310.707031 L 310.117188 312.566406 L 309.402344 314.296875 L 308.257812 315.785156 L 306.773438 316.925781 L 305.039062 317.644531 L 303.183594 317.886719 L 275.851562 317.886719 L 273.996094 317.644531 L 272.261719 316.925781 L 270.777344 315.785156 L 269.632812 314.296875 L 268.917969 312.566406 L 268.671875 310.707031 Z \"/>\n",
       "<path style=\"fill-rule:nonzero;fill:rgb(78.039216%,91.372549%,75.294118%);fill-opacity:1;stroke-width:0.649219;stroke-linecap:round;stroke-linejoin:round;stroke:rgb(0%,0%,0%);stroke-opacity:1;stroke-miterlimit:10;\" d=\"M 231.15625 441.519531 L 231.398438 439.660156 L 232.117188 437.929688 L 233.257812 436.441406 L 234.746094 435.300781 L 236.476562 434.585938 L 238.335938 434.339844 L 265.664062 434.339844 L 267.523438 434.585938 L 269.253906 435.300781 L 270.742188 436.441406 L 271.882812 437.929688 L 272.601562 439.660156 L 272.84375 441.519531 L 272.84375 466.449219 L 272.601562 468.308594 L 271.882812 470.039062 L 270.742188 471.527344 L 269.253906 472.667969 L 267.523438 473.386719 L 265.664062 473.628906 L 238.335938 473.628906 L 236.476562 473.386719 L 234.746094 472.667969 L 233.257812 471.527344 L 232.117188 470.039062 L 231.398438 468.308594 L 231.15625 466.449219 Z \"/>\n",
       "<path style=\"fill-rule:nonzero;fill:rgb(61.960784%,79.215686%,88.235294%);fill-opacity:1;stroke-width:0.649219;stroke-linecap:round;stroke-linejoin:round;stroke:rgb(0%,0%,0%);stroke-opacity:1;stroke-miterlimit:10;\" d=\"M 306.191406 345.679688 L 306.433594 343.820312 L 307.152344 342.089844 L 308.292969 340.601562 L 309.78125 339.460938 L 311.511719 338.742188 L 313.371094 338.5 L 340.699219 338.5 L 342.558594 338.742188 L 344.289062 339.460938 L 345.777344 340.601562 L 346.917969 342.089844 L 347.636719 343.820312 L 347.878906 345.679688 L 347.878906 370.609375 L 347.636719 372.46875 L 346.917969 374.199219 L 345.777344 375.6875 L 344.289062 376.828125 L 342.558594 377.542969 L 340.699219 377.789062 L 313.371094 377.789062 L 311.511719 377.542969 L 309.78125 376.828125 L 308.292969 375.6875 L 307.152344 374.199219 L 306.433594 372.46875 L 306.191406 370.609375 Z \"/>\n",
       "<path style=\"fill-rule:nonzero;fill:rgb(63.137255%,85.098039%,60.784314%);fill-opacity:1;stroke-width:0.649219;stroke-linecap:round;stroke-linejoin:round;stroke:rgb(0%,0%,0%);stroke-opacity:1;stroke-miterlimit:10;\" d=\"M 281.179688 441.519531 L 281.421875 439.660156 L 282.140625 437.929688 L 283.28125 436.441406 L 284.769531 435.300781 L 286.5 434.585938 L 288.359375 434.339844 L 315.6875 434.339844 L 317.546875 434.585938 L 319.277344 435.300781 L 320.765625 436.441406 L 321.90625 437.929688 L 322.625 439.660156 L 322.867188 441.519531 L 322.867188 466.449219 L 322.625 468.308594 L 321.90625 470.039062 L 320.765625 471.527344 L 319.277344 472.667969 L 317.546875 473.386719 L 315.6875 473.628906 L 288.359375 473.628906 L 286.5 473.386719 L 284.769531 472.667969 L 283.28125 471.527344 L 282.140625 470.039062 L 281.421875 468.308594 L 281.179688 466.449219 Z \"/>\n",
       "<path style=\"fill-rule:nonzero;fill:rgb(41.960784%,68.235294%,83.921569%);fill-opacity:1;stroke-width:0.649219;stroke-linecap:round;stroke-linejoin:round;stroke:rgb(0%,0%,0%);stroke-opacity:1;stroke-miterlimit:10;\" d=\"M 331.203125 441.519531 L 331.445312 439.660156 L 332.164062 437.929688 L 333.304688 436.441406 L 334.792969 435.300781 L 336.523438 434.585938 L 338.382812 434.339844 L 365.710938 434.339844 L 367.570312 434.585938 L 369.300781 435.300781 L 370.789062 436.441406 L 371.929688 437.929688 L 372.648438 439.660156 L 372.890625 441.519531 L 372.890625 466.449219 L 372.648438 468.308594 L 371.929688 470.039062 L 370.789062 471.527344 L 369.300781 472.667969 L 367.570312 473.386719 L 365.710938 473.628906 L 338.382812 473.628906 L 336.523438 473.386719 L 334.792969 472.667969 L 333.304688 471.527344 L 332.164062 470.039062 L 331.445312 468.308594 L 331.203125 466.449219 Z \"/>\n",
       "<path style=\"fill-rule:nonzero;fill:rgb(61.960784%,79.215686%,88.235294%);fill-opacity:1;stroke-width:0.649219;stroke-linecap:round;stroke-linejoin:round;stroke:rgb(0%,0%,0%);stroke-opacity:1;stroke-miterlimit:10;\" d=\"M 381.226562 441.519531 L 381.46875 439.660156 L 382.1875 437.929688 L 383.328125 436.441406 L 384.816406 435.300781 L 386.546875 434.585938 L 388.40625 434.339844 L 415.734375 434.339844 L 417.59375 434.585938 L 419.324219 435.300781 L 420.8125 436.441406 L 421.953125 437.929688 L 422.671875 439.660156 L 422.914062 441.519531 L 422.914062 466.449219 L 422.671875 468.308594 L 421.953125 470.039062 L 420.8125 471.527344 L 419.324219 472.667969 L 417.59375 473.386719 L 415.734375 473.628906 L 388.40625 473.628906 L 386.546875 473.386719 L 384.816406 472.667969 L 383.328125 471.527344 L 382.1875 470.039062 L 381.46875 468.308594 L 381.226562 466.449219 Z \"/>\n",
       "<path style=\"fill-rule:nonzero;fill:rgb(41.960784%,68.235294%,83.921569%);fill-opacity:1;stroke-width:0.649219;stroke-linecap:round;stroke-linejoin:round;stroke:rgb(0%,0%,0%);stroke-opacity:1;stroke-miterlimit:10;\" d=\"M 431.25 441.519531 L 431.492188 439.660156 L 432.210938 437.929688 L 433.351562 436.441406 L 434.839844 435.300781 L 436.570312 434.585938 L 438.429688 434.339844 L 465.757812 434.339844 L 467.617188 434.585938 L 469.347656 435.300781 L 470.835938 436.441406 L 471.976562 437.929688 L 472.695312 439.660156 L 472.9375 441.519531 L 472.9375 466.449219 L 472.695312 468.308594 L 471.976562 470.039062 L 470.835938 471.527344 L 469.347656 472.667969 L 467.617188 473.386719 L 465.757812 473.628906 L 438.429688 473.628906 L 436.570312 473.386719 L 434.839844 472.667969 L 433.351562 471.527344 L 432.210938 470.039062 L 431.492188 468.308594 L 431.25 466.449219 Z \"/>\n",
       "<g style=\"fill:rgb(0%,0%,0%);fill-opacity:1;\">\n",
       "  <use xlink:href=\"#glyph3-1\" x=\"223.207031\" y=\"50.099609\"/>\n",
       "</g>\n",
       "<g style=\"fill:rgb(0%,0%,0%);fill-opacity:1;\">\n",
       "  <use xlink:href=\"#glyph3-2\" x=\"208.707031\" y=\"62.564453\"/>\n",
       "  <use xlink:href=\"#glyph3-3\" x=\"211.595703\" y=\"62.564453\"/>\n",
       "  <use xlink:href=\"#glyph3-4\" x=\"217.373047\" y=\"62.564453\"/>\n",
       "  <use xlink:href=\"#glyph3-5\" x=\"223.150391\" y=\"62.564453\"/>\n",
       "  <use xlink:href=\"#glyph3-5\" x=\"226.039062\" y=\"62.564453\"/>\n",
       "  <use xlink:href=\"#glyph3-2\" x=\"228.927734\" y=\"62.564453\"/>\n",
       "  <use xlink:href=\"#glyph3-6\" x=\"231.816406\" y=\"62.564453\"/>\n",
       "  <use xlink:href=\"#glyph3-7\" x=\"237.59375\" y=\"62.564453\"/>\n",
       "</g>\n",
       "<g style=\"fill:rgb(0%,0%,0%);fill-opacity:1;\">\n",
       "  <use xlink:href=\"#glyph3-8\" x=\"212.707031\" y=\"75.029297\"/>\n",
       "  <use xlink:href=\"#glyph3-1\" x=\"218.484375\" y=\"75.029297\"/>\n",
       "  <use xlink:href=\"#glyph3-1\" x=\"224.261719\" y=\"75.029297\"/>\n",
       "  <use xlink:href=\"#glyph3-9\" x=\"230.039062\" y=\"75.029297\"/>\n",
       "</g>\n",
       "<g style=\"fill:rgb(0%,0%,0%);fill-opacity:1;\">\n",
       "  <use xlink:href=\"#glyph3-1\" x=\"86.421875\" y=\"110.001953\"/>\n",
       "</g>\n",
       "<g style=\"fill:rgb(0%,0%,0%);fill-opacity:1;\">\n",
       "  <use xlink:href=\"#glyph3-2\" x=\"71.921875\" y=\"122.466797\"/>\n",
       "  <use xlink:href=\"#glyph3-7\" x=\"74.810547\" y=\"122.466797\"/>\n",
       "  <use xlink:href=\"#glyph3-8\" x=\"80.587891\" y=\"122.466797\"/>\n",
       "  <use xlink:href=\"#glyph3-5\" x=\"86.365234\" y=\"122.466797\"/>\n",
       "  <use xlink:href=\"#glyph3-5\" x=\"89.253906\" y=\"122.466797\"/>\n",
       "  <use xlink:href=\"#glyph3-2\" x=\"92.142578\" y=\"122.466797\"/>\n",
       "  <use xlink:href=\"#glyph3-8\" x=\"95.03125\" y=\"122.466797\"/>\n",
       "  <use xlink:href=\"#glyph3-10\" x=\"100.808594\" y=\"122.466797\"/>\n",
       "</g>\n",
       "<g style=\"fill:rgb(0%,0%,0%);fill-opacity:1;\">\n",
       "  <use xlink:href=\"#glyph3-3\" x=\"78.921875\" y=\"134.931641\"/>\n",
       "  <use xlink:href=\"#glyph3-11\" x=\"84.699219\" y=\"134.931641\"/>\n",
       "  <use xlink:href=\"#glyph3-9\" x=\"90.476562\" y=\"134.931641\"/>\n",
       "</g>\n",
       "<g style=\"fill:rgb(0%,0%,0%);fill-opacity:1;\">\n",
       "  <use xlink:href=\"#glyph3-1\" x=\"48.90625\" y=\"445.443359\"/>\n",
       "</g>\n",
       "<g style=\"fill:rgb(0%,0%,0%);fill-opacity:1;\">\n",
       "  <use xlink:href=\"#glyph3-2\" x=\"34.40625\" y=\"457.908203\"/>\n",
       "  <use xlink:href=\"#glyph3-7\" x=\"37.294922\" y=\"457.908203\"/>\n",
       "  <use xlink:href=\"#glyph3-6\" x=\"43.072266\" y=\"457.908203\"/>\n",
       "  <use xlink:href=\"#glyph3-5\" x=\"48.849609\" y=\"457.908203\"/>\n",
       "  <use xlink:href=\"#glyph3-5\" x=\"51.738281\" y=\"457.908203\"/>\n",
       "  <use xlink:href=\"#glyph3-2\" x=\"54.626953\" y=\"457.908203\"/>\n",
       "  <use xlink:href=\"#glyph3-8\" x=\"57.515625\" y=\"457.908203\"/>\n",
       "  <use xlink:href=\"#glyph3-12\" x=\"63.292969\" y=\"457.908203\"/>\n",
       "</g>\n",
       "<g style=\"fill:rgb(0%,0%,0%);fill-opacity:1;\">\n",
       "  <use xlink:href=\"#glyph3-3\" x=\"41.40625\" y=\"470.373047\"/>\n",
       "  <use xlink:href=\"#glyph3-4\" x=\"47.183594\" y=\"470.373047\"/>\n",
       "  <use xlink:href=\"#glyph3-9\" x=\"52.960938\" y=\"470.373047\"/>\n",
       "</g>\n",
       "<g style=\"fill:rgb(0%,0%,0%);fill-opacity:1;\">\n",
       "  <use xlink:href=\"#glyph3-8\" x=\"123.941406\" y=\"169.900391\"/>\n",
       "</g>\n",
       "<g style=\"fill:rgb(0%,0%,0%);fill-opacity:1;\">\n",
       "  <use xlink:href=\"#glyph3-2\" x=\"109.441406\" y=\"182.365234\"/>\n",
       "  <use xlink:href=\"#glyph3-6\" x=\"112.330078\" y=\"182.365234\"/>\n",
       "  <use xlink:href=\"#glyph3-6\" x=\"118.107422\" y=\"182.365234\"/>\n",
       "  <use xlink:href=\"#glyph3-5\" x=\"123.884766\" y=\"182.365234\"/>\n",
       "  <use xlink:href=\"#glyph3-5\" x=\"126.773438\" y=\"182.365234\"/>\n",
       "  <use xlink:href=\"#glyph3-2\" x=\"129.662109\" y=\"182.365234\"/>\n",
       "  <use xlink:href=\"#glyph3-3\" x=\"132.550781\" y=\"182.365234\"/>\n",
       "  <use xlink:href=\"#glyph3-12\" x=\"138.328125\" y=\"182.365234\"/>\n",
       "</g>\n",
       "<g style=\"fill:rgb(0%,0%,0%);fill-opacity:1;\">\n",
       "  <use xlink:href=\"#glyph3-6\" x=\"118.941406\" y=\"194.830078\"/>\n",
       "  <use xlink:href=\"#glyph3-9\" x=\"124.71875\" y=\"194.830078\"/>\n",
       "</g>\n",
       "<g style=\"fill:rgb(0%,0%,0%);fill-opacity:1;\">\n",
       "  <use xlink:href=\"#glyph3-1\" x=\"98.929688\" y=\"445.443359\"/>\n",
       "</g>\n",
       "<g style=\"fill:rgb(0%,0%,0%);fill-opacity:1;\">\n",
       "  <use xlink:href=\"#glyph3-2\" x=\"84.429688\" y=\"457.908203\"/>\n",
       "  <use xlink:href=\"#glyph3-7\" x=\"87.318359\" y=\"457.908203\"/>\n",
       "  <use xlink:href=\"#glyph3-10\" x=\"93.095703\" y=\"457.908203\"/>\n",
       "  <use xlink:href=\"#glyph3-5\" x=\"98.873047\" y=\"457.908203\"/>\n",
       "  <use xlink:href=\"#glyph3-5\" x=\"101.761719\" y=\"457.908203\"/>\n",
       "  <use xlink:href=\"#glyph3-2\" x=\"104.650391\" y=\"457.908203\"/>\n",
       "  <use xlink:href=\"#glyph3-8\" x=\"107.539062\" y=\"457.908203\"/>\n",
       "  <use xlink:href=\"#glyph3-8\" x=\"113.316406\" y=\"457.908203\"/>\n",
       "</g>\n",
       "<g style=\"fill:rgb(0%,0%,0%);fill-opacity:1;\">\n",
       "  <use xlink:href=\"#glyph3-8\" x=\"93.929688\" y=\"470.373047\"/>\n",
       "  <use xlink:href=\"#glyph3-9\" x=\"99.707031\" y=\"470.373047\"/>\n",
       "</g>\n",
       "<g style=\"fill:rgb(0%,0%,0%);fill-opacity:1;\">\n",
       "  <use xlink:href=\"#glyph3-8\" x=\"148.953125\" y=\"445.443359\"/>\n",
       "</g>\n",
       "<g style=\"fill:rgb(0%,0%,0%);fill-opacity:1;\">\n",
       "  <use xlink:href=\"#glyph3-2\" x=\"131.453125\" y=\"457.908203\"/>\n",
       "  <use xlink:href=\"#glyph3-1\" x=\"134.341797\" y=\"457.908203\"/>\n",
       "  <use xlink:href=\"#glyph3-1\" x=\"140.119141\" y=\"457.908203\"/>\n",
       "  <use xlink:href=\"#glyph3-5\" x=\"145.896484\" y=\"457.908203\"/>\n",
       "  <use xlink:href=\"#glyph3-5\" x=\"148.785156\" y=\"457.908203\"/>\n",
       "  <use xlink:href=\"#glyph3-8\" x=\"151.673828\" y=\"457.908203\"/>\n",
       "  <use xlink:href=\"#glyph3-2\" x=\"157.451172\" y=\"457.908203\"/>\n",
       "  <use xlink:href=\"#glyph3-1\" x=\"160.339844\" y=\"457.908203\"/>\n",
       "  <use xlink:href=\"#glyph3-1\" x=\"166.117188\" y=\"457.908203\"/>\n",
       "</g>\n",
       "<g style=\"fill:rgb(0%,0%,0%);fill-opacity:1;\">\n",
       "  <use xlink:href=\"#glyph3-4\" x=\"143.953125\" y=\"470.373047\"/>\n",
       "  <use xlink:href=\"#glyph3-9\" x=\"149.730469\" y=\"470.373047\"/>\n",
       "</g>\n",
       "<g style=\"fill:rgb(0%,0%,0%);fill-opacity:1;\">\n",
       "  <use xlink:href=\"#glyph3-8\" x=\"359.988281\" y=\"110.001953\"/>\n",
       "</g>\n",
       "<g style=\"fill:rgb(0%,0%,0%);fill-opacity:1;\">\n",
       "  <use xlink:href=\"#glyph3-2\" x=\"345.488281\" y=\"122.466797\"/>\n",
       "  <use xlink:href=\"#glyph3-4\" x=\"348.376953\" y=\"122.466797\"/>\n",
       "  <use xlink:href=\"#glyph3-3\" x=\"354.154297\" y=\"122.466797\"/>\n",
       "  <use xlink:href=\"#glyph3-5\" x=\"359.931641\" y=\"122.466797\"/>\n",
       "  <use xlink:href=\"#glyph3-5\" x=\"362.820312\" y=\"122.466797\"/>\n",
       "  <use xlink:href=\"#glyph3-2\" x=\"365.708984\" y=\"122.466797\"/>\n",
       "  <use xlink:href=\"#glyph3-12\" x=\"368.597656\" y=\"122.466797\"/>\n",
       "  <use xlink:href=\"#glyph3-13\" x=\"374.375\" y=\"122.466797\"/>\n",
       "</g>\n",
       "<g style=\"fill:rgb(0%,0%,0%);fill-opacity:1;\">\n",
       "  <use xlink:href=\"#glyph3-6\" x=\"352.488281\" y=\"134.931641\"/>\n",
       "  <use xlink:href=\"#glyph3-11\" x=\"358.265625\" y=\"134.931641\"/>\n",
       "  <use xlink:href=\"#glyph3-9\" x=\"364.042969\" y=\"134.931641\"/>\n",
       "</g>\n",
       "<g style=\"fill:rgb(0%,0%,0%);fill-opacity:1;\">\n",
       "  <use xlink:href=\"#glyph3-1\" x=\"270.886719\" y=\"169.900391\"/>\n",
       "</g>\n",
       "<g style=\"fill:rgb(0%,0%,0%);fill-opacity:1;\">\n",
       "  <use xlink:href=\"#glyph3-2\" x=\"256.386719\" y=\"182.365234\"/>\n",
       "  <use xlink:href=\"#glyph3-11\" x=\"259.275391\" y=\"182.365234\"/>\n",
       "  <use xlink:href=\"#glyph3-1\" x=\"265.052734\" y=\"182.365234\"/>\n",
       "  <use xlink:href=\"#glyph3-5\" x=\"270.830078\" y=\"182.365234\"/>\n",
       "  <use xlink:href=\"#glyph3-5\" x=\"273.71875\" y=\"182.365234\"/>\n",
       "  <use xlink:href=\"#glyph3-2\" x=\"276.607422\" y=\"182.365234\"/>\n",
       "  <use xlink:href=\"#glyph3-11\" x=\"279.496094\" y=\"182.365234\"/>\n",
       "  <use xlink:href=\"#glyph3-1\" x=\"285.273438\" y=\"182.365234\"/>\n",
       "</g>\n",
       "<g style=\"fill:rgb(0%,0%,0%);fill-opacity:1;\">\n",
       "  <use xlink:href=\"#glyph3-8\" x=\"263.386719\" y=\"194.830078\"/>\n",
       "  <use xlink:href=\"#glyph3-3\" x=\"269.164062\" y=\"194.830078\"/>\n",
       "  <use xlink:href=\"#glyph3-9\" x=\"274.941406\" y=\"194.830078\"/>\n",
       "</g>\n",
       "<g style=\"fill:rgb(0%,0%,0%);fill-opacity:1;\">\n",
       "  <use xlink:href=\"#glyph3-1\" x=\"198.976562\" y=\"445.443359\"/>\n",
       "</g>\n",
       "<g style=\"fill:rgb(0%,0%,0%);fill-opacity:1;\">\n",
       "  <use xlink:href=\"#glyph3-2\" x=\"184.476562\" y=\"457.908203\"/>\n",
       "  <use xlink:href=\"#glyph3-7\" x=\"187.365234\" y=\"457.908203\"/>\n",
       "  <use xlink:href=\"#glyph3-10\" x=\"193.142578\" y=\"457.908203\"/>\n",
       "  <use xlink:href=\"#glyph3-5\" x=\"198.919922\" y=\"457.908203\"/>\n",
       "  <use xlink:href=\"#glyph3-5\" x=\"201.808594\" y=\"457.908203\"/>\n",
       "  <use xlink:href=\"#glyph3-2\" x=\"204.697266\" y=\"457.908203\"/>\n",
       "  <use xlink:href=\"#glyph3-8\" x=\"207.585938\" y=\"457.908203\"/>\n",
       "  <use xlink:href=\"#glyph3-8\" x=\"213.363281\" y=\"457.908203\"/>\n",
       "</g>\n",
       "<g style=\"fill:rgb(0%,0%,0%);fill-opacity:1;\">\n",
       "  <use xlink:href=\"#glyph3-6\" x=\"193.976562\" y=\"470.373047\"/>\n",
       "  <use xlink:href=\"#glyph3-9\" x=\"199.753906\" y=\"470.373047\"/>\n",
       "</g>\n",
       "<g style=\"fill:rgb(0%,0%,0%);fill-opacity:1;\">\n",
       "  <use xlink:href=\"#glyph3-8\" x=\"342.792969\" y=\"229.802734\"/>\n",
       "</g>\n",
       "<g style=\"fill:rgb(0%,0%,0%);fill-opacity:1;\">\n",
       "  <use xlink:href=\"#glyph3-2\" x=\"328.292969\" y=\"242.267578\"/>\n",
       "  <use xlink:href=\"#glyph3-13\" x=\"331.181641\" y=\"242.267578\"/>\n",
       "  <use xlink:href=\"#glyph3-8\" x=\"336.958984\" y=\"242.267578\"/>\n",
       "  <use xlink:href=\"#glyph3-5\" x=\"342.736328\" y=\"242.267578\"/>\n",
       "  <use xlink:href=\"#glyph3-5\" x=\"345.625\" y=\"242.267578\"/>\n",
       "  <use xlink:href=\"#glyph3-2\" x=\"348.513672\" y=\"242.267578\"/>\n",
       "  <use xlink:href=\"#glyph3-11\" x=\"351.402344\" y=\"242.267578\"/>\n",
       "  <use xlink:href=\"#glyph3-10\" x=\"357.179688\" y=\"242.267578\"/>\n",
       "</g>\n",
       "<g style=\"fill:rgb(0%,0%,0%);fill-opacity:1;\">\n",
       "  <use xlink:href=\"#glyph3-8\" x=\"335.292969\" y=\"254.732422\"/>\n",
       "  <use xlink:href=\"#glyph3-6\" x=\"341.070312\" y=\"254.732422\"/>\n",
       "  <use xlink:href=\"#glyph3-9\" x=\"346.847656\" y=\"254.732422\"/>\n",
       "</g>\n",
       "<g style=\"fill:rgb(0%,0%,0%);fill-opacity:1;\">\n",
       "  <use xlink:href=\"#glyph3-1\" x=\"286.519531\" y=\"289.701172\"/>\n",
       "</g>\n",
       "<g style=\"fill:rgb(0%,0%,0%);fill-opacity:1;\">\n",
       "  <use xlink:href=\"#glyph3-2\" x=\"272.019531\" y=\"302.166016\"/>\n",
       "  <use xlink:href=\"#glyph3-11\" x=\"274.908203\" y=\"302.166016\"/>\n",
       "  <use xlink:href=\"#glyph3-8\" x=\"280.685547\" y=\"302.166016\"/>\n",
       "  <use xlink:href=\"#glyph3-5\" x=\"286.462891\" y=\"302.166016\"/>\n",
       "  <use xlink:href=\"#glyph3-5\" x=\"289.351562\" y=\"302.166016\"/>\n",
       "  <use xlink:href=\"#glyph3-2\" x=\"292.240234\" y=\"302.166016\"/>\n",
       "  <use xlink:href=\"#glyph3-13\" x=\"295.128906\" y=\"302.166016\"/>\n",
       "  <use xlink:href=\"#glyph3-10\" x=\"300.90625\" y=\"302.166016\"/>\n",
       "</g>\n",
       "<g style=\"fill:rgb(0%,0%,0%);fill-opacity:1;\">\n",
       "  <use xlink:href=\"#glyph3-12\" x=\"281.519531\" y=\"314.630859\"/>\n",
       "  <use xlink:href=\"#glyph3-9\" x=\"287.296875\" y=\"314.630859\"/>\n",
       "</g>\n",
       "<g style=\"fill:rgb(0%,0%,0%);fill-opacity:1;\">\n",
       "  <use xlink:href=\"#glyph3-1\" x=\"249\" y=\"445.443359\"/>\n",
       "</g>\n",
       "<g style=\"fill:rgb(0%,0%,0%);fill-opacity:1;\">\n",
       "  <use xlink:href=\"#glyph3-2\" x=\"234.5\" y=\"457.908203\"/>\n",
       "  <use xlink:href=\"#glyph3-11\" x=\"237.388672\" y=\"457.908203\"/>\n",
       "  <use xlink:href=\"#glyph3-10\" x=\"243.166016\" y=\"457.908203\"/>\n",
       "  <use xlink:href=\"#glyph3-5\" x=\"248.943359\" y=\"457.908203\"/>\n",
       "  <use xlink:href=\"#glyph3-5\" x=\"251.832031\" y=\"457.908203\"/>\n",
       "  <use xlink:href=\"#glyph3-2\" x=\"254.720703\" y=\"457.908203\"/>\n",
       "  <use xlink:href=\"#glyph3-13\" x=\"257.609375\" y=\"457.908203\"/>\n",
       "  <use xlink:href=\"#glyph3-8\" x=\"263.386719\" y=\"457.908203\"/>\n",
       "</g>\n",
       "<g style=\"fill:rgb(0%,0%,0%);fill-opacity:1;\">\n",
       "  <use xlink:href=\"#glyph3-13\" x=\"244\" y=\"470.373047\"/>\n",
       "  <use xlink:href=\"#glyph3-9\" x=\"249.777344\" y=\"470.373047\"/>\n",
       "</g>\n",
       "<g style=\"fill:rgb(0%,0%,0%);fill-opacity:1;\">\n",
       "  <use xlink:href=\"#glyph3-8\" x=\"324.035156\" y=\"349.603516\"/>\n",
       "</g>\n",
       "<g style=\"fill:rgb(0%,0%,0%);fill-opacity:1;\">\n",
       "  <use xlink:href=\"#glyph3-2\" x=\"309.535156\" y=\"362.068359\"/>\n",
       "  <use xlink:href=\"#glyph3-6\" x=\"312.423828\" y=\"362.068359\"/>\n",
       "  <use xlink:href=\"#glyph3-7\" x=\"318.201172\" y=\"362.068359\"/>\n",
       "  <use xlink:href=\"#glyph3-5\" x=\"323.978516\" y=\"362.068359\"/>\n",
       "  <use xlink:href=\"#glyph3-5\" x=\"326.867188\" y=\"362.068359\"/>\n",
       "  <use xlink:href=\"#glyph3-2\" x=\"329.755859\" y=\"362.068359\"/>\n",
       "  <use xlink:href=\"#glyph3-3\" x=\"332.644531\" y=\"362.068359\"/>\n",
       "  <use xlink:href=\"#glyph3-4\" x=\"338.421875\" y=\"362.068359\"/>\n",
       "</g>\n",
       "<g style=\"fill:rgb(0%,0%,0%);fill-opacity:1;\">\n",
       "  <use xlink:href=\"#glyph3-6\" x=\"319.035156\" y=\"374.533203\"/>\n",
       "  <use xlink:href=\"#glyph3-9\" x=\"324.8125\" y=\"374.533203\"/>\n",
       "</g>\n",
       "<g style=\"fill:rgb(0%,0%,0%);fill-opacity:1;\">\n",
       "  <use xlink:href=\"#glyph3-1\" x=\"299.023438\" y=\"445.443359\"/>\n",
       "</g>\n",
       "<g style=\"fill:rgb(0%,0%,0%);fill-opacity:1;\">\n",
       "  <use xlink:href=\"#glyph3-2\" x=\"284.523438\" y=\"457.908203\"/>\n",
       "  <use xlink:href=\"#glyph3-12\" x=\"287.412109\" y=\"457.908203\"/>\n",
       "  <use xlink:href=\"#glyph3-1\" x=\"293.189453\" y=\"457.908203\"/>\n",
       "  <use xlink:href=\"#glyph3-5\" x=\"298.966797\" y=\"457.908203\"/>\n",
       "  <use xlink:href=\"#glyph3-5\" x=\"301.855469\" y=\"457.908203\"/>\n",
       "  <use xlink:href=\"#glyph3-2\" x=\"304.744141\" y=\"457.908203\"/>\n",
       "  <use xlink:href=\"#glyph3-6\" x=\"307.632812\" y=\"457.908203\"/>\n",
       "  <use xlink:href=\"#glyph3-1\" x=\"313.410156\" y=\"457.908203\"/>\n",
       "</g>\n",
       "<g style=\"fill:rgb(0%,0%,0%);fill-opacity:1;\">\n",
       "  <use xlink:href=\"#glyph3-8\" x=\"294.023438\" y=\"470.373047\"/>\n",
       "  <use xlink:href=\"#glyph3-9\" x=\"299.800781\" y=\"470.373047\"/>\n",
       "</g>\n",
       "<g style=\"fill:rgb(0%,0%,0%);fill-opacity:1;\">\n",
       "  <use xlink:href=\"#glyph3-8\" x=\"349.046875\" y=\"445.443359\"/>\n",
       "</g>\n",
       "<g style=\"fill:rgb(0%,0%,0%);fill-opacity:1;\">\n",
       "  <use xlink:href=\"#glyph3-2\" x=\"334.546875\" y=\"457.908203\"/>\n",
       "  <use xlink:href=\"#glyph3-8\" x=\"337.435547\" y=\"457.908203\"/>\n",
       "  <use xlink:href=\"#glyph3-10\" x=\"343.212891\" y=\"457.908203\"/>\n",
       "  <use xlink:href=\"#glyph3-5\" x=\"348.990234\" y=\"457.908203\"/>\n",
       "  <use xlink:href=\"#glyph3-5\" x=\"351.878906\" y=\"457.908203\"/>\n",
       "  <use xlink:href=\"#glyph3-2\" x=\"354.767578\" y=\"457.908203\"/>\n",
       "  <use xlink:href=\"#glyph3-7\" x=\"357.65625\" y=\"457.908203\"/>\n",
       "  <use xlink:href=\"#glyph3-8\" x=\"363.433594\" y=\"457.908203\"/>\n",
       "</g>\n",
       "<g style=\"fill:rgb(0%,0%,0%);fill-opacity:1;\">\n",
       "  <use xlink:href=\"#glyph3-4\" x=\"344.046875\" y=\"470.373047\"/>\n",
       "  <use xlink:href=\"#glyph3-9\" x=\"349.824219\" y=\"470.373047\"/>\n",
       "</g>\n",
       "<g style=\"fill:rgb(0%,0%,0%);fill-opacity:1;\">\n",
       "  <use xlink:href=\"#glyph3-8\" x=\"399.070312\" y=\"445.443359\"/>\n",
       "</g>\n",
       "<g style=\"fill:rgb(0%,0%,0%);fill-opacity:1;\">\n",
       "  <use xlink:href=\"#glyph3-2\" x=\"384.570312\" y=\"457.908203\"/>\n",
       "  <use xlink:href=\"#glyph3-6\" x=\"387.458984\" y=\"457.908203\"/>\n",
       "  <use xlink:href=\"#glyph3-1\" x=\"393.236328\" y=\"457.908203\"/>\n",
       "  <use xlink:href=\"#glyph3-5\" x=\"399.013672\" y=\"457.908203\"/>\n",
       "  <use xlink:href=\"#glyph3-5\" x=\"401.902344\" y=\"457.908203\"/>\n",
       "  <use xlink:href=\"#glyph3-2\" x=\"404.791016\" y=\"457.908203\"/>\n",
       "  <use xlink:href=\"#glyph3-12\" x=\"407.679688\" y=\"457.908203\"/>\n",
       "  <use xlink:href=\"#glyph3-1\" x=\"413.457031\" y=\"457.908203\"/>\n",
       "</g>\n",
       "<g style=\"fill:rgb(0%,0%,0%);fill-opacity:1;\">\n",
       "  <use xlink:href=\"#glyph3-3\" x=\"394.070312\" y=\"470.373047\"/>\n",
       "  <use xlink:href=\"#glyph3-9\" x=\"399.847656\" y=\"470.373047\"/>\n",
       "</g>\n",
       "<g style=\"fill:rgb(0%,0%,0%);fill-opacity:1;\">\n",
       "  <use xlink:href=\"#glyph3-8\" x=\"449.09375\" y=\"445.443359\"/>\n",
       "</g>\n",
       "<g style=\"fill:rgb(0%,0%,0%);fill-opacity:1;\">\n",
       "  <use xlink:href=\"#glyph3-2\" x=\"434.59375\" y=\"457.908203\"/>\n",
       "  <use xlink:href=\"#glyph3-1\" x=\"437.482422\" y=\"457.908203\"/>\n",
       "  <use xlink:href=\"#glyph3-11\" x=\"443.259766\" y=\"457.908203\"/>\n",
       "  <use xlink:href=\"#glyph3-5\" x=\"449.037109\" y=\"457.908203\"/>\n",
       "  <use xlink:href=\"#glyph3-5\" x=\"451.925781\" y=\"457.908203\"/>\n",
       "  <use xlink:href=\"#glyph3-2\" x=\"454.814453\" y=\"457.908203\"/>\n",
       "  <use xlink:href=\"#glyph3-10\" x=\"457.703125\" y=\"457.908203\"/>\n",
       "  <use xlink:href=\"#glyph3-11\" x=\"463.480469\" y=\"457.908203\"/>\n",
       "</g>\n",
       "<g style=\"fill:rgb(0%,0%,0%);fill-opacity:1;\">\n",
       "  <use xlink:href=\"#glyph3-8\" x=\"441.59375\" y=\"470.373047\"/>\n",
       "  <use xlink:href=\"#glyph3-10\" x=\"447.371094\" y=\"470.373047\"/>\n",
       "  <use xlink:href=\"#glyph3-9\" x=\"453.148438\" y=\"470.373047\"/>\n",
       "</g>\n",
       "<path style=\"fill-rule:nonzero;fill:rgb(100%,100%,100%);fill-opacity:1;stroke-width:0.649219;stroke-linecap:round;stroke-linejoin:round;stroke:rgb(0%,0%,0%);stroke-opacity:1;stroke-miterlimit:10;\" d=\"M 173.5625 83.484375 L 173.605469 83.148438 L 173.734375 82.835938 L 173.941406 82.570312 L 174.207031 82.363281 L 174.519531 82.234375 L 174.855469 82.191406 L 193.558594 82.191406 L 193.890625 82.234375 L 194.203125 82.363281 L 194.472656 82.570312 L 194.675781 82.835938 L 194.804688 83.148438 L 194.847656 83.484375 L 194.847656 91.238281 L 194.804688 91.574219 L 194.675781 91.882812 L 194.472656 92.152344 L 194.203125 92.359375 L 193.890625 92.488281 L 193.558594 92.53125 L 174.855469 92.53125 L 174.519531 92.488281 L 174.207031 92.359375 L 173.941406 92.152344 L 173.734375 91.882812 L 173.605469 91.574219 L 173.5625 91.238281 Z \"/>\n",
       "<path style=\"fill-rule:nonzero;fill:rgb(100%,100%,100%);fill-opacity:1;stroke-width:0.649219;stroke-linecap:round;stroke-linejoin:round;stroke:rgb(0%,0%,0%);stroke-opacity:1;stroke-miterlimit:10;\" d=\"M 257.179688 83.484375 L 257.226562 83.148438 L 257.355469 82.835938 L 257.558594 82.570312 L 257.828125 82.363281 L 258.140625 82.234375 L 258.472656 82.191406 L 273.785156 82.191406 L 274.121094 82.234375 L 274.429688 82.363281 L 274.699219 82.570312 L 274.902344 82.835938 L 275.035156 83.148438 L 275.078125 83.484375 L 275.078125 91.238281 L 275.035156 91.574219 L 274.902344 91.882812 L 274.699219 92.152344 L 274.429688 92.359375 L 274.121094 92.488281 L 273.785156 92.53125 L 258.472656 92.53125 L 258.140625 92.488281 L 257.828125 92.359375 L 257.558594 92.152344 L 257.355469 91.882812 L 257.226562 91.574219 L 257.179688 91.238281 Z \"/>\n",
       "<g style=\"fill:rgb(0%,0%,0%);fill-opacity:1;\">\n",
       "  <use xlink:href=\"#glyph1-1\" x=\"176.855469\" y=\"89.079102\"/>\n",
       "  <use xlink:href=\"#glyph1-2\" x=\"181.011719\" y=\"89.079102\"/>\n",
       "  <use xlink:href=\"#glyph1-3\" x=\"185.633789\" y=\"89.079102\"/>\n",
       "</g>\n",
       "<g style=\"fill:rgb(0%,0%,0%);fill-opacity:1;\">\n",
       "  <use xlink:href=\"#glyph1-4\" x=\"260.234375\" y=\"88.71582\"/>\n",
       "  <use xlink:href=\"#glyph1-5\" x=\"264.856445\" y=\"88.71582\"/>\n",
       "</g>\n",
       "<path style=\"fill-rule:nonzero;fill:rgb(100%,100%,100%);fill-opacity:1;stroke-width:0.649219;stroke-linecap:round;stroke-linejoin:round;stroke:rgb(0%,0%,0%);stroke-opacity:1;stroke-miterlimit:10;\" d=\"M 221.929688 32.210938 L 221.953125 32.015625 L 222.027344 31.835938 L 222.148438 31.679688 L 222.304688 31.558594 L 222.488281 31.484375 L 222.683594 31.457031 L 229.730469 31.457031 L 229.925781 31.484375 L 230.109375 31.558594 L 230.265625 31.679688 L 230.382812 31.835938 L 230.460938 32.015625 L 230.484375 32.210938 L 230.484375 38.242188 L 230.460938 38.4375 L 230.382812 38.621094 L 230.265625 38.773438 L 230.109375 38.894531 L 229.925781 38.96875 L 229.730469 38.996094 L 222.683594 38.996094 L 222.488281 38.96875 L 222.304688 38.894531 L 222.148438 38.773438 L 222.027344 38.621094 L 221.953125 38.4375 L 221.929688 38.242188 Z \"/>\n",
       "<path style=\"fill-rule:nonzero;fill:rgb(100%,100%,100%);fill-opacity:1;stroke-width:0.649219;stroke-linecap:round;stroke-linejoin:round;stroke:rgb(0%,0%,0%);stroke-opacity:1;stroke-miterlimit:10;\" d=\"M 85.144531 92.113281 L 85.171875 91.917969 L 85.246094 91.734375 L 85.367188 91.578125 L 85.523438 91.457031 L 85.703125 91.382812 L 85.898438 91.359375 L 92.949219 91.359375 L 93.144531 91.382812 L 93.324219 91.457031 L 93.480469 91.578125 L 93.601562 91.734375 L 93.675781 91.917969 L 93.703125 92.113281 L 93.703125 98.144531 L 93.675781 98.339844 L 93.601562 98.519531 L 93.480469 98.675781 L 93.324219 98.796875 L 93.144531 98.871094 L 92.949219 98.898438 L 85.898438 98.898438 L 85.703125 98.871094 L 85.523438 98.796875 L 85.367188 98.675781 L 85.246094 98.519531 L 85.171875 98.339844 L 85.144531 98.144531 Z \"/>\n",
       "<path style=\"fill-rule:nonzero;fill:rgb(100%,100%,100%);fill-opacity:1;stroke-width:0.649219;stroke-linecap:round;stroke-linejoin:round;stroke:rgb(0%,0%,0%);stroke-opacity:1;stroke-miterlimit:10;\" d=\"M 47.628906 427.554688 L 47.652344 427.359375 L 47.730469 427.175781 L 47.847656 427.019531 L 48.003906 426.902344 L 48.1875 426.824219 L 48.382812 426.800781 L 55.429688 426.800781 L 55.625 426.824219 L 55.808594 426.902344 L 55.964844 427.019531 L 56.082031 427.175781 L 56.160156 427.359375 L 56.183594 427.554688 L 56.183594 433.585938 L 56.160156 433.78125 L 56.082031 433.960938 L 55.964844 434.117188 L 55.808594 434.238281 L 55.625 434.3125 L 55.429688 434.339844 L 48.382812 434.339844 L 48.1875 434.3125 L 48.003906 434.238281 L 47.847656 434.117188 L 47.730469 433.960938 L 47.652344 433.78125 L 47.628906 433.585938 Z \"/>\n",
       "<path style=\"fill-rule:nonzero;fill:rgb(100%,100%,100%);fill-opacity:1;stroke-width:0.649219;stroke-linecap:round;stroke-linejoin:round;stroke:rgb(0%,0%,0%);stroke-opacity:1;stroke-miterlimit:10;\" d=\"M 122.664062 152.011719 L 122.6875 151.816406 L 122.765625 151.636719 L 122.882812 151.480469 L 123.039062 151.359375 L 123.222656 151.285156 L 123.417969 151.257812 L 130.464844 151.257812 L 130.660156 151.285156 L 130.84375 151.359375 L 131 151.480469 L 131.117188 151.636719 L 131.195312 151.816406 L 131.21875 152.011719 L 131.21875 158.042969 L 131.195312 158.238281 L 131.117188 158.421875 L 131 158.578125 L 130.84375 158.695312 L 130.660156 158.773438 L 130.464844 158.796875 L 123.417969 158.796875 L 123.222656 158.773438 L 123.039062 158.695312 L 122.882812 158.578125 L 122.765625 158.421875 L 122.6875 158.238281 L 122.664062 158.042969 Z \"/>\n",
       "<path style=\"fill-rule:nonzero;fill:rgb(100%,100%,100%);fill-opacity:1;stroke-width:0.649219;stroke-linecap:round;stroke-linejoin:round;stroke:rgb(0%,0%,0%);stroke-opacity:1;stroke-miterlimit:10;\" d=\"M 95.703125 427.554688 L 95.730469 427.359375 L 95.804688 427.175781 L 95.925781 427.019531 L 96.082031 426.902344 L 96.265625 426.824219 L 96.457031 426.800781 L 107.398438 426.800781 L 107.59375 426.824219 L 107.777344 426.902344 L 107.933594 427.019531 L 108.054688 427.175781 L 108.128906 427.359375 L 108.152344 427.554688 L 108.152344 433.585938 L 108.128906 433.78125 L 108.054688 433.960938 L 107.933594 434.117188 L 107.777344 434.238281 L 107.59375 434.3125 L 107.398438 434.339844 L 96.457031 434.339844 L 96.265625 434.3125 L 96.082031 434.238281 L 95.925781 434.117188 L 95.804688 433.960938 L 95.730469 433.78125 L 95.703125 433.585938 Z \"/>\n",
       "<path style=\"fill-rule:nonzero;fill:rgb(100%,100%,100%);fill-opacity:1;stroke-width:0.649219;stroke-linecap:round;stroke-linejoin:round;stroke:rgb(0%,0%,0%);stroke-opacity:1;stroke-miterlimit:10;\" d=\"M 145.730469 427.554688 L 145.753906 427.359375 L 145.828125 427.175781 L 145.949219 427.019531 L 146.105469 426.902344 L 146.289062 426.824219 L 146.484375 426.800781 L 157.421875 426.800781 L 157.617188 426.824219 L 157.800781 426.902344 L 157.957031 427.019531 L 158.078125 427.175781 L 158.152344 427.359375 L 158.175781 427.554688 L 158.175781 433.585938 L 158.152344 433.78125 L 158.078125 433.960938 L 157.957031 434.117188 L 157.800781 434.238281 L 157.617188 434.3125 L 157.421875 434.339844 L 146.484375 434.339844 L 146.289062 434.3125 L 146.105469 434.238281 L 145.949219 434.117188 L 145.828125 433.960938 L 145.753906 433.78125 L 145.730469 433.585938 Z \"/>\n",
       "<path style=\"fill-rule:nonzero;fill:rgb(100%,100%,100%);fill-opacity:1;stroke-width:0.649219;stroke-linecap:round;stroke-linejoin:round;stroke:rgb(0%,0%,0%);stroke-opacity:1;stroke-miterlimit:10;\" d=\"M 358.710938 92.113281 L 358.738281 91.917969 L 358.8125 91.734375 L 358.933594 91.578125 L 359.089844 91.457031 L 359.269531 91.382812 L 359.464844 91.359375 L 366.515625 91.359375 L 366.710938 91.382812 L 366.890625 91.457031 L 367.046875 91.578125 L 367.167969 91.734375 L 367.242188 91.917969 L 367.269531 92.113281 L 367.269531 98.144531 L 367.242188 98.339844 L 367.167969 98.519531 L 367.046875 98.675781 L 366.890625 98.796875 L 366.710938 98.871094 L 366.515625 98.898438 L 359.464844 98.898438 L 359.269531 98.871094 L 359.089844 98.796875 L 358.933594 98.675781 L 358.8125 98.519531 L 358.738281 98.339844 L 358.710938 98.144531 Z \"/>\n",
       "<path style=\"fill-rule:nonzero;fill:rgb(100%,100%,100%);fill-opacity:1;stroke-width:0.649219;stroke-linecap:round;stroke-linejoin:round;stroke:rgb(0%,0%,0%);stroke-opacity:1;stroke-miterlimit:10;\" d=\"M 269.605469 152.011719 L 269.632812 151.816406 L 269.707031 151.636719 L 269.828125 151.480469 L 269.984375 151.359375 L 270.164062 151.285156 L 270.359375 151.257812 L 277.410156 151.257812 L 277.605469 151.285156 L 277.785156 151.359375 L 277.941406 151.480469 L 278.0625 151.636719 L 278.136719 151.816406 L 278.164062 152.011719 L 278.164062 158.042969 L 278.136719 158.238281 L 278.0625 158.421875 L 277.941406 158.578125 L 277.785156 158.695312 L 277.605469 158.773438 L 277.410156 158.796875 L 270.359375 158.796875 L 270.164062 158.773438 L 269.984375 158.695312 L 269.828125 158.578125 L 269.707031 158.421875 L 269.632812 158.238281 L 269.605469 158.042969 Z \"/>\n",
       "<path style=\"fill-rule:nonzero;fill:rgb(100%,100%,100%);fill-opacity:1;stroke-width:0.649219;stroke-linecap:round;stroke-linejoin:round;stroke:rgb(0%,0%,0%);stroke-opacity:1;stroke-miterlimit:10;\" d=\"M 195.753906 427.554688 L 195.777344 427.359375 L 195.851562 427.175781 L 195.972656 427.019531 L 196.128906 426.902344 L 196.3125 426.824219 L 196.507812 426.800781 L 207.445312 426.800781 L 207.640625 426.824219 L 207.824219 426.902344 L 207.980469 427.019531 L 208.101562 427.175781 L 208.175781 427.359375 L 208.199219 427.554688 L 208.199219 433.585938 L 208.175781 433.78125 L 208.101562 433.960938 L 207.980469 434.117188 L 207.824219 434.238281 L 207.640625 434.3125 L 207.445312 434.339844 L 196.507812 434.339844 L 196.3125 434.3125 L 196.128906 434.238281 L 195.972656 434.117188 L 195.851562 433.960938 L 195.777344 433.78125 L 195.753906 433.585938 Z \"/>\n",
       "<path style=\"fill-rule:nonzero;fill:rgb(100%,100%,100%);fill-opacity:1;stroke-width:0.649219;stroke-linecap:round;stroke-linejoin:round;stroke:rgb(0%,0%,0%);stroke-opacity:1;stroke-miterlimit:10;\" d=\"M 339.570312 211.914062 L 339.59375 211.71875 L 339.671875 211.535156 L 339.789062 211.378906 L 339.945312 211.257812 L 340.128906 211.183594 L 340.324219 211.160156 L 351.265625 211.160156 L 351.460938 211.183594 L 351.640625 211.257812 L 351.796875 211.378906 L 351.917969 211.535156 L 351.992188 211.71875 L 352.019531 211.914062 L 352.019531 217.945312 L 351.992188 218.140625 L 351.917969 218.320312 L 351.796875 218.476562 L 351.640625 218.597656 L 351.460938 218.671875 L 351.265625 218.699219 L 340.324219 218.699219 L 340.128906 218.671875 L 339.945312 218.597656 L 339.789062 218.476562 L 339.671875 218.320312 L 339.59375 218.140625 L 339.570312 217.945312 Z \"/>\n",
       "<path style=\"fill-rule:nonzero;fill:rgb(100%,100%,100%);fill-opacity:1;stroke-width:0.649219;stroke-linecap:round;stroke-linejoin:round;stroke:rgb(0%,0%,0%);stroke-opacity:1;stroke-miterlimit:10;\" d=\"M 283.292969 271.8125 L 283.320312 271.617188 L 283.394531 271.4375 L 283.515625 271.28125 L 283.671875 271.160156 L 283.851562 271.085938 L 284.046875 271.058594 L 294.988281 271.058594 L 295.183594 271.085938 L 295.363281 271.160156 L 295.519531 271.28125 L 295.640625 271.4375 L 295.714844 271.617188 L 295.742188 271.8125 L 295.742188 277.84375 L 295.714844 278.039062 L 295.640625 278.222656 L 295.519531 278.378906 L 295.363281 278.496094 L 295.183594 278.574219 L 294.988281 278.597656 L 284.046875 278.597656 L 283.851562 278.574219 L 283.671875 278.496094 L 283.515625 278.378906 L 283.394531 278.222656 L 283.320312 278.039062 L 283.292969 277.84375 Z \"/>\n",
       "<path style=\"fill-rule:nonzero;fill:rgb(100%,100%,100%);fill-opacity:1;stroke-width:0.649219;stroke-linecap:round;stroke-linejoin:round;stroke:rgb(0%,0%,0%);stroke-opacity:1;stroke-miterlimit:10;\" d=\"M 245.777344 427.554688 L 245.800781 427.359375 L 245.875 427.175781 L 245.996094 427.019531 L 246.152344 426.902344 L 246.335938 426.824219 L 246.53125 426.800781 L 257.46875 426.800781 L 257.664062 426.824219 L 257.847656 426.902344 L 258.003906 427.019531 L 258.125 427.175781 L 258.199219 427.359375 L 258.222656 427.554688 L 258.222656 433.585938 L 258.199219 433.78125 L 258.125 433.960938 L 258.003906 434.117188 L 257.847656 434.238281 L 257.664062 434.3125 L 257.46875 434.339844 L 246.53125 434.339844 L 246.335938 434.3125 L 246.152344 434.238281 L 245.996094 434.117188 L 245.875 433.960938 L 245.800781 433.78125 L 245.777344 433.585938 Z \"/>\n",
       "<path style=\"fill-rule:nonzero;fill:rgb(100%,100%,100%);fill-opacity:1;stroke-width:0.649219;stroke-linecap:round;stroke-linejoin:round;stroke:rgb(0%,0%,0%);stroke-opacity:1;stroke-miterlimit:10;\" d=\"M 320.8125 331.714844 L 320.835938 331.519531 L 320.910156 331.335938 L 321.03125 331.179688 L 321.1875 331.0625 L 321.371094 330.984375 L 321.566406 330.960938 L 332.503906 330.960938 L 332.699219 330.984375 L 332.882812 331.0625 L 333.039062 331.179688 L 333.160156 331.335938 L 333.234375 331.519531 L 333.257812 331.714844 L 333.257812 337.746094 L 333.234375 337.941406 L 333.160156 338.121094 L 333.039062 338.277344 L 332.882812 338.398438 L 332.699219 338.472656 L 332.503906 338.5 L 321.566406 338.5 L 321.371094 338.472656 L 321.1875 338.398438 L 321.03125 338.277344 L 320.910156 338.121094 L 320.835938 337.941406 L 320.8125 337.746094 Z \"/>\n",
       "<path style=\"fill-rule:nonzero;fill:rgb(100%,100%,100%);fill-opacity:1;stroke-width:0.649219;stroke-linecap:round;stroke-linejoin:round;stroke:rgb(0%,0%,0%);stroke-opacity:1;stroke-miterlimit:10;\" d=\"M 293.851562 427.554688 L 293.878906 427.359375 L 293.953125 427.175781 L 294.074219 427.019531 L 294.230469 426.902344 L 294.410156 426.824219 L 294.605469 426.800781 L 309.441406 426.800781 L 309.636719 426.824219 L 309.816406 426.902344 L 309.972656 427.019531 L 310.09375 427.175781 L 310.167969 427.359375 L 310.195312 427.554688 L 310.195312 433.585938 L 310.167969 433.78125 L 310.09375 433.960938 L 309.972656 434.117188 L 309.816406 434.238281 L 309.636719 434.3125 L 309.441406 434.339844 L 294.605469 434.339844 L 294.410156 434.3125 L 294.230469 434.238281 L 294.074219 434.117188 L 293.953125 433.960938 L 293.878906 433.78125 L 293.851562 433.585938 Z \"/>\n",
       "<path style=\"fill-rule:nonzero;fill:rgb(100%,100%,100%);fill-opacity:1;stroke-width:0.649219;stroke-linecap:round;stroke-linejoin:round;stroke:rgb(0%,0%,0%);stroke-opacity:1;stroke-miterlimit:10;\" d=\"M 343.875 427.554688 L 343.902344 427.359375 L 343.976562 427.175781 L 344.097656 427.019531 L 344.253906 426.902344 L 344.433594 426.824219 L 344.628906 426.800781 L 359.464844 426.800781 L 359.660156 426.824219 L 359.839844 426.902344 L 359.996094 427.019531 L 360.117188 427.175781 L 360.191406 427.359375 L 360.21875 427.554688 L 360.21875 433.585938 L 360.191406 433.78125 L 360.117188 433.960938 L 359.996094 434.117188 L 359.839844 434.238281 L 359.660156 434.3125 L 359.464844 434.339844 L 344.628906 434.339844 L 344.433594 434.3125 L 344.253906 434.238281 L 344.097656 434.117188 L 343.976562 433.960938 L 343.902344 433.78125 L 343.875 433.585938 Z \"/>\n",
       "<path style=\"fill-rule:nonzero;fill:rgb(100%,100%,100%);fill-opacity:1;stroke-width:0.649219;stroke-linecap:round;stroke-linejoin:round;stroke:rgb(0%,0%,0%);stroke-opacity:1;stroke-miterlimit:10;\" d=\"M 395.847656 427.554688 L 395.871094 427.359375 L 395.945312 427.175781 L 396.066406 427.019531 L 396.222656 426.902344 L 396.40625 426.824219 L 396.601562 426.800781 L 407.542969 426.800781 L 407.734375 426.824219 L 407.917969 426.902344 L 408.074219 427.019531 L 408.195312 427.175781 L 408.269531 427.359375 L 408.296875 427.554688 L 408.296875 433.585938 L 408.269531 433.78125 L 408.195312 433.960938 L 408.074219 434.117188 L 407.917969 434.238281 L 407.734375 434.3125 L 407.542969 434.339844 L 396.601562 434.339844 L 396.40625 434.3125 L 396.222656 434.238281 L 396.066406 434.117188 L 395.945312 433.960938 L 395.871094 433.78125 L 395.847656 433.585938 Z \"/>\n",
       "<path style=\"fill-rule:nonzero;fill:rgb(100%,100%,100%);fill-opacity:1;stroke-width:0.649219;stroke-linecap:round;stroke-linejoin:round;stroke:rgb(0%,0%,0%);stroke-opacity:1;stroke-miterlimit:10;\" d=\"M 447.816406 427.554688 L 447.839844 427.359375 L 447.917969 427.175781 L 448.035156 427.019531 L 448.191406 426.902344 L 448.375 426.824219 L 448.570312 426.800781 L 455.617188 426.800781 L 455.8125 426.824219 L 455.996094 426.902344 L 456.152344 427.019531 L 456.269531 427.175781 L 456.347656 427.359375 L 456.371094 427.554688 L 456.371094 433.585938 L 456.347656 433.78125 L 456.269531 433.960938 L 456.152344 434.117188 L 455.996094 434.238281 L 455.8125 434.3125 L 455.617188 434.339844 L 448.570312 434.339844 L 448.375 434.3125 L 448.191406 434.238281 L 448.035156 434.117188 L 447.917969 433.960938 L 447.839844 433.78125 L 447.816406 433.585938 Z \"/>\n",
       "<g style=\"fill:rgb(0%,0%,0%);fill-opacity:1;\">\n",
       "  <use xlink:href=\"#glyph2-1\" x=\"223.707031\" y=\"37.413086\"/>\n",
       "</g>\n",
       "<g style=\"fill:rgb(0%,0%,0%);fill-opacity:1;\">\n",
       "  <use xlink:href=\"#glyph2-2\" x=\"86.921875\" y=\"97.31543\"/>\n",
       "</g>\n",
       "<g style=\"fill:rgb(0%,0%,0%);fill-opacity:1;\">\n",
       "  <use xlink:href=\"#glyph2-3\" x=\"49.40625\" y=\"432.756836\"/>\n",
       "</g>\n",
       "<g style=\"fill:rgb(0%,0%,0%);fill-opacity:1;\">\n",
       "  <use xlink:href=\"#glyph2-4\" x=\"124.441406\" y=\"156.713867\"/>\n",
       "</g>\n",
       "<g style=\"fill:rgb(0%,0%,0%);fill-opacity:1;\">\n",
       "  <use xlink:href=\"#glyph2-1\" x=\"97.429688\" y=\"432.256836\"/>\n",
       "  <use xlink:href=\"#glyph2-5\" x=\"101.469727\" y=\"432.256836\"/>\n",
       "</g>\n",
       "<g style=\"fill:rgb(0%,0%,0%);fill-opacity:1;\">\n",
       "  <use xlink:href=\"#glyph2-1\" x=\"147.453125\" y=\"432.756836\"/>\n",
       "  <use xlink:href=\"#glyph2-1\" x=\"151.493164\" y=\"432.756836\"/>\n",
       "</g>\n",
       "<g style=\"fill:rgb(0%,0%,0%);fill-opacity:1;\">\n",
       "  <use xlink:href=\"#glyph2-6\" x=\"360.488281\" y=\"96.81543\"/>\n",
       "</g>\n",
       "<g style=\"fill:rgb(0%,0%,0%);fill-opacity:1;\">\n",
       "  <use xlink:href=\"#glyph2-7\" x=\"271.386719\" y=\"156.713867\"/>\n",
       "</g>\n",
       "<g style=\"fill:rgb(0%,0%,0%);fill-opacity:1;\">\n",
       "  <use xlink:href=\"#glyph2-1\" x=\"197.476562\" y=\"432.756836\"/>\n",
       "  <use xlink:href=\"#glyph2-2\" x=\"201.516602\" y=\"432.756836\"/>\n",
       "</g>\n",
       "<g style=\"fill:rgb(0%,0%,0%);fill-opacity:1;\">\n",
       "  <use xlink:href=\"#glyph2-1\" x=\"341.292969\" y=\"216.616211\"/>\n",
       "  <use xlink:href=\"#glyph2-6\" x=\"345.333008\" y=\"216.616211\"/>\n",
       "</g>\n",
       "<g style=\"fill:rgb(0%,0%,0%);fill-opacity:1;\">\n",
       "  <use xlink:href=\"#glyph2-2\" x=\"285.019531\" y=\"276.514648\"/>\n",
       "  <use xlink:href=\"#glyph2-7\" x=\"289.05957\" y=\"276.514648\"/>\n",
       "</g>\n",
       "<g style=\"fill:rgb(0%,0%,0%);fill-opacity:1;\">\n",
       "  <use xlink:href=\"#glyph2-4\" x=\"247.5\" y=\"432.256836\"/>\n",
       "  <use xlink:href=\"#glyph2-2\" x=\"251.540039\" y=\"432.256836\"/>\n",
       "</g>\n",
       "<g style=\"fill:rgb(0%,0%,0%);fill-opacity:1;\">\n",
       "  <use xlink:href=\"#glyph2-4\" x=\"322.535156\" y=\"336.416992\"/>\n",
       "  <use xlink:href=\"#glyph2-6\" x=\"326.575195\" y=\"336.416992\"/>\n",
       "</g>\n",
       "<g style=\"fill:rgb(0%,0%,0%);fill-opacity:1;\">\n",
       "  <use xlink:href=\"#glyph2-1\" x=\"295.523438\" y=\"432.256836\"/>\n",
       "  <use xlink:href=\"#glyph2-5\" x=\"299.563477\" y=\"432.256836\"/>\n",
       "  <use xlink:href=\"#glyph2-7\" x=\"303.603516\" y=\"432.256836\"/>\n",
       "</g>\n",
       "<g style=\"fill:rgb(0%,0%,0%);fill-opacity:1;\">\n",
       "  <use xlink:href=\"#glyph2-1\" x=\"345.546875\" y=\"432.256836\"/>\n",
       "  <use xlink:href=\"#glyph2-5\" x=\"349.586914\" y=\"432.256836\"/>\n",
       "  <use xlink:href=\"#glyph2-8\" x=\"353.626953\" y=\"432.256836\"/>\n",
       "</g>\n",
       "<g style=\"fill:rgb(0%,0%,0%);fill-opacity:1;\">\n",
       "  <use xlink:href=\"#glyph2-2\" x=\"397.570312\" y=\"432.756836\"/>\n",
       "  <use xlink:href=\"#glyph2-8\" x=\"401.610352\" y=\"432.756836\"/>\n",
       "</g>\n",
       "<g style=\"fill:rgb(0%,0%,0%);fill-opacity:1;\">\n",
       "  <use xlink:href=\"#glyph2-8\" x=\"449.59375\" y=\"432.756836\"/>\n",
       "</g>\n",
       "<g style=\"fill:rgb(0%,0%,0%);fill-opacity:1;\">\n",
       "  <use xlink:href=\"#glyph4-1\" x=\"164.898438\" y=\"499.456055\"/>\n",
       "  <use xlink:href=\"#glyph4-2\" x=\"173.5625\" y=\"499.456055\"/>\n",
       "  <use xlink:href=\"#glyph4-3\" x=\"180.234375\" y=\"499.456055\"/>\n",
       "  <use xlink:href=\"#glyph4-3\" x=\"183.570312\" y=\"499.456055\"/>\n",
       "  <use xlink:href=\"#glyph4-4\" x=\"186.90625\" y=\"499.456055\"/>\n",
       "  <use xlink:href=\"#glyph4-5\" x=\"189.570312\" y=\"499.456055\"/>\n",
       "  <use xlink:href=\"#glyph4-6\" x=\"196.242188\" y=\"499.456055\"/>\n",
       "  <use xlink:href=\"#glyph4-7\" x=\"199.578125\" y=\"499.456055\"/>\n",
       "  <use xlink:href=\"#glyph4-8\" x=\"206.25\" y=\"499.456055\"/>\n",
       "  <use xlink:href=\"#glyph4-9\" x=\"212.921875\" y=\"499.456055\"/>\n",
       "  <use xlink:href=\"#glyph4-10\" x=\"219.59375\" y=\"499.456055\"/>\n",
       "  <use xlink:href=\"#glyph4-11\" x=\"226.265625\" y=\"499.456055\"/>\n",
       "  <use xlink:href=\"#glyph4-12\" x=\"230.261719\" y=\"499.456055\"/>\n",
       "  <use xlink:href=\"#glyph4-13\" x=\"236.261719\" y=\"499.456055\"/>\n",
       "  <use xlink:href=\"#glyph4-4\" x=\"242.933594\" y=\"499.456055\"/>\n",
       "  <use xlink:href=\"#glyph4-11\" x=\"245.597656\" y=\"499.456055\"/>\n",
       "  <use xlink:href=\"#glyph4-7\" x=\"249.59375\" y=\"499.456055\"/>\n",
       "  <use xlink:href=\"#glyph4-8\" x=\"256.265625\" y=\"499.456055\"/>\n",
       "  <use xlink:href=\"#glyph4-6\" x=\"262.9375\" y=\"499.456055\"/>\n",
       "  <use xlink:href=\"#glyph4-9\" x=\"266.273438\" y=\"499.456055\"/>\n",
       "  <use xlink:href=\"#glyph4-9\" x=\"272.945312\" y=\"499.456055\"/>\n",
       "  <use xlink:href=\"#glyph4-14\" x=\"279.617188\" y=\"499.456055\"/>\n",
       "  <use xlink:href=\"#glyph4-15\" x=\"282.953125\" y=\"499.456055\"/>\n",
       "  <use xlink:href=\"#glyph4-15\" x=\"289.625\" y=\"499.456055\"/>\n",
       "  <use xlink:href=\"#glyph4-14\" x=\"296.296875\" y=\"499.456055\"/>\n",
       "  <use xlink:href=\"#glyph4-7\" x=\"299.632812\" y=\"499.456055\"/>\n",
       "  <use xlink:href=\"#glyph4-16\" x=\"306.304688\" y=\"499.456055\"/>\n",
       "  <use xlink:href=\"#glyph4-6\" x=\"312.976562\" y=\"499.456055\"/>\n",
       "  <use xlink:href=\"#glyph4-17\" x=\"316.3125\" y=\"499.456055\"/>\n",
       "  <use xlink:href=\"#glyph4-18\" x=\"326.308594\" y=\"499.456055\"/>\n",
       "  <use xlink:href=\"#glyph4-19\" x=\"332.308594\" y=\"499.456055\"/>\n",
       "  <use xlink:href=\"#glyph4-20\" x=\"338.308594\" y=\"499.456055\"/>\n",
       "  <use xlink:href=\"#glyph4-4\" x=\"344.980469\" y=\"499.456055\"/>\n",
       "  <use xlink:href=\"#glyph4-13\" x=\"347.644531\" y=\"499.456055\"/>\n",
       "  <use xlink:href=\"#glyph4-21\" x=\"354.316406\" y=\"499.456055\"/>\n",
       "  <use xlink:href=\"#glyph4-21\" x=\"360.988281\" y=\"499.456055\"/>\n",
       "</g>\n",
       "</g>\n",
       "</svg>\n"
      ],
      "text/plain": [
       "Plot with title “”"
      ]
     },
     "metadata": {
      "image/svg+xml": {
       "isolated": true
      }
     },
     "output_type": "display_data"
    }
   ],
   "source": [
    "\n",
    "fancyRpartPlot(decTree)"
   ]
  },
  {
   "cell_type": "markdown",
   "metadata": {},
   "source": [
    "Let's go crazy and split the data until one passenger is categorized in one leaf..."
   ]
  },
  {
   "cell_type": "code",
   "execution_count": 44,
   "metadata": {
    "collapsed": true
   },
   "outputs": [],
   "source": [
    "decTreeOverfit <- rpart(Survived~Pclass+Sex+Age+SibSp+Parch+Fare+Embarked,\n",
    "                       data=train,\n",
    "                       method='class',\n",
    "                       control = rpart.control(minsplit=2, cp=0))"
   ]
  },
  {
   "cell_type": "markdown",
   "metadata": {},
   "source": [
    "We can use the decision tree to predict the test sample. The overfitted example has \n",
    "```\n",
    "minsplit=2,\n",
    "cp=0\n",
    "```\n",
    "which means that the minimum samples size to consider a new split is 2 (1 doesn't make sense here) and `cp` stands for the complexity parameter that determines the decrease in lack (loss) of the split. `cp = 0` means that the splits are performed regardless of the lack. This example would perform worse on the test sample as on the training sample."
   ]
  },
  {
   "cell_type": "code",
   "execution_count": 73,
   "metadata": {
    "collapsed": true
   },
   "outputs": [],
   "source": [
    "dt_prediction <- predict(decTree, test, type='class')"
   ]
  },
  {
   "cell_type": "code",
   "execution_count": 77,
   "metadata": {
    "collapsed": true
   },
   "outputs": [],
   "source": [
    "test$Survived <- dt_prediction"
   ]
  },
  {
   "cell_type": "markdown",
   "metadata": {},
   "source": [
    "### Solutions to the problem can be submitted in csv format\n",
    "It has to contain the test sample's passenger's id and the prediction of survival:"
   ]
  },
  {
   "cell_type": "code",
   "execution_count": 75,
   "metadata": {
    "collapsed": false
   },
   "outputs": [],
   "source": [
    "solution <- data.frame(PassengerId = test$PassengerId, Survived = test$Survived)"
   ]
  },
  {
   "cell_type": "markdown",
   "metadata": {},
   "source": [
    "#### Write to csv file"
   ]
  },
  {
   "cell_type": "code",
   "execution_count": 76,
   "metadata": {
    "collapsed": true
   },
   "outputs": [],
   "source": [
    "write.csv(solution, file=\"solution.csv\", row.names=FALSE) # not exactly sure if Kaggle allows for row names. to be tested"
   ]
  }
 ],
 "metadata": {
  "anaconda-cloud": {},
  "kernelspec": {
   "display_name": "R",
   "language": "R",
   "name": "ir"
  },
  "language_info": {
   "codemirror_mode": "r",
   "file_extension": ".r",
   "mimetype": "text/x-r-source",
   "name": "R",
   "pygments_lexer": "r",
   "version": "3.3.1"
  }
 },
 "nbformat": 4,
 "nbformat_minor": 0
}
